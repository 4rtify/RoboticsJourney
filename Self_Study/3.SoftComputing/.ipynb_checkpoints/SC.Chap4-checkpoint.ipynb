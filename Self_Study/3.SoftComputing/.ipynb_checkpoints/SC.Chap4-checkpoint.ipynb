{
 "cells": [
  {
   "cell_type": "markdown",
   "id": "8696c0b0-c3fa-4b84-aa65-7a8908e0fe13",
   "metadata": {},
   "source": [
    "## Fuzzy Expert Systems\n",
    "In which we present fuzzy set theory, consider how to build fuzzy\r\n",
    "expert systems and illustrate the theory through an example."
   ]
  },
  {
   "cell_type": "code",
   "execution_count": null,
   "id": "a51876f7-8687-42ea-95da-0c7be1d3ea08",
   "metadata": {},
   "outputs": [],
   "source": []
  }
 ],
 "metadata": {
  "kernelspec": {
   "display_name": "Python 3 (ipykernel)",
   "language": "python",
   "name": "python3"
  },
  "language_info": {
   "codemirror_mode": {
    "name": "ipython",
    "version": 3
   },
   "file_extension": ".py",
   "mimetype": "text/x-python",
   "name": "python",
   "nbconvert_exporter": "python",
   "pygments_lexer": "ipython3",
   "version": "3.11.7"
  }
 },
 "nbformat": 4,
 "nbformat_minor": 5
}

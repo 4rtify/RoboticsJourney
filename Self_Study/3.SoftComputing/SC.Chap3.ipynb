{
 "cells": [
  {
   "cell_type": "markdown",
   "id": "3e67d4e4-24f1-46ef-abe0-7e6fb167b850",
   "metadata": {},
   "source": [
    "In which we present the main uncertainty management paradigms,\r\n",
    "Bayesian reasoning and certainty factors, discuss their relative\r\n",
    "merits and consider examples to illustrate the theory."
   ]
  }
 ],
 "metadata": {
  "kernelspec": {
   "display_name": "Python 3 (ipykernel)",
   "language": "python",
   "name": "python3"
  },
  "language_info": {
   "codemirror_mode": {
    "name": "ipython",
    "version": 3
   },
   "file_extension": ".py",
   "mimetype": "text/x-python",
   "name": "python",
   "nbconvert_exporter": "python",
   "pygments_lexer": "ipython3",
   "version": "3.11.7"
  }
 },
 "nbformat": 4,
 "nbformat_minor": 5
}

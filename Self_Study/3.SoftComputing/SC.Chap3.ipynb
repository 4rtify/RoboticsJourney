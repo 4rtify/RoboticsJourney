{
 "cells": [
  {
   "cell_type": "markdown",
   "id": "3e67d4e4-24f1-46ef-abe0-7e6fb167b850",
   "metadata": {},
   "source": [
    "# 3.1 What is uncertainty - page 74 (30 pages)"
   ]
  },
  {
   "cell_type": "markdown",
   "id": "29a9989b",
   "metadata": {},
   "source": [
    "- Information can be incomplete, inconsistent, uncertain or all three\n",
    "- A human expert can cope with this, but systems can't - so they need to be able to draw conclusions\n",
    "\n",
    "What is uncertainty in expert systems?\n",
    "1. Defined as the lack of exact knowledge that would enable us to reach a perfectly reliable conclusion\n",
    "2. Classical logic permits only exact reasoning (A = TRUE, then A != FALSE)\n",
    "3. However, most situations that an export system could be applied do not provide clear-cut knowledge\n",
    "\n",
    "What are the sources or causes of \"uncertain knowledge\" in export systems?\n",
    "1. Weak implications\n",
    "   - Vague associations; painful job of establishing IF and THEN rules\n",
    "   - Need the ability to handle \"vague associations\" by using \"numerical certainty factors\"\n",
    "2. Imprecise language\n",
    "   - Being ambiguous and imprecise; terms like often, sometimes, frequently etc\n",
    "   - Need to quantify these terms on a scale of 1 to 10.\n",
    "3. Unknown data\n",
    "   - Incomplete or missing, accept the value as unknown and use reasoning somehow\n",
    "4. Difficulty combining views of different experts\n",
    "   - Human experts don't always reach exactly the same conclusions\n",
    "   - The \"knowledge engineer\" needs to assign a weight to the conclusion\n",
    "\n",
    "In this chapter, we consider the most popular uncertainty management paradigms:  \n",
    "- **Bayesian reasoning** \n",
    "- **Certainty factors** \n",
    "\n",
    "However, we first look at the basic principles of:\n",
    "- **Classical probability theory**"
   ]
  },
  {
   "cell_type": "markdown",
   "id": "9b3c144e",
   "metadata": {},
   "source": [
    "## 3.2 Basic probability theory"
   ]
  },
  {
   "cell_type": "code",
   "execution_count": null,
   "id": "acd0d5b1",
   "metadata": {},
   "outputs": [],
   "source": []
  }
 ],
 "metadata": {
  "kernelspec": {
   "display_name": "Python 3 (ipykernel)",
   "language": "python",
   "name": "python3"
  },
  "language_info": {
   "codemirror_mode": {
    "name": "ipython",
    "version": 3
   },
   "file_extension": ".py",
   "mimetype": "text/x-python",
   "name": "python",
   "nbconvert_exporter": "python",
   "pygments_lexer": "ipython3",
   "version": "3.11.7"
  }
 },
 "nbformat": 4,
 "nbformat_minor": 5
}

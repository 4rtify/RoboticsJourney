{
 "cells": [
  {
   "cell_type": "markdown",
   "id": "79d46ea5-cce1-495f-9956-1164c2d7df53",
   "metadata": {},
   "source": [
    "## Robotics Vision, Control by Peter Corke"
   ]
  },
  {
   "cell_type": "markdown",
   "id": "7366438c-9f6e-4007-aa09-694235ebb472",
   "metadata": {},
   "source": [
    "The term robot fi rst appeared in a 1920 Czech science fi ction play “Rossum’s Universal\r\n",
    "Robots” by Karel .apek (pronounced Chapek)."
   ]
  },
  {
   "cell_type": "markdown",
   "id": "3a6e887c-b179-437f-9697-694d146e9628",
   "metadata": {},
   "source": [
    "Isaac Asimov’s robot series, comprising many books and short stories written between\r\n",
    "1950 and 1985, explored issues of human and robot interaction and morality"
   ]
  },
  {
   "cell_type": "markdown",
   "id": "4cefdd01-8fad-45b4-9f4e-e00d6f41846b",
   "metadata": {},
   "source": [
    "## Three Laws of Robotics:\r\n",
    "* A robot may not injure a human being or, through inaction, allow a human being to come to harm\r\n",
    "* A robot must obey the orders given it by human beings, except where such orders would conflict with the First Law\r\n",
    "* A robot must protect its own existence as long as such protection does not conflict with the First or Second Law\r\n"
   ]
  },
  {
   "cell_type": "markdown",
   "id": "0543e8dd-c4da-49cf-994e-9f3486415276",
   "metadata": {},
   "source": [
    "In the eighteenth century the people of Europe were fascinated by automata such as\r\n",
    "Vaucanson’s duck"
   ]
  },
  {
   "cell_type": "markdown",
   "id": "a6079559-4e47-4bfe-a51f-2ca297fe4289",
   "metadata": {},
   "source": [
    "The mid twentieth century also saw the advent of the fi eld of cybernetics"
   ]
  },
  {
   "cell_type": "markdown",
   "id": "f714aee3-4523-4193-b732-f58a6fa28ced",
   "metadata": {},
   "source": [
    "The first patent for what we would now consider a robot was filed in 1954 by George C. Devol and issued in 1961. The device comprised a mechanical arm with"
   ]
  },
  {
   "cell_type": "markdown",
   "id": "df0c9e62-3401-4a2c-850c-d7ac6568c622",
   "metadata": {},
   "source": [
    "The first robotics company, Unimation, was founded by Devol and Joseph Engelberger in 1956 and their first industrial robot shown in Fig. 1.2 was installed in 1961"
   ]
  },
  {
   "cell_type": "markdown",
   "id": "1ea7be5d-6875-40ee-8b40-597bd2c7b4a7",
   "metadata": {},
   "source": [
    "The original vision of Devol and Engelberger for robotic automation has become a reality and many millions of arm-type robots such as shown in Fig. 1.3 have been built and put to work at tasks such as welding, painting, machine loading and unloading, electronic assembly, packaging and palletizing. The use of robots has led to increased productivity and improved product quality. Today many products we buy have been assembled or handled by a robot."
   ]
  },
  {
   "cell_type": "code",
   "execution_count": null,
   "id": "4911b680-763b-487f-b6e6-616c8541d9d4",
   "metadata": {},
   "outputs": [],
   "source": []
  }
 ],
 "metadata": {
  "kernelspec": {
   "display_name": "Python 3 (ipykernel)",
   "language": "python",
   "name": "python3"
  },
  "language_info": {
   "codemirror_mode": {
    "name": "ipython",
    "version": 3
   },
   "file_extension": ".py",
   "mimetype": "text/x-python",
   "name": "python",
   "nbconvert_exporter": "python",
   "pygments_lexer": "ipython3",
   "version": "3.11.7"
  }
 },
 "nbformat": 4,
 "nbformat_minor": 5
}

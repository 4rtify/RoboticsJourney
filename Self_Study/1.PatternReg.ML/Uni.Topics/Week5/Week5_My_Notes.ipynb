{
 "cells": [
  {
   "cell_type": "markdown",
   "metadata": {},
   "source": [
    "# Lab Week 5 - Explore regularization through MNIST code\n"
   ]
  },
  {
   "cell_type": "code",
   "execution_count": 1,
   "metadata": {},
   "outputs": [],
   "source": [
    "import numpy as np\n",
    "from sklearn.model_selection import cross_val_score\n",
    "from sklearn.linear_model import LogisticRegression\n",
    "from sklearn.datasets import fetch_openml\n",
    "# Load the MNIST dataset\n",
    "mnist = fetch_openml('mnist_784')\n",
    "X = mnist.data\n",
    "y = mnist.target"
   ]
  },
  {
   "cell_type": "code",
   "execution_count": null,
   "metadata": {},
   "outputs": [],
   "source": [
    "logreg_l1 = LogisticRegression(penalty='l1', solver='saga', max_iter=100, multi_class='ovr')\n",
    "\n",
    "# Perform cross-validation with L1 regularization\n",
    "\n",
    "num_folds = 5  # Number of folds for cross-validation\n",
    "scores_l1 = cross_val_score(logreg_l1, X, y, cv=num_folds, scoring='accuracy')"
   ]
  },
  {
   "cell_type": "code",
   "execution_count": null,
   "metadata": {},
   "outputs": [],
   "source": [
    "average_accuracy_l1 = np.mean(scores_l1)\n",
    "print(f\"Average Accuracy with L1 regularization: {average_accuracy_l1:.4f}\")"
   ]
  },
  {
   "cell_type": "code",
   "execution_count": null,
   "metadata": {},
   "outputs": [],
   "source": [
    "# Initialize the logistic regression model with L2 regularization – explain what this call is doing?\n",
    "logreg_l2 = LogisticRegression(penalty='l2', solver='lbfgs', max_iter=100, multi_class='ovr')\n",
    "# Perform cross-validation with L2 regularization\n",
    "scores_l2 = cross_val_score(logreg_l2, X, y, cv=num_folds, scoring='accuracy')"
   ]
  },
  {
   "cell_type": "code",
   "execution_count": null,
   "metadata": {},
   "outputs": [],
   "source": [
    "# Print the average accuracy with L2 regularization\n",
    "average_accuracy_l2 = np.mean(scores_l2)\n",
    "print(f\"Average Accuracy with L2 regularization: {average_accuracy_l2:.4f}\")"
   ]
  },
  {
   "cell_type": "code",
   "execution_count": null,
   "metadata": {},
   "outputs": [],
   "source": []
  }
 ],
 "metadata": {
  "kernelspec": {
   "display_name": "Python 3 (ipykernel)",
   "language": "python",
   "name": "python3"
  },
  "language_info": {
   "codemirror_mode": {
    "name": "ipython",
    "version": 3
   },
   "file_extension": ".py",
   "mimetype": "text/x-python",
   "name": "python",
   "nbconvert_exporter": "python",
   "pygments_lexer": "ipython3",
   "version": "3.10.6"
  }
 },
 "nbformat": 4,
 "nbformat_minor": 4
}

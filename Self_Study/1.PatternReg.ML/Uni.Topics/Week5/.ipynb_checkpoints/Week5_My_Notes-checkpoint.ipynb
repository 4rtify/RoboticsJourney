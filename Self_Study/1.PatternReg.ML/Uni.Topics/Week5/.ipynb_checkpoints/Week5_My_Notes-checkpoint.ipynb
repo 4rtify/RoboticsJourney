{
 "cells": [
  {
   "cell_type": "markdown",
   "metadata": {},
   "source": [
    "# Lab Week 5 - Explore regularization through MNIST code\n"
   ]
  },
  {
   "cell_type": "code",
<<<<<<< Updated upstream
   "execution_count": 6,
=======
   "execution_count": 1,
>>>>>>> Stashed changes
   "metadata": {},
   "outputs": [],
   "source": [
    "import numpy as np\n",
    "from sklearn.model_selection import cross_val_score\n",
    "from sklearn.linear_model import LogisticRegression\n",
<<<<<<< Updated upstream
    "from sklearn.datasets import fetch_openml\n",
    "# Load the MNIST dataset\n",
    "mnist = fetch_openml('mnist_784')\n",
    "X = mnist.data\n",
=======
    "from sklearn.datasets import fetch_openml"
   ]
  },
  {
   "cell_type": "code",
   "execution_count": 4,
   "metadata": {},
   "outputs": [],
   "source": [
    "mnist = fetch_openml('mnist_784')"
   ]
  },
  {
   "cell_type": "code",
   "execution_count": 5,
   "metadata": {},
   "outputs": [],
   "source": [
    "X = mnist.data \n",
>>>>>>> Stashed changes
    "y = mnist.target"
   ]
  },
  {
   "cell_type": "code",
   "execution_count": null,
   "metadata": {},
<<<<<<< Updated upstream
   "outputs": [
    {
     "name": "stderr",
     "output_type": "stream",
     "text": [
      "C:\\ProgramData\\anaconda3\\Lib\\site-packages\\sklearn\\linear_model\\_sag.py:350: ConvergenceWarning: The max_iter was reached which means the coef_ did not converge\n",
      "  warnings.warn(\n"
=======
   "outputs": [],
   "source": [
    "logreg_11 = "
   ]
  },
  {
   "cell_type": "code",
   "execution_count": 6,
   "metadata": {},
   "outputs": [
    {
     "name": "stdout",
     "output_type": "stream",
     "text": [
      "hello\n"
>>>>>>> Stashed changes
     ]
    }
   ],
   "source": [
<<<<<<< Updated upstream
    "logreg_l1 = LogisticRegression(penalty='l1', solver='saga', max_iter=100, multi_class='ovr')\n",
    "\n",
    "# Perform cross-validation with L1 regularization\n",
    "\n",
    "num_folds = 5  # Number of folds for cross-validation\n",
    "scores_l1 = cross_val_score(logreg_l1, X, y, cv=num_folds, scoring='accuracy')"
   ]
  },
  {
   "cell_type": "code",
   "execution_count": null,
   "metadata": {},
   "outputs": [],
   "source": [
    "average_accuracy_l1 = np.mean(scores_l1)\n",
    "print(f\"Average Accuracy with L1 regularization: {average_accuracy_l1:.4f}\")"
   ]
  },
  {
   "cell_type": "code",
   "execution_count": null,
   "metadata": {},
   "outputs": [],
   "source": [
    "# Initialize the logistic regression model with L2 regularization – explain what this call is doing?\n",
    "logreg_l2 = LogisticRegression(penalty='l2', solver='lbfgs', max_iter=100, multi_class='ovr')\n",
    "# Perform cross-validation with L2 regularization\n",
    "scores_l2 = cross_val_score(logreg_l2, X, y, cv=num_folds, scoring='accuracy')"
   ]
  },
  {
   "cell_type": "code",
   "execution_count": null,
   "metadata": {},
   "outputs": [],
   "source": [
    "# Print the average accuracy with L2 regularization\n",
    "average_accuracy_l2 = np.mean(scores_l2)\n",
    "print(f\"Average Accuracy with L2 regularization: {average_accuracy_l2:.4f}\")"
   ]
  },
  {
   "cell_type": "code",
   "execution_count": null,
   "metadata": {},
   "outputs": [],
   "source": []
=======
    "print('hello')"
   ]
>>>>>>> Stashed changes
  }
 ],
 "metadata": {
  "kernelspec": {
<<<<<<< Updated upstream
   "display_name": "Python 3 (ipykernel)",
=======
   "display_name": "base",
>>>>>>> Stashed changes
   "language": "python",
   "name": "python3"
  },
  "language_info": {
   "codemirror_mode": {
    "name": "ipython",
    "version": 3
   },
   "file_extension": ".py",
   "mimetype": "text/x-python",
   "name": "python",
   "nbconvert_exporter": "python",
   "pygments_lexer": "ipython3",
<<<<<<< Updated upstream
   "version": "3.12.4"
  }
 },
 "nbformat": 4,
 "nbformat_minor": 4
=======
   "version": "3.11.7"
  }
 },
 "nbformat": 4,
 "nbformat_minor": 2
>>>>>>> Stashed changes
}

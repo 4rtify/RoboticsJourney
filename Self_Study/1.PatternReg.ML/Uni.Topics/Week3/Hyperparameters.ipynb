{
 "cells": [
  {
   "cell_type": "markdown",
   "metadata": {},
   "source": [
    "# Hyperparameters in Cross-Validation and SVM\n",
    "\n",
    "## Hyperparameters in Cross-Validation\n",
    "\n",
    "Hyperparameters are parameters set by the user before training a machine learning model. They influence the behavior of the algorithm and impact performance. In cross-validation, hyperparameters play a crucial role in how the process is conducted.\n",
    "\n",
    "### Key Aspects:\n",
    "\n",
    "1. **Number of Folds**:\n",
    "   - **Definition**: Number of partitions in cross-validation (e.g., 5-fold, 10-fold, leave-one-out).\n",
    "   - **Impact**: Affects computational complexity and evaluation robustness.\n",
    "\n",
    "2. **Model Hyperparameters**:\n",
    "   - **Examples**: Kernel type and parameters in SVM, maximum depth in decision trees.\n",
    "   - **Impact**: Significantly affects model performance.\n",
    "\n",
    "3. **Regularization Strength**:\n",
    "   - **Definition**: Controls the penalty for model complexity.\n",
    "   - **Impact**: Helps prevent overfitting by penalizing complex models.\n",
    "\n",
    "4. **Learning Rate**:\n",
    "   - **Definition**: Determines step size in optimization algorithms like gradient descent.\n",
    "   - **Impact**: Affects convergence speed.\n",
    "\n",
    "5. **Batch Size**:\n",
    "   - **Definition**: Number of samples used in each iteration of training.\n",
    "   - **Impact**: Smaller batches may lead to noisy updates; larger batches may slow convergence.\n",
    "\n",
    "6. **Number of Epochs**:\n",
    "   - **Definition**: Number of times the algorithm goes through the entire training dataset.\n",
    "   - **Impact**: Affects training duration and potential overfitting.\n",
    "\n",
    "### Hyperparameter Tuning:\n",
    "- Different combinations are tested to find the best set for optimal performance on unseen data.\n",
    "- Techniques like grid search and random search are used for systematic exploration.\n",
    "\n",
    "## Hyperparameter C in SVM\n",
    "\n",
    "In SVMs, `C` is a hyperparameter that controls the trade-off between training error and testing error.\n",
    "\n",
    "### Breakdown of C:\n",
    "\n",
    "1. **C Parameter**:\n",
    "   - **Definition**: Regularization parameter in SVMs.\n",
    "   - **Function**: Represents penalty for misclassification.\n",
    "   - **Small C**: Encourages larger margin but allows some misclassification (soft margin). \n"
   ]
  }
 ],
 "metadata": {
  "language_info": {
   "name": "python"
  }
 },
 "nbformat": 4,
 "nbformat_minor": 2
}

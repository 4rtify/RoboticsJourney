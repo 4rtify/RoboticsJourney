{
  "cells": [
    {
      "cell_type": "markdown",
      "metadata": {
        "id": "ZyWvQrGRGIMP"
      },
      "source": [
        "# Dataset\n",
        "In this tutorial, we will practice the Logistic Regression classifier in diabetes analysis.\n",
        "\n",
        "The dataset we use is Pima Indian Diabeters dataset. You can download data from the following link:\n",
        "https://www.kaggle.com/uciml/pima-indians-diabetes-database\n",
        "\n",
        "Diabetes is a major problem in India. From 1971 to 2000, the number of diabetes incidence increased 10 times from 1.2% to 12.1%. As an estimation, in 2011, there are about 61.3 million people in the age of between 20 and 79 years living with diabetes. The estimation also predict that by 2030 this number will be close to 101,2 million people. Moreover, there are 77.2 million people reported to have prediabetes. In 2012, nearly 1 million people died due to diabetes. About 25 percent of citizens living in Chennai’s urban slums are affected by diabetes. This number is nearly 7 per cent by three times of the national average. About 33 percent of the deaths in India involve people under 60 years old with non-communicable diseases. On average, Indian people suffer from diabetes 10 years before their Western countries. Changes in lifestyle lead to physical decreases Increased fat, sugar and activities activity calories and higher insulin cortisol levels Obesity and vulnerability. In 2011, India paid around $38 billion annually for dealing with diabetes problem.\n",
        "\n",
        "For further information, please find in this article:\n",
        "\n",
        "http://www.arogyaworld.org/wp-content/uploads/2010/10/ArogyaWorld_IndiaDiabetes_FactSheets_CGI2013_web.pdf"
      ]
    },
    {
      "cell_type": "markdown",
      "metadata": {
        "id": "c9n3nR0DGIMP"
      },
      "source": [
        "# Dataset description\n",
        "\n",
        "This dataset comes from the Diabetes and Digestive and Kidney Disease National Institutes. The purpose of this dataset is to diagnose whether or not a patient is diabetes, on the basis of certain diagnostic measures in the dataset. The selection of these instances from a larger database was subject to several restrictions. All patients are women from the Indian heritage of Pima, at least 21 years old.\n",
        "\n",
        "The data sets comprise several variables of the medical predictor, and one objective variable, Outcome. The forecasting variables include the patient’s number of pregnancies, BMI levels, insulin levels, age, etc."
      ]
    },
    {
      "cell_type": "markdown",
      "metadata": {
        "id": "HatddGB6GIMP"
      },
      "source": [
        "# Diabetes Data Analysis"
      ]
    },
    {
      "cell_type": "markdown",
      "metadata": {
        "id": "BoBd2u-dGIMP"
      },
      "source": [
        "## Import and Loading dataset"
      ]
    },
    {
      "cell_type": "code",
      "execution_count": 1,
      "metadata": {
        "id": "NPe0VGKiGIMQ"
      },
      "outputs": [],
      "source": [
        "import pandas as pd"
      ]
    },
    {
      "cell_type": "code",
      "execution_count": 2,
      "metadata": {
        "id": "mWvZuFpaGIMQ"
      },
      "outputs": [],
      "source": [
        "# load dataset\n",
        "diabetes_dataset = pd.read_csv(\"diabetes.csv\", sep = \",\")"
      ]
    },
    {
      "cell_type": "code",
      "execution_count": 3,
      "metadata": {
        "id": "6XlqKvxOGIMQ",
        "outputId": "15a82e79-4d55-4121-b947-0331a3d95911"
      },
      "outputs": [
        {
          "data": {
            "text/html": [
              "<div>\n",
              "<style scoped>\n",
              "    .dataframe tbody tr th:only-of-type {\n",
              "        vertical-align: middle;\n",
              "    }\n",
              "\n",
              "    .dataframe tbody tr th {\n",
              "        vertical-align: top;\n",
              "    }\n",
              "\n",
              "    .dataframe thead th {\n",
              "        text-align: right;\n",
              "    }\n",
              "</style>\n",
              "<table border=\"1\" class=\"dataframe\">\n",
              "  <thead>\n",
              "    <tr style=\"text-align: right;\">\n",
              "      <th></th>\n",
              "      <th>Pregnancies</th>\n",
              "      <th>Glucose</th>\n",
              "      <th>BloodPressure</th>\n",
              "      <th>SkinThickness</th>\n",
              "      <th>Insulin</th>\n",
              "      <th>BMI</th>\n",
              "      <th>DiabetesPedigreeFunction</th>\n",
              "      <th>Age</th>\n",
              "      <th>Outcome</th>\n",
              "    </tr>\n",
              "  </thead>\n",
              "  <tbody>\n",
              "    <tr>\n",
              "      <th>0</th>\n",
              "      <td>6</td>\n",
              "      <td>148</td>\n",
              "      <td>72</td>\n",
              "      <td>35</td>\n",
              "      <td>0</td>\n",
              "      <td>33.6</td>\n",
              "      <td>0.627</td>\n",
              "      <td>50</td>\n",
              "      <td>1</td>\n",
              "    </tr>\n",
              "    <tr>\n",
              "      <th>1</th>\n",
              "      <td>1</td>\n",
              "      <td>85</td>\n",
              "      <td>66</td>\n",
              "      <td>29</td>\n",
              "      <td>0</td>\n",
              "      <td>26.6</td>\n",
              "      <td>0.351</td>\n",
              "      <td>31</td>\n",
              "      <td>0</td>\n",
              "    </tr>\n",
              "    <tr>\n",
              "      <th>2</th>\n",
              "      <td>8</td>\n",
              "      <td>183</td>\n",
              "      <td>64</td>\n",
              "      <td>0</td>\n",
              "      <td>0</td>\n",
              "      <td>23.3</td>\n",
              "      <td>0.672</td>\n",
              "      <td>32</td>\n",
              "      <td>1</td>\n",
              "    </tr>\n",
              "    <tr>\n",
              "      <th>3</th>\n",
              "      <td>1</td>\n",
              "      <td>89</td>\n",
              "      <td>66</td>\n",
              "      <td>23</td>\n",
              "      <td>94</td>\n",
              "      <td>28.1</td>\n",
              "      <td>0.167</td>\n",
              "      <td>21</td>\n",
              "      <td>0</td>\n",
              "    </tr>\n",
              "    <tr>\n",
              "      <th>4</th>\n",
              "      <td>0</td>\n",
              "      <td>137</td>\n",
              "      <td>40</td>\n",
              "      <td>35</td>\n",
              "      <td>168</td>\n",
              "      <td>43.1</td>\n",
              "      <td>2.288</td>\n",
              "      <td>33</td>\n",
              "      <td>1</td>\n",
              "    </tr>\n",
              "    <tr>\n",
              "      <th>...</th>\n",
              "      <td>...</td>\n",
              "      <td>...</td>\n",
              "      <td>...</td>\n",
              "      <td>...</td>\n",
              "      <td>...</td>\n",
              "      <td>...</td>\n",
              "      <td>...</td>\n",
              "      <td>...</td>\n",
              "      <td>...</td>\n",
              "    </tr>\n",
              "    <tr>\n",
              "      <th>763</th>\n",
              "      <td>10</td>\n",
              "      <td>101</td>\n",
              "      <td>76</td>\n",
              "      <td>48</td>\n",
              "      <td>180</td>\n",
              "      <td>32.9</td>\n",
              "      <td>0.171</td>\n",
              "      <td>63</td>\n",
              "      <td>0</td>\n",
              "    </tr>\n",
              "    <tr>\n",
              "      <th>764</th>\n",
              "      <td>2</td>\n",
              "      <td>122</td>\n",
              "      <td>70</td>\n",
              "      <td>27</td>\n",
              "      <td>0</td>\n",
              "      <td>36.8</td>\n",
              "      <td>0.340</td>\n",
              "      <td>27</td>\n",
              "      <td>0</td>\n",
              "    </tr>\n",
              "    <tr>\n",
              "      <th>765</th>\n",
              "      <td>5</td>\n",
              "      <td>121</td>\n",
              "      <td>72</td>\n",
              "      <td>23</td>\n",
              "      <td>112</td>\n",
              "      <td>26.2</td>\n",
              "      <td>0.245</td>\n",
              "      <td>30</td>\n",
              "      <td>0</td>\n",
              "    </tr>\n",
              "    <tr>\n",
              "      <th>766</th>\n",
              "      <td>1</td>\n",
              "      <td>126</td>\n",
              "      <td>60</td>\n",
              "      <td>0</td>\n",
              "      <td>0</td>\n",
              "      <td>30.1</td>\n",
              "      <td>0.349</td>\n",
              "      <td>47</td>\n",
              "      <td>1</td>\n",
              "    </tr>\n",
              "    <tr>\n",
              "      <th>767</th>\n",
              "      <td>1</td>\n",
              "      <td>93</td>\n",
              "      <td>70</td>\n",
              "      <td>31</td>\n",
              "      <td>0</td>\n",
              "      <td>30.4</td>\n",
              "      <td>0.315</td>\n",
              "      <td>23</td>\n",
              "      <td>0</td>\n",
              "    </tr>\n",
              "  </tbody>\n",
              "</table>\n",
              "<p>768 rows × 9 columns</p>\n",
              "</div>"
            ],
            "text/plain": [
              "     Pregnancies  Glucose  BloodPressure  SkinThickness  Insulin   BMI  \\\n",
              "0              6      148             72             35        0  33.6   \n",
              "1              1       85             66             29        0  26.6   \n",
              "2              8      183             64              0        0  23.3   \n",
              "3              1       89             66             23       94  28.1   \n",
              "4              0      137             40             35      168  43.1   \n",
              "..           ...      ...            ...            ...      ...   ...   \n",
              "763           10      101             76             48      180  32.9   \n",
              "764            2      122             70             27        0  36.8   \n",
              "765            5      121             72             23      112  26.2   \n",
              "766            1      126             60              0        0  30.1   \n",
              "767            1       93             70             31        0  30.4   \n",
              "\n",
              "     DiabetesPedigreeFunction  Age  Outcome  \n",
              "0                       0.627   50        1  \n",
              "1                       0.351   31        0  \n",
              "2                       0.672   32        1  \n",
              "3                       0.167   21        0  \n",
              "4                       2.288   33        1  \n",
              "..                        ...  ...      ...  \n",
              "763                     0.171   63        0  \n",
              "764                     0.340   27        0  \n",
              "765                     0.245   30        0  \n",
              "766                     0.349   47        1  \n",
              "767                     0.315   23        0  \n",
              "\n",
              "[768 rows x 9 columns]"
            ]
          },
          "execution_count": 3,
          "metadata": {},
          "output_type": "execute_result"
        }
      ],
      "source": [
        "diabetes_dataset"
      ]
    },
    {
      "cell_type": "code",
      "execution_count": null,
      "metadata": {
        "id": "TXe0IeOCGIMQ",
        "outputId": "cc9b4b77-e50a-47dc-982d-6669830f463b"
      },
      "outputs": [
        {
          "data": {
            "text/plain": [
              "(768, 9)"
            ]
          },
          "execution_count": 4,
          "metadata": {},
          "output_type": "execute_result"
        }
      ],
      "source": [
        "diabetes_dataset.shape"
      ]
    },
    {
      "cell_type": "markdown",
      "metadata": {
        "id": "huiHIwLbGIMR"
      },
      "source": [
        "## Explore of the data"
      ]
    },
    {
      "cell_type": "code",
      "execution_count": 4,
      "metadata": {
        "id": "VZpEXeQQGIMR",
        "outputId": "4a9ac0a4-0e2f-4b7f-8cbb-0322db1d9801"
      },
      "outputs": [
        {
          "name": "stdout",
          "output_type": "stream",
          "text": [
            "<class 'pandas.core.frame.DataFrame'>\n",
            "RangeIndex: 768 entries, 0 to 767\n",
            "Data columns (total 9 columns):\n",
            " #   Column                    Non-Null Count  Dtype  \n",
            "---  ------                    --------------  -----  \n",
            " 0   Pregnancies               768 non-null    int64  \n",
            " 1   Glucose                   768 non-null    int64  \n",
            " 2   BloodPressure             768 non-null    int64  \n",
            " 3   SkinThickness             768 non-null    int64  \n",
            " 4   Insulin                   768 non-null    int64  \n",
            " 5   BMI                       768 non-null    float64\n",
            " 6   DiabetesPedigreeFunction  768 non-null    float64\n",
            " 7   Age                       768 non-null    int64  \n",
            " 8   Outcome                   768 non-null    int64  \n",
            "dtypes: float64(2), int64(7)\n",
            "memory usage: 54.1 KB\n"
          ]
        }
      ],
      "source": [
        "diabetes_dataset.info()"
      ]
    },
    {
      "cell_type": "markdown",
      "metadata": {
        "id": "fCwOnukjGIMR"
      },
      "source": [
        "## Further analysis"
      ]
    },
    {
      "cell_type": "markdown",
      "metadata": {
        "id": "c97pBFfmGIMR"
      },
      "source": [
        "Investigating the correlation between features.\n",
        "\n",
        "- A large positive value (near to 1.0) indicates a strong positive correlation, i.e., if the value of one of the variables increases, the value of the other variable increases as well.\n",
        "- A large negative value (near to -1.0) indicates a negative correlation, i.e., the value of one variable decreases with the other’s increasing and vice-versa.\n",
        "- A value near to 0 (both positive or negative) indicates no correlation between the two variables, and hence those variables are independent of each other."
      ]
    },
    {
      "cell_type": "code",
      "execution_count": 5,
      "metadata": {
        "id": "VVoBrtO1GIMR",
        "outputId": "71413548-4fbe-4934-bda8-5c40b2fb01a2"
      },
      "outputs": [
        {
          "data": {
            "text/html": [
              "<div>\n",
              "<style scoped>\n",
              "    .dataframe tbody tr th:only-of-type {\n",
              "        vertical-align: middle;\n",
              "    }\n",
              "\n",
              "    .dataframe tbody tr th {\n",
              "        vertical-align: top;\n",
              "    }\n",
              "\n",
              "    .dataframe thead th {\n",
              "        text-align: right;\n",
              "    }\n",
              "</style>\n",
              "<table border=\"1\" class=\"dataframe\">\n",
              "  <thead>\n",
              "    <tr style=\"text-align: right;\">\n",
              "      <th></th>\n",
              "      <th>Pregnancies</th>\n",
              "      <th>Glucose</th>\n",
              "      <th>BloodPressure</th>\n",
              "      <th>SkinThickness</th>\n",
              "      <th>Insulin</th>\n",
              "      <th>BMI</th>\n",
              "      <th>DiabetesPedigreeFunction</th>\n",
              "      <th>Age</th>\n",
              "      <th>Outcome</th>\n",
              "    </tr>\n",
              "  </thead>\n",
              "  <tbody>\n",
              "    <tr>\n",
              "      <th>Pregnancies</th>\n",
              "      <td>1.000000</td>\n",
              "      <td>0.129459</td>\n",
              "      <td>0.141282</td>\n",
              "      <td>-0.081672</td>\n",
              "      <td>-0.073535</td>\n",
              "      <td>0.017683</td>\n",
              "      <td>-0.033523</td>\n",
              "      <td>0.544341</td>\n",
              "      <td>0.221898</td>\n",
              "    </tr>\n",
              "    <tr>\n",
              "      <th>Glucose</th>\n",
              "      <td>0.129459</td>\n",
              "      <td>1.000000</td>\n",
              "      <td>0.152590</td>\n",
              "      <td>0.057328</td>\n",
              "      <td>0.331357</td>\n",
              "      <td>0.221071</td>\n",
              "      <td>0.137337</td>\n",
              "      <td>0.263514</td>\n",
              "      <td>0.466581</td>\n",
              "    </tr>\n",
              "    <tr>\n",
              "      <th>BloodPressure</th>\n",
              "      <td>0.141282</td>\n",
              "      <td>0.152590</td>\n",
              "      <td>1.000000</td>\n",
              "      <td>0.207371</td>\n",
              "      <td>0.088933</td>\n",
              "      <td>0.281805</td>\n",
              "      <td>0.041265</td>\n",
              "      <td>0.239528</td>\n",
              "      <td>0.065068</td>\n",
              "    </tr>\n",
              "    <tr>\n",
              "      <th>SkinThickness</th>\n",
              "      <td>-0.081672</td>\n",
              "      <td>0.057328</td>\n",
              "      <td>0.207371</td>\n",
              "      <td>1.000000</td>\n",
              "      <td>0.436783</td>\n",
              "      <td>0.392573</td>\n",
              "      <td>0.183928</td>\n",
              "      <td>-0.113970</td>\n",
              "      <td>0.074752</td>\n",
              "    </tr>\n",
              "    <tr>\n",
              "      <th>Insulin</th>\n",
              "      <td>-0.073535</td>\n",
              "      <td>0.331357</td>\n",
              "      <td>0.088933</td>\n",
              "      <td>0.436783</td>\n",
              "      <td>1.000000</td>\n",
              "      <td>0.197859</td>\n",
              "      <td>0.185071</td>\n",
              "      <td>-0.042163</td>\n",
              "      <td>0.130548</td>\n",
              "    </tr>\n",
              "    <tr>\n",
              "      <th>BMI</th>\n",
              "      <td>0.017683</td>\n",
              "      <td>0.221071</td>\n",
              "      <td>0.281805</td>\n",
              "      <td>0.392573</td>\n",
              "      <td>0.197859</td>\n",
              "      <td>1.000000</td>\n",
              "      <td>0.140647</td>\n",
              "      <td>0.036242</td>\n",
              "      <td>0.292695</td>\n",
              "    </tr>\n",
              "    <tr>\n",
              "      <th>DiabetesPedigreeFunction</th>\n",
              "      <td>-0.033523</td>\n",
              "      <td>0.137337</td>\n",
              "      <td>0.041265</td>\n",
              "      <td>0.183928</td>\n",
              "      <td>0.185071</td>\n",
              "      <td>0.140647</td>\n",
              "      <td>1.000000</td>\n",
              "      <td>0.033561</td>\n",
              "      <td>0.173844</td>\n",
              "    </tr>\n",
              "    <tr>\n",
              "      <th>Age</th>\n",
              "      <td>0.544341</td>\n",
              "      <td>0.263514</td>\n",
              "      <td>0.239528</td>\n",
              "      <td>-0.113970</td>\n",
              "      <td>-0.042163</td>\n",
              "      <td>0.036242</td>\n",
              "      <td>0.033561</td>\n",
              "      <td>1.000000</td>\n",
              "      <td>0.238356</td>\n",
              "    </tr>\n",
              "    <tr>\n",
              "      <th>Outcome</th>\n",
              "      <td>0.221898</td>\n",
              "      <td>0.466581</td>\n",
              "      <td>0.065068</td>\n",
              "      <td>0.074752</td>\n",
              "      <td>0.130548</td>\n",
              "      <td>0.292695</td>\n",
              "      <td>0.173844</td>\n",
              "      <td>0.238356</td>\n",
              "      <td>1.000000</td>\n",
              "    </tr>\n",
              "  </tbody>\n",
              "</table>\n",
              "</div>"
            ],
            "text/plain": [
              "                          Pregnancies   Glucose  BloodPressure  SkinThickness  \\\n",
              "Pregnancies                  1.000000  0.129459       0.141282      -0.081672   \n",
              "Glucose                      0.129459  1.000000       0.152590       0.057328   \n",
              "BloodPressure                0.141282  0.152590       1.000000       0.207371   \n",
              "SkinThickness               -0.081672  0.057328       0.207371       1.000000   \n",
              "Insulin                     -0.073535  0.331357       0.088933       0.436783   \n",
              "BMI                          0.017683  0.221071       0.281805       0.392573   \n",
              "DiabetesPedigreeFunction    -0.033523  0.137337       0.041265       0.183928   \n",
              "Age                          0.544341  0.263514       0.239528      -0.113970   \n",
              "Outcome                      0.221898  0.466581       0.065068       0.074752   \n",
              "\n",
              "                           Insulin       BMI  DiabetesPedigreeFunction  \\\n",
              "Pregnancies              -0.073535  0.017683                 -0.033523   \n",
              "Glucose                   0.331357  0.221071                  0.137337   \n",
              "BloodPressure             0.088933  0.281805                  0.041265   \n",
              "SkinThickness             0.436783  0.392573                  0.183928   \n",
              "Insulin                   1.000000  0.197859                  0.185071   \n",
              "BMI                       0.197859  1.000000                  0.140647   \n",
              "DiabetesPedigreeFunction  0.185071  0.140647                  1.000000   \n",
              "Age                      -0.042163  0.036242                  0.033561   \n",
              "Outcome                   0.130548  0.292695                  0.173844   \n",
              "\n",
              "                               Age   Outcome  \n",
              "Pregnancies               0.544341  0.221898  \n",
              "Glucose                   0.263514  0.466581  \n",
              "BloodPressure             0.239528  0.065068  \n",
              "SkinThickness            -0.113970  0.074752  \n",
              "Insulin                  -0.042163  0.130548  \n",
              "BMI                       0.036242  0.292695  \n",
              "DiabetesPedigreeFunction  0.033561  0.173844  \n",
              "Age                       1.000000  0.238356  \n",
              "Outcome                   0.238356  1.000000  "
            ]
          },
          "execution_count": 5,
          "metadata": {},
          "output_type": "execute_result"
        }
      ],
      "source": [
        "diabetes_dataset.corr()"
      ]
    },
    {
      "cell_type": "code",
      "execution_count": 6,
      "metadata": {
        "id": "WZoRN_EOGIMR",
        "outputId": "8ec08390-acf2-4e53-c564-166e4f77a74e"
      },
      "outputs": [
        {
          "data": {
            "image/png": "[encoded data removed]",
            "text/plain": [
              "<Figure size 640x480 with 2 Axes>"
            ]
          },
          "metadata": {},
          "output_type": "display_data"
        }
      ],
      "source": [
        "import seaborn as sn\n",
        "import matplotlib.pyplot as plt\n",
        "\n",
        "sn.heatmap(diabetes_dataset.corr(), annot=True)\n",
        "plt.show()"
      ]
    },
    {
      "cell_type": "markdown",
      "metadata": {
        "id": "ERcA2kFGGIMR"
      },
      "source": [
        "From the heat map, it can be said that the diabetes outcome is dependent at most on Glucose, and at least on Blood Pressure and Skin Thickness.\n",
        "\n",
        "As shown in the heat map, some of these features are highly correlated, e.g. Pregnancies and Age are highly correlated as they have coefficient that is high. Also, Insulin and SkinThickness are in a high correlation. The high correlation between features has implied to the results of the regression model that is based on the linear relationship between features."
      ]
    },
    {
      "cell_type": "markdown",
      "metadata": {
        "id": "qebIWY99GIMR"
      },
      "source": [
        "# Diabetes Classification from Logistic Regression"
      ]
    },
    {
      "cell_type": "markdown",
      "metadata": {
        "id": "PVt0Fn76GIMR"
      },
      "source": [
        "## Feature Extraction\n",
        "\n",
        "Here, you need to divide the given columns into a target or a dependent variable and feature vectors or independent variables."
      ]
    },
    {
      "cell_type": "code",
      "execution_count": 7,
      "metadata": {
        "id": "EVmxKRIkGIMR"
      },
      "outputs": [],
      "source": [
        "#Extract features and a target\n",
        "feature_columns = ['Pregnancies', 'Glucose', 'BloodPressure', 'SkinThickness', 'Insulin', 'BMI', 'DiabetesPedigreeFunction', 'Age']\n",
        "\n",
        "X = diabetes_dataset[feature_columns] # Features\n",
        "y = diabetes_dataset.Outcome # Target"
      ]
    },
    {
      "cell_type": "markdown",
      "metadata": {
        "id": "YXOjMwBXGIMR"
      },
      "source": [
        "## Splitting the Dataset\n",
        "\n",
        "To understand model performance, the dataset is splitted into a training set and a test set with a ratio 3:1."
      ]
    },
    {
      "cell_type": "code",
      "execution_count": 8,
      "metadata": {
        "id": "qQ_-n4JcGIMR"
      },
      "outputs": [],
      "source": [
        "# split X and y into training and testing datasets\n",
        "from sklearn.model_selection import train_test_split\n",
        "\n",
        "X_train,X_test,y_train,y_test=train_test_split(X,y,test_size=0.25,random_state=0)"
      ]
    },
    {
      "cell_type": "code",
      "execution_count": 15,
      "metadata": {
        "id": "l5Bwk_5AGIMR",
        "outputId": "6f46743a-7da6-4175-e837-a612594246d7"
      },
      "outputs": [
        {
          "data": {
            "text/html": [
              "<div>\n",
              "<style scoped>\n",
              "    .dataframe tbody tr th:only-of-type {\n",
              "        vertical-align: middle;\n",
              "    }\n",
              "\n",
              "    .dataframe tbody tr th {\n",
              "        vertical-align: top;\n",
              "    }\n",
              "\n",
              "    .dataframe thead th {\n",
              "        text-align: right;\n",
              "    }\n",
              "</style>\n",
              "<table border=\"1\" class=\"dataframe\">\n",
              "  <thead>\n",
              "    <tr style=\"text-align: right;\">\n",
              "      <th></th>\n",
              "      <th>Pregnancies</th>\n",
              "      <th>Glucose</th>\n",
              "      <th>BloodPressure</th>\n",
              "      <th>SkinThickness</th>\n",
              "      <th>Insulin</th>\n",
              "      <th>BMI</th>\n",
              "      <th>DiabetesPedigreeFunction</th>\n",
              "      <th>Age</th>\n",
              "    </tr>\n",
              "  </thead>\n",
              "  <tbody>\n",
              "    <tr>\n",
              "      <th>762</th>\n",
              "      <td>9</td>\n",
              "      <td>89</td>\n",
              "      <td>62</td>\n",
              "      <td>0</td>\n",
              "      <td>0</td>\n",
              "      <td>22.5</td>\n",
              "      <td>0.142</td>\n",
              "      <td>33</td>\n",
              "    </tr>\n",
              "    <tr>\n",
              "      <th>127</th>\n",
              "      <td>1</td>\n",
              "      <td>118</td>\n",
              "      <td>58</td>\n",
              "      <td>36</td>\n",
              "      <td>94</td>\n",
              "      <td>33.3</td>\n",
              "      <td>0.261</td>\n",
              "      <td>23</td>\n",
              "    </tr>\n",
              "    <tr>\n",
              "      <th>564</th>\n",
              "      <td>0</td>\n",
              "      <td>91</td>\n",
              "      <td>80</td>\n",
              "      <td>0</td>\n",
              "      <td>0</td>\n",
              "      <td>32.4</td>\n",
              "      <td>0.601</td>\n",
              "      <td>27</td>\n",
              "    </tr>\n",
              "    <tr>\n",
              "      <th>375</th>\n",
              "      <td>12</td>\n",
              "      <td>140</td>\n",
              "      <td>82</td>\n",
              "      <td>43</td>\n",
              "      <td>325</td>\n",
              "      <td>39.2</td>\n",
              "      <td>0.528</td>\n",
              "      <td>58</td>\n",
              "    </tr>\n",
              "    <tr>\n",
              "      <th>663</th>\n",
              "      <td>9</td>\n",
              "      <td>145</td>\n",
              "      <td>80</td>\n",
              "      <td>46</td>\n",
              "      <td>130</td>\n",
              "      <td>37.9</td>\n",
              "      <td>0.637</td>\n",
              "      <td>40</td>\n",
              "    </tr>\n",
              "  </tbody>\n",
              "</table>\n",
              "</div>"
            ],
            "text/plain": [
              "     Pregnancies  Glucose  BloodPressure  SkinThickness  Insulin   BMI  \\\n",
              "762            9       89             62              0        0  22.5   \n",
              "127            1      118             58             36       94  33.3   \n",
              "564            0       91             80              0        0  32.4   \n",
              "375           12      140             82             43      325  39.2   \n",
              "663            9      145             80             46      130  37.9   \n",
              "\n",
              "     DiabetesPedigreeFunction  Age  \n",
              "762                     0.142   33  \n",
              "127                     0.261   23  \n",
              "564                     0.601   27  \n",
              "375                     0.528   58  \n",
              "663                     0.637   40  "
            ]
          },
          "execution_count": 15,
          "metadata": {},
          "output_type": "execute_result"
        }
      ],
      "source": [
        "X_train.shape\n",
        "X_train.head()"
      ]
    },
    {
      "cell_type": "code",
      "execution_count": 17,
      "metadata": {},
      "outputs": [
        {
          "data": {
            "text/plain": [
              "762    0\n",
              "127    0\n",
              "564    0\n",
              "375    1\n",
              "663    1\n",
              "Name: Outcome, dtype: int64"
            ]
          },
          "execution_count": 17,
          "metadata": {},
          "output_type": "execute_result"
        }
      ],
      "source": [
        "y_train.shape\n",
        "y_train.head()"
      ]
    },
    {
      "cell_type": "markdown",
      "metadata": {
        "id": "jLxfMRAQGIMS"
      },
      "source": [
        "## Build a Logistic Regression model and make a prediction\n",
        "\n",
        "First, import the Logistic Regression module and create a Logistic Regression classifier object using LogisticRegression() function."
      ]
    },
    {
      "cell_type": "code",
      "execution_count": 18,
      "metadata": {
        "id": "F_ceDDagGIMS"
      },
      "outputs": [],
      "source": [
        "# import the class\n",
        "from sklearn.linear_model import LogisticRegression\n",
        "\n",
        "# instantiate the model (using the default parameters)\n",
        "lr = LogisticRegression(C = 10)"
      ]
    },
    {
      "cell_type": "markdown",
      "metadata": {
        "id": "fQsejCSnGIMS"
      },
      "source": [
        "Then, fit your model on the train set using fit() and perform prediction on the test set using predict()."
      ]
    },
    {
      "cell_type": "code",
      "execution_count": null,
      "metadata": {
        "id": "bXrWOLRfGIMS",
        "outputId": "bef64618-7bde-447a-c7cb-fafb34c73214"
      },
      "outputs": [],
      "source": [
        "# fit the model with the training data\n",
        "lr.fit(X_train,y_train)\n",
        "\n",
        "# Make a prediction for the testing data\n",
        "y_pred=lr.predict(X_test)"
      ]
    },
    {
      "cell_type": "markdown",
      "metadata": {
        "id": "C9gXCk-ZGIMS"
      },
      "source": [
        "## Model Evaluation using Confusion Matrix\n",
        "\n",
        "A confusion matrix is a table that is used to evaluate the performance of a classification model. You can also visualize the performance of an algorithm. The fundamental of a confusion matrix is the number of correct and incorrect predictions are summed up class-wise."
      ]
    },
    {
      "cell_type": "code",
      "execution_count": 20,
      "metadata": {
        "id": "Tqx54pCeGIMS",
        "outputId": "34602e6c-94c4-40da-d5a4-81bfb2089dd3"
      },
      "outputs": [
        {
          "name": "stdout",
          "output_type": "stream",
          "text": [
            "[[120  10]\n",
            " [ 25  37]]\n"
          ]
        }
      ],
      "source": [
        "# import the metrics class\n",
        "from sklearn import metrics\n",
        "from sklearn.metrics import classification_report\n",
        "\n",
        "cnf_matrix = metrics.confusion_matrix(y_test, y_pred)\n",
        "print(cnf_matrix)"
      ]
    },
    {
      "cell_type": "markdown",
      "metadata": {
        "id": "7VnZhpKgGIMS"
      },
      "source": [
        "Confusion Matrix Evaluation Metrics\n",
        "Let's evaluate the model using model evaluation metrics such as accuracy, precision, recall and F1-score."
      ]
    },
    {
      "cell_type": "code",
      "execution_count": null,
      "metadata": {
        "id": "_MhWxeK9GIMS",
        "outputId": "68d704dd-e465-42fa-b166-dda3e459f354"
      },
      "outputs": [
        {
          "name": "stdout",
          "output_type": "stream",
          "text": [
            "Accuracy: 0.8072916666666666\n",
            "Precision: 0.8030157128882367\n",
            "Recall: 0.8072916666666666\n",
            "F1-score: 0.7992876007784263\n"
          ]
        }
      ],
      "source": [
        "print(\"Accuracy:\",metrics.accuracy_score(y_test, y_pred))\n",
        "print(\"Precision:\",metrics.precision_score(y_test, y_pred, average = 'weighted'))\n",
        "print(\"Recall:\",metrics.recall_score(y_test, y_pred, average = 'weighted'))\n",
        "print(\"F1-score:\",metrics.f1_score(y_test, y_pred, average = 'weighted'))"
      ]
    },
    {
      "cell_type": "markdown",
      "metadata": {
        "id": "VzsxDqnaGIMS"
      },
      "source": [
        "Well, you got a classification rate of 81%, considered as good accuracy with 576 instances to train with.\n",
        "\n",
        "Precision: Precision is about being precise, i.e., how accurate your model is. In other words, you can say, when a model makes a prediction, how often it is correct. In your prediction case, when your Logistic Regression model predicted patients are going to suffer from diabetes, that patients have 80% of the time.\n",
        "\n",
        "Recall: If there are patients who have diabetes in the test set and your Logistic Regression model can identify it 81% of the time."
      ]
    },
    {
      "cell_type": "markdown",
      "metadata": {
        "id": "qSk4-Lc6GIMS"
      },
      "source": [
        "## ROC Curve\n",
        "\n",
        "Receiver Operating Characteristic(ROC) curve is a plot of the true positive rate against the false positive rate. It shows the tradeoff between sensitivity and specificity."
      ]
    },
    {
      "cell_type": "code",
      "execution_count": 21,
      "metadata": {
        "id": "aOaQXFJhGIMS",
        "outputId": "151f3278-08ad-4c1e-87be-2df457abbfd6"
      },
      "outputs": [
        {
          "data": {
            "text/plain": [
              "np.float64(0.7599255583126551)"
            ]
          },
          "execution_count": 21,
          "metadata": {},
          "output_type": "execute_result"
        }
      ],
      "source": [
        "fpr, tpr, _ = metrics.roc_curve(y_test,  y_pred)\n",
        "auc = metrics.roc_auc_score(y_test, y_pred)\n",
        "\n",
        "auc"
      ]
    },
    {
      "cell_type": "markdown",
      "metadata": {
        "id": "GAAwgl5uGIMS"
      },
      "source": [
        "AUC score for the case is nearly 75%. AUC score 1 represents perfect classifier, and 50% represents a worthless classifier. Now we plot the ROC curve."
      ]
    },
    {
      "cell_type": "code",
      "execution_count": 22,
      "metadata": {
        "id": "x_dNOtXSGIMS",
        "outputId": "c4955a5b-b5eb-4c4c-84ed-e3a5b6584956"
      },
      "outputs": [
        {
          "data": {
            "image/png": "[encoded data removed]",
            "text/plain": [
              "<Figure size 640x480 with 1 Axes>"
            ]
          },
          "metadata": {},
          "output_type": "display_data"
        }
      ],
      "source": [
        "plt.plot(fpr,tpr,label=\"auc=\"+str(auc))\n",
        "plt.title('ROC curve for Diabetes classifier')\n",
        "plt.xlabel('False positive rate (1-Specificity)')\n",
        "plt.ylabel('True positive rate (Sensitivity)')\n",
        "plt.legend(loc=4)\n",
        "plt.show()"
      ]
    },
    {
      "cell_type": "markdown",
      "metadata": {
        "id": "zBOwcJJfGIMT"
      },
      "source": [
        "Display Misclassified rows with Predicted Labels"
      ]
    },
    {
      "cell_type": "code",
      "execution_count": 23,
      "metadata": {
        "id": "zpL8csGhGIMT"
      },
      "outputs": [],
      "source": [
        "index = 0\n",
        "misclassifiedIndexes = []\n",
        "for label, predict in zip(y_test, y_pred):\n",
        "    if label != predict:\n",
        "        misclassifiedIndexes.append(index)\n",
        "    index +=1"
      ]
    },
    {
      "cell_type": "code",
      "execution_count": 24,
      "metadata": {
        "id": "oKj5AKihGIMT",
        "outputId": "5a8fafaa-0829-43e6-f15b-de076f70f547"
      },
      "outputs": [
        {
          "data": {
            "text/plain": [
              "array([ 21,  27,  36,  39,  47,  48,  49,  57,  58,  59,  73,  77,  86,\n",
              "        94,  96,  99, 104, 105, 111, 113, 117, 127, 135, 137, 141, 144,\n",
              "       149, 156, 164, 165, 172, 173, 180, 187, 188])"
            ]
          },
          "execution_count": 24,
          "metadata": {},
          "output_type": "execute_result"
        }
      ],
      "source": [
        "import numpy as np\n",
        "\n",
        "np.array(misclassifiedIndexes).T"
      ]
    },
    {
      "cell_type": "markdown",
      "metadata": {
        "id": "FhTxWZ3vGIMT"
      },
      "source": [
        "## Find C to maximum the F1-score"
      ]
    },
    {
      "cell_type": "code",
      "execution_count": 25,
      "metadata": {
        "id": "8TsWTeYiGIMW"
      },
      "outputs": [],
      "source": [
        "def linear_regression(c):\n",
        "    lr = LogisticRegression(C = c, max_iter = 1000)\n",
        "    fit_lr = lr.fit(X_train, y_train)\n",
        "    predicted_lr = fit_lr.predict(X_test)\n",
        "    cm_lr = metrics.confusion_matrix(y_test, predicted_lr)\n",
        "\n",
        "    f1_sc = metrics.f1_score(y_test, predicted_lr, average = 'weighted')\n",
        "    return f1_sc"
      ]
    },
    {
      "cell_type": "code",
      "execution_count": 26,
      "metadata": {
        "id": "oSlD6zlRGIMW"
      },
      "outputs": [],
      "source": [
        "c = 0.0001\n",
        "c_values = []\n",
        "f1_values = []\n",
        "\n",
        "while c < 1000:\n",
        "    f1_sc = linear_regression(c)\n",
        "    c_values.append(c)\n",
        "    f1_values.append(f1_sc)\n",
        "    c = c*10\n",
        "\n",
        "f1_lr = pd.DataFrame({\n",
        "    \"c\": c_values,\n",
        "    \"f1\": f1_values\n",
        "})"
      ]
    },
    {
      "cell_type": "code",
      "execution_count": 27,
      "metadata": {
        "id": "5QeACF_cGIMW",
        "outputId": "c9e9577a-2d30-4187-d5b5-30f13c7249fc"
      },
      "outputs": [
        {
          "data": {
            "text/plain": [
              "5     10.0\n",
              "6    100.0\n",
              "Name: c, dtype: float64"
            ]
          },
          "execution_count": 27,
          "metadata": {},
          "output_type": "execute_result"
        }
      ],
      "source": [
        "f1_lr[f1_lr['f1'] == f1_lr['f1'].max()].c"
      ]
    },
    {
      "cell_type": "code",
      "execution_count": 28,
      "metadata": {
        "id": "Xo4RHb0qGIMW",
        "outputId": "15deaec0-0fbb-4fc4-a85e-43c1b93cce4f"
      },
      "outputs": [
        {
          "data": {
            "text/html": [
              "<div>\n",
              "<style scoped>\n",
              "    .dataframe tbody tr th:only-of-type {\n",
              "        vertical-align: middle;\n",
              "    }\n",
              "\n",
              "    .dataframe tbody tr th {\n",
              "        vertical-align: top;\n",
              "    }\n",
              "\n",
              "    .dataframe thead th {\n",
              "        text-align: right;\n",
              "    }\n",
              "</style>\n",
              "<table border=\"1\" class=\"dataframe\">\n",
              "  <thead>\n",
              "    <tr style=\"text-align: right;\">\n",
              "      <th></th>\n",
              "      <th>c</th>\n",
              "      <th>f1</th>\n",
              "    </tr>\n",
              "  </thead>\n",
              "  <tbody>\n",
              "    <tr>\n",
              "      <th>6</th>\n",
              "      <td>100.0000</td>\n",
              "      <td>0.794545</td>\n",
              "    </tr>\n",
              "    <tr>\n",
              "      <th>5</th>\n",
              "      <td>10.0000</td>\n",
              "      <td>0.794545</td>\n",
              "    </tr>\n",
              "    <tr>\n",
              "      <th>4</th>\n",
              "      <td>1.0000</td>\n",
              "      <td>0.789817</td>\n",
              "    </tr>\n",
              "    <tr>\n",
              "      <th>3</th>\n",
              "      <td>0.1000</td>\n",
              "      <td>0.789817</td>\n",
              "    </tr>\n",
              "    <tr>\n",
              "      <th>2</th>\n",
              "      <td>0.0100</td>\n",
              "      <td>0.785102</td>\n",
              "    </tr>\n",
              "    <tr>\n",
              "      <th>1</th>\n",
              "      <td>0.0010</td>\n",
              "      <td>0.777589</td>\n",
              "    </tr>\n",
              "    <tr>\n",
              "      <th>0</th>\n",
              "      <td>0.0001</td>\n",
              "      <td>0.741396</td>\n",
              "    </tr>\n",
              "  </tbody>\n",
              "</table>\n",
              "</div>"
            ],
            "text/plain": [
              "          c        f1\n",
              "6  100.0000  0.794545\n",
              "5   10.0000  0.794545\n",
              "4    1.0000  0.789817\n",
              "3    0.1000  0.789817\n",
              "2    0.0100  0.785102\n",
              "1    0.0010  0.777589\n",
              "0    0.0001  0.741396"
            ]
          },
          "execution_count": 28,
          "metadata": {},
          "output_type": "execute_result"
        }
      ],
      "source": [
        "f1_lr.sort_values('f1',ascending=False)"
      ]
    },
    {
      "cell_type": "code",
      "execution_count": null,
      "metadata": {
        "id": "jO2RRn7tGIMX"
      },
      "outputs": [],
      "source": []
    }
  ],
  "metadata": {
    "colab": {
      "provenance": []
    },
    "kernelspec": {
      "display_name": "Python 3 (ipykernel)",
      "language": "python",
      "name": "python3"
    },
    "language_info": {
      "codemirror_mode": {
        "name": "ipython",
        "version": 3
      },
      "file_extension": ".py",
      "mimetype": "text/x-python",
      "name": "python",
      "nbconvert_exporter": "python",
      "pygments_lexer": "ipython3",
      "version": "3.12.2"
    }
  },
  "nbformat": 4,
  "nbformat_minor": 0
}

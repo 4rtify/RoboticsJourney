{
 "cells": [
  {
   "cell_type": "markdown",
   "metadata": {},
   "source": [
    "# https://machinelearningmastery.com/curve-fitting-with-python/"
   ]
  },
  {
   "cell_type": "markdown",
   "metadata": {},
   "source": [
    "**Sure! Here's a simplified version:**\n",
    "\n",
    "\"Curve fitting is a way to find the best parameters for a function that matches a set of data points as closely as possible.\n",
    "\n",
    "Unlike supervised learning, where the model learns the function on its own, in curve fitting, you need to choose the function type in advance. This function could be a straight line (like in linear regression) or a curved one (like in polynomial regression), or other shapes.\n",
    "\n",
    "The flexibility in curve fitting allows you to decide the form of the curve, and an optimization process helps find the best parameters for that chosen function.\""
   ]
  },
  {
   "cell_type": "markdown",
   "metadata": {},
   "source": [
    "**Here's a simplified version of that explanation:**\n",
    "\n",
    "\"Curve fitting is a way to find a line or curve that best matches a set of data points.\n",
    "\n",
    "Imagine plotting your data on a 2D graph, where the x-axis is the input (independent variable) and the y-axis is the output (dependent variable). We may not know the exact formula that connects the input and output, but we think we can approximate it with a known function.\n",
    "\n",
    "First, we choose the type of function (like a straight line or curve) to fit the data. Then, we adjust the function's parameters to minimize the difference (error) between the predicted and actual outputs.\n",
    "\n",
    "Once the function is fit, we can use it to estimate values for new inputs and visualize how well it fits the data by plotting the output. For example, a straight line between inputs and outputs can be written as:\n",
    "\n",
    "**y = a $\\cdot$ x + b**\n",
    "\n",
    "where \\( a \\) and \\( b \\) are parameters we adjust during the fitting process.\""
   ]
  },
  {
   "cell_type": "markdown",
   "metadata": {},
   "source": [
    "**Here’s a simplified version of that explanation:**\n",
    "\n",
    "\"The equation **y = a $\\cdot$ x + b** gives the output \\( y \\) based on the input \\( x \\), where \\( a \\) and \\( b \\) are the parameters found through optimization. This is a **linear equation** because it's a simple weighted sum of the input.\n",
    "\n",
    "In linear regression, these parameters are called **coefficients**; in neural networks, they are called **weights**.\n",
    "\n",
    "This equation can be expanded to handle multiple inputs, not just two. For example, with two inputs, the equation would look like this:\n",
    "\n",
    "**y = a1 $\\cdot$ x1 + a2 $\\cdot$ x2 + b**\n",
    "\n",
    "The equation doesn't always have to represent a straight line. You can introduce curves by adding exponents, like squaring the input:\n",
    "\n",
    "**y = a $\\cdot$ x + b $\\cdot$ x<sup>2</sup> + c**\n",
    "\n",
    "This is called **polynomial regression**, where the squared term represents a second-degree curve.\""
   ]
  },
  {
   "cell_type": "markdown",
   "metadata": {},
   "source": [
    "# Trying to understand least squares"
   ]
  },
  {
   "cell_type": "markdown",
   "metadata": {},
   "source": [
    "Absolutely! Let’s walk through a simple example of least squares.\n",
    "\n",
    "### Example: Fitting a Line to Data\n",
    "\n",
    "Suppose we have a few data points, and we want to fit a straight line to these points. Here are our data points:\n",
    "\n",
    "| \\( x \\) | \\( y \\) |\n",
    "|--------|--------|\n",
    "| 1      | 2      |\n",
    "| 2      | 3      |\n",
    "| 3      | 5      |\n",
    "| 4      | 4      |\n",
    "\n",
    "We want to find the best line in the form **y = a $\\cdot$ x + b**\n",
    "\n",
    "### Step-by-Step Process\n",
    "\n",
    "1. **Initial Guess for Parameters:**\n",
    "   - Let’s start with an initial guess for the parameters \\( a \\) and \\( b \\). For simplicity, let’s start with \\( a = 1 \\) and \\( b = 1 \\).\n",
    "\n",
    "2. **Calculate Predicted Values:**\n",
    "   - For each \\( x \\), calculate the predicted \\( y \\) using the current values of \\( a \\) and \\( b \\):  \n",
    "   - **y_pred = a $\\cdot$ x + b**\n",
    "\n",
    "   - With \\( a = 1 \\) and \\( b = 1 \\):\n",
    "     \\[\n",
    "     \\begin{aligned}\n",
    "     y_{\\text{pred}}(1) &= 1 \\times 1 + 1 = 2 \\\\\n",
    "     y_{\\text{pred}}(2) &= 1 \\times 2 + 1 = 3 \\\\\n",
    "     y_{\\text{pred}}(3) &= 1 \\times 3 + 1 = 4 \\\\\n",
    "     y_{\\text{pred}}(4) &= 1 \\times 4 + 1 = 5\n",
    "     \\end{aligned}\n",
    "     \\]\n",
    "\n",
    "3. **Calculate Errors:**\n",
    "   - Find the difference between actual and predicted \\( y \\) values:\n",
    "     \\[\n",
    "     \\text{Error} = y_{\\text{actual}} - y_{\\text{pred}}\n",
    "     \\]\n",
    "   - For \\( x = 1 \\):\n",
    "     \\[\n",
    "     \\text{Error} = 2 - 2 = 0\n",
    "     \\]\n",
    "   - For \\( x = 2 \\):\n",
    "     \\[\n",
    "     \\text{Error} = 3 - 3 = 0\n",
    "     \\]\n",
    "   - For \\( x = 3 \\):\n",
    "     \\[\n",
    "     \\text{Error} = 5 - 4 = 1\n",
    "     \\]\n",
    "   - For \\( x = 4 \\):\n",
    "     \\[\n",
    "     \\text{Error} = 4 - 5 = -1\n",
    "     \\]\n",
    "\n",
    "4. **Square the Errors:**\n",
    "   - To avoid negative errors canceling out positive ones, square each error:\n",
    "     \\[\n",
    "     \\text{Squared Error} = (\\text{Error})^2\n",
    "     \\]\n",
    "   - For \\( x = 1 \\):\n",
    "     \\[\n",
    "     \\text{Squared Error} = 0^2 = 0\n",
    "     \\]\n",
    "   - For \\( x = 2 \\):\n",
    "     \\[\n",
    "     \\text{Squared Error} = 0^2 = 0\n",
    "     \\]\n",
    "   - For \\( x = 3 \\):\n",
    "     \\[\n",
    "     \\text{Squared Error} = 1^2 = 1\n",
    "     \\]\n",
    "   - For \\( x = 4 \\):\n",
    "     \\[\n",
    "     \\text{Squared Error} = (-1)^2 = 1\n",
    "     \\]\n",
    "\n",
    "5. **Sum of Squared Errors:**\n",
    "   - Add up all the squared errors:\n",
    "     \\[\n",
    "     \\text{Total Squared Error} = 0 + 0 + 1 + 1 = 2\n",
    "     \\]\n",
    "\n",
    "6. **Adjust Parameters:**\n",
    "   - The goal is to minimize this total squared error. In practice, we adjust \\( a \\) and \\( b \\) to find the values that minimize this error. This can be done using optimization techniques.\n",
    "\n",
    "### Summary\n",
    "\n",
    "In this example:\n",
    "- We calculate how far off our line’s predictions are from the actual data.\n",
    "- We square these differences to make sure we treat all errors positively and give larger errors more weight.\n",
    "- We then sum these squared errors to get a single number that represents how well our line fits the data.\n",
    "- The least squares method aims to find the line (or curve) with the smallest possible sum of these squared errors.\n",
    "\n",
    "This is a simplified explanation, but it captures the essence of least squares: finding the best-fitting line or curve by minimizing the total of squared differences between observed and predicted values."
   ]
  },
  {
   "cell_type": "code",
   "execution_count": 1,
   "metadata": {},
   "outputs": [],
   "source": [
    "import numpy as np\n",
    "import matplotlib.pyplot as plt\n",
    "\n",
    "# Data points\n",
    "x = np.array([1, 2, 3, 4])\n",
    "y = np.array([2, 3, 5, 4])"
   ]
  },
  {
   "cell_type": "code",
   "execution_count": 9,
   "metadata": {},
   "outputs": [
    {
     "data": {
      "text/plain": [
       "1.4999999999999996"
      ]
     },
     "execution_count": 9,
     "metadata": {},
     "output_type": "execute_result"
    }
   ],
   "source": [
    "# Adding a column of ones to include the intercept term in the model\n",
    "X = np.vstack([x, np.ones(len(x))]).T\n",
    "\n",
    "# Perform least squares fitting\n",
    "# Use numpy's least squares function to solve for parameters\n",
    "a, b = np.linalg.lstsq(X, y, rcond=None)[0]\n",
    "b"
   ]
  },
  {
   "cell_type": "code",
   "execution_count": 13,
   "metadata": {},
   "outputs": [
    {
     "name": "stdout",
     "output_type": "stream",
     "text": [
      "Fitted parameters:\n",
      " a (slope) = 0.8000000000000005\n",
      " b (intercept) = 1.4999999999999996\n"
     ]
    },
    {
     "data": {
      "text/plain": [
       "array([2.3, 3.1, 3.9, 4.7])"
      ]
     },
     "execution_count": 13,
     "metadata": {},
     "output_type": "execute_result"
    }
   ],
   "source": [
    "# Print the parameters\n",
    "print(f\"Fitted parameters:\\n a (slope) = {a}\\n b (intercept) = {b}\")\n",
    "\n",
    "# Calculate the predicted values\n",
    "y_pred = a * x + b\n",
    "y_pred\n"
   ]
  },
  {
   "cell_type": "code",
   "execution_count": 14,
   "metadata": {},
   "outputs": [
    {
     "data": {
      "image/png": "[encoded data removed]",
      "text/plain": [
       "<Figure size 640x480 with 1 Axes>"
      ]
     },
     "metadata": {},
     "output_type": "display_data"
    }
   ],
   "source": [
    "# Plotting the results\n",
    "plt.scatter(x, y, color='red', label='Data points')  # Original data points\n",
    "plt.plot(x, y_pred, color='blue', label='Fitted line')  # Fitted line\n",
    "plt.xlabel('x')\n",
    "plt.ylabel('y')\n",
    "plt.title('Least Squares Linear Regression')\n",
    "plt.legend()\n",
    "plt.grid(True)\n",
    "plt.show()"
   ]
  },
  {
   "cell_type": "markdown",
   "metadata": {},
   "source": [
    "# \"A little linear algebra\""
   ]
  },
  {
   "cell_type": "markdown",
   "metadata": {},
   "source": [
    "When they say \"a little linear algebra,\" they’re referring to the use of fundamental concepts from linear algebra to solve the least squares problem analytically. In the case of fitting linear equations, this involves solving a system of linear equations to find the optimal parameters.\n",
    "\n",
    "### Example in This Case:\n",
    "\n",
    "In the context of linear regression, the least squares method can be solved analytically using linear algebra. Here's a step-by-step explanation of how linear algebra is used:\n",
    "\n",
    "1. **Matrix Representation:**\n",
    "\n",
    "   The problem can be expressed in matrix form. For a linear model \\( y = a \\times x + b \\), we can rewrite this as:\n",
    "\n",
    "   \\[\n",
    "   \\mathbf{y} = \\mathbf{X} \\cdot \\mathbf{w}\n",
    "   \\]\n",
    "\n",
    "   Where:\n",
    "   - \\(\\mathbf{y}\\) is the vector of observed outputs.\n",
    "   - \\(\\mathbf{X}\\) is the design matrix (including a column for the intercept).\n",
    "   - \\(\\mathbf{w}\\) is the vector of parameters \\([a, b]^T\\).\n",
    "\n",
    "   For our example:\n",
    "   \\[\n",
    "   \\mathbf{X} = \\begin{bmatrix}\n",
    "   1 & 1 \\\\\n",
    "   2 & 1 \\\\\n",
    "   3 & 1 \\\\\n",
    "   4 & 1 \\\\\n",
    "   \\end{bmatrix}\n",
    "   \\]\n",
    "   \\[\n",
    "   \\mathbf{w} = \\begin{bmatrix}\n",
    "   a \\\\\n",
    "   b \\\\\n",
    "   \\end{bmatrix}\n",
    "   \\]\n",
    "   \\[\n",
    "   \\mathbf{y} = \\begin{bmatrix}\n",
    "   2 \\\\\n",
    "   3 \\\\\n",
    "   5 \\\\\n",
    "   4 \\\\\n",
    "   \\end{bmatrix}\n",
    "   \\]\n",
    "\n",
    "2. **Normal Equation:**\n",
    "\n",
    "   To find the parameters \\( \\mathbf{w} \\) that minimize the squared errors, we use the normal equation in linear algebra:\n",
    "\n",
    "   \\[\n",
    "   \\mathbf{w} = (\\mathbf{X}^T \\mathbf{X})^{-1} \\mathbf{X}^T \\mathbf{y}\n",
    "   \\]\n",
    "\n",
    "   Where:\n",
    "   - \\(\\mathbf{X}^T\\) is the transpose of \\(\\mathbf{X}\\).\n",
    "   - \\((\\mathbf{X}^T \\mathbf{X})^{-1}\\) is the inverse of the matrix \\(\\mathbf{X}^T \\mathbf{X}\\).\n",
    "\n",
    "3. **Computing the Parameters:**\n",
    "\n",
    "   - Compute \\(\\mathbf{X}^T \\mathbf{X}\\) (the matrix multiplication of \\(\\mathbf{X}^T\\) and \\(\\mathbf{X}\\)).\n",
    "   - Compute the inverse of the result.\n",
    "   - Multiply this inverse by \\(\\mathbf{X}^T\\) and then by \\(\\mathbf{y}\\) to get the parameter vector \\(\\mathbf{w}\\).\n",
    "\n",
    "   Here’s how you would compute it in Python using `numpy`:"
   ]
  },
  {
   "cell_type": "code",
   "execution_count": 7,
   "metadata": {},
   "outputs": [
    {
     "name": "stdout",
     "output_type": "stream",
     "text": [
      "Fitted parameters:\n",
      " a (slope) = 0.7999999999999989\n",
      " b (intercept) = 1.5\n"
     ]
    }
   ],
   "source": [
    "import numpy as np\n",
    "\n",
    "# Design matrix X\n",
    "X = np.array([[1, 1],\n",
    "[2, 1],\n",
    "[3, 1],\n",
    "[4, 1]])\n",
    "\n",
    "# Response vector y\n",
    "y = np.array([2, 3, 5, 4])\n",
    "\n",
    "# Compute parameters using the normal equation\n",
    "X_transpose = X.T\n",
    "X_transpose_X = X_transpose @ X\n",
    "X_transpose_X_inv = np.linalg.inv(X_transpose_X)\n",
    "X_transpose_y = X_transpose @ y\n",
    "w = X_transpose_X_inv @ X_transpose_y\n",
    "\n",
    "a, b = w\n",
    "print(f\"Fitted parameters:\\n a (slope) = {a}\\n b (intercept) = {b}\")"
   ]
  },
  {
   "cell_type": "markdown",
   "metadata": {},
   "source": [
    "\n",
    "### Summary\n",
    "\n",
    "- **Linear Algebra Concepts:** Matrix multiplication, transposition, inversion.\n",
    "- **Normal Equation:** A method to compute the best parameters analytically.\n",
    "- **Python Code:** Uses `numpy` to perform matrix operations and solve for the optimal parameters.\n",
    "\n",
    "By solving this normal equation, we obtain the parameters \\(a\\) and \\(b\\) that minimize the squared differences between the predicted and actual values. This is the \"little linear algebra\" used to fit linear models."
   ]
  },
  {
   "cell_type": "markdown",
   "metadata": {},
   "source": [
    "# Understanding why it's called \"least squares\"?"
   ]
  },
  {
   "cell_type": "markdown",
   "metadata": {},
   "source": [
    "The term \"least squares\" refers to the goal of the method: minimizing the sum of the squared differences between the observed values and the values predicted by the model. Let me break it down further:\n",
    "\n",
    "### Why \"Least Squares\"?\n",
    "\n",
    "1. **Squared Differences:**\n",
    "   - When fitting a model to data, the difference between the observed value and the predicted value is called the **error**.\n",
    "   - To ensure that positive and negative errors do not cancel each other out, and to emphasize larger errors more, we square each error. Squaring makes all errors positive and gives more weight to larger errors.\n",
    "\n",
    "2. **Minimizing the Sum:**\n",
    "   - The goal is to find the model parameters that minimize the **sum** of these squared errors. This is why it's called **\"least squares\"**: we want to find the parameters that result in the smallest possible sum of squared errors.\n",
    "\n",
    "### Example\n",
    "\n",
    "Consider the following data points and a simple model \\( y = a \\times x + b \\):\n",
    "\n",
    "- **Data Points:**\n",
    "  \\[\n",
    "  \\begin{array}{ccc}\n",
    "  x & \\text{Observed } y \\\\\n",
    "  1 & 2 \\\\\n",
    "  2 & 3 \\\\\n",
    "  3 & 5 \\\\\n",
    "  4 & 4 \\\\\n",
    "  \\end{array}\n",
    "  \\]\n",
    "\n",
    "- **Model Prediction:**\n",
    "  \\[\n",
    "  y_{\\text{pred}} = a \\times x + b\n",
    "  \\]\n",
    "\n",
    "For each \\( x \\), we calculate the predicted \\( y \\) and compute the error (difference between observed and predicted values). \n",
    "\n",
    "- **Errors:**\n",
    "  \\[\n",
    "  \\text{Error} = y_{\\text{actual}} - y_{\\text{pred}}\n",
    "  \\]\n",
    "\n",
    "- **Squared Errors:**\n",
    "  \\[\n",
    "  \\text{Squared Error} = (\\text{Error})^2\n",
    "  \\]\n",
    "\n",
    "- **Sum of Squared Errors:**\n",
    "  \\[\n",
    "  \\text{Total Squared Error} = \\sum (\\text{Squared Error})\n",
    "  \\]\n",
    "\n",
    "### Why Minimize?\n",
    "\n",
    "By minimizing the sum of the squared errors, we are essentially finding the parameter values that make our model’s predictions as close as possible to the actual observed values. \n",
    "\n",
    "### Summary\n",
    "\n",
    "- **\"Least Squares\"** refers to the objective of minimizing the sum of the squared differences (errors) between observed and predicted values.\n",
    "- The term captures the idea of reducing these errors to their smallest possible sum, ensuring the best fit for the model."
   ]
  },
  {
   "cell_type": "markdown",
   "metadata": {},
   "source": [
    "# A non-linear equation"
   ]
  },
  {
   "cell_type": "markdown",
   "metadata": {},
   "source": [
    "## Adding Complex Functions to Models\n",
    "\n",
    "When we add different mathematical functions (like sine or cosine) to our equation, it becomes more complex. For example, an equation might look like this:\n",
    "\n",
    "\\[ y = a $\\cdot$  sin(b $\\cdot$  x) + c \\]\n",
    "\n",
    "In this equation:\n",
    "- **\\( a \\)** and **\\( b \\)** are parameters that we adjust.\n",
    "- **\\(\\sin\\)** is a sine function that changes the shape of our model.\n",
    "\n",
    "### What Happens When We Add These Functions?\n",
    "\n",
    "- **Analytical Calculation:** When the equation is simple (like a straight line), we can find the best parameters using straightforward math.\n",
    "- **Nonlinear Functions:** When we add complex functions, like sine or cosine, finding the best parameters isn’t straightforward. The math becomes more complex and usually requires a different approach.\n",
    "\n",
    "### Nonlinear Least Squares\n",
    "\n",
    "- **Iterative Optimization:** Instead of using simple calculations, we use methods that guess and improve the parameters step by step until we get the best fit.\n",
    "- **Nonlinear:** The problem is called nonlinear because the function we’re fitting is not a straight line and is harder to solve.\n",
    "\n",
    "In short, when adding complex functions to our model, we often need to use more advanced methods to find the best parameters.\n"
   ]
  },
  {
   "cell_type": "markdown",
   "metadata": {},
   "source": [
    "# Curve Fitting Python API"
   ]
  },
  {
   "cell_type": "markdown",
   "metadata": {},
   "source": [
    "# Curve Fitting Worked Example"
   ]
  },
  {
   "cell_type": "code",
   "execution_count": 31,
   "metadata": {},
   "outputs": [
    {
     "data": {
      "image/png": "[encoded data removed]",
      "text/plain": [
       "<Figure size 640x480 with 1 Axes>"
      ]
     },
     "metadata": {},
     "output_type": "display_data"
    }
   ],
   "source": [
    "# plot \"Population\" vs \"Employed\"\n",
    "from pandas import read_csv\n",
    "from matplotlib import pyplot\n",
    "# load the dataset\n",
    "url = 'https://raw.githubusercontent.com/jbrownlee/Datasets/master/longley.csv'\n",
    "dataframe = read_csv(url, header=None)\n",
    "data = dataframe.values\n",
    "# choose the input and output variables\n",
    "x, y = data[:, 4], data[:, -1]\n",
    "\n",
    "\n",
    "# Data points\n",
    "x = np.array([1, 2, 3, 4])\n",
    "y = np.array([2, 3, 5, 4])\n",
    "\n",
    "\n",
    "# plot input vs output\n",
    "pyplot.scatter(x, y)\n",
    "pyplot.show()"
   ]
  },
  {
   "cell_type": "code",
   "execution_count": 32,
   "metadata": {},
   "outputs": [],
   "source": [
    "def objective(x, a, b):\n",
    "        return a * x + b"
   ]
  },
  {
   "cell_type": "code",
   "execution_count": 33,
   "metadata": {},
   "outputs": [],
   "source": [
    "from scipy.optimize import curve_fit"
   ]
  },
  {
   "cell_type": "code",
   "execution_count": 34,
   "metadata": {},
   "outputs": [],
   "source": [
    "popt, _ = curve_fit(objective, x, y)"
   ]
  },
  {
   "cell_type": "code",
   "execution_count": 35,
   "metadata": {},
   "outputs": [
    {
     "name": "stdout",
     "output_type": "stream",
     "text": [
      "y = 0.80000 * x + 1.50000\n"
     ]
    }
   ],
   "source": [
    "# summarize the parameter values\n",
    "a, b = popt\n",
    "print('y = %.5f * x + %.5f' % (a, b))"
   ]
  },
  {
   "cell_type": "code",
   "execution_count": 36,
   "metadata": {},
   "outputs": [],
   "source": [
    "# fit a straight line to the economic data\n",
    "from numpy import arange\n",
    "from pandas import read_csv\n",
    "from scipy.optimize import curve_fit\n",
    "from matplotlib import pyplot"
   ]
  },
  {
   "cell_type": "code",
   "execution_count": 44,
   "metadata": {},
   "outputs": [],
   "source": [
    "# Define a sequence of inputs between the smallest and largest known inputs\n",
    "x_line = arange(min(x), max(x), 1)\n",
    "x_line = x"
   ]
  },
  {
   "cell_type": "code",
   "execution_count": 45,
   "metadata": {},
   "outputs": [
    {
     "data": {
      "text/plain": [
       "array([2.3, 3.1, 3.9, 4.7])"
      ]
     },
     "execution_count": 45,
     "metadata": {},
     "output_type": "execute_result"
    }
   ],
   "source": [
    "\n",
    "# calculate the output for the range\n",
    "y_line = objective(x_line, a, b)\n",
    "y_line"
   ]
  },
  {
   "cell_type": "code",
   "execution_count": 46,
   "metadata": {},
   "outputs": [
    {
     "data": {
      "text/plain": [
       "[<matplotlib.lines.Line2D at 0x233fd4dbcd0>]"
      ]
     },
     "execution_count": 46,
     "metadata": {},
     "output_type": "execute_result"
    },
    {
     "data": {
      "image/png": "[encoded data removed]",
      "text/plain": [
       "<Figure size 640x480 with 1 Axes>"
      ]
     },
     "metadata": {},
     "output_type": "display_data"
    }
   ],
   "source": [
    "# create a line plot for the mapping function\n",
    "# plot input vs output\n",
    "pyplot.scatter(x, y)\n",
    "pyplot.plot(x_line, y_line, '--', color='red')"
   ]
  },
  {
   "cell_type": "markdown",
   "metadata": {},
   "source": [
    "# Adding polynomials in our Objective function"
   ]
  },
  {
   "cell_type": "code",
   "execution_count": 47,
   "metadata": {},
   "outputs": [],
   "source": [
    "# define the true objective function\n",
    "def objective(x, a, b, c):\n",
    "\treturn a * x + b * x**2 + c"
   ]
  },
  {
   "cell_type": "code",
   "execution_count": 48,
   "metadata": {},
   "outputs": [],
   "source": [
    "# curve fit\n",
    "popt, _ = curve_fit(objective, x, y)"
   ]
  },
  {
   "cell_type": "code",
   "execution_count": 49,
   "metadata": {},
   "outputs": [
    {
     "name": "stdout",
     "output_type": "stream",
     "text": [
      "y = 3.30000 * x + -0.50000 * x^2 + -1.00000\n"
     ]
    }
   ],
   "source": [
    "# summarize the parameter values\n",
    "a, b, c = popt\n",
    "print('y = %.5f * x + %.5f * x^2 + %.5f' % (a, b, c))"
   ]
  },
  {
   "cell_type": "code",
   "execution_count": 50,
   "metadata": {},
   "outputs": [
    {
     "data": {
      "image/png": "[encoded data removed]",
      "text/plain": [
       "<Figure size 640x480 with 1 Axes>"
      ]
     },
     "metadata": {},
     "output_type": "display_data"
    }
   ],
   "source": [
    "# plot input vs output\n",
    "pyplot.scatter(x, y)\n",
    "# define a sequence of inputs between the smallest and largest known inputs\n",
    "x_line = arange(min(x), max(x), 1)\n",
    "# calculate the output for the range\n",
    "y_line = objective(x_line, a, b, c)\n",
    "# create a line plot for the mapping function\n",
    "pyplot.plot(x_line, y_line, '--', color='red')\n",
    "pyplot.show()"
   ]
  },
  {
   "cell_type": "markdown",
   "metadata": {},
   "source": [
    "# Adding a fifth degree Polynomial"
   ]
  },
  {
   "cell_type": "code",
   "execution_count": 55,
   "metadata": {},
   "outputs": [],
   "source": [
    "# define the true objective function\n",
    "def objective(x, a, b, c, d, e, f):\n",
    "    return (a * x) + (b * x**2) + (c * x**3) + (d * x**4) + (e * x**5) + f"
   ]
  },
  {
   "cell_type": "code",
   "execution_count": 52,
   "metadata": {},
   "outputs": [
    {
     "ename": "TypeError",
     "evalue": "The number of func parameters=6 must not exceed the number of data points=4",
     "output_type": "error",
     "traceback": [
      "\u001b[1;31m---------------------------------------------------------------------------\u001b[0m",
      "\u001b[1;31mTypeError\u001b[0m                                 Traceback (most recent call last)",
      "Cell \u001b[1;32mIn[52], line 2\u001b[0m\n\u001b[0;32m      1\u001b[0m \u001b[38;5;66;03m# curve fit\u001b[39;00m\n\u001b[1;32m----> 2\u001b[0m popt, _ \u001b[38;5;241m=\u001b[39m curve_fit(objective, x, y)\n",
      "File \u001b[1;32mc:\\ProgramData\\anaconda3\\Lib\\site-packages\\scipy\\optimize\\_minpack_py.py:961\u001b[0m, in \u001b[0;36mcurve_fit\u001b[1;34m(f, xdata, ydata, p0, sigma, absolute_sigma, check_finite, bounds, method, jac, full_output, nan_policy, **kwargs)\u001b[0m\n\u001b[0;32m    958\u001b[0m \u001b[38;5;28;01mif\u001b[39;00m method \u001b[38;5;241m==\u001b[39m \u001b[38;5;124m'\u001b[39m\u001b[38;5;124mlm\u001b[39m\u001b[38;5;124m'\u001b[39m:\n\u001b[0;32m    959\u001b[0m     \u001b[38;5;66;03m# if ydata.size == 1, this might be used for broadcast.\u001b[39;00m\n\u001b[0;32m    960\u001b[0m     \u001b[38;5;28;01mif\u001b[39;00m ydata\u001b[38;5;241m.\u001b[39msize \u001b[38;5;241m!=\u001b[39m \u001b[38;5;241m1\u001b[39m \u001b[38;5;129;01mand\u001b[39;00m n \u001b[38;5;241m>\u001b[39m ydata\u001b[38;5;241m.\u001b[39msize:\n\u001b[1;32m--> 961\u001b[0m         \u001b[38;5;28;01mraise\u001b[39;00m \u001b[38;5;167;01mTypeError\u001b[39;00m(\u001b[38;5;124mf\u001b[39m\u001b[38;5;124m\"\u001b[39m\u001b[38;5;124mThe number of func parameters=\u001b[39m\u001b[38;5;132;01m{\u001b[39;00mn\u001b[38;5;132;01m}\u001b[39;00m\u001b[38;5;124m must not\u001b[39m\u001b[38;5;124m\"\u001b[39m\n\u001b[0;32m    962\u001b[0m                         \u001b[38;5;124mf\u001b[39m\u001b[38;5;124m\"\u001b[39m\u001b[38;5;124m exceed the number of data points=\u001b[39m\u001b[38;5;132;01m{\u001b[39;00mydata\u001b[38;5;241m.\u001b[39msize\u001b[38;5;132;01m}\u001b[39;00m\u001b[38;5;124m\"\u001b[39m)\n\u001b[0;32m    963\u001b[0m     res \u001b[38;5;241m=\u001b[39m leastsq(func, p0, Dfun\u001b[38;5;241m=\u001b[39mjac, full_output\u001b[38;5;241m=\u001b[39m\u001b[38;5;241m1\u001b[39m, \u001b[38;5;241m*\u001b[39m\u001b[38;5;241m*\u001b[39mkwargs)\n\u001b[0;32m    964\u001b[0m     popt, pcov, infodict, errmsg, ier \u001b[38;5;241m=\u001b[39m res\n",
      "\u001b[1;31mTypeError\u001b[0m: The number of func parameters=6 must not exceed the number of data points=4"
     ]
    }
   ],
   "source": [
    "# curve fit\n",
    "popt, _ = curve_fit(objective, x, y)"
   ]
  },
  {
   "cell_type": "code",
   "execution_count": 53,
   "metadata": {},
   "outputs": [
    {
     "ename": "ValueError",
     "evalue": "not enough values to unpack (expected 6, got 3)",
     "output_type": "error",
     "traceback": [
      "\u001b[1;31m---------------------------------------------------------------------------\u001b[0m",
      "\u001b[1;31mValueError\u001b[0m                                Traceback (most recent call last)",
      "Cell \u001b[1;32mIn[53], line 2\u001b[0m\n\u001b[0;32m      1\u001b[0m \u001b[38;5;66;03m# summarize the parameter values\u001b[39;00m\n\u001b[1;32m----> 2\u001b[0m a, b, c, d, e, f \u001b[38;5;241m=\u001b[39m popt\n",
      "\u001b[1;31mValueError\u001b[0m: not enough values to unpack (expected 6, got 3)"
     ]
    }
   ],
   "source": [
    "# summarize the parameter values\n",
    "a, b, c, d, e, f = popt"
   ]
  },
  {
   "cell_type": "code",
   "execution_count": 54,
   "metadata": {},
   "outputs": [
    {
     "ename": "NameError",
     "evalue": "name 'd' is not defined",
     "output_type": "error",
     "traceback": [
      "\u001b[1;31m---------------------------------------------------------------------------\u001b[0m",
      "\u001b[1;31mNameError\u001b[0m                                 Traceback (most recent call last)",
      "Cell \u001b[1;32mIn[54], line 6\u001b[0m\n\u001b[0;32m      4\u001b[0m x_line \u001b[38;5;241m=\u001b[39m arange(\u001b[38;5;28mmin\u001b[39m(x), \u001b[38;5;28mmax\u001b[39m(x), \u001b[38;5;241m1\u001b[39m)\n\u001b[0;32m      5\u001b[0m \u001b[38;5;66;03m# calculate the output for the range\u001b[39;00m\n\u001b[1;32m----> 6\u001b[0m y_line \u001b[38;5;241m=\u001b[39m objective(x_line, a, b, c, d, e, f)\n\u001b[0;32m      7\u001b[0m \u001b[38;5;66;03m# create a line plot for the mapping function\u001b[39;00m\n\u001b[0;32m      8\u001b[0m pyplot\u001b[38;5;241m.\u001b[39mplot(x_line, y_line, \u001b[38;5;124m'\u001b[39m\u001b[38;5;124m--\u001b[39m\u001b[38;5;124m'\u001b[39m, color\u001b[38;5;241m=\u001b[39m\u001b[38;5;124m'\u001b[39m\u001b[38;5;124mred\u001b[39m\u001b[38;5;124m'\u001b[39m)\n",
      "\u001b[1;31mNameError\u001b[0m: name 'd' is not defined"
     ]
    },
    {
     "data": {
      "image/png": "[encoded data removed]",
      "text/plain": [
       "<Figure size 640x480 with 1 Axes>"
      ]
     },
     "metadata": {},
     "output_type": "display_data"
    }
   ],
   "source": [
    "# plot input vs output\n",
    "pyplot.scatter(x, y)\n",
    "# define a sequence of inputs between the smallest and largest known inputs\n",
    "x_line = arange(min(x), max(x), 1)\n",
    "# calculate the output for the range\n",
    "y_line = objective(x_line, a, b, c, d, e, f)\n",
    "# create a line plot for the mapping function\n",
    "pyplot.plot(x_line, y_line, '--', color='red')\n",
    "pyplot.show()"
   ]
  },
  {
   "cell_type": "markdown",
   "metadata": {},
   "source": [
    "# Adding a Sin function"
   ]
  },
  {
   "cell_type": "code",
   "execution_count": 30,
   "metadata": {},
   "outputs": [],
   "source": [
    "from numpy import sin"
   ]
  },
  {
   "cell_type": "code",
   "execution_count": 29,
   "metadata": {},
   "outputs": [],
   "source": [
    "# define the true objective function\n",
    "def objective(x, a, b, c, d):\n",
    "\treturn a * sin(b - x) + c * x**2 + d"
   ]
  },
  {
   "cell_type": "code",
   "execution_count": 31,
   "metadata": {},
   "outputs": [],
   "source": [
    "# curve fit\n",
    "popt, _ = curve_fit(objective, x, y)"
   ]
  },
  {
   "cell_type": "code",
   "execution_count": 32,
   "metadata": {},
   "outputs": [
    {
     "name": "stdout",
     "output_type": "stream",
     "text": [
      "[8.83095063e-01 1.48622919e+00 2.05997112e-03 3.69046173e+01]\n"
     ]
    }
   ],
   "source": [
    "# summarize the parameter values\n",
    "a, b, c, d = popt\n",
    "print(popt)"
   ]
  },
  {
   "cell_type": "code",
   "execution_count": 33,
   "metadata": {},
   "outputs": [
    {
     "data": {
      "image/png": "[encoded data removed]",
      "text/plain": [
       "<Figure size 640x480 with 1 Axes>"
      ]
     },
     "metadata": {},
     "output_type": "display_data"
    }
   ],
   "source": [
    "# plot input vs output\n",
    "pyplot.scatter(x, y)\n",
    "# define a sequence of inputs between the smallest and largest known inputs\n",
    "x_line = arange(min(x), max(x), 1)\n",
    "# calculate the output for the range\n",
    "y_line = objective(x_line, a, b, c, d)\n",
    "# create a line plot for the mapping function\n",
    "pyplot.plot(x_line, y_line, '--', color='red')\n",
    "pyplot.show()"
   ]
  },
  {
   "cell_type": "code",
   "execution_count": null,
   "metadata": {},
   "outputs": [],
   "source": []
  },
  {
   "cell_type": "code",
   "execution_count": null,
   "metadata": {},
   "outputs": [],
   "source": []
  }
 ],
 "metadata": {
  "kernelspec": {
   "display_name": "base",
   "language": "python",
   "name": "python3"
  },
  "language_info": {
   "codemirror_mode": {
    "name": "ipython",
    "version": 3
   },
   "file_extension": ".py",
   "mimetype": "text/x-python",
   "name": "python",
   "nbconvert_exporter": "python",
   "pygments_lexer": "ipython3",
   "version": "3.11.7"
  }
 },
 "nbformat": 4,
 "nbformat_minor": 2
}

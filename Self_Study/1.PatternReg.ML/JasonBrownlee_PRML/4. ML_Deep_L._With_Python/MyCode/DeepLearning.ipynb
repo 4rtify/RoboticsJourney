{
 "cells": [
  {
   "cell_type": "markdown",
   "metadata": {},
   "source": [
    "# Chap 24"
   ]
  },
  {
   "cell_type": "code",
   "execution_count": 394,
   "metadata": {},
   "outputs": [],
   "source": [
    "import matplotlib.pyplot as plt\n",
    "import numpy as np\n",
    "import tensorflow as tf\n",
    "from tensorflow.keras.models import Sequential\n",
    "from tensorflow.keras.layers import Dense, Input, Flatten, Dropout, Conv2D, MaxPooling2D\n",
    "from tensorflow.keras.constraints import MaxNorm\n",
    "from tensorflow.keras.datasets.cifar10 import load_data\n",
    "(xtrain, ytrain), (xtest, ytest) = load_data()"
   ]
  },
  {
   "cell_type": "code",
   "execution_count": 395,
   "metadata": {},
   "outputs": [],
   "source": [
    "xtrain_scaled = xtrain / 255.0\n",
    "xtest_scaled = xtest / 255.0"
   ]
  },
  {
   "cell_type": "code",
   "execution_count": 346,
   "metadata": {},
   "outputs": [],
   "source": [
    "model = Sequential()\n",
    "model.add(Input(shape=(32,32,3)))\n",
    "model.add(Conv2D(filters=32, kernel_size=(3,3), padding='same', activation='relu', kernel_constraint=MaxNorm(3)))\n",
    "model.add(Dropout(0.3))\n",
    "model.add(Conv2D(32, (3,3), padding='same', activation='relu', kernel_constraint=MaxNorm(3)))\n",
    "model.add(MaxPooling2D())\n",
    "model.add(Flatten())\n",
    "model.add(Dense(units=512, activation='relu', kernel_constraint=MaxNorm(3)))\n",
    "model.add(Dropout(0.5))\n",
    "model.add(Dense(10, activation='sigmoid'))\n",
    "model.compile(optimizer='adam', loss=\"sparse_categorical_crossentropy\", metrics=['sparse_categorical_accuracy'])"
   ]
  },
  {
   "cell_type": "code",
   "execution_count": 409,
   "metadata": {},
   "outputs": [
    {
     "name": "stderr",
     "output_type": "stream",
     "text": [
      "c:\\Users\\James\\AppData\\Local\\Programs\\Python\\Python310\\lib\\site-packages\\keras\\src\\layers\\convolutional\\base_conv.py:107: UserWarning: Do not pass an `input_shape`/`input_dim` argument to a layer. When using Sequential models, prefer using an `Input(shape)` object as the first layer in the model instead.\n",
      "  super().__init__(activity_regularizer=activity_regularizer, **kwargs)\n"
     ]
    }
   ],
   "source": [
    "model = Sequential([\n",
    "    Conv2D(32, (3,3), input_shape=(32, 32, 3), padding=\"same\",activation=\"relu\", kernel_constraint=MaxNorm(3)),\n",
    "    Dropout(0.3),\n",
    "    Conv2D(32, (3,3), padding=\"same\",activation=\"relu\", kernel_constraint=MaxNorm(3)),\n",
    "    MaxPooling2D(),\n",
    "    Flatten(),\n",
    "    Dense(512, activation=\"relu\", kernel_constraint=MaxNorm(3)),\n",
    "    Dropout(0.5),\n",
    "    Dense(10, activation=\"sigmoid\")\n",
    "])\n",
    "model.compile(optimizer='adam', loss=\"sparse_categorical_crossentropy\", metrics=['sparse_categorical_accuracy'])"
   ]
  },
  {
   "cell_type": "code",
   "execution_count": 410,
   "metadata": {},
   "outputs": [
    {
     "name": "stdout",
     "output_type": "stream",
     "text": [
      "Epoch 1/2\n",
      "\u001b[1m1563/1563\u001b[0m \u001b[32m━━━━━━━━━━━━━━━━━━━━\u001b[0m\u001b[37m\u001b[0m \u001b[1m75s\u001b[0m 47ms/step - loss: 1.7261 - sparse_categorical_accuracy: 0.3740 - val_loss: 1.1908 - val_sparse_categorical_accuracy: 0.5869\n",
      "Epoch 2/2\n",
      "\u001b[1m1563/1563\u001b[0m \u001b[32m━━━━━━━━━━━━━━━━━━━━\u001b[0m\u001b[37m\u001b[0m \u001b[1m72s\u001b[0m 46ms/step - loss: 1.1696 - sparse_categorical_accuracy: 0.5858 - val_loss: 1.0296 - val_sparse_categorical_accuracy: 0.6475\n"
     ]
    },
    {
     "data": {
      "text/plain": [
       "<keras.src.callbacks.history.History at 0x1f431ae6740>"
      ]
     },
     "execution_count": 410,
     "metadata": {},
     "output_type": "execute_result"
    }
   ],
   "source": [
    "model.fit(xtrain_scaled, ytrain, epochs=2, batch_size=32, validation_data=(xtest_scaled, ytest))"
   ]
  },
  {
   "cell_type": "code",
   "execution_count": 411,
   "metadata": {},
   "outputs": [
    {
     "name": "stdout",
     "output_type": "stream",
     "text": [
      "\u001b[1m313/313\u001b[0m \u001b[32m━━━━━━━━━━━━━━━━━━━━\u001b[0m\u001b[37m\u001b[0m \u001b[1m2s\u001b[0m 5ms/step\n"
     ]
    },
    {
     "data": {
      "text/plain": [
       "array([[0.2839681 , 0.09865808, 0.31679356, ..., 0.12198933, 0.56770974,\n",
       "        0.16941334],\n",
       "       [0.96904135, 0.9955304 , 0.06157292, ..., 0.00166112, 0.99501115,\n",
       "        0.87949604],\n",
       "       [0.93173134, 0.70163715, 0.4369663 , ..., 0.0887422 , 0.96674734,\n",
       "        0.5219094 ],\n",
       "       ...,\n",
       "       [0.08531719, 0.00304683, 0.84783185, ..., 0.60071534, 0.10988171,\n",
       "        0.02208905],\n",
       "       [0.5021523 , 0.93462086, 0.39479566, ..., 0.07082275, 0.2071059 ,\n",
       "        0.14455743],\n",
       "       [0.10212728, 0.01866479, 0.47420484, ..., 0.9908538 , 0.02274389,\n",
       "        0.10538881]], dtype=float32)"
      ]
     },
     "execution_count": 411,
     "metadata": {},
     "output_type": "execute_result"
    }
   ],
   "source": [
    "ypred = model.predict(xtest_scaled)\n",
    "ypred"
   ]
  },
  {
   "cell_type": "code",
   "execution_count": 406,
   "metadata": {},
   "outputs": [
    {
     "data": {
      "text/html": [
       "<pre style=\"white-space:pre;overflow-x:auto;line-height:normal;font-family:Menlo,'DejaVu Sans Mono',consolas,'Courier New',monospace\"><span style=\"font-weight: bold\">Model: \"sequential_523\"</span>\n",
       "</pre>\n"
      ],
      "text/plain": [
       "\u001b[1mModel: \"sequential_523\"\u001b[0m\n"
      ]
     },
     "metadata": {},
     "output_type": "display_data"
    },
    {
     "data": {
      "text/html": [
       "<pre style=\"white-space:pre;overflow-x:auto;line-height:normal;font-family:Menlo,'DejaVu Sans Mono',consolas,'Courier New',monospace\">┏━━━━━━━━━━━━━━━━━━━━━━━━━━━━━━━━━┳━━━━━━━━━━━━━━━━━━━━━━━━┳━━━━━━━━━━━━━━━┓\n",
       "┃<span style=\"font-weight: bold\"> Layer (type)                    </span>┃<span style=\"font-weight: bold\"> Output Shape           </span>┃<span style=\"font-weight: bold\">       Param # </span>┃\n",
       "┡━━━━━━━━━━━━━━━━━━━━━━━━━━━━━━━━━╇━━━━━━━━━━━━━━━━━━━━━━━━╇━━━━━━━━━━━━━━━┩\n",
       "│ conv2d_28 (<span style=\"color: #0087ff; text-decoration-color: #0087ff\">Conv2D</span>)              │ (<span style=\"color: #00d7ff; text-decoration-color: #00d7ff\">None</span>, <span style=\"color: #00af00; text-decoration-color: #00af00\">32</span>, <span style=\"color: #00af00; text-decoration-color: #00af00\">32</span>, <span style=\"color: #00af00; text-decoration-color: #00af00\">2</span>)      │            <span style=\"color: #00af00; text-decoration-color: #00af00\">56</span> │\n",
       "├─────────────────────────────────┼────────────────────────┼───────────────┤\n",
       "│ dropout_23 (<span style=\"color: #0087ff; text-decoration-color: #0087ff\">Dropout</span>)            │ (<span style=\"color: #00d7ff; text-decoration-color: #00d7ff\">None</span>, <span style=\"color: #00af00; text-decoration-color: #00af00\">32</span>, <span style=\"color: #00af00; text-decoration-color: #00af00\">32</span>, <span style=\"color: #00af00; text-decoration-color: #00af00\">2</span>)      │             <span style=\"color: #00af00; text-decoration-color: #00af00\">0</span> │\n",
       "├─────────────────────────────────┼────────────────────────┼───────────────┤\n",
       "│ conv2d_29 (<span style=\"color: #0087ff; text-decoration-color: #0087ff\">Conv2D</span>)              │ (<span style=\"color: #00d7ff; text-decoration-color: #00d7ff\">None</span>, <span style=\"color: #00af00; text-decoration-color: #00af00\">32</span>, <span style=\"color: #00af00; text-decoration-color: #00af00\">32</span>, <span style=\"color: #00af00; text-decoration-color: #00af00\">32</span>)     │           <span style=\"color: #00af00; text-decoration-color: #00af00\">608</span> │\n",
       "├─────────────────────────────────┼────────────────────────┼───────────────┤\n",
       "│ max_pooling2d_16 (<span style=\"color: #0087ff; text-decoration-color: #0087ff\">MaxPooling2D</span>) │ (<span style=\"color: #00d7ff; text-decoration-color: #00d7ff\">None</span>, <span style=\"color: #00af00; text-decoration-color: #00af00\">16</span>, <span style=\"color: #00af00; text-decoration-color: #00af00\">16</span>, <span style=\"color: #00af00; text-decoration-color: #00af00\">32</span>)     │             <span style=\"color: #00af00; text-decoration-color: #00af00\">0</span> │\n",
       "├─────────────────────────────────┼────────────────────────┼───────────────┤\n",
       "│ flatten_15 (<span style=\"color: #0087ff; text-decoration-color: #0087ff\">Flatten</span>)            │ (<span style=\"color: #00d7ff; text-decoration-color: #00d7ff\">None</span>, <span style=\"color: #00af00; text-decoration-color: #00af00\">8192</span>)           │             <span style=\"color: #00af00; text-decoration-color: #00af00\">0</span> │\n",
       "├─────────────────────────────────┼────────────────────────┼───────────────┤\n",
       "│ dense_1356 (<span style=\"color: #0087ff; text-decoration-color: #0087ff\">Dense</span>)              │ (<span style=\"color: #00d7ff; text-decoration-color: #00d7ff\">None</span>, <span style=\"color: #00af00; text-decoration-color: #00af00\">512</span>)            │     <span style=\"color: #00af00; text-decoration-color: #00af00\">4,194,816</span> │\n",
       "├─────────────────────────────────┼────────────────────────┼───────────────┤\n",
       "│ dropout_24 (<span style=\"color: #0087ff; text-decoration-color: #0087ff\">Dropout</span>)            │ (<span style=\"color: #00d7ff; text-decoration-color: #00d7ff\">None</span>, <span style=\"color: #00af00; text-decoration-color: #00af00\">512</span>)            │             <span style=\"color: #00af00; text-decoration-color: #00af00\">0</span> │\n",
       "├─────────────────────────────────┼────────────────────────┼───────────────┤\n",
       "│ dense_1357 (<span style=\"color: #0087ff; text-decoration-color: #0087ff\">Dense</span>)              │ (<span style=\"color: #00d7ff; text-decoration-color: #00d7ff\">None</span>, <span style=\"color: #00af00; text-decoration-color: #00af00\">10</span>)             │         <span style=\"color: #00af00; text-decoration-color: #00af00\">5,130</span> │\n",
       "└─────────────────────────────────┴────────────────────────┴───────────────┘\n",
       "</pre>\n"
      ],
      "text/plain": [
       "┏━━━━━━━━━━━━━━━━━━━━━━━━━━━━━━━━━┳━━━━━━━━━━━━━━━━━━━━━━━━┳━━━━━━━━━━━━━━━┓\n",
       "┃\u001b[1m \u001b[0m\u001b[1mLayer (type)                   \u001b[0m\u001b[1m \u001b[0m┃\u001b[1m \u001b[0m\u001b[1mOutput Shape          \u001b[0m\u001b[1m \u001b[0m┃\u001b[1m \u001b[0m\u001b[1m      Param #\u001b[0m\u001b[1m \u001b[0m┃\n",
       "┡━━━━━━━━━━━━━━━━━━━━━━━━━━━━━━━━━╇━━━━━━━━━━━━━━━━━━━━━━━━╇━━━━━━━━━━━━━━━┩\n",
       "│ conv2d_28 (\u001b[38;5;33mConv2D\u001b[0m)              │ (\u001b[38;5;45mNone\u001b[0m, \u001b[38;5;34m32\u001b[0m, \u001b[38;5;34m32\u001b[0m, \u001b[38;5;34m2\u001b[0m)      │            \u001b[38;5;34m56\u001b[0m │\n",
       "├─────────────────────────────────┼────────────────────────┼───────────────┤\n",
       "│ dropout_23 (\u001b[38;5;33mDropout\u001b[0m)            │ (\u001b[38;5;45mNone\u001b[0m, \u001b[38;5;34m32\u001b[0m, \u001b[38;5;34m32\u001b[0m, \u001b[38;5;34m2\u001b[0m)      │             \u001b[38;5;34m0\u001b[0m │\n",
       "├─────────────────────────────────┼────────────────────────┼───────────────┤\n",
       "│ conv2d_29 (\u001b[38;5;33mConv2D\u001b[0m)              │ (\u001b[38;5;45mNone\u001b[0m, \u001b[38;5;34m32\u001b[0m, \u001b[38;5;34m32\u001b[0m, \u001b[38;5;34m32\u001b[0m)     │           \u001b[38;5;34m608\u001b[0m │\n",
       "├─────────────────────────────────┼────────────────────────┼───────────────┤\n",
       "│ max_pooling2d_16 (\u001b[38;5;33mMaxPooling2D\u001b[0m) │ (\u001b[38;5;45mNone\u001b[0m, \u001b[38;5;34m16\u001b[0m, \u001b[38;5;34m16\u001b[0m, \u001b[38;5;34m32\u001b[0m)     │             \u001b[38;5;34m0\u001b[0m │\n",
       "├─────────────────────────────────┼────────────────────────┼───────────────┤\n",
       "│ flatten_15 (\u001b[38;5;33mFlatten\u001b[0m)            │ (\u001b[38;5;45mNone\u001b[0m, \u001b[38;5;34m8192\u001b[0m)           │             \u001b[38;5;34m0\u001b[0m │\n",
       "├─────────────────────────────────┼────────────────────────┼───────────────┤\n",
       "│ dense_1356 (\u001b[38;5;33mDense\u001b[0m)              │ (\u001b[38;5;45mNone\u001b[0m, \u001b[38;5;34m512\u001b[0m)            │     \u001b[38;5;34m4,194,816\u001b[0m │\n",
       "├─────────────────────────────────┼────────────────────────┼───────────────┤\n",
       "│ dropout_24 (\u001b[38;5;33mDropout\u001b[0m)            │ (\u001b[38;5;45mNone\u001b[0m, \u001b[38;5;34m512\u001b[0m)            │             \u001b[38;5;34m0\u001b[0m │\n",
       "├─────────────────────────────────┼────────────────────────┼───────────────┤\n",
       "│ dense_1357 (\u001b[38;5;33mDense\u001b[0m)              │ (\u001b[38;5;45mNone\u001b[0m, \u001b[38;5;34m10\u001b[0m)             │         \u001b[38;5;34m5,130\u001b[0m │\n",
       "└─────────────────────────────────┴────────────────────────┴───────────────┘\n"
      ]
     },
     "metadata": {},
     "output_type": "display_data"
    },
    {
     "data": {
      "text/html": [
       "<pre style=\"white-space:pre;overflow-x:auto;line-height:normal;font-family:Menlo,'DejaVu Sans Mono',consolas,'Courier New',monospace\"><span style=\"font-weight: bold\"> Total params: </span><span style=\"color: #00af00; text-decoration-color: #00af00\">12,601,832</span> (48.07 MB)\n",
       "</pre>\n"
      ],
      "text/plain": [
       "\u001b[1m Total params: \u001b[0m\u001b[38;5;34m12,601,832\u001b[0m (48.07 MB)\n"
      ]
     },
     "metadata": {},
     "output_type": "display_data"
    },
    {
     "data": {
      "text/html": [
       "<pre style=\"white-space:pre;overflow-x:auto;line-height:normal;font-family:Menlo,'DejaVu Sans Mono',consolas,'Courier New',monospace\"><span style=\"font-weight: bold\"> Trainable params: </span><span style=\"color: #00af00; text-decoration-color: #00af00\">4,200,610</span> (16.02 MB)\n",
       "</pre>\n"
      ],
      "text/plain": [
       "\u001b[1m Trainable params: \u001b[0m\u001b[38;5;34m4,200,610\u001b[0m (16.02 MB)\n"
      ]
     },
     "metadata": {},
     "output_type": "display_data"
    },
    {
     "data": {
      "text/html": [
       "<pre style=\"white-space:pre;overflow-x:auto;line-height:normal;font-family:Menlo,'DejaVu Sans Mono',consolas,'Courier New',monospace\"><span style=\"font-weight: bold\"> Non-trainable params: </span><span style=\"color: #00af00; text-decoration-color: #00af00\">0</span> (0.00 B)\n",
       "</pre>\n"
      ],
      "text/plain": [
       "\u001b[1m Non-trainable params: \u001b[0m\u001b[38;5;34m0\u001b[0m (0.00 B)\n"
      ]
     },
     "metadata": {},
     "output_type": "display_data"
    },
    {
     "data": {
      "text/html": [
       "<pre style=\"white-space:pre;overflow-x:auto;line-height:normal;font-family:Menlo,'DejaVu Sans Mono',consolas,'Courier New',monospace\"><span style=\"font-weight: bold\"> Optimizer params: </span><span style=\"color: #00af00; text-decoration-color: #00af00\">8,401,222</span> (32.05 MB)\n",
       "</pre>\n"
      ],
      "text/plain": [
       "\u001b[1m Optimizer params: \u001b[0m\u001b[38;5;34m8,401,222\u001b[0m (32.05 MB)\n"
      ]
     },
     "metadata": {},
     "output_type": "display_data"
    }
   ],
   "source": [
    "model.summary()"
   ]
  },
  {
   "cell_type": "code",
   "execution_count": 420,
   "metadata": {},
   "outputs": [
    {
     "data": {
      "text/plain": [
       "<Variable path=sequential_524/conv2d_30/kernel, shape=(3, 3, 3, 32), dtype=float32, value=[[[[ 3.79345641e-02  4.38942611e-02  1.92398623e-01 -5.28120883e-02\n",
       "     4.41978090e-02 -1.37291595e-01  5.15112504e-02 -7.36849308e-02\n",
       "    -1.16169788e-01  5.76084368e-02  3.85641381e-02 -1.18184283e-01\n",
       "    -6.49130419e-02  4.67725890e-03  1.96328044e-01 -8.72290507e-02\n",
       "     1.83431059e-01 -3.65594886e-02  4.74791937e-02  6.51324866e-03\n",
       "     2.74006315e-02 -4.04011235e-02  1.09235458e-01 -2.16823909e-02\n",
       "    -2.35231951e-01 -2.53574066e-02  8.25585127e-02  5.50004989e-02\n",
       "    -1.02553397e-01 -4.22656015e-02 -1.11485645e-01 -2.99874283e-02]\n",
       "   [-1.26754060e-01 -1.63151070e-01  4.55562025e-02 -5.23770042e-02\n",
       "     6.84304312e-02 -2.79039377e-03  1.93609130e-02 -7.64601305e-02\n",
       "     4.56158742e-02 -3.53554338e-02  3.24524678e-02 -8.87586037e-04\n",
       "     5.19912280e-02  1.55116186e-01  2.61015266e-01 -2.88547575e-03\n",
       "    -1.41340852e-01 -1.22599073e-01 -1.02929518e-01  2.59072017e-02\n",
       "     1.30240684e-02 -9.05361325e-02  5.92208169e-02 -1.05186231e-01\n",
       "    -1.43223822e-01 -8.90668854e-02 -1.34006618e-02  7.49416575e-02\n",
       "    -1.38045743e-01 -2.63388045e-02  1.03420228e-01 -7.91754052e-02]\n",
       "   [ 6.04784377e-02 -1.46994844e-01 -4.05600481e-02  4.25243266e-02\n",
       "     2.48862095e-02 -1.39085263e-01 -1.45826623e-01 -7.83611983e-02\n",
       "    -1.91580970e-04 -1.26833469e-01  1.84620135e-02 -8.79758447e-02\n",
       "    -1.13693491e-01  1.28129944e-01  2.62128323e-01 -1.09538296e-02\n",
       "     3.09311729e-02 -7.59494677e-02  1.32096976e-01  9.76173878e-02\n",
       "     2.20880762e-01  5.95428683e-02 -7.13897422e-02 -1.95546336e-02\n",
       "    -8.28629509e-02 -8.39935914e-02  5.05250059e-02  6.49596378e-02\n",
       "    -6.87652901e-02 -6.03336990e-02  8.77047777e-02  1.44495994e-01]]\n",
       "\n",
       "  [[-1.44425958e-01  9.04542059e-02  1.18548274e-01 -8.17921758e-02\n",
       "     8.80153254e-02 -5.50109744e-02 -1.28308788e-01  3.64870317e-02\n",
       "     1.28532737e-01 -5.83282150e-02 -7.70170316e-02  7.75312409e-02\n",
       "    -6.40403777e-02  7.85624981e-02  4.19378169e-02 -3.27815749e-02\n",
       "     1.01827830e-01  2.54117269e-02  3.07839662e-02 -3.58007550e-02\n",
       "     3.39492112e-02 -1.20157627e-02 -1.31258108e-02  9.49293524e-02\n",
       "    -2.13125154e-01  6.96413815e-02  1.95924699e-01  4.57657799e-02\n",
       "    -1.55730560e-01 -9.71810743e-02  9.30184200e-02  1.09197676e-01]\n",
       "   [-8.36698562e-02  7.20891804e-02 -9.50435326e-02 -3.52237634e-02\n",
       "    -9.06106904e-02 -1.76904589e-01  6.67985082e-02  6.51012510e-02\n",
       "     7.71048367e-02  9.54024047e-02 -1.04545631e-01  5.90994349e-03\n",
       "     5.87063059e-02  1.76801935e-01  2.41864081e-02 -1.49908345e-02\n",
       "    -8.71938393e-02 -1.10240087e-01 -1.24524377e-01 -1.36826828e-01\n",
       "    -8.01319852e-02  1.88081577e-01  2.06631303e-01 -1.50596857e-01\n",
       "     7.72500271e-03  6.98572621e-02 -6.10290281e-02  8.52637812e-02\n",
       "    -1.29355803e-01  1.01366751e-01  1.11171126e-01 -1.23934738e-01]\n",
       "   [ 5.05216187e-03 -8.29825774e-02 -1.07029282e-01 -1.26629993e-01\n",
       "    -1.52526021e-01 -7.83176422e-02  2.75718533e-02 -1.96958438e-01\n",
       "    -5.20294309e-02  7.75935352e-02  1.18813567e-01 -5.77232987e-02\n",
       "    -1.73217773e-01  8.89250189e-02 -6.25858977e-02 -1.11678526e-01\n",
       "     7.41898194e-02 -5.22394618e-03 -6.89476356e-02 -6.85900524e-02\n",
       "     1.81205675e-01 -6.80154338e-02  5.69778979e-02 -1.75596029e-01\n",
       "    -1.18783131e-01  4.52277549e-02  1.64896652e-01 -6.18794560e-02\n",
       "     9.62916762e-02 -1.24164224e-01  4.18131165e-02  1.33393928e-01]]\n",
       "\n",
       "  [[-1.00002430e-01  1.56852022e-01  4.10472341e-02  5.82631528e-02\n",
       "     7.43137440e-03  2.31563468e-02 -1.09900236e-01  1.50239930e-01\n",
       "    -1.12258375e-01 -1.02406964e-01  7.02852905e-02  1.34053407e-02\n",
       "     1.66941777e-01  5.96415102e-02 -1.10283643e-01  1.24689676e-01\n",
       "     9.84202921e-02 -1.43934235e-01 -1.50945887e-01  4.17298228e-02\n",
       "     8.12423229e-02 -2.80428082e-02  2.29045562e-02  8.97807330e-02\n",
       "    -7.33168274e-02  7.12071508e-02  9.71334204e-02 -5.95193589e-04\n",
       "     4.93168980e-02  9.94379744e-02 -1.05505057e-01  1.32330703e-02]\n",
       "   [ 5.60037307e-02  1.17004432e-01 -7.38621056e-02 -1.17760489e-03\n",
       "     1.78876415e-01 -9.43603739e-02 -1.74591765e-01  5.18423989e-02\n",
       "     7.05398843e-02 -5.79593405e-02 -1.33028045e-01 -1.00784443e-01\n",
       "    -9.13699195e-02  6.91608861e-02 -5.55266142e-02  4.75499481e-02\n",
       "    -1.34976849e-01 -8.25458094e-02 -7.63696209e-02 -7.68448040e-02\n",
       "     1.83190964e-02  1.40696645e-01  6.89796507e-02  5.92596084e-03\n",
       "    -1.67057872e-01  5.36233485e-02  3.66644524e-02  9.58330855e-02\n",
       "     2.38595381e-02 -2.30035186e-02 -8.04987773e-02 -1.14551485e-01]\n",
       "   [-4.47906293e-02  1.04461320e-01 -2.45279204e-02 -8.31112042e-02\n",
       "     8.24464858e-02  1.16020930e-03 -6.75797984e-02 -1.35790497e-01\n",
       "    -3.73057984e-02 -1.10077851e-01 -1.12115191e-02 -2.93935277e-02\n",
       "    -1.49025798e-01  1.45526767e-01 -7.13529885e-02  2.81019844e-02\n",
       "    -8.85632932e-02 -8.67720321e-02 -8.39802399e-02 -1.53904200e-01\n",
       "    -1.04512371e-01 -6.19970495e-03  8.77380595e-02  1.39847279e-01\n",
       "    -4.05195057e-02 -7.38709494e-02  9.71817523e-02  1.03767954e-01\n",
       "    -3.41259725e-02  3.34356050e-03 -1.63048327e-01  1.66157633e-01]]]\n",
       "\n",
       "\n",
       " [[[-1.87396314e-02  1.70583222e-02  1.20421916e-01 -2.20669303e-02\n",
       "     2.06918091e-01 -2.17493288e-02 -1.16595149e-01 -3.78425680e-02\n",
       "    -1.71131983e-01 -1.41090766e-01 -1.02140859e-01  1.70875415e-01\n",
       "     1.08949048e-02 -3.66383232e-04  3.24509367e-02 -1.22013077e-01\n",
       "     1.60734355e-01 -1.68410654e-03  1.19322918e-01  1.71876252e-01\n",
       "     9.60271340e-03  3.93524244e-02 -4.17663045e-02 -5.05113564e-02\n",
       "     2.54949592e-02  1.14639565e-01 -1.51648670e-01  2.54684929e-02\n",
       "    -8.93091783e-02  8.86023641e-02  1.45291716e-01 -1.31067783e-01]\n",
       "   [ 9.34975371e-02 -2.07606316e-01 -2.24619359e-03  3.51086562e-03\n",
       "     1.29963756e-01  2.43515335e-02  1.51924347e-03 -1.25845656e-01\n",
       "    -1.76336095e-01 -4.67763469e-03 -4.71772961e-02  7.31151029e-02\n",
       "    -8.63547549e-02 -2.00549047e-02  1.37307188e-02 -8.49307328e-02\n",
       "    -2.30950695e-02 -3.23202019e-03  1.58844948e-01 -1.02032050e-02\n",
       "    -1.69245992e-02 -8.09856728e-02 -1.10770762e-01  8.58189389e-02\n",
       "     5.30259088e-02  1.66280810e-02 -8.18843767e-03  3.65968570e-02\n",
       "    -1.73232891e-02 -3.59935537e-02 -9.39614475e-02  6.41283169e-02]\n",
       "   [ 5.40293902e-02 -5.29386103e-02  1.96761057e-01 -1.25172779e-01\n",
       "     1.28826320e-01 -1.20786600e-01  6.32092133e-02 -1.60234317e-01\n",
       "    -2.14339510e-01  1.00824587e-01 -7.63783827e-02  9.01606902e-02\n",
       "    -6.59514815e-02 -7.73832351e-02 -7.55213499e-02 -5.83722144e-02\n",
       "    -1.69346616e-01 -3.48368920e-02  8.32782388e-02  1.37447700e-01\n",
       "     8.80730450e-02 -1.37009725e-01 -9.95720699e-02 -2.33223625e-02\n",
       "    -2.01697368e-02 -1.27455562e-01 -1.30908474e-01 -2.75559854e-02\n",
       "    -8.21265578e-02 -1.27955124e-01 -8.60904437e-03 -1.19447961e-01]]\n",
       "\n",
       "  [[ 1.09412000e-01  4.72700261e-02  5.90711720e-02 -3.68300527e-02\n",
       "    -4.29747999e-02 -9.66809988e-02  1.40729630e-02  1.16414934e-01\n",
       "     9.79896784e-02  1.47642702e-01  2.40085740e-02  4.67546768e-02\n",
       "     6.00378290e-02 -1.79164410e-01 -4.62479144e-02  6.75302669e-02\n",
       "     2.00045928e-01  5.50119393e-02 -1.03689842e-01 -1.18858643e-01\n",
       "     1.68860219e-02 -1.21850200e-01  4.13542539e-02  5.70783466e-02\n",
       "    -1.58371255e-01  2.05563933e-01 -1.49404243e-01  7.91304708e-02\n",
       "    -1.43308714e-01 -1.45097479e-01 -1.22723304e-01 -8.63528985e-04]\n",
       "   [-1.01540975e-01 -1.71254590e-01 -1.34547856e-02  9.39748660e-02\n",
       "    -1.75663725e-01 -4.72473586e-03 -1.48731977e-01 -8.46420228e-02\n",
       "     1.52936667e-01  1.99052066e-01 -2.11210921e-02  9.27568879e-03\n",
       "    -7.86058754e-02  2.68798415e-03 -3.84209007e-02 -1.63653716e-02\n",
       "     5.32649606e-02  1.36175588e-01 -9.19475928e-02 -6.22833334e-02\n",
       "    -1.40051812e-01  7.40603209e-02 -9.10739675e-02  3.01735085e-02\n",
       "    -7.06098005e-02  1.25245349e-02 -1.08265400e-01  1.19033540e-02\n",
       "     3.47127542e-02 -7.76492804e-02 -1.77920803e-01  1.17453136e-01]\n",
       "   [ 1.64050221e-01  3.76570970e-02  1.36264727e-01 -6.53534010e-02\n",
       "    -1.58466473e-01 -2.08784029e-01 -1.24316499e-01 -4.99693342e-02\n",
       "     1.55185193e-01  1.61460459e-01  1.34398922e-01 -4.11303826e-02\n",
       "    -5.74190989e-02 -4.21960391e-02 -6.04874566e-02  2.29061786e-02\n",
       "    -9.90636051e-02  2.00688645e-01 -7.98302665e-02 -8.41021836e-02\n",
       "    -7.29850158e-02 -3.41721065e-02 -9.36075598e-02 -1.47234306e-01\n",
       "     1.27303377e-01  1.69847518e-01  5.90011152e-03  1.52510302e-02\n",
       "    -1.08205564e-01 -6.78834319e-02 -1.81334510e-01  4.67426563e-03]]\n",
       "\n",
       "  [[-5.19212671e-02  1.70630246e-01 -5.14769033e-02 -8.74065049e-03\n",
       "    -7.77791515e-02 -2.07494453e-01 -4.75511514e-02  1.54042378e-01\n",
       "     1.23564184e-01  3.12359035e-02  4.36685467e-03 -1.10190973e-01\n",
       "     5.32530528e-03 -1.23303816e-01 -5.85893914e-02  9.41753313e-02\n",
       "    -2.77250563e-03 -3.75466198e-02  2.02480983e-02 -9.16533321e-02\n",
       "     2.50083704e-05 -3.35645750e-02 -1.25656826e-02  7.63739794e-02\n",
       "    -1.45394996e-01 -1.21312879e-01 -1.31271675e-01  3.28918062e-02\n",
       "    -6.55550733e-02 -1.16088218e-03  5.62646091e-02  5.76164685e-02]\n",
       "   [-1.48407090e-03 -3.14759761e-02  8.56100395e-03 -1.50940076e-01\n",
       "    -1.30501077e-01 -1.04486048e-01 -1.17048681e-01  1.80110335e-01\n",
       "     1.00233138e-01  2.96740122e-02 -1.28061384e-01 -4.16030996e-02\n",
       "    -3.79837006e-02 -8.19833651e-02 -2.44929329e-01 -8.89443047e-03\n",
       "    -1.10114790e-01  7.81970695e-02  5.17578200e-02 -5.41908182e-02\n",
       "    -6.83653951e-02  1.55428216e-01  1.87883116e-02 -6.66414350e-02\n",
       "     1.24136634e-01 -6.99868277e-02 -7.48315305e-02 -1.82499569e-02\n",
       "     5.91799468e-02  5.81470616e-02  2.93987617e-02 -6.55301884e-02]\n",
       "   [-8.11193734e-02  8.95643011e-02  4.28032540e-02 -1.26724824e-01\n",
       "     4.07809727e-02 -1.72353357e-01 -1.52866453e-01  3.71523900e-03\n",
       "    -5.89869358e-02 -1.31581232e-01  1.36363387e-01 -3.23270299e-02\n",
       "    -1.62765518e-01 -4.25402708e-02 -1.64644554e-01 -1.16541788e-01\n",
       "    -1.22283278e-02  4.56947535e-02  1.34631321e-01 -1.05179712e-01\n",
       "    -9.95312631e-02 -3.88318561e-02 -1.12107672e-01 -1.00239441e-01\n",
       "     6.07890524e-02 -2.02657446e-01 -1.29224882e-01 -9.42923427e-02\n",
       "    -5.53327203e-02  5.77384867e-02 -1.65721685e-01  1.76232785e-01]]]\n",
       "\n",
       "\n",
       " [[[ 7.92627111e-02 -9.43835452e-02 -5.21991961e-02  4.92471131e-03\n",
       "    -3.23696062e-02  1.46114618e-01 -1.36824055e-02 -1.29966289e-01\n",
       "    -1.29674375e-01 -8.88171718e-02 -8.89094248e-02  1.41565755e-01\n",
       "     1.43478867e-02  7.72469118e-02 -2.98660714e-02  8.65352750e-02\n",
       "    -1.35833606e-01 -9.75999013e-02  1.09999910e-01  8.12073573e-02\n",
       "    -4.89388742e-02 -2.34391615e-02 -1.63621306e-01  1.70761973e-01\n",
       "    -7.91965201e-02  1.61757600e-02 -1.26786577e-02 -5.87722212e-02\n",
       "     2.00387567e-01  4.78895605e-02  1.32089943e-01 -5.59922680e-02]\n",
       "   [ 4.23690714e-02 -1.14070646e-01 -3.55169624e-02 -1.42843664e-01\n",
       "    -1.97263405e-04  5.76636530e-02 -1.03074498e-01  2.51397435e-02\n",
       "    -6.40017912e-02  9.74042043e-02 -6.99679833e-03  1.53366268e-01\n",
       "     1.42103478e-01 -1.54494643e-01  1.56765535e-01 -8.31924453e-02\n",
       "    -2.44913949e-03  3.50242853e-02  4.49343808e-02  1.60476789e-01\n",
       "     2.80024558e-02 -1.30727023e-01  4.56663519e-02  2.89960802e-02\n",
       "    -1.53061748e-01 -7.56964982e-02  9.78419706e-02 -1.17991365e-01\n",
       "     6.25850782e-02  1.09569736e-01  1.27819732e-01 -5.41698933e-02]\n",
       "   [ 1.51715174e-01  2.41767447e-02  1.67061776e-01 -1.37869745e-01\n",
       "     1.15978137e-01  2.00306788e-01  7.51772225e-02  8.09531212e-02\n",
       "    -7.72937611e-02 -9.35163870e-02  1.65888906e-01  5.90133406e-02\n",
       "    -7.62346014e-02 -1.57075956e-01 -6.99791312e-02 -1.54680520e-01\n",
       "    -1.67758793e-01 -8.70155916e-02 -9.69108045e-02  6.30918443e-02\n",
       "     1.44239292e-01 -4.72022593e-02 -6.47338033e-02  2.84058191e-02\n",
       "    -1.04603089e-01  7.71155506e-02 -5.04966341e-02  2.74233874e-02\n",
       "    -6.32883087e-02 -1.29542239e-02  9.56419930e-02  4.84163463e-02]]\n",
       "\n",
       "  [[-1.10494129e-01  7.98558816e-02 -1.19223617e-01 -9.54495892e-02\n",
       "    -4.87297736e-02  1.86235517e-01 -8.27778131e-02  1.32050812e-01\n",
       "     3.59397568e-02  9.19748545e-02  6.65058345e-02  7.15841204e-02\n",
       "     1.68385521e-01 -9.22446325e-02 -6.34633452e-02  1.15541026e-01\n",
       "     7.72152171e-02  1.13794632e-01 -1.46578506e-01 -9.62566435e-02\n",
       "     9.68998969e-02  4.61244807e-02  1.90269537e-02  1.35432333e-01\n",
       "     5.82755059e-02  1.42632667e-02 -4.53924201e-02 -4.47612070e-02\n",
       "     1.19456530e-01 -1.75341129e-01 -5.00516333e-02  4.50707739e-03]\n",
       "   [ 1.03255920e-01 -1.55565441e-01  2.43730657e-03 -1.07474454e-01\n",
       "    -1.36185348e-01 -4.23321389e-02 -8.72501731e-02 -3.63894664e-02\n",
       "    -1.86891239e-02  7.54044876e-02  5.34531921e-02  1.10012390e-01\n",
       "    -7.48882443e-02 -2.55942419e-02 -1.27736241e-01  1.00606434e-01\n",
       "    -7.77613670e-02  7.80631751e-02 -1.30249009e-01  3.20882127e-02\n",
       "    -1.60513684e-01  9.31995958e-02 -1.41682997e-02  1.18179142e-01\n",
       "     1.41374490e-04  7.90731460e-02  3.98152731e-02  6.48344541e-03\n",
       "     9.23710242e-02 -1.19812921e-01  5.70944287e-02 -5.79721257e-02]\n",
       "   [ 1.09102048e-01  4.97372299e-02 -1.31753966e-01 -7.20108906e-03\n",
       "    -7.99663737e-02  1.63767599e-02 -1.07185334e-01 -1.01865176e-02\n",
       "    -9.40743648e-03  1.39183164e-01  1.22082822e-01 -1.44654229e-01\n",
       "     1.18833147e-02 -1.04870230e-01  5.24741784e-02  4.26626951e-02\n",
       "     6.94577768e-02  1.66034356e-01 -1.68446988e-01 -2.80430801e-02\n",
       "    -1.23775423e-01  5.09235859e-02  1.27671495e-01  2.70634741e-02\n",
       "     7.76917934e-02  1.58735350e-01  1.04166947e-01 -3.39068435e-02\n",
       "     1.50119692e-01  3.20403539e-02  7.87624419e-02 -1.00777522e-02]]\n",
       "\n",
       "  [[-1.60474673e-01  9.51427072e-02 -7.46650696e-02  9.68977511e-02\n",
       "    -7.56655261e-02 -8.14939290e-02 -8.40827078e-02  5.76720275e-02\n",
       "    -9.70287435e-03 -1.57116190e-01 -1.13240741e-02 -1.34885997e-01\n",
       "     1.72175229e-01  3.72027047e-02 -1.63711123e-02  1.30228564e-01\n",
       "     4.35299426e-02  9.73594636e-02  1.61474377e-01  5.70179485e-02\n",
       "     3.81784961e-02 -6.42376603e-04 -1.01033198e-02 -1.54598832e-01\n",
       "    -1.26623988e-01 -1.83549836e-01 -2.20176652e-02 -8.92852172e-02\n",
       "    -2.87912954e-02  1.37791308e-02 -6.63056877e-03  1.04288682e-01]\n",
       "   [-1.18073456e-01 -1.01278342e-01 -1.51245579e-01 -5.49859032e-02\n",
       "     2.70326491e-02  1.18833601e-01  1.33222751e-02 -4.34180838e-04\n",
       "     1.56107947e-01 -4.29982804e-02 -5.12819784e-03  7.06748068e-02\n",
       "    -8.80440846e-02  9.90781114e-02 -5.50323538e-03 -6.02198429e-02\n",
       "    -1.73305973e-01  2.79769059e-02  6.87417239e-02  1.27130419e-01\n",
       "    -1.31377533e-01  1.26752242e-01 -7.31899217e-02 -9.25093517e-02\n",
       "     2.51707677e-02 -1.70893341e-01  5.32170273e-02 -1.67763922e-02\n",
       "     1.89873084e-01 -1.45279482e-01  6.97969124e-02 -1.44726917e-01]\n",
       "   [-9.64057446e-03  1.24203399e-01 -1.45776451e-01  3.82684506e-02\n",
       "     4.64376807e-02 -8.80528241e-02 -3.58190536e-02  1.72055870e-01\n",
       "     8.47743899e-02 -6.46808147e-02 -1.83701441e-02 -1.63978189e-01\n",
       "    -4.19582501e-02 -4.29389300e-04 -5.67353629e-02 -2.25658691e-03\n",
       "    -7.55524784e-02 -5.06687239e-02 -5.73775060e-02  1.16761155e-01\n",
       "    -4.97264974e-02 -9.84237567e-02 -5.03982566e-02 -4.80619669e-02\n",
       "    -1.20974965e-02 -1.09920062e-01 -5.82932197e-02  7.59438351e-02\n",
       "     1.40575722e-01 -8.02682862e-02 -7.86962453e-04  1.04107052e-01]]]]>"
      ]
     },
     "execution_count": 420,
     "metadata": {},
     "output_type": "execute_result"
    }
   ],
   "source": [
    "model.layers[0].kernel"
   ]
  },
  {
   "cell_type": "code",
   "execution_count": null,
   "metadata": {},
   "outputs": [],
   "source": [
    "extractor = tf.keras.Model(inputs=model.inputs, outputs=[layer.output for layer in model.layers])\n",
    "extractor\n"
   ]
  },
  {
   "cell_type": "code",
   "execution_count": null,
   "metadata": {},
   "outputs": [],
   "source": [
    "features = extractor(np.expand_dims(xtrain_scaled[7], 0))\n",
    "features"
   ]
  },
  {
   "cell_type": "code",
   "execution_count": null,
   "metadata": {},
   "outputs": [],
   "source": [
    "# Show the 32 feature maps from the first layer\n",
    "l0_features = features[0].numpy()[0]\n",
    "fig, ax = plt.subplots(4, 8, sharex=True, sharey=True, figsize=(16,8))\n",
    "for i in range(0, 32):\n",
    "    row, col = i//8, i%8\n",
    "    ax[row][col].imshow(l0_features[..., i])\n",
    "plt.show()"
   ]
  },
  {
   "cell_type": "code",
   "execution_count": null,
   "metadata": {},
   "outputs": [],
   "source": []
  },
  {
   "cell_type": "code",
   "execution_count": null,
   "metadata": {},
   "outputs": [],
   "source": []
  },
  {
   "cell_type": "code",
   "execution_count": null,
   "metadata": {},
   "outputs": [],
   "source": []
  },
  {
   "cell_type": "code",
   "execution_count": null,
   "metadata": {},
   "outputs": [],
   "source": []
  },
  {
   "cell_type": "code",
   "execution_count": null,
   "metadata": {},
   "outputs": [],
   "source": []
  },
  {
   "cell_type": "code",
   "execution_count": null,
   "metadata": {},
   "outputs": [],
   "source": []
  },
  {
   "cell_type": "code",
   "execution_count": null,
   "metadata": {},
   "outputs": [],
   "source": []
  },
  {
   "cell_type": "code",
   "execution_count": null,
   "metadata": {},
   "outputs": [],
   "source": []
  }
 ],
 "metadata": {
  "kernelspec": {
   "display_name": "Python 3",
   "language": "python",
   "name": "python3"
  },
  "language_info": {
   "codemirror_mode": {
    "name": "ipython",
    "version": 3
   },
   "file_extension": ".py",
   "mimetype": "text/x-python",
   "name": "python",
   "nbconvert_exporter": "python",
   "pygments_lexer": "ipython3",
   "version": "3.10.6"
  }
 },
 "nbformat": 4,
 "nbformat_minor": 2
}

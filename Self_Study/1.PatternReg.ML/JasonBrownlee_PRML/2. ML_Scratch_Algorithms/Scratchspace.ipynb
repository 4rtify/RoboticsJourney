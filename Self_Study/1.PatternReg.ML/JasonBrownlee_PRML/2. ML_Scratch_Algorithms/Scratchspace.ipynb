{
 "cells": [
  {
   "cell_type": "code",
   "execution_count": 4,
   "metadata": {},
   "outputs": [
    {
     "name": "stdout",
     "output_type": "stream",
     "text": [
      "16\n"
     ]
    }
   ],
   "source": [
    "import PyPDF2\n",
    "\n",
    "pdf_path = 'C:\\\\Users\\\\James\\\\Desktop\\\\ResearchPapers\\\\mikolajczyk_schmid_TPAMI2005.pdf'\n",
    "with open(pdf_path, \"rb\") as f:\n",
    "    reader = PyPDF2.PdfReader(f)\n",
    "    print(len(reader.pages))  # Number of pages\n"
   ]
  },
  {
   "cell_type": "code",
   "execution_count": 5,
   "metadata": {},
   "outputs": [
    {
     "name": "stdout",
     "output_type": "stream",
     "text": [
      "dhillon_guan_kulis_KDD04_KernelKMeans_SpectralClustering_NormalisedCuts.pdf: 6 pages\n",
      "goecke_asthana_pettersson_petersson_IV2007.pdf: 6 pages\n",
      "chum_matas_CVPR2005_PROSAC.pdf: 7 pages\n",
      "asthana_goecke_quadrianto_gedeon_CVPR2009_Paper494.pdf: 8 pages\n",
      "Brown_cvpr05_multi_image_matching.pdf: 8 pages\n",
      "brown_lowe_iccv2003_recognising_panoramas.pdf: 8 pages\n",
      "donoser_bischof_CVPR2006_Efficient_MSER_Tracking.pdf: 8 pages\n",
      "Ho_Goecke_CVPR2008_OpticalFlow.pdf: 8 pages\n",
      "szeliski_shum_siggraph97.pdf: 8 pages\n",
      "asthana_sanderson_gedeon_goecke_bmvc09_paper324.pdf: 10 pages\n",
      "CVF_Hayat_et_al_Joint_Registration_and_CVPR_2017.pdf: 10 pages\n",
      "CVF_Mustafa_et_al_Adversarial_Defense_by_Restricting_the_Hidden_Space_of_Deep_Neural_ICCV_2019_paper.pdf: 10 pages\n",
      "mikolajczyk_schmid_TPAMI2005.pdf: 16 pages\n",
      "comaniciu_meer_TPAMI2002_MeanShift.pdf: 17 pages\n",
      "shi_malik_TPAMI2000_NormalisedCut.pdf: 18 pages\n",
      "lowe_IJCV04_SIFT.pdf: 28 pages\n",
      "scharstein_szeliski_IJCV2001_ATaxonomyAndEvaluationOfDenseTwoFrameStereoCorrespondenceAlgorithms.pdf: 35 pages\n",
      "shakhnarovich_moghaddam_HandbookOfFaceRecognition2004.pdf: 35 pages\n",
      "burges_TutorialSVM_1998.pdf: 43 pages\n",
      "zhao_chellappa_phillips_rosenfeld_ACM2003_FaceRecognition.pdf: 61 pages\n",
      "mundy_zisserman_MITPress92_GeometricInvariance.pdf: 72 pages\n"
     ]
    }
   ],
   "source": [
    "import os\n",
    "import PyPDF2\n",
    "\n",
    "# Folder containing PDFs\n",
    "pdf_folder = r\"C:\\Users\\James\\Desktop\\ResearchPapers\"\n",
    "\n",
    "# List to store (filename, page count)\n",
    "pdf_info = []\n",
    "\n",
    "# Loop through files in folder\n",
    "for file in os.listdir(pdf_folder):\n",
    "    if file.lower().endswith(\".pdf\"):\n",
    "        pdf_path = os.path.join(pdf_folder, file)\n",
    "        try:\n",
    "            with open(pdf_path, \"rb\") as f:\n",
    "                reader = PyPDF2.PdfReader(f)\n",
    "                num_pages = len(reader.pages)\n",
    "                pdf_info.append((file, num_pages))\n",
    "        except Exception as e:\n",
    "            print(f\"Error reading {file}: {e}\")\n",
    "\n",
    "# Sort by page count\n",
    "pdf_info.sort(key=lambda x: x[1])\n",
    "\n",
    "# Print results\n",
    "for file, pages in pdf_info:\n",
    "    print(f\"{file}: {pages} pages\")\n"
   ]
  },
  {
   "cell_type": "code",
   "execution_count": 8,
   "metadata": {},
   "outputs": [
    {
     "ename": "ModuleNotFoundError",
     "evalue": "No module named 'frontend'",
     "output_type": "error",
     "traceback": [
      "\u001b[1;31m---------------------------------------------------------------------------\u001b[0m",
      "\u001b[1;31mModuleNotFoundError\u001b[0m                       Traceback (most recent call last)",
      "Cell \u001b[1;32mIn[8], line 1\u001b[0m\n\u001b[1;32m----> 1\u001b[0m \u001b[38;5;28;01mimport\u001b[39;00m \u001b[38;5;21;01mfitz\u001b[39;00m  \u001b[38;5;66;03m# PyMuPDF\u001b[39;00m\n\u001b[0;32m      2\u001b[0m \u001b[38;5;28;01mimport\u001b[39;00m \u001b[38;5;21;01mpyttsx3\u001b[39;00m\n\u001b[0;32m      4\u001b[0m \u001b[38;5;66;03m# \"C:/Users/James/Desktop/ResearchPapers/sample.pdf\"\u001b[39;00m\n",
      "File \u001b[1;32mc:\\Users\\James\\AppData\\Local\\Programs\\Python\\Python310\\lib\\site-packages\\fitz\\__init__.py:1\u001b[0m\n\u001b[1;32m----> 1\u001b[0m \u001b[38;5;28;01mfrom\u001b[39;00m \u001b[38;5;21;01mfrontend\u001b[39;00m \u001b[38;5;28;01mimport\u001b[39;00m \u001b[38;5;241m*\u001b[39m\n\u001b[0;32m      2\u001b[0m \u001b[38;5;28;01mimport\u001b[39;00m \u001b[38;5;21;01mtools\u001b[39;00m\n\u001b[0;32m      3\u001b[0m \u001b[38;5;28;01mimport\u001b[39;00m \u001b[38;5;21;01mos\u001b[39;00m\u001b[38;5;21;01m.\u001b[39;00m\u001b[38;5;21;01mpath\u001b[39;00m \u001b[38;5;28;01mas\u001b[39;00m \u001b[38;5;21;01mop\u001b[39;00m\n",
      "\u001b[1;31mModuleNotFoundError\u001b[0m: No module named 'frontend'"
     ]
    }
   ],
   "source": [
    "import fitz  # PyMuPDF\n",
    "import pyttsx3\n",
    "\n",
    "# \"C:/Users/James/Desktop/ResearchPapers/sample.pdf\"\n",
    "pdf_path = 'C:\\\\Users\\\\James\\\\Desktop\\\\ResearchPapers\\\\mikolajczyk_schmid_TPAMI2005.pdf'\n",
    "\n",
    "# Extract text\n",
    "doc = fitz.open(pdf_path)\n",
    "text = \"\\n\".join([page.get_text() for page in doc])\n",
    "\n",
    "# Read aloud\n",
    "engine = pyttsx3.init()\n",
    "engine.say(text)\n",
    "engine.runAndWait()"
   ]
  }
 ],
 "metadata": {
  "kernelspec": {
   "display_name": "Python 3",
   "language": "python",
   "name": "python3"
  },
  "language_info": {
   "codemirror_mode": {
    "name": "ipython",
    "version": 3
   },
   "file_extension": ".py",
   "mimetype": "text/x-python",
   "name": "python",
   "nbconvert_exporter": "python",
   "pygments_lexer": "ipython3",
   "version": "3.10.6"
  }
 },
 "nbformat": 4,
 "nbformat_minor": 2
}

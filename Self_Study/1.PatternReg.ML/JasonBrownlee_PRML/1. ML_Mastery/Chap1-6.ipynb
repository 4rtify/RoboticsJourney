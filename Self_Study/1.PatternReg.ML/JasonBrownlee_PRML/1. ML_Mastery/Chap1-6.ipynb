{
 "cells": [
  {
   "cell_type": "markdown",
   "metadata": {},
   "source": [
    "# Chap 1 Introduction"
   ]
  },
  {
   "cell_type": "markdown",
   "metadata": {},
   "source": [
    "- The book focuses on a sub-field of machine learning called predictive modelling\n",
    "- **Predictive modelling** is the most useful in industry and the type of learning the **sklearn** library excels at\n",
    "- Unlike **statistics** which is used to understand the data; **predictive modelling** is laser focused on developing models that make the most accurate predictions, at the expense of explaining why predictions are made. \n",
    "- ***\"In other words, the focus is on developing models that can forecast outcomes as precisely as possible, without necessarily being able to explain the specific factors or relationships that led to those predictions. This contrasts with fields like statistics, where the goal is often to build models that help explain how and why certain variables influence outcomes. For example, in predictive modeling, a model might be excellent at predicting whether someone has cancer based on medical data, but it might not provide clear insights into which factors (e.g., lifestyle, genetic markers) are driving that prediction. The model could be very complex (like a neural network), making it harder to interpret or explain in simple terms.\"***\n",
    "- **Term** : Interpretability-accuracy trade-off\n",
    "- Broader fields of Machine Learning could use any data type or formats, however **predictive modelling** is primarily focussed on **tabular data** which is tables of number like in a spreadsheet."
   ]
  },
  {
   "cell_type": "markdown",
   "metadata": {},
   "source": [
    "- The book was written around three themes:\n",
    "1. Lessons : Learn how the **sub-tasks** of a machine learning project map onto Python and the best practice way of working through each task.\n",
    "2. Projects : Tie together the knowledge from the lessons above by working through case study predictive modelling problems.\n",
    "3. Recipes : Apply machine learning with a catalog of standalone **recipes** in Python that you can copy and paste as a starting point for new projects"
   ]
  },
  {
   "cell_type": "markdown",
   "metadata": {},
   "source": [
    "### Lessons"
   ]
  },
  {
   "cell_type": "markdown",
   "metadata": {},
   "source": [
    "- A **predictive modelling** project can be broken down into six top level parts. \n",
    "1. Define Problem : Okay so investigate and characterize the problem in order to better understand the goals of the project.\n",
    "2. Analyze Data : Use descriptive statistics and visualization to better understand the data you have available.\n",
    "3. Prepare Data : Use **Transforms** in order to better expose the structure of the prediction problem to modeling algorithms.\n",
    "4. Evaluate Algorithms : Design a **test harness** to evaluate a number of standard algorithms, on the data and **select the top few** to investigate further\n",
    "5. Improve Results : Use algorithm **tuning** and **ensemble methods** to get the most out of well-performing algorithms on your data.\n",
    "6. Present Results : Finalize the model, make predictions and present results."
   ]
  },
  {
   "cell_type": "markdown",
   "metadata": {},
   "source": [
    "# Chap 2 - Python Ecosystem for Machine Learning"
   ]
  },
  {
   "cell_type": "markdown",
   "metadata": {},
   "source": [
    "- Python may become the dominant platform for Machine Learning.\n",
    "- Mainly because it's a general purpose programming language, that you can use for R&D and in production\n",
    "- Topics covered below are: \n",
    "  - Python's rising use of Machine Learning\n",
    "  - SciPy and functionality it provides with NumPy, Matplotlib and Pandas\n",
    "  - SciKit-Learn that has the ML algorithms"
   ]
  },
  {
   "cell_type": "markdown",
   "metadata": {},
   "source": [
    "### SciPy\n",
    "- SciPy is an **ecosystem** of Python libraries for maths, science and engineering. It's an add-on to Python and contains modules like:\n",
    "  - NumPy : For arrays\n",
    "  - Matplotlib : Plot 2D charts \n",
    "  - Pandas : Tools and data structures"
   ]
  },
  {
   "cell_type": "markdown",
   "metadata": {},
   "source": [
    "### Scikit-Learn\n",
    "- A library that we can use to develop and learn machine learning in Python\n",
    "- It requires the SciPy ecosystem\n",
    "- The focus of the library is algorithms for classification, regression, clustering and more\n",
    "- Has tools for evaluating models, tuning parameters and pre-processing data"
   ]
  },
  {
   "cell_type": "markdown",
   "metadata": {},
   "source": [
    "### Imports"
   ]
  },
  {
   "cell_type": "code",
   "execution_count": 8,
   "metadata": {},
   "outputs": [],
   "source": [
    "import scipy as sp\n",
    "import numpy\n",
    "import matplotlib as plot\n",
    "from matplotlib import pyplot\n",
    "import pandas as pd\n",
    "from pandas import set_option\n",
    "import sklearn"
   ]
  },
  {
   "cell_type": "markdown",
   "metadata": {},
   "source": [
    "# Chap 5 - Descriptive Statistics"
   ]
  },
  {
   "cell_type": "markdown",
   "metadata": {},
   "source": [
    "- Peek at raw data\n",
    "- Review dimensions\n",
    "- Review attribute data types\n",
    "- Summarize distribution of instances\n",
    "- Summarize with descriptive statistics\n",
    "- Display correlations\n",
    "- Review the skew"
   ]
  },
  {
   "cell_type": "markdown",
   "metadata": {},
   "source": [
    "### Describe Method"
   ]
  },
  {
   "cell_type": "code",
   "execution_count": 11,
   "metadata": {},
   "outputs": [],
   "source": [
    "set_option('display.width',100)\n",
    "set_option('display.precision',3)\n",
    "# ames.describe()\n",
    "# indians.describe()\n",
    "# cancer.describe()\n"
   ]
  },
  {
   "cell_type": "markdown",
   "metadata": {},
   "source": [
    "### Correlations\n",
    "- Refers to the relationship between two variables and how they may or may not change together\n",
    "- Common method is actually the Pearson's Correlation Coefficient\n",
    "- The Pearson's Correlation Coefficient assumes a normal distribution of the attributes involved\n",
    "- -1 or 1 shows a full negative or positive correlation respectively\n",
    "- 0 shows no correlation at all\n",
    "- Linear and Logistic Regression can suffer from highly correlated attributes\n",
    "  "
   ]
  },
  {
   "cell_type": "markdown",
   "metadata": {},
   "source": [
    "### My Pandas Dataframe"
   ]
  },
  {
   "cell_type": "code",
   "execution_count": 29,
   "metadata": {},
   "outputs": [
    {
     "data": {
      "text/html": [
       "<div>\n",
       "<style scoped>\n",
       "    .dataframe tbody tr th:only-of-type {\n",
       "        vertical-align: middle;\n",
       "    }\n",
       "\n",
       "    .dataframe tbody tr th {\n",
       "        vertical-align: top;\n",
       "    }\n",
       "\n",
       "    .dataframe thead th {\n",
       "        text-align: right;\n",
       "    }\n",
       "</style>\n",
       "<table border=\"1\" class=\"dataframe\">\n",
       "  <thead>\n",
       "    <tr style=\"text-align: right;\">\n",
       "      <th></th>\n",
       "      <th>Height</th>\n",
       "      <th>Weight</th>\n",
       "      <th>Age</th>\n",
       "    </tr>\n",
       "  </thead>\n",
       "  <tbody>\n",
       "    <tr>\n",
       "      <th>0</th>\n",
       "      <td>180</td>\n",
       "      <td>69</td>\n",
       "      <td>38</td>\n",
       "    </tr>\n",
       "    <tr>\n",
       "      <th>1</th>\n",
       "      <td>170</td>\n",
       "      <td>84</td>\n",
       "      <td>44</td>\n",
       "    </tr>\n",
       "    <tr>\n",
       "      <th>2</th>\n",
       "      <td>165</td>\n",
       "      <td>68</td>\n",
       "      <td>35</td>\n",
       "    </tr>\n",
       "  </tbody>\n",
       "</table>\n",
       "</div>"
      ],
      "text/plain": [
       "   Height  Weight  Age\n",
       "0     180      69   38\n",
       "1     170      84   44\n",
       "2     165      68   35"
      ]
     },
     "execution_count": 29,
     "metadata": {},
     "output_type": "execute_result"
    }
   ],
   "source": [
    "df = pd.DataFrame([\n",
    "    [180,69,38],\n",
    "    [170,84,44],\n",
    "    [165,68,35]\n",
    "], columns=['Height', 'Weight', 'Age'])\n",
    "df"
   ]
  },
  {
   "cell_type": "code",
   "execution_count": 91,
   "metadata": {},
   "outputs": [],
   "source": [
    "df = pd.DataFrame([\n",
    "    [1,2,3],\n",
    "    [4,5,6],\n",
    "    [7,8,9]\n",
    "])"
   ]
  },
  {
   "cell_type": "code",
   "execution_count": 16,
   "metadata": {},
   "outputs": [],
   "source": [
    "df = pd.DataFrame([\n",
    "    [1, 1, 1],\n",
    "    [2, 2, 2],\n",
    "    [3, 3, 3]\n",
    "], columns=['A', 'B', 'C'])\n"
   ]
  },
  {
   "cell_type": "code",
   "execution_count": 30,
   "metadata": {},
   "outputs": [
    {
     "data": {
      "text/html": [
       "<div>\n",
       "<style scoped>\n",
       "    .dataframe tbody tr th:only-of-type {\n",
       "        vertical-align: middle;\n",
       "    }\n",
       "\n",
       "    .dataframe tbody tr th {\n",
       "        vertical-align: top;\n",
       "    }\n",
       "\n",
       "    .dataframe thead th {\n",
       "        text-align: right;\n",
       "    }\n",
       "</style>\n",
       "<table border=\"1\" class=\"dataframe\">\n",
       "  <thead>\n",
       "    <tr style=\"text-align: right;\">\n",
       "      <th></th>\n",
       "      <th>Height</th>\n",
       "      <th>Weight</th>\n",
       "      <th>Age</th>\n",
       "    </tr>\n",
       "  </thead>\n",
       "  <tbody>\n",
       "    <tr>\n",
       "      <th>Height</th>\n",
       "      <td>1.000</td>\n",
       "      <td>-0.134</td>\n",
       "      <td>0.143</td>\n",
       "    </tr>\n",
       "    <tr>\n",
       "      <th>Weight</th>\n",
       "      <td>-0.134</td>\n",
       "      <td>1.000</td>\n",
       "      <td>0.962</td>\n",
       "    </tr>\n",
       "    <tr>\n",
       "      <th>Age</th>\n",
       "      <td>0.143</td>\n",
       "      <td>0.962</td>\n",
       "      <td>1.000</td>\n",
       "    </tr>\n",
       "  </tbody>\n",
       "</table>\n",
       "</div>"
      ],
      "text/plain": [
       "        Height  Weight    Age\n",
       "Height   1.000  -0.134  0.143\n",
       "Weight  -0.134   1.000  0.962\n",
       "Age      0.143   0.962  1.000"
      ]
     },
     "execution_count": 30,
     "metadata": {},
     "output_type": "execute_result"
    }
   ],
   "source": [
    "df.describe()\n",
    "df.skew()\n",
    "df.corr(method='pearson')"
   ]
  },
  {
   "cell_type": "code",
   "execution_count": null,
   "metadata": {},
   "outputs": [],
   "source": [
    "import pandas as pd\n",
    "\n",
    "df1 = pd.DataFrame([\n",
    "    [1, 2, 3],\n",
    "    [2, 4, 6],\n",
    "    [3, 6, 9],\n",
    "    [4, 8, 12],\n",
    "    [5, 10, 15]\n",
    "])\n",
    "\n",
    "df2 = pd.DataFrame([\n",
    "    [1, 10],\n",
    "    [2, 9],\n",
    "    [3, 7],\n",
    "    [4, 5],\n",
    "    [5, 2]\n",
    "])\n",
    "df3 = pd.DataFrame([\n",
    "    [1, 2],\n",
    "    [3, 5],\n",
    "    [2, 4],\n",
    "    [6, 1],\n",
    "    [7, 8]\n",
    "])\n",
    "df4 = pd.DataFrame([\n",
    "    [1, 10],\n",
    "    [2, 20],\n",
    "    [3, 10],\n",
    "    [4, 40],\n",
    "    [5, 50]\n",
    "])\n",
    "import numpy as np\n",
    "\n",
    "np.random.seed(0)  # For reproducibility\n",
    "df5 = pd.DataFrame(np.random.rand(5, 3), columns=['X', 'Y', 'Z'])\n",
    "\n",
    "correlation_matrix1 = df1.corr()\n",
    "correlation_matrix2 = df2.corr()\n",
    "correlation_matrix3 = df3.corr()\n",
    "correlation_matrix4 = df4.corr()\n",
    "correlation_matrix5 = df5.corr()\n",
    "\n",
    "print(\"Correlation Matrix for df1:\")\n",
    "print(correlation_matrix1)\n",
    "print(\"\\nCorrelation Matrix for df2:\")\n",
    "print(correlation_matrix2)\n",
    "print(\"\\nCorrelation Matrix for df3:\")\n",
    "print(correlation_matrix3)\n",
    "print(\"\\nCorrelation Matrix for df4:\")\n",
    "print(correlation_matrix4)\n",
    "print(\"\\nCorrelation Matrix for df5:\")\n",
    "print(correlation_matrix5)\n"
   ]
  },
  {
   "cell_type": "code",
   "execution_count": 113,
   "metadata": {},
   "outputs": [
    {
     "data": {
      "text/plain": [
       "0    0.000\n",
       "1   -0.608\n",
       "dtype: float64"
      ]
     },
     "execution_count": 113,
     "metadata": {},
     "output_type": "execute_result"
    }
   ],
   "source": [
    "df2.skew()"
   ]
  },
  {
   "cell_type": "markdown",
   "metadata": {},
   "source": [
    "# Chap 6 - Visualization\n",
    "- Histograms\n",
    "- Density Plots\n",
    "- Box and Whisker Plots"
   ]
  },
  {
   "cell_type": "markdown",
   "metadata": {},
   "source": [
    "### Univariate Plots - Single variable"
   ]
  },
  {
   "cell_type": "code",
   "execution_count": 144,
   "metadata": {},
   "outputs": [
    {
     "data": {
      "image/png": "[encoded data removed]",
      "text/plain": [
       "<Figure size 640x480 with 1 Axes>"
      ]
     },
     "metadata": {},
     "output_type": "display_data"
    }
   ],
   "source": [
    "import matplotlib.pyplot as plt\n",
    " \n",
    "data = [32, 96, 45, 67, 76, 28, 79, 62, 43, 81, 70,\n",
    "        61, 95, 44, 60, 69, 71, 23, 69, 54, 76, 67,\n",
    "        82, 97, 26, 34, 18, 16, 59, 88, 29, 30, 66,\n",
    "        23, 65, 72, 20, 78, 49, 73, 62, 87, 37, 68,\n",
    "        81, 80, 77, 92, 81, 52, 43, 68, 71, 86]\n",
    " \n",
    "plt.hist(data)\n",
    "plt.show()"
   ]
  },
  {
   "cell_type": "markdown",
   "metadata": {},
   "source": [
    "### Multivariate Plots - Multiple variables"
   ]
  },
  {
   "cell_type": "markdown",
   "metadata": {},
   "source": [
    "### Correlation Matrix\n",
    "- Some algorithms like linear and logistic regression can have poor performance with highly correlated input variables."
   ]
  },
  {
   "cell_type": "code",
   "execution_count": null,
   "metadata": {},
   "outputs": [],
   "source": []
  }
 ],
 "metadata": {
  "kernelspec": {
   "display_name": "Python 3",
   "language": "python",
   "name": "python3"
  },
  "language_info": {
   "codemirror_mode": {
    "name": "ipython",
    "version": 3
   },
   "file_extension": ".py",
   "mimetype": "text/x-python",
   "name": "python",
   "nbconvert_exporter": "python",
   "pygments_lexer": "ipython3",
   "version": "3.10.6"
  }
 },
 "nbformat": 4,
 "nbformat_minor": 2
}

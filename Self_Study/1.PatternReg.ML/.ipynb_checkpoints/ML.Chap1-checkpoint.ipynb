{
 "cells": [
  {
   "cell_type": "code",
   "execution_count": 5,
   "id": "0bcaee1c-0631-413c-a454-1d430410dcb0",
   "metadata": {},
   "outputs": [
    {
     "ename": "SyntaxError",
     "evalue": "invalid syntax (728349862.py, line 1)",
     "output_type": "error",
     "traceback": [
      "\u001b[1;36m  Cell \u001b[1;32mIn[5], line 1\u001b[1;36m\u001b[0m\n\u001b[1;33m    jupyter kernelspec list\u001b[0m\n\u001b[1;37m            ^\u001b[0m\n\u001b[1;31mSyntaxError\u001b[0m\u001b[1;31m:\u001b[0m invalid syntax\n"
     ]
    }
   ],
   "source": []
  },
  {
   "cell_type": "markdown",
   "id": "292ed9f2-58fb-406d-badc-de7af84db2f0",
   "metadata": {},
   "source": [
    "## Meet the data"
   ]
  },
  {
   "cell_type": "code",
   "execution_count": 6,
   "id": "581bdd5f-2000-4d2c-ae0f-2140b35c61a5",
   "metadata": {},
   "outputs": [],
   "source": [
    "from sklearn.datasets import load_iris\n",
    "iris_dataset = load_iris()"
   ]
  },
  {
   "cell_type": "code",
   "execution_count": 7,
   "id": "37715184-e336-4a25-8bb1-28e76dc431ad",
   "metadata": {},
   "outputs": [
    {
     "name": "stdout",
     "output_type": "stream",
     "text": [
      "dict_keys(['data', 'target', 'frame', 'target_names', 'DESCR', 'feature_names', 'filename', 'data_module'])\n"
     ]
    }
   ],
   "source": [
    "print(iris_dataset.keys())"
   ]
  },
  {
   "cell_type": "code",
   "execution_count": 8,
   "id": "96ccc5f9-e47a-4652-97a5-7380677ba331",
   "metadata": {},
   "outputs": [
    {
     "name": "stdout",
     "output_type": "stream",
     "text": [
      "None\n"
     ]
    }
   ],
   "source": [
    "print(iris_dataset[\"frame\"])"
   ]
  },
  {
   "cell_type": "code",
   "execution_count": 9,
   "id": "81e2a163-35f5-43c4-915d-6d605af53783",
   "metadata": {},
   "outputs": [
    {
     "name": "stdout",
     "output_type": "stream",
     "text": [
      "['setosa' 'versicolor' 'virginica']\n"
     ]
    }
   ],
   "source": [
    "print(iris_dataset[\"target_names\"])"
   ]
  },
  {
   "cell_type": "code",
   "execution_count": 10,
   "id": "73dba221-ae8f-484c-8bf1-ced929b4c353",
   "metadata": {},
   "outputs": [
    {
     "name": "stdout",
     "output_type": "stream",
     "text": [
      "['sepal length (cm)', 'sepal width (cm)', 'petal length (cm)', 'petal width (cm)']\n"
     ]
    }
   ],
   "source": [
    "print(iris_dataset[\"feature_names\"])"
   ]
  },
  {
   "cell_type": "markdown",
   "id": "3aac6bb4-662a-4fea-be6c-a18051763652",
   "metadata": {},
   "source": [
    "## Data"
   ]
  },
  {
   "cell_type": "code",
   "execution_count": 11,
   "id": "6e905445-db93-4273-884e-bb9a59d4ed97",
   "metadata": {},
   "outputs": [
    {
     "name": "stdout",
     "output_type": "stream",
     "text": [
      "(150, 4)\n"
     ]
    }
   ],
   "source": [
    "print(iris_dataset['data'].shape)"
   ]
  },
  {
   "cell_type": "markdown",
   "id": "cd0cef63-ddb8-491a-9199-01538444705c",
   "metadata": {},
   "source": [
    "We see that the array contains measurements for 150 different flowers. Remember\r\n",
    "that the individual items are called samples in machine learning, and their properties\r\n",
    "are called features. The shape of the data array is the number of samples multiplied by\r\n",
    "the number of features. This is a convention in scikit-learn, and your data will\r\n",
    "always be assumed to be in this shape"
   ]
  },
  {
   "cell_type": "code",
   "execution_count": 12,
   "id": "1ecf989f-10ac-4dfa-b79e-6a54a9c8ee95",
   "metadata": {},
   "outputs": [
    {
     "name": "stdout",
     "output_type": "stream",
     "text": [
      "<class 'numpy.ndarray'>\n"
     ]
    }
   ],
   "source": [
    "print(type(iris_dataset[\"data\"]))"
   ]
  },
  {
   "cell_type": "code",
   "execution_count": 13,
   "id": "a2d41475-15b2-4b29-b59e-a62fadc9a8a0",
   "metadata": {},
   "outputs": [
    {
     "name": "stdout",
     "output_type": "stream",
     "text": [
      "[[5.1 3.5 1.4 0.2]\n",
      " [4.9 3.  1.4 0.2]\n",
      " [4.7 3.2 1.3 0.2]\n",
      " [4.6 3.1 1.5 0.2]\n",
      " [5.  3.6 1.4 0.2]]\n"
     ]
    }
   ],
   "source": [
    "print(iris_dataset[\"data\"][:5])"
   ]
  },
  {
   "cell_type": "markdown",
   "id": "7db71d92-18d4-4f44-a3f0-29bea3508c9e",
   "metadata": {},
   "source": [
    "## Target"
   ]
  },
  {
   "cell_type": "code",
   "execution_count": 14,
   "id": "6cc8b88d-e163-4a30-bc4d-060852d73839",
   "metadata": {},
   "outputs": [
    {
     "name": "stdout",
     "output_type": "stream",
     "text": [
      "(150,)\n"
     ]
    }
   ],
   "source": [
    "print(iris_dataset['target'].shape)"
   ]
  },
  {
   "cell_type": "code",
   "execution_count": 15,
   "id": "f5f937ab-0e03-4eb7-928d-eab16b013da5",
   "metadata": {},
   "outputs": [
    {
     "name": "stdout",
     "output_type": "stream",
     "text": [
      "<class 'numpy.ndarray'>\n"
     ]
    }
   ],
   "source": [
    "print(type(iris_dataset['target']))"
   ]
  },
  {
   "cell_type": "code",
   "execution_count": 16,
   "id": "5882c993-565f-416f-9a23-f548fa942a0b",
   "metadata": {},
   "outputs": [
    {
     "name": "stdout",
     "output_type": "stream",
     "text": [
      "[0 0 0 0 0]\n"
     ]
    }
   ],
   "source": [
    "print(iris_dataset[\"target\"][:5])"
   ]
  },
  {
   "cell_type": "code",
   "execution_count": 17,
   "id": "4a9ed273-6939-438f-918c-1bb323d281be",
   "metadata": {},
   "outputs": [
    {
     "name": "stdout",
     "output_type": "stream",
     "text": [
      "[0 0 0 0 0 0 0 0 0 0 0 0 0 0 0 0 0 0 0 0 0 0 0 0 0 0 0 0 0 0 0 0 0 0 0 0 0\n",
      " 0 0 0 0 0 0 0 0 0 0 0 0 0 1 1 1 1 1 1 1 1 1 1 1 1 1 1 1 1 1 1 1 1 1 1 1 1\n",
      " 1 1 1 1 1 1 1 1 1 1 1 1 1 1 1 1 1 1 1 1 1 1 1 1 1 1 2 2 2 2 2 2 2 2 2 2 2\n",
      " 2 2 2 2 2 2 2 2 2 2 2 2 2 2 2 2 2 2 2 2 2 2 2 2 2 2 2 2 2 2 2 2 2 2 2 2 2\n",
      " 2 2]\n"
     ]
    }
   ],
   "source": [
    "print(iris_dataset['target'])"
   ]
  },
  {
   "cell_type": "markdown",
   "id": "ba865fcd-3c48-46bc-9498-738e231cc21a",
   "metadata": {},
   "source": [
    "The meanings of the numbers are given by the iris['target_names'] array:\r\n",
    "0 means setosa, 1 means versicolor, and 2 means virginica."
   ]
  },
  {
   "cell_type": "code",
   "execution_count": 18,
   "id": "a435adcc-cffd-4b19-bafb-5b2b9a351594",
   "metadata": {},
   "outputs": [
    {
     "name": "stdout",
     "output_type": "stream",
     "text": [
      "['setosa' 'versicolor' 'virginica']\n"
     ]
    }
   ],
   "source": [
    "print(iris_dataset[\"target_names\"])"
   ]
  },
  {
   "cell_type": "markdown",
   "id": "76d7356f-845f-4bd9-80c4-f9f5020085e9",
   "metadata": {},
   "source": [
    "## Measuring Success: Training and Testing Data"
   ]
  },
  {
   "cell_type": "markdown",
   "id": "d911d9cb-7af1-4640-af72-c2279887fef3",
   "metadata": {},
   "source": [
    "train_test_split function. This function extracts 75% of the rows in the data as the\r\n",
    "training set, together with the corresponding labels for this data. The remaining 25%\r\n",
    "of the data, together with the remaining labels, is declared as the test set"
   ]
  },
  {
   "cell_type": "markdown",
   "id": "f30d2d89-a385-425a-a728-2055548d68a4",
   "metadata": {},
   "source": [
    "In scikit-learn, data is usually denoted with a capital X, while labels are denoted by\n",
    "a lowercase y. This is inspired by the standard formulation f(x)=y in mathematics,\n",
    "where x is the input to a function and y is the output. Following more conventions\n",
    "from mathematics, we use a capital X because the data is a two-dimensional array (a\n",
    "matrix) and a lowercase y because the target is a one-dimensional array (a vector)."
   ]
  },
  {
   "cell_type": "code",
   "execution_count": 19,
   "id": "f504a9a4-177b-4088-ad0d-8cb6a733de64",
   "metadata": {},
   "outputs": [],
   "source": [
    "from sklearn.model_selection import train_test_split"
   ]
  },
  {
   "cell_type": "code",
   "execution_count": 20,
   "id": "f20b09a7-d03d-4c53-a15f-2c1e3fbb8662",
   "metadata": {},
   "outputs": [
    {
     "data": {
      "text/plain": [
       "[array([[5.9, 3. , 4.2, 1.5],\n",
       "        [5.8, 2.6, 4. , 1.2],\n",
       "        [6.8, 3. , 5.5, 2.1],\n",
       "        [4.7, 3.2, 1.3, 0.2],\n",
       "        [6.9, 3.1, 5.1, 2.3],\n",
       "        [5. , 3.5, 1.6, 0.6],\n",
       "        [5.4, 3.7, 1.5, 0.2],\n",
       "        [5. , 2. , 3.5, 1. ],\n",
       "        [6.5, 3. , 5.5, 1.8],\n",
       "        [6.7, 3.3, 5.7, 2.5],\n",
       "        [6. , 2.2, 5. , 1.5],\n",
       "        [6.7, 2.5, 5.8, 1.8],\n",
       "        [5.6, 2.5, 3.9, 1.1],\n",
       "        [7.7, 3. , 6.1, 2.3],\n",
       "        [6.3, 3.3, 4.7, 1.6],\n",
       "        [5.5, 2.4, 3.8, 1.1],\n",
       "        [6.3, 2.7, 4.9, 1.8],\n",
       "        [6.3, 2.8, 5.1, 1.5],\n",
       "        [4.9, 2.5, 4.5, 1.7],\n",
       "        [6.3, 2.5, 5. , 1.9],\n",
       "        [7. , 3.2, 4.7, 1.4],\n",
       "        [6.5, 3. , 5.2, 2. ],\n",
       "        [6. , 3.4, 4.5, 1.6],\n",
       "        [4.8, 3.1, 1.6, 0.2],\n",
       "        [5.8, 2.7, 5.1, 1.9],\n",
       "        [5.6, 2.7, 4.2, 1.3],\n",
       "        [5.6, 2.9, 3.6, 1.3],\n",
       "        [5.5, 2.5, 4. , 1.3],\n",
       "        [6.1, 3. , 4.6, 1.4],\n",
       "        [7.2, 3.2, 6. , 1.8],\n",
       "        [5.3, 3.7, 1.5, 0.2],\n",
       "        [4.3, 3. , 1.1, 0.1],\n",
       "        [6.4, 2.7, 5.3, 1.9],\n",
       "        [5.7, 3. , 4.2, 1.2],\n",
       "        [5.4, 3.4, 1.7, 0.2],\n",
       "        [5.7, 4.4, 1.5, 0.4],\n",
       "        [6.9, 3.1, 4.9, 1.5],\n",
       "        [4.6, 3.1, 1.5, 0.2],\n",
       "        [5.9, 3. , 5.1, 1.8],\n",
       "        [5.1, 2.5, 3. , 1.1],\n",
       "        [4.6, 3.4, 1.4, 0.3],\n",
       "        [6.2, 2.2, 4.5, 1.5],\n",
       "        [7.2, 3.6, 6.1, 2.5],\n",
       "        [5.7, 2.9, 4.2, 1.3],\n",
       "        [4.8, 3. , 1.4, 0.1],\n",
       "        [7.1, 3. , 5.9, 2.1],\n",
       "        [6.9, 3.2, 5.7, 2.3],\n",
       "        [6.5, 3. , 5.8, 2.2],\n",
       "        [6.4, 2.8, 5.6, 2.1],\n",
       "        [5.1, 3.8, 1.6, 0.2],\n",
       "        [4.8, 3.4, 1.6, 0.2],\n",
       "        [6.5, 3.2, 5.1, 2. ],\n",
       "        [6.7, 3.3, 5.7, 2.1],\n",
       "        [4.5, 2.3, 1.3, 0.3],\n",
       "        [6.2, 3.4, 5.4, 2.3],\n",
       "        [4.9, 3. , 1.4, 0.2],\n",
       "        [5.7, 2.5, 5. , 2. ],\n",
       "        [6.9, 3.1, 5.4, 2.1],\n",
       "        [4.4, 3.2, 1.3, 0.2],\n",
       "        [5. , 3.6, 1.4, 0.2],\n",
       "        [7.2, 3. , 5.8, 1.6],\n",
       "        [5.1, 3.5, 1.4, 0.3],\n",
       "        [4.4, 3. , 1.3, 0.2],\n",
       "        [5.4, 3.9, 1.7, 0.4],\n",
       "        [5.5, 2.3, 4. , 1.3],\n",
       "        [6.8, 3.2, 5.9, 2.3],\n",
       "        [7.6, 3. , 6.6, 2.1],\n",
       "        [5.1, 3.5, 1.4, 0.2],\n",
       "        [4.9, 3.1, 1.5, 0.2],\n",
       "        [5.2, 3.4, 1.4, 0.2],\n",
       "        [5.7, 2.8, 4.5, 1.3],\n",
       "        [6.6, 3. , 4.4, 1.4],\n",
       "        [5. , 3.2, 1.2, 0.2],\n",
       "        [5.1, 3.3, 1.7, 0.5],\n",
       "        [6.4, 2.9, 4.3, 1.3],\n",
       "        [5.4, 3.4, 1.5, 0.4],\n",
       "        [7.7, 2.6, 6.9, 2.3],\n",
       "        [4.9, 2.4, 3.3, 1. ],\n",
       "        [7.9, 3.8, 6.4, 2. ],\n",
       "        [6.7, 3.1, 4.4, 1.4],\n",
       "        [5.2, 4.1, 1.5, 0.1],\n",
       "        [6. , 3. , 4.8, 1.8],\n",
       "        [5.8, 4. , 1.2, 0.2],\n",
       "        [7.7, 2.8, 6.7, 2. ],\n",
       "        [5.1, 3.8, 1.5, 0.3],\n",
       "        [4.7, 3.2, 1.6, 0.2],\n",
       "        [7.4, 2.8, 6.1, 1.9],\n",
       "        [5. , 3.3, 1.4, 0.2],\n",
       "        [6.3, 3.4, 5.6, 2.4],\n",
       "        [5.7, 2.8, 4.1, 1.3],\n",
       "        [5.8, 2.7, 3.9, 1.2],\n",
       "        [5.7, 2.6, 3.5, 1. ],\n",
       "        [6.4, 3.2, 5.3, 2.3],\n",
       "        [6.7, 3. , 5.2, 2.3],\n",
       "        [6.3, 2.5, 4.9, 1.5],\n",
       "        [6.7, 3. , 5. , 1.7],\n",
       "        [5. , 3. , 1.6, 0.2],\n",
       "        [5.5, 2.4, 3.7, 1. ],\n",
       "        [6.7, 3.1, 5.6, 2.4],\n",
       "        [5.8, 2.7, 5.1, 1.9],\n",
       "        [5.1, 3.4, 1.5, 0.2],\n",
       "        [6.6, 2.9, 4.6, 1.3],\n",
       "        [5.6, 3. , 4.1, 1.3],\n",
       "        [5.9, 3.2, 4.8, 1.8],\n",
       "        [6.3, 2.3, 4.4, 1.3],\n",
       "        [5.5, 3.5, 1.3, 0.2],\n",
       "        [5.1, 3.7, 1.5, 0.4],\n",
       "        [4.9, 3.1, 1.5, 0.1],\n",
       "        [6.3, 2.9, 5.6, 1.8],\n",
       "        [5.8, 2.7, 4.1, 1. ],\n",
       "        [7.7, 3.8, 6.7, 2.2],\n",
       "        [4.6, 3.2, 1.4, 0.2]]),\n",
       " array([[5.8, 2.8, 5.1, 2.4],\n",
       "        [6. , 2.2, 4. , 1. ],\n",
       "        [5.5, 4.2, 1.4, 0.2],\n",
       "        [7.3, 2.9, 6.3, 1.8],\n",
       "        [5. , 3.4, 1.5, 0.2],\n",
       "        [6.3, 3.3, 6. , 2.5],\n",
       "        [5. , 3.5, 1.3, 0.3],\n",
       "        [6.7, 3.1, 4.7, 1.5],\n",
       "        [6.8, 2.8, 4.8, 1.4],\n",
       "        [6.1, 2.8, 4. , 1.3],\n",
       "        [6.1, 2.6, 5.6, 1.4],\n",
       "        [6.4, 3.2, 4.5, 1.5],\n",
       "        [6.1, 2.8, 4.7, 1.2],\n",
       "        [6.5, 2.8, 4.6, 1.5],\n",
       "        [6.1, 2.9, 4.7, 1.4],\n",
       "        [4.9, 3.6, 1.4, 0.1],\n",
       "        [6. , 2.9, 4.5, 1.5],\n",
       "        [5.5, 2.6, 4.4, 1.2],\n",
       "        [4.8, 3. , 1.4, 0.3],\n",
       "        [5.4, 3.9, 1.3, 0.4],\n",
       "        [5.6, 2.8, 4.9, 2. ],\n",
       "        [5.6, 3. , 4.5, 1.5],\n",
       "        [4.8, 3.4, 1.9, 0.2],\n",
       "        [4.4, 2.9, 1.4, 0.2],\n",
       "        [6.2, 2.8, 4.8, 1.8],\n",
       "        [4.6, 3.6, 1. , 0.2],\n",
       "        [5.1, 3.8, 1.9, 0.4],\n",
       "        [6.2, 2.9, 4.3, 1.3],\n",
       "        [5. , 2.3, 3.3, 1. ],\n",
       "        [5. , 3.4, 1.6, 0.4],\n",
       "        [6.4, 3.1, 5.5, 1.8],\n",
       "        [5.4, 3. , 4.5, 1.5],\n",
       "        [5.2, 3.5, 1.5, 0.2],\n",
       "        [6.1, 3. , 4.9, 1.8],\n",
       "        [6.4, 2.8, 5.6, 2.2],\n",
       "        [5.2, 2.7, 3.9, 1.4],\n",
       "        [5.7, 3.8, 1.7, 0.3],\n",
       "        [6. , 2.7, 5.1, 1.6]]),\n",
       " array([1, 1, 2, 0, 2, 0, 0, 1, 2, 2, 2, 2, 1, 2, 1, 1, 2, 2, 2, 2, 1, 2,\n",
       "        1, 0, 2, 1, 1, 1, 1, 2, 0, 0, 2, 1, 0, 0, 1, 0, 2, 1, 0, 1, 2, 1,\n",
       "        0, 2, 2, 2, 2, 0, 0, 2, 2, 0, 2, 0, 2, 2, 0, 0, 2, 0, 0, 0, 1, 2,\n",
       "        2, 0, 0, 0, 1, 1, 0, 0, 1, 0, 2, 1, 2, 1, 0, 2, 0, 2, 0, 0, 2, 0,\n",
       "        2, 1, 1, 1, 2, 2, 1, 1, 0, 1, 2, 2, 0, 1, 1, 1, 1, 0, 0, 0, 2, 1,\n",
       "        2, 0]),\n",
       " array([2, 1, 0, 2, 0, 2, 0, 1, 1, 1, 2, 1, 1, 1, 1, 0, 1, 1, 0, 0, 2, 1,\n",
       "        0, 0, 2, 0, 0, 1, 1, 0, 2, 1, 0, 2, 2, 1, 0, 1])]"
      ]
     },
     "execution_count": 20,
     "metadata": {},
     "output_type": "execute_result"
    }
   ],
   "source": [
    "train_test_split(iris_dataset['data'], iris_dataset['target'], random_state=0)"
   ]
  },
  {
   "cell_type": "code",
   "execution_count": 21,
   "id": "6458b360-7149-4b52-9fc2-1701f4e23862",
   "metadata": {},
   "outputs": [],
   "source": [
    "X_train, X_test, y_train, y_test = train_test_split(iris_dataset['data'], iris_dataset['target'], random_state=0)"
   ]
  },
  {
   "cell_type": "code",
   "execution_count": 22,
   "id": "7f1dd7e7-0956-46be-a745-3c38b27392cb",
   "metadata": {},
   "outputs": [
    {
     "name": "stdout",
     "output_type": "stream",
     "text": [
      "X_train shape: (112, 4)\n",
      "[5.9 3.  4.2 1.5]\n",
      "y_train shape: (112,)\n",
      "[1 1 2 0 2 0 0 1 2 2 2 2 1 2 1 1 2 2 2 2 1 2 1 0 2 1 1 1 1 2 0 0 2 1 0 0 1\n",
      " 0 2 1 0 1 2 1 0 2 2 2 2 0 0 2 2 0 2 0 2 2 0 0 2 0 0 0 1 2 2 0 0 0 1 1 0 0\n",
      " 1 0 2 1 2 1 0 2 0 2 0 0 2 0 2 1 1 1 2 2 1 1 0 1 2 2 0 1 1 1 1 0 0 0 2 1 2\n",
      " 0]\n"
     ]
    }
   ],
   "source": [
    "print(\"X_train shape: {}\".format(X_train.shape))\n",
    "print(X_train[0])\n",
    "print(\"y_train shape: {}\".format(y_train.shape))\n",
    "print(y_train)"
   ]
  },
  {
   "cell_type": "code",
   "execution_count": 23,
   "id": "8c718c75-7fa4-442f-9330-34260919c598",
   "metadata": {},
   "outputs": [
    {
     "name": "stdout",
     "output_type": "stream",
     "text": [
      "X_test shape: (38, 4)\n",
      "[5.8 2.8 5.1 2.4]\n",
      "y_test shape: (38,)\n",
      "2\n"
     ]
    }
   ],
   "source": [
    "print(\"X_test shape: {}\".format(X_test.shape))\n",
    "print(X_test[0])\n",
    "print(\"y_test shape: {}\".format(y_test.shape))\n",
    "print(y_test[0])"
   ]
  },
  {
   "cell_type": "markdown",
   "id": "8570f93d-44da-4e62-85c0-d664c14fe0ec",
   "metadata": {},
   "source": [
    "## First Things First: Look at Your Data"
   ]
  },
  {
   "cell_type": "code",
   "execution_count": 1,
   "id": "6716aa64-a17b-4c6e-8969-036da7e028b5",
   "metadata": {},
   "outputs": [
    {
     "ename": "ModuleNotFoundError",
     "evalue": "No module named 'mglearn'",
     "output_type": "error",
     "traceback": [
      "\u001b[1;31m---------------------------------------------------------------------------\u001b[0m",
      "\u001b[1;31mModuleNotFoundError\u001b[0m                       Traceback (most recent call last)",
      "Cell \u001b[1;32mIn[1], line 10\u001b[0m\n\u001b[0;32m      8\u001b[0m \u001b[38;5;28;01mimport\u001b[39;00m \u001b[38;5;21;01msys\u001b[39;00m\n\u001b[0;32m      9\u001b[0m sys\u001b[38;5;241m.\u001b[39mpath\u001b[38;5;241m.\u001b[39mappend(\u001b[38;5;124m'\u001b[39m\u001b[38;5;124mC:\u001b[39m\u001b[38;5;130;01m\\\\\u001b[39;00m\u001b[38;5;124mUsers\u001b[39m\u001b[38;5;130;01m\\\\\u001b[39;00m\u001b[38;5;124mJames\u001b[39m\u001b[38;5;130;01m\\\\\u001b[39;00m\u001b[38;5;124mDesktop\u001b[39m\u001b[38;5;130;01m\\\\\u001b[39;00m\u001b[38;5;124mintroduction_to_ml_with_python\u001b[39m\u001b[38;5;124m'\u001b[39m)  \u001b[38;5;66;03m# Add the cloned repo to the path\u001b[39;00m\n\u001b[1;32m---> 10\u001b[0m \u001b[38;5;28;01mimport\u001b[39;00m \u001b[38;5;21;01mmglearn\u001b[39;00m\n",
      "\u001b[1;31mModuleNotFoundError\u001b[0m: No module named 'mglearn'"
     ]
    }
   ],
   "source": [
    "# # Clone the repository (you only need to do this once)\n",
    "# git clone https://github.com/amueller/introduction_to_ml_with_python.git\n",
    "\n",
    "# # Install the dependencies (you only need to do this once)\n",
    "# pip install -r introduction_to_ml_with_python/requirements.txt\n",
    "\n",
    "# Set up the path and import mglearn\n",
    "import sys\n",
    "#sys.path.append('C:\\\\Users\\\\James\\\\Desktop\\\\introduction_to_ml_with_python')  # Add the cloned repo to the path\n",
    "sys.path.append('C:\\\\Users\\\\James\\\\Desktop\\\\RoboticsJourney\\\\Self_Study\\\\2.PatternReg.ML\\\\introduction_to_ml_with_python')  # Add the cloned repo to the path\n",
    "import mglearn\n",
    "\n",
    "# Now you can use mglearn in your notebook"
   ]
  },
  {
   "cell_type": "code",
   "execution_count": 2,
   "id": "135476de-93c9-4e4e-9021-a685e6069a0c",
   "metadata": {},
   "outputs": [
    {
     "ename": "NameError",
     "evalue": "name 'X_train' is not defined",
     "output_type": "error",
     "traceback": [
      "\u001b[1;31m---------------------------------------------------------------------------\u001b[0m",
      "\u001b[1;31mNameError\u001b[0m                                 Traceback (most recent call last)",
      "Cell \u001b[1;32mIn[2], line 8\u001b[0m\n\u001b[0;32m      5\u001b[0m get_ipython()\u001b[38;5;241m.\u001b[39mrun_line_magic(\u001b[38;5;124m'\u001b[39m\u001b[38;5;124mmatplotlib\u001b[39m\u001b[38;5;124m'\u001b[39m, \u001b[38;5;124m'\u001b[39m\u001b[38;5;124minline\u001b[39m\u001b[38;5;124m'\u001b[39m)\n\u001b[0;32m      6\u001b[0m \u001b[38;5;66;03m# create dataframe from data in X_train\u001b[39;00m\n\u001b[0;32m      7\u001b[0m \u001b[38;5;66;03m# label the columns using the strings in iris_dataset.feature_names\u001b[39;00m\n\u001b[1;32m----> 8\u001b[0m iris_dataframe \u001b[38;5;241m=\u001b[39m pd\u001b[38;5;241m.\u001b[39mDataFrame(X_train, columns\u001b[38;5;241m=\u001b[39miris_dataset\u001b[38;5;241m.\u001b[39mfeature_names)\n\u001b[0;32m      9\u001b[0m \u001b[38;5;66;03m# create a scatter matrix from the dataframe, color by y_train\u001b[39;00m\n\u001b[0;32m     10\u001b[0m grr \u001b[38;5;241m=\u001b[39m pd\u001b[38;5;241m.\u001b[39mplotting\u001b[38;5;241m.\u001b[39mscatter_matrix(iris_dataframe, c\u001b[38;5;241m=\u001b[39my_train, figsize\u001b[38;5;241m=\u001b[39m(\u001b[38;5;241m15\u001b[39m, \u001b[38;5;241m15\u001b[39m), marker\u001b[38;5;241m=\u001b[39m\u001b[38;5;124m'\u001b[39m\u001b[38;5;124mo\u001b[39m\u001b[38;5;124m'\u001b[39m,\n\u001b[0;32m     11\u001b[0m hist_kwds\u001b[38;5;241m=\u001b[39m{\u001b[38;5;124m'\u001b[39m\u001b[38;5;124mbins\u001b[39m\u001b[38;5;124m'\u001b[39m: \u001b[38;5;241m20\u001b[39m}, s\u001b[38;5;241m=\u001b[39m\u001b[38;5;241m60\u001b[39m, alpha\u001b[38;5;241m=\u001b[39m\u001b[38;5;241m.8\u001b[39m, cmap\u001b[38;5;241m=\u001b[39mmglearn\u001b[38;5;241m.\u001b[39mcm3)\n",
      "\u001b[1;31mNameError\u001b[0m: name 'X_train' is not defined"
     ]
    }
   ],
   "source": [
    "import numpy as np\n",
    "import pandas as pd\n",
    "import mglearn\n",
    "import matplotlib.pyplot as plt\n",
    "%matplotlib inline\n",
    "# create dataframe from data in X_train\n",
    "# label the columns using the strings in iris_dataset.feature_names\n",
    "iris_dataframe = pd.DataFrame(X_train, columns=iris_dataset.feature_names)\n",
    "# create a scatter matrix from the dataframe, color by y_train\n",
    "grr = pd.plotting.scatter_matrix(iris_dataframe, c=y_train, figsize=(15, 15), marker='o',\n",
    "hist_kwds={'bins': 20}, s=60, alpha=.8, cmap=mglearn.cm3)"
   ]
  },
  {
   "cell_type": "markdown",
   "id": "8873ae0e-c23d-4654-a81f-254c131ae0b2",
   "metadata": {},
   "source": [
    "## Building Your First Model: k-Nearest Neighbors"
   ]
  },
  {
   "cell_type": "markdown",
   "id": "2875687b-0630-4b2b-86af-d4cfa6060ce9",
   "metadata": {},
   "source": [
    "There are many classification \n",
    "algorithms in scikit-learn that we could use. Here we will use a k-neares \r\n",
    "neighbors classifier, which is easy to understand. Building this model only consists of\r\n",
    "storing the training set. To make a prediction for a new data point, the algorithm\r\n",
    "finds the point in the training set that is closest to the new point. Then it assigns the\r\n",
    "label of this training point to the new data point."
   ]
  },
  {
   "cell_type": "markdown",
   "id": "5dc31453-08ac-4f59-96ef-2886333a6a9b",
   "metadata": {},
   "source": [
    "models in scikit-learn are implemented in their own classes,\r\n",
    "which are called Estimator classes. The k-nearest neighbors classification algorithm\r\n",
    "is implemented in the KNeighborsClassifier class in the neighbors module."
   ]
  },
  {
   "cell_type": "code",
   "execution_count": 26,
   "id": "42e78db9-d87e-45dc-9adf-46393e2e4c91",
   "metadata": {},
   "outputs": [],
   "source": [
    "from sklearn.neighbors import KNeighborsClassifier\n",
    "knn = KNeighborsClassifier(n_neighbors=1)"
   ]
  },
  {
   "cell_type": "markdown",
   "id": "35306e16-82af-45ca-bb25-8fc6687f417a",
   "metadata": {},
   "source": [
    "To build the model on the training set, we call the fit method of the knn object,\r\n",
    "which takes as arguments the NumPy array X_train containing the training data and\r\n",
    "the NumPy array y_train of the corresponding training labels:"
   ]
  },
  {
   "cell_type": "code",
   "execution_count": 32,
   "id": "91cefe11-5d68-4120-babb-83ba5e4bbe34",
   "metadata": {},
   "outputs": [
    {
     "name": "stdout",
     "output_type": "stream",
     "text": [
      "KNeighborsClassifier(n_neighbors=1)\n"
     ]
    }
   ],
   "source": [
    "print(knn)"
   ]
  },
  {
   "cell_type": "code",
   "execution_count": 34,
   "id": "5964c92f-63f0-41c4-867e-921c0ce6e79a",
   "metadata": {},
   "outputs": [
    {
     "data": {
      "text/html": [
       "<style>#sk-container-id-4 {color: black;background-color: white;}#sk-container-id-4 pre{padding: 0;}#sk-container-id-4 div.sk-toggleable {background-color: white;}#sk-container-id-4 label.sk-toggleable__label {cursor: pointer;display: block;width: 100%;margin-bottom: 0;padding: 0.3em;box-sizing: border-box;text-align: center;}#sk-container-id-4 label.sk-toggleable__label-arrow:before {content: \"▸\";float: left;margin-right: 0.25em;color: #696969;}#sk-container-id-4 label.sk-toggleable__label-arrow:hover:before {color: black;}#sk-container-id-4 div.sk-estimator:hover label.sk-toggleable__label-arrow:before {color: black;}#sk-container-id-4 div.sk-toggleable__content {max-height: 0;max-width: 0;overflow: hidden;text-align: left;background-color: #f0f8ff;}#sk-container-id-4 div.sk-toggleable__content pre {margin: 0.2em;color: black;border-radius: 0.25em;background-color: #f0f8ff;}#sk-container-id-4 input.sk-toggleable__control:checked~div.sk-toggleable__content {max-height: 200px;max-width: 100%;overflow: auto;}#sk-container-id-4 input.sk-toggleable__control:checked~label.sk-toggleable__label-arrow:before {content: \"▾\";}#sk-container-id-4 div.sk-estimator input.sk-toggleable__control:checked~label.sk-toggleable__label {background-color: #d4ebff;}#sk-container-id-4 div.sk-label input.sk-toggleable__control:checked~label.sk-toggleable__label {background-color: #d4ebff;}#sk-container-id-4 input.sk-hidden--visually {border: 0;clip: rect(1px 1px 1px 1px);clip: rect(1px, 1px, 1px, 1px);height: 1px;margin: -1px;overflow: hidden;padding: 0;position: absolute;width: 1px;}#sk-container-id-4 div.sk-estimator {font-family: monospace;background-color: #f0f8ff;border: 1px dotted black;border-radius: 0.25em;box-sizing: border-box;margin-bottom: 0.5em;}#sk-container-id-4 div.sk-estimator:hover {background-color: #d4ebff;}#sk-container-id-4 div.sk-parallel-item::after {content: \"\";width: 100%;border-bottom: 1px solid gray;flex-grow: 1;}#sk-container-id-4 div.sk-label:hover label.sk-toggleable__label {background-color: #d4ebff;}#sk-container-id-4 div.sk-serial::before {content: \"\";position: absolute;border-left: 1px solid gray;box-sizing: border-box;top: 0;bottom: 0;left: 50%;z-index: 0;}#sk-container-id-4 div.sk-serial {display: flex;flex-direction: column;align-items: center;background-color: white;padding-right: 0.2em;padding-left: 0.2em;position: relative;}#sk-container-id-4 div.sk-item {position: relative;z-index: 1;}#sk-container-id-4 div.sk-parallel {display: flex;align-items: stretch;justify-content: center;background-color: white;position: relative;}#sk-container-id-4 div.sk-item::before, #sk-container-id-4 div.sk-parallel-item::before {content: \"\";position: absolute;border-left: 1px solid gray;box-sizing: border-box;top: 0;bottom: 0;left: 50%;z-index: -1;}#sk-container-id-4 div.sk-parallel-item {display: flex;flex-direction: column;z-index: 1;position: relative;background-color: white;}#sk-container-id-4 div.sk-parallel-item:first-child::after {align-self: flex-end;width: 50%;}#sk-container-id-4 div.sk-parallel-item:last-child::after {align-self: flex-start;width: 50%;}#sk-container-id-4 div.sk-parallel-item:only-child::after {width: 0;}#sk-container-id-4 div.sk-dashed-wrapped {border: 1px dashed gray;margin: 0 0.4em 0.5em 0.4em;box-sizing: border-box;padding-bottom: 0.4em;background-color: white;}#sk-container-id-4 div.sk-label label {font-family: monospace;font-weight: bold;display: inline-block;line-height: 1.2em;}#sk-container-id-4 div.sk-label-container {text-align: center;}#sk-container-id-4 div.sk-container {/* jupyter's `normalize.less` sets `[hidden] { display: none; }` but bootstrap.min.css set `[hidden] { display: none !important; }` so we also need the `!important` here to be able to override the default hidden behavior on the sphinx rendered scikit-learn.org. See: https://github.com/scikit-learn/scikit-learn/issues/21755 */display: inline-block !important;position: relative;}#sk-container-id-4 div.sk-text-repr-fallback {display: none;}</style><div id=\"sk-container-id-4\" class=\"sk-top-container\"><div class=\"sk-text-repr-fallback\"><pre>KNeighborsClassifier(n_neighbors=1)</pre><b>In a Jupyter environment, please rerun this cell to show the HTML representation or trust the notebook. <br />On GitHub, the HTML representation is unable to render, please try loading this page with nbviewer.org.</b></div><div class=\"sk-container\" hidden><div class=\"sk-item\"><div class=\"sk-estimator sk-toggleable\"><input class=\"sk-toggleable__control sk-hidden--visually\" id=\"sk-estimator-id-4\" type=\"checkbox\" checked><label for=\"sk-estimator-id-4\" class=\"sk-toggleable__label sk-toggleable__label-arrow\">KNeighborsClassifier</label><div class=\"sk-toggleable__content\"><pre>KNeighborsClassifier(n_neighbors=1)</pre></div></div></div></div></div>"
      ],
      "text/plain": [
       "KNeighborsClassifier(n_neighbors=1)"
      ]
     },
     "execution_count": 34,
     "metadata": {},
     "output_type": "execute_result"
    }
   ],
   "source": [
    "knn.fit(X_train, y_train)"
   ]
  },
  {
   "cell_type": "code",
   "execution_count": 35,
   "id": "a0310542-1b8a-40c8-8f5e-4c3edb6ffcf4",
   "metadata": {},
   "outputs": [
    {
     "name": "stdout",
     "output_type": "stream",
     "text": [
      "X_train shape: (112, 4)\n",
      "[5.9 3.  4.2 1.5]\n",
      "y_train shape: (112,)\n",
      "[1 1 2 0 2 0 0 1 2 2 2 2 1 2 1 1 2 2 2 2 1 2 1 0 2 1 1 1 1 2 0 0 2 1 0 0 1\n",
      " 0 2 1 0 1 2 1 0 2 2 2 2 0 0 2 2 0 2 0 2 2 0 0 2 0 0 0 1 2 2 0 0 0 1 1 0 0\n",
      " 1 0 2 1 2 1 0 2 0 2 0 0 2 0 2 1 1 1 2 2 1 1 0 1 2 2 0 1 1 1 1 0 0 0 2 1 2\n",
      " 0]\n"
     ]
    }
   ],
   "source": [
    "print(\"X_train shape: {}\".format(X_train.shape))\n",
    "print(X_train[0])\n",
    "print(\"y_train shape: {}\".format(y_train.shape))\n",
    "print(y_train)"
   ]
  },
  {
   "cell_type": "markdown",
   "id": "58d6a285-60ed-40a7-b7e0-cbfb43807b80",
   "metadata": {},
   "source": [
    "## Making Predictions"
   ]
  },
  {
   "cell_type": "markdown",
   "id": "f8300155-5b8d-4e47-bf27-4e900768f851",
   "metadata": {},
   "source": [
    "Imagine we found an iris in the wild with a sepal length of\r\n",
    "5 cm, a sepal width of 2.9 cm, a petal length of 1 cm, and a petal width of 0.2 cm"
   ]
  },
  {
   "cell_type": "code",
   "execution_count": 48,
   "id": "e675030f-3501-4ee8-9490-d6147741360a",
   "metadata": {},
   "outputs": [
    {
     "name": "stdout",
     "output_type": "stream",
     "text": [
      "X_new.shape: (1, 4)\n",
      "[[ 5.   2.9  1.  54.2]]\n",
      "<class 'numpy.ndarray'>\n"
     ]
    }
   ],
   "source": [
    "X_new = np.array([[5, 2.9, 1, 0.2]])\n",
    "X_new = np.array([[5, 2.9, 1, 54.2]])\n",
    "print(\"X_new.shape: {}\".format(X_new.shape))\n",
    "print(X_new)\n",
    "print(type(X_new))"
   ]
  },
  {
   "cell_type": "markdown",
   "id": "1f3bc570-5727-474c-930d-54b570de6504",
   "metadata": {},
   "source": [
    "A two-dimensional array is a matrix  \n",
    "A one-dimensional array is a vector  \n",
    "scikit-learn always expects two-dimensional arrays \n",
    "for the data."
   ]
  },
  {
   "cell_type": "code",
   "execution_count": 43,
   "id": "bf9c8b6b-c847-4909-b1ea-ccf62097f94d",
   "metadata": {},
   "outputs": [],
   "source": [
    "# List all attributes and methods\n",
    "# print(dir(knn))\n",
    "# help(knn)"
   ]
  },
  {
   "cell_type": "code",
   "execution_count": 49,
   "id": "f25c3264-5e7a-4cca-b8c2-9cb3d537350e",
   "metadata": {},
   "outputs": [
    {
     "name": "stdout",
     "output_type": "stream",
     "text": [
      "Prediction: [2]\n",
      "Predicted target name: ['virginica']\n"
     ]
    }
   ],
   "source": [
    "prediction = knn.predict(X_new)\n",
    "print(\"Prediction: {}\".format(prediction))\n",
    "print(\"Predicted target name: {}\".format(iris_dataset['target_names'][prediction]))"
   ]
  },
  {
   "cell_type": "markdown",
   "id": "35326e23-290f-45c5-be8b-2357e4149940",
   "metadata": {},
   "source": [
    "This new iris belongs to the class 0, meaning its species is\r\n",
    "setosa. But how do we know whether we can trust our model? We don’t know the correct\r\n",
    "species of this sample, which is the whole point of building the model!"
   ]
  },
  {
   "cell_type": "markdown",
   "id": "9a0cf1ae-d7b3-46de-8e36-7a91e8e8339b",
   "metadata": {},
   "source": [
    "## Evaluating the Model"
   ]
  },
  {
   "cell_type": "markdown",
   "id": "f911b90e-92d7-4024-ad00-0961d10b1c79",
   "metadata": {},
   "source": [
    "Make a prediction for each iris in the test data and compare it\r\n",
    "against its label (the known species). We can measure how well the model works by\r\n",
    "computing the accuracy, which is the fraction of flowers for which the right species\r\n",
    "was predicted"
   ]
  },
  {
   "cell_type": "code",
   "execution_count": 50,
   "id": "d2dc7c67-9630-458d-a61b-2de4c044e1c2",
   "metadata": {},
   "outputs": [
    {
     "name": "stdout",
     "output_type": "stream",
     "text": [
      "X_test shape: (38, 4)\n",
      "[5.8 2.8 5.1 2.4]\n",
      "y_test shape: (38,)\n",
      "2\n"
     ]
    }
   ],
   "source": [
    "print(\"X_test shape: {}\".format(X_test.shape))\n",
    "print(X_test[0]) # Has measurements known as features\n",
    "print(\"y_test shape: {}\".format(y_test.shape))\n",
    "print(y_test[0]) # Has species name known as classes"
   ]
  },
  {
   "cell_type": "markdown",
   "id": "a1bc3cde-5245-46bf-9e14-b6bcb32c646c",
   "metadata": {},
   "source": [
    "Sample Definition: A sample (also known as an observation or instance) is a single data point or record in your dataset."
   ]
  },
  {
   "cell_type": "code",
   "execution_count": 53,
   "id": "09322d45-a796-40af-95bb-775d9f9a2a1f",
   "metadata": {},
   "outputs": [
    {
     "name": "stdout",
     "output_type": "stream",
     "text": [
      "First sample (features): [5.1 3.5 1.4 0.2]\n",
      "Feature names: ['sepal length (cm)', 'sepal width (cm)', 'petal length (cm)', 'petal width (cm)']\n",
      "Class of the first sample: 0\n",
      "Class names: ['setosa' 'versicolor' 'virginica']\n"
     ]
    }
   ],
   "source": [
    "# Displaying a sample (the first sample)\n",
    "print(\"First sample (features):\", iris_dataset['data'][0])\n",
    "# Displaying the features (feature names)\n",
    "print(\"Feature names:\", iris_dataset['feature_names'])\n",
    "# Displaying a class (the class of the first sample)\n",
    "print(\"Class of the first sample:\", iris_dataset['target'][0])\n",
    "# Displaying class names\n",
    "print(\"Class names:\", iris_dataset['target_names'])"
   ]
  },
  {
   "cell_type": "code",
   "execution_count": null,
   "id": "f01dbf54-3106-443c-8027-abcd83216752",
   "metadata": {},
   "outputs": [],
   "source": []
  },
  {
   "cell_type": "code",
   "execution_count": 54,
   "id": "b5c8c677-4b05-4d87-8995-ce2c8a859d88",
   "metadata": {},
   "outputs": [
    {
     "name": "stdout",
     "output_type": "stream",
     "text": [
      "Test set predictions:\n",
      " [2 1 0 2 0 2 0 1 1 1 2 1 1 1 1 0 1 1 0 0 2 1 0 0 2 0 0 1 1 0 2 1 0 2 2 1 0\n",
      " 2]\n"
     ]
    }
   ],
   "source": [
    "y_pred = knn.predict(X_test) # Has measurements known as features\n",
    "print(\"Test set predictions:\\n {}\".format(y_pred))"
   ]
  },
  {
   "cell_type": "code",
   "execution_count": 55,
   "id": "02faaaa7-f829-458d-9ba4-417ed1c558b6",
   "metadata": {},
   "outputs": [
    {
     "name": "stdout",
     "output_type": "stream",
     "text": [
      "[2 1 0 2 0 2 0 1 1 1 2 1 1 1 1 0 1 1 0 0 2 1 0 0 2 0 0 1 1 0 2 1 0 2 2 1 0\n",
      " 1]\n"
     ]
    }
   ],
   "source": [
    "print(y_test)"
   ]
  },
  {
   "cell_type": "code",
   "execution_count": 56,
   "id": "237877e4-ca27-4ff8-8bf3-3f1ebfbc3397",
   "metadata": {},
   "outputs": [
    {
     "name": "stdout",
     "output_type": "stream",
     "text": [
      "Test set score: 0.97\n"
     ]
    }
   ],
   "source": [
    "print(\"Test set score: {:.2f}\".format(np.mean(y_pred == y_test)))"
   ]
  },
  {
   "cell_type": "code",
   "execution_count": 57,
   "id": "60ca1421-4b36-4eb2-807c-a6f3a5828cd3",
   "metadata": {},
   "outputs": [
    {
     "name": "stdout",
     "output_type": "stream",
     "text": [
      "Test set score: 0.97\n"
     ]
    }
   ],
   "source": [
    "print(\"Test set score: {:.2f}\".format(knn.score(X_test, y_test)))"
   ]
  }
 ],
 "metadata": {
  "kernelspec": {
   "display_name": "Python 3 (ipykernel)",
   "language": "python",
   "name": "python3"
  },
  "language_info": {
   "codemirror_mode": {
    "name": "ipython",
    "version": 3
   },
   "file_extension": ".py",
   "mimetype": "text/x-python",
   "name": "python",
   "nbconvert_exporter": "python",
   "pygments_lexer": "ipython3",
   "version": "3.11.7"
  }
 },
 "nbformat": 4,
 "nbformat_minor": 5
}

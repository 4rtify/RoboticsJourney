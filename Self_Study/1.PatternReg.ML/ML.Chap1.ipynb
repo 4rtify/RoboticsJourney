{
 "cells": [
  {
   "cell_type": "code",
   "execution_count": 1,
   "id": "113aba2e",
   "metadata": {},
   "outputs": [],
   "source": [
    "# Clone the repository (you only need to do this once)\n",
    "# git clone https://github.com/amueller/introduction_to_ml_with_python.git\n",
    "\n",
    "# Install the dependencies (you only need to do this once)\n",
    "# pip install -r introduction_to_ml_with_python/requirements.txt\n",
    "\n",
    "# Set up the path and import mglearn\n",
    "import sys\n",
    "sys.path.append('C:\\\\Users\\\\James\\\\Desktop\\\\RoboticsJourney\\\\Self_Study\\\\1.PatternReg.ML\\\\introduction_to_ml_with_python')\n",
    "import mglearn\n",
    "import numpy as np\n",
    "import pandas as pd\n",
    "import matplotlib.pyplot as plt\n",
    "%matplotlib inline\n",
    "X_train: np.ndarray\n",
    "X_test: np.ndarray\n",
    "y_train: np.ndarray\n",
    "y_test: np.ndarray"
   ]
  },
  {
   "cell_type": "markdown",
   "id": "40e05fe5",
   "metadata": {},
   "source": [
    "# Knowing your task and knowing your data.\n",
    "\n",
    "- While building your machine learning algorithm, keep in mind the following questions.\n",
    "1. What question/s am I trying to answer?\n",
    "2. Do I think the data collected can answer that question?\n",
    "3. What is the best way to phrase my question as a machine learning problem?\n",
    "4. Have I collected enough data to represent the problem I want to solve?\n",
    "5. What features did I extract? Will these enable the right predictions?\n",
    "6. How will I measure success in my application?\n",
    "7. How will the machine learning solution interact with other parts of my research or business product?\n",
    "\n",
    "- In a larger context, algorithms and methods in machine learning are only one part of a greater process to solve a particular problem. \n",
    "- It is a good idea to keep the big picture in mind.\n",
    "- Many people spend a lot of time building a complex model, only to find out it doesn't solve the right problem.\n",
    "- When going deep into technical aspects of machine learning, it is easy to lose sight of the ultimate goals.\n",
    "- Keep in mind all of the assumptions that you make, explicitly or implicitly when you start building machine learning models.\n",
    "\n",
    "## Why Python?\n",
    "1. Combines the powerful general purpose programming\n",
    "2. Ease of use for domain specific languages like MATLAB and R\n",
    "3. Many libraries for data loading, visualisation, statistics, language processing, image processing, plotting and more\n",
    "4. Machine learning and data analysis are fundamentally iterative processes, in which the data drives the analysis. \n",
    "5. It's essential for these processes to have tools that allow quick iteration and easy of interaction.\n",
    "6. Python also integrates into existing systems easily, web services, data bases etc.\n",
    "\n",
    "## Scikit-learn\n",
    "1. Is an open source project\n",
    "2. Constantly being developed and improved, very active community\n",
    "3. Contains a number of state of the art machine learning algorithms\n",
    "4. Documentation \n",
    "\n",
    "https://scikit-learn.org/stable/user_guide.html\n",
    "\n",
    "\n",
    "## Python Libraries\n",
    "- NumPy: Library for numerical operations and array manipulations in Python.\n",
    "- SciPy: Library for scientific computing, built on NumPy, offering additional functions.\n",
    "- matplotlib: Plotting library for creating static, interactive, and animated visualizations.\n",
    "- pandas: Library for data manipulation and analysis, especially with tabular data.\n",
    "- IPython: Enhanced interactive Python shell providing powerful introspection, rich media, and more.\n",
    "- Jupyter Notebook: Web-based interactive environment for creating and sharing documents with live code.\n",
    "- scikit-learn: Machine learning library for Python, providing tools for data mining and analysis.\n",
    "\n",
    "pip install numpy scipy matplotlib ipython scikit-learn pandas"
   ]
  },
  {
   "cell_type": "markdown",
   "id": "44bbd504",
   "metadata": {},
   "source": [
    "### NumPy\n",
    "- Fundamental package for scientific computing in Python. \n",
    "- Contains functionality for multi-dimensional arrays\n",
    "- High level linear algebra operations\n",
    "- Fourier transform used for signal processing\n",
    "- In SciKit-Learn The NumPy array is the fundamental data structure\n",
    "  - The class is ndarray\n",
    "  - A multi-dimensional (n-dimensional) array\n",
    "  - All elements must be of the same type"
   ]
  },
  {
   "cell_type": "code",
   "execution_count": 7,
   "id": "a8a55a70",
   "metadata": {},
   "outputs": [
    {
     "name": "stdout",
     "output_type": "stream",
     "text": [
      "[[1 2 3]\n",
      " [4 5 6]]\n"
     ]
    },
    {
     "data": {
      "text/plain": [
       "array([[1, 2, 3],\n",
       "       [4, 5, 6]])"
      ]
     },
     "metadata": {},
     "output_type": "display_data"
    },
    {
     "name": "stdout",
     "output_type": "stream",
     "text": [
      "x:\n",
      "[[1 2 3]\n",
      " [4 5 6]]\n"
     ]
    }
   ],
   "source": [
    "import numpy as np \n",
    "x = np.array([[1,2,3], [4,5,6]])\n",
    "print(x)\n",
    "display(x)\n",
    "print(f\"x:\\n{x}\")\n"
   ]
  },
  {
   "cell_type": "markdown",
   "id": "521fd0d0",
   "metadata": {},
   "source": [
    "### SciPy\n",
    "- Collection of functions for scientific computing in Python.\n",
    "- Advanced linear algebra routines\n",
    "- Mathematic function optimization\n",
    "- Signal processing\n",
    "- Statistical distributions\n",
    "- SciKit-learn draws from scipy's functions for implementing it's algorithms.\n",
    "- The most important part of SciPy for this book is scipy.sparse\n",
    "  - This provides sparse matrices\n",
    "  - Which are another representation that is used for data in scikit-learn\n",
    "  - We use a spare matrix when we want to store a 2D array that contains mainly zeros"
   ]
  },
  {
   "cell_type": "code",
   "execution_count": 8,
   "id": "bfeff16c",
   "metadata": {},
   "outputs": [
    {
     "name": "stdout",
     "output_type": "stream",
     "text": [
      "[[1. 0. 0. 0.]\n",
      " [0. 1. 0. 0.]\n",
      " [0. 0. 1. 0.]\n",
      " [0. 0. 0. 1.]]\n",
      "  (0, 0)\t1.0\n",
      "  (1, 1)\t1.0\n",
      "  (2, 2)\t1.0\n",
      "  (3, 3)\t1.0\n"
     ]
    }
   ],
   "source": [
    "from scipy import sparse\n",
    "eye = np.eye(4)\n",
    "print(eye)\n",
    "sparse_matrix = sparse.csr_matrix(eye)\n",
    "print(sparse_matrix)\n",
    "\n"
   ]
  },
  {
   "cell_type": "markdown",
   "id": "b257c960",
   "metadata": {},
   "source": [
    "- Creating a sparse matrix in COO format.\n",
    "- COO means Coordinate \n",
    "- It stores a list of the non-zero elements in a matrix, along with their row and column index. \n",
    "- It creates three 1D arrays.\n",
    "  - Row Index\n",
    "  - Column Index\n",
    "  - Data\n",
    "- It's useful for constructing sparse matrices and converting to other formats like Compressed Sparse Row, or Compressed Spare Column. "
   ]
  },
  {
   "cell_type": "code",
   "execution_count": 9,
   "id": "da296cd5",
   "metadata": {},
   "outputs": [
    {
     "name": "stdout",
     "output_type": "stream",
     "text": [
      "  (0, 0)\t1.0\n",
      "  (1, 1)\t1.0\n",
      "  (2, 2)\t1.0\n",
      "  (3, 3)\t1.0\n"
     ]
    }
   ],
   "source": [
    "data = np.ones(4)\n",
    "row_indices = np.arange(4)\n",
    "col_indices = np.arange(4)\n",
    "eye_coo = sparse.coo_matrix((data, (row_indices, col_indices)))\n",
    "print(f\"{eye_coo}\")"
   ]
  },
  {
   "cell_type": "markdown",
   "id": "f8291f82",
   "metadata": {},
   "source": [
    "### Matplotlib\n",
    "- The main plotting library in Python\n",
    "- Apparently publication quality visualizations \n",
    "- Line charts, histograms, scatter plots and so on"
   ]
  },
  {
   "cell_type": "code",
   "execution_count": 10,
   "id": "d8c4f4b7",
   "metadata": {},
   "outputs": [
    {
     "data": {
      "text/plain": [
       "array([ 1.,  2.,  3.,  4.,  5.,  6.,  7.,  8.,  9., 10.])"
      ]
     },
     "metadata": {},
     "output_type": "display_data"
    },
    {
     "data": {
      "text/plain": [
       "array([ 0.84147098,  0.90929743,  0.14112001, -0.7568025 , -0.95892427,\n",
       "       -0.2794155 ,  0.6569866 ,  0.98935825,  0.41211849, -0.54402111])"
      ]
     },
     "metadata": {},
     "output_type": "display_data"
    },
    {
     "data": {
      "text/plain": [
       "[<matplotlib.lines.Line2D at 0x1dcabbf7010>]"
      ]
     },
     "execution_count": 10,
     "metadata": {},
     "output_type": "execute_result"
    },
    {
     "data": {
      "image/png": "[encoded data removed]",
      "text/plain": [
       "<Figure size 640x480 with 1 Axes>"
      ]
     },
     "metadata": {},
     "output_type": "display_data"
    }
   ],
   "source": [
    "%matplotlib inline \n",
    "import matplotlib.pyplot as plt\n",
    "import numpy as np\n",
    "x = np.linspace(-10,10,100)\n",
    "x = np.linspace(1,10,10)\n",
    "display(x)\n",
    "y = np.sin(x)\n",
    "display(y)\n",
    "plt.plot(x, y, marker = \"x\")"
   ]
  },
  {
   "cell_type": "markdown",
   "id": "80ad7d81",
   "metadata": {},
   "source": [
    "### Pandas and Dataframes\n",
    "- Wrangling and analysis\n",
    "- Build from the R Dataframe\n",
    "- Allows for SQL queries and joins of tables\n",
    "- As opposed to NumpPy arrays, Panda arrays allow for each element to be a different type\n",
    "  - Int, string, dates or floating points\n",
    "- Pandas can also ingest from CSV, SQL, Excel and databases "
   ]
  },
  {
   "cell_type": "code",
   "execution_count": 11,
   "id": "dea6a822",
   "metadata": {},
   "outputs": [
    {
     "data": {
      "text/html": [
       "<div>\n",
       "<style scoped>\n",
       "    .dataframe tbody tr th:only-of-type {\n",
       "        vertical-align: middle;\n",
       "    }\n",
       "\n",
       "    .dataframe tbody tr th {\n",
       "        vertical-align: top;\n",
       "    }\n",
       "\n",
       "    .dataframe thead th {\n",
       "        text-align: right;\n",
       "    }\n",
       "</style>\n",
       "<table border=\"1\" class=\"dataframe\">\n",
       "  <thead>\n",
       "    <tr style=\"text-align: right;\">\n",
       "      <th></th>\n",
       "      <th>Name</th>\n",
       "      <th>Location</th>\n",
       "      <th>Age</th>\n",
       "    </tr>\n",
       "  </thead>\n",
       "  <tbody>\n",
       "    <tr>\n",
       "      <th>0</th>\n",
       "      <td>John</td>\n",
       "      <td>New York</td>\n",
       "      <td>24</td>\n",
       "    </tr>\n",
       "    <tr>\n",
       "      <th>1</th>\n",
       "      <td>Anna</td>\n",
       "      <td>Paris</td>\n",
       "      <td>13</td>\n",
       "    </tr>\n",
       "    <tr>\n",
       "      <th>2</th>\n",
       "      <td>Peter</td>\n",
       "      <td>Berlin</td>\n",
       "      <td>53</td>\n",
       "    </tr>\n",
       "    <tr>\n",
       "      <th>3</th>\n",
       "      <td>Linda</td>\n",
       "      <td>London</td>\n",
       "      <td>33</td>\n",
       "    </tr>\n",
       "  </tbody>\n",
       "</table>\n",
       "</div>"
      ],
      "text/plain": [
       "    Name  Location  Age\n",
       "0   John  New York   24\n",
       "1   Anna     Paris   13\n",
       "2  Peter    Berlin   53\n",
       "3  Linda    London   33"
      ]
     },
     "metadata": {},
     "output_type": "display_data"
    },
    {
     "data": {
      "text/html": [
       "<div>\n",
       "<style scoped>\n",
       "    .dataframe tbody tr th:only-of-type {\n",
       "        vertical-align: middle;\n",
       "    }\n",
       "\n",
       "    .dataframe tbody tr th {\n",
       "        vertical-align: top;\n",
       "    }\n",
       "\n",
       "    .dataframe thead th {\n",
       "        text-align: right;\n",
       "    }\n",
       "</style>\n",
       "<table border=\"1\" class=\"dataframe\">\n",
       "  <thead>\n",
       "    <tr style=\"text-align: right;\">\n",
       "      <th></th>\n",
       "      <th>Name</th>\n",
       "      <th>Location</th>\n",
       "      <th>Age</th>\n",
       "    </tr>\n",
       "  </thead>\n",
       "  <tbody>\n",
       "    <tr>\n",
       "      <th>2</th>\n",
       "      <td>Peter</td>\n",
       "      <td>Berlin</td>\n",
       "      <td>53</td>\n",
       "    </tr>\n",
       "    <tr>\n",
       "      <th>3</th>\n",
       "      <td>Linda</td>\n",
       "      <td>London</td>\n",
       "      <td>33</td>\n",
       "    </tr>\n",
       "  </tbody>\n",
       "</table>\n",
       "</div>"
      ],
      "text/plain": [
       "    Name Location  Age\n",
       "2  Peter   Berlin   53\n",
       "3  Linda   London   33"
      ]
     },
     "execution_count": 11,
     "metadata": {},
     "output_type": "execute_result"
    }
   ],
   "source": [
    "# Creating a dataframe\n",
    "import pandas as pd\n",
    "data = {\n",
    "        'Name': [\"John\", \"Anna\", \"Peter\", \"Linda\"],\n",
    "        'Location': [\"New York\", \"Paris\", \"Berlin\", \"London\"],\n",
    "        'Age': [24, 13, 53, 33]\n",
    "    }\n",
    "df = pd.DataFrame(data)\n",
    "display(df)\n",
    "\n",
    "df[df.Age > 30]"
   ]
  },
  {
   "cell_type": "markdown",
   "id": "292ed9f2-58fb-406d-badc-de7af84db2f0",
   "metadata": {},
   "source": [
    "## A First Application: Classifying Iris Species\n",
    "- We have a dataset containing\n",
    "  - Measurements of flowers\n",
    "  - Their species, known in ML as the classes or it's label\n",
    "  - This is a classification problem, not a regression problem\n",
    "\n",
    "## Meet the data"
   ]
  },
  {
   "cell_type": "markdown",
   "id": "6563ab95",
   "metadata": {},
   "source": [
    "# Sample Definition\n",
    "A sample, observation or instance is a single data point or record in your dataset."
   ]
  },
  {
   "cell_type": "code",
   "execution_count": null,
   "id": "a3630b13",
   "metadata": {},
   "outputs": [
    {
     "name": "stdout",
     "output_type": "stream",
     "text": [
      "1. Because scikit-learn has bunch object, we need to display the hash table properties this way first:\n",
      "\t['DESCR', 'data', 'data_module', 'feature_names', 'filename', 'frame', 'target', 'target_names']\n",
      "\n",
      "2. The first sample, observation, instance or single data point is: [5.1 3.5 1.4 0.2] and these are the \"features\" of the sample\n",
      "\n",
      "3. The headings for these features are:\n",
      "\t['sepal length (cm)', 'sepal width (cm)', 'petal length (cm)', 'petal width (cm)']\n",
      "\n",
      "4. The first sample shown in step 2 has a \"class\" value, this is: 0 and is the \"target\" property\n",
      "\n",
      "5. The headings for the \"classes\" are:\n",
      "\t['setosa' 'versicolor' 'virginica']\n"
     ]
    }
   ],
   "source": [
    "print(f\"1. Because scikit-learn has bunch object, we need to display the hash table properties this way first:\\n\\t{dir(iris_dataset)}\\n\")\n",
    "print(f\"2. The first sample, observation, instance or single data point is: {iris_dataset.data[0]} and these are the \\\"features\\\" of the sample\\n\")\n",
    "print(f\"3. The headings for these features are:\\n\\t{iris_dataset.feature_names}\\n\")\n",
    "print(f\"4. The first sample shown in step 2 has a \\\"class\\\" value, this is: {iris_dataset.target[0]} and is the \\\"target\\\" property\\n\")\n",
    "print(f\"5. The headings for the \\\"classes\\\" are:\\n\\t{iris_dataset.target_names}\")"
   ]
  },
  {
   "cell_type": "code",
   "execution_count": 12,
   "id": "581bdd5f-2000-4d2c-ae0f-2140b35c61a5",
   "metadata": {},
   "outputs": [
    {
     "data": {
      "text/plain": [
       "['DESCR',\n",
       " 'data',\n",
       " 'data_module',\n",
       " 'feature_names',\n",
       " 'filename',\n",
       " 'frame',\n",
       " 'target',\n",
       " 'target_names']"
      ]
     },
     "metadata": {},
     "output_type": "display_data"
    }
   ],
   "source": [
    "from sklearn.datasets import load_iris\n",
    "iris_dataset = load_iris()\n",
    "display(dir(iris_dataset))\n",
    "\n",
    "# print(iris_dataset.DESCR)"
   ]
  },
  {
   "cell_type": "code",
   "execution_count": 13,
   "id": "81e2a163-35f5-43c4-915d-6d605af53783",
   "metadata": {},
   "outputs": [
    {
     "data": {
      "text/plain": [
       "array(['setosa', 'versicolor', 'virginica'], dtype='<U10')"
      ]
     },
     "metadata": {},
     "output_type": "display_data"
    },
    {
     "data": {
      "text/plain": [
       "array([0, 0, 0, 0, 0, 0, 0, 0, 0, 0, 0, 0, 0, 0, 0, 0, 0, 0, 0, 0, 0, 0,\n",
       "       0, 0, 0, 0, 0, 0, 0, 0, 0, 0, 0, 0, 0, 0, 0, 0, 0, 0, 0, 0, 0, 0,\n",
       "       0, 0, 0, 0, 0, 0, 1, 1, 1, 1, 1, 1, 1, 1, 1, 1, 1, 1, 1, 1, 1, 1,\n",
       "       1, 1, 1, 1, 1, 1, 1, 1, 1, 1, 1, 1, 1, 1, 1, 1, 1, 1, 1, 1, 1, 1,\n",
       "       1, 1, 1, 1, 1, 1, 1, 1, 1, 1, 1, 1, 2, 2, 2, 2, 2, 2, 2, 2, 2, 2,\n",
       "       2, 2, 2, 2, 2, 2, 2, 2, 2, 2, 2, 2, 2, 2, 2, 2, 2, 2, 2, 2, 2, 2,\n",
       "       2, 2, 2, 2, 2, 2, 2, 2, 2, 2, 2, 2, 2, 2, 2, 2, 2, 2])"
      ]
     },
     "metadata": {},
     "output_type": "display_data"
    }
   ],
   "source": [
    "display(iris_dataset[\"target_names\"])\n",
    "display(iris_dataset[\"target\"])"
   ]
  },
  {
   "cell_type": "code",
   "execution_count": 14,
   "id": "73dba221-ae8f-484c-8bf1-ced929b4c353",
   "metadata": {},
   "outputs": [
    {
     "data": {
      "text/plain": [
       "['sepal length (cm)',\n",
       " 'sepal width (cm)',\n",
       " 'petal length (cm)',\n",
       " 'petal width (cm)']"
      ]
     },
     "metadata": {},
     "output_type": "display_data"
    },
    {
     "data": {
      "text/plain": [
       "array([[5.1, 3.5, 1.4, 0.2],\n",
       "       [4.9, 3. , 1.4, 0.2]])"
      ]
     },
     "metadata": {},
     "output_type": "display_data"
    }
   ],
   "source": [
    "display(iris_dataset[\"feature_names\"])\n",
    "display(iris_dataset[\"data\"][:2])"
   ]
  },
  {
   "cell_type": "code",
   "execution_count": 15,
   "id": "6e905445-db93-4273-884e-bb9a59d4ed97",
   "metadata": {},
   "outputs": [
    {
     "name": "stdout",
     "output_type": "stream",
     "text": [
      "(150, 4)\n"
     ]
    },
    {
     "data": {
      "text/plain": [
       "numpy.ndarray"
      ]
     },
     "metadata": {},
     "output_type": "display_data"
    },
    {
     "name": "stdout",
     "output_type": "stream",
     "text": [
      "(150,)\n"
     ]
    },
    {
     "data": {
      "text/plain": [
       "numpy.ndarray"
      ]
     },
     "metadata": {},
     "output_type": "display_data"
    },
    {
     "name": "stdout",
     "output_type": "stream",
     "text": [
      "(3,)\n"
     ]
    }
   ],
   "source": [
    "print(iris_dataset['data'].shape)\n",
    "display(type(iris_dataset.data))\n",
    "print(iris_dataset['target'].shape)\n",
    "display(type(iris_dataset.target))\n",
    "print(iris_dataset['target_names'].shape)"
   ]
  },
  {
   "cell_type": "markdown",
   "id": "cd0cef63-ddb8-491a-9199-01538444705c",
   "metadata": {},
   "source": [
    "We see that the array contains measurements for 150 different flowers. Remember\n",
    "that the individual items are called samples in machine learning, and their properties\n",
    "are called features. The shape of the data array is the number of samples multiplied by\n",
    "the number of features. This is a convention in scikit-learn, and your data will\n",
    "always be assumed to be in this shape"
   ]
  },
  {
   "cell_type": "code",
   "execution_count": 16,
   "id": "a435adcc-cffd-4b19-bafb-5b2b9a351594",
   "metadata": {},
   "outputs": [
    {
     "data": {
      "text/plain": [
       "['sepal length (cm)',\n",
       " 'sepal width (cm)',\n",
       " 'petal length (cm)',\n",
       " 'petal width (cm)']"
      ]
     },
     "metadata": {},
     "output_type": "display_data"
    },
    {
     "data": {
      "text/plain": [
       "array([4.9, 3. , 1.4, 0.2])"
      ]
     },
     "metadata": {},
     "output_type": "display_data"
    },
    {
     "data": {
      "text/plain": [
       "0"
      ]
     },
     "metadata": {},
     "output_type": "display_data"
    },
    {
     "data": {
      "text/plain": [
       "'versicolor'"
      ]
     },
     "metadata": {},
     "output_type": "display_data"
    }
   ],
   "source": [
    "display(iris_dataset.feature_names)\n",
    "display(iris_dataset.data[1])\n",
    "display(iris_dataset.target[1])\n",
    "display(iris_dataset.target_names[1])"
   ]
  },
  {
   "cell_type": "markdown",
   "id": "76d7356f-845f-4bd9-80c4-f9f5020085e9",
   "metadata": {},
   "source": [
    "## Measuring Success: Training and Testing Data"
   ]
  },
  {
   "cell_type": "markdown",
   "id": "d911d9cb-7af1-4640-af72-c2279887fef3",
   "metadata": {},
   "source": [
    "train_test_split function. This function extracts 75% of the rows in the data as the\n",
    "training set, together with the corresponding labels for this data. The remaining 25%\n",
    "of the data, together with the remaining labels, is declared as the test set"
   ]
  },
  {
   "cell_type": "markdown",
   "id": "f30d2d89-a385-425a-a728-2055548d68a4",
   "metadata": {},
   "source": [
    "In scikit-learn, data is usually denoted with a capital X, while labels are denoted by\n",
    "a lowercase y. This is inspired by the standard formulation f(x)=y in mathematics,\n",
    "where x is the input to a function and y is the output. Following more conventions\n",
    "from mathematics, we use a capital X because the data is a two-dimensional array (a\n",
    "matrix) and a lowercase y because the target is a one-dimensional array (a vector)."
   ]
  },
  {
   "cell_type": "code",
   "execution_count": 17,
   "id": "f504a9a4-177b-4088-ad0d-8cb6a733de64",
   "metadata": {},
   "outputs": [
    {
     "name": "stdout",
     "output_type": "stream",
     "text": [
      "Help on function train_test_split in module sklearn.model_selection._split:\n",
      "\n",
      "train_test_split(*arrays, test_size=None, train_size=None, random_state=None, shuffle=True, stratify=None)\n",
      "    Split arrays or matrices into random train and test subsets.\n",
      "    \n",
      "    Quick utility that wraps input validation,\n",
      "    ``next(ShuffleSplit().split(X, y))``, and application to input data\n",
      "    into a single call for splitting (and optionally subsampling) data into a\n",
      "    one-liner.\n",
      "    \n",
      "    Read more in the :ref:`User Guide <cross_validation>`.\n",
      "    \n",
      "    Parameters\n",
      "    ----------\n",
      "    *arrays : sequence of indexables with same length / shape[0]\n",
      "        Allowed inputs are lists, numpy arrays, scipy-sparse\n",
      "        matrices or pandas dataframes.\n",
      "    \n",
      "    test_size : float or int, default=None\n",
      "        If float, should be between 0.0 and 1.0 and represent the proportion\n",
      "        of the dataset to include in the test split. If int, represents the\n",
      "        absolute number of test samples. If None, the value is set to the\n",
      "        complement of the train size. If ``train_size`` is also None, it will\n",
      "        be set to 0.25.\n",
      "    \n",
      "    train_size : float or int, default=None\n",
      "        If float, should be between 0.0 and 1.0 and represent the\n",
      "        proportion of the dataset to include in the train split. If\n",
      "        int, represents the absolute number of train samples. If None,\n",
      "        the value is automatically set to the complement of the test size.\n",
      "    \n",
      "    random_state : int, RandomState instance or None, default=None\n",
      "        Controls the shuffling applied to the data before applying the split.\n",
      "        Pass an int for reproducible output across multiple function calls.\n",
      "        See :term:`Glossary <random_state>`.\n",
      "    \n",
      "    shuffle : bool, default=True\n",
      "        Whether or not to shuffle the data before splitting. If shuffle=False\n",
      "        then stratify must be None.\n",
      "    \n",
      "    stratify : array-like, default=None\n",
      "        If not None, data is split in a stratified fashion, using this as\n",
      "        the class labels.\n",
      "        Read more in the :ref:`User Guide <stratification>`.\n",
      "    \n",
      "    Returns\n",
      "    -------\n",
      "    splitting : list, length=2 * len(arrays)\n",
      "        List containing train-test split of inputs.\n",
      "    \n",
      "        .. versionadded:: 0.16\n",
      "            If the input is sparse, the output will be a\n",
      "            ``scipy.sparse.csr_matrix``. Else, output type is the same as the\n",
      "            input type.\n",
      "    \n",
      "    Examples\n",
      "    --------\n",
      "    >>> import numpy as np\n",
      "    >>> from sklearn.model_selection import train_test_split\n",
      "    >>> X, y = np.arange(10).reshape((5, 2)), range(5)\n",
      "    >>> X\n",
      "    array([[0, 1],\n",
      "           [2, 3],\n",
      "           [4, 5],\n",
      "           [6, 7],\n",
      "           [8, 9]])\n",
      "    >>> list(y)\n",
      "    [0, 1, 2, 3, 4]\n",
      "    \n",
      "    >>> X_train, X_test, y_train, y_test = train_test_split(\n",
      "    ...     X, y, test_size=0.33, random_state=42)\n",
      "    ...\n",
      "    >>> X_train\n",
      "    array([[4, 5],\n",
      "           [0, 1],\n",
      "           [6, 7]])\n",
      "    >>> y_train\n",
      "    [2, 0, 3]\n",
      "    >>> X_test\n",
      "    array([[2, 3],\n",
      "           [8, 9]])\n",
      "    >>> y_test\n",
      "    [1, 4]\n",
      "    \n",
      "    >>> train_test_split(y, shuffle=False)\n",
      "    [[0, 1, 2], [3, 4]]\n",
      "\n"
     ]
    }
   ],
   "source": [
    "from sklearn.model_selection import train_test_split\n",
    "help(train_test_split)"
   ]
  },
  {
   "cell_type": "markdown",
   "id": "02930419",
   "metadata": {},
   "source": [
    "# train_test_split() random_state parameter"
   ]
  },
  {
   "cell_type": "code",
   "execution_count": 18,
   "id": "7f1dd7e7-0956-46be-a745-3c38b27392cb",
   "metadata": {},
   "outputs": [],
   "source": [
    "from sklearn.model_selection import train_test_split\n",
    "X_train, X_test, y_train, y_test = train_test_split(iris_dataset['data'], iris_dataset['target'], random_state=0)"
   ]
  },
  {
   "cell_type": "markdown",
   "id": "8570f93d-44da-4e62-85c0-d664c14fe0ec",
   "metadata": {},
   "source": [
    "## First Things First: Look at Your Data\n",
    "- Potentially your problem to solve doesn't need ML, so maybe see if the answer is already available in the data?\n",
    "- Also it's a good way to validate the data, ensure all measurements are in cm and not inches for example?\n",
    "- One of the best ways to visualize data is by scatter plot\n",
    "- A scatter plot is good for visualizing two features, but becomes tricky with any more\n",
    "- A pair plot looks at all possible pairs of features \n",
    "- To create a pair plot do the following:"
   ]
  },
  {
   "cell_type": "code",
   "execution_count": null,
   "id": "135476de-93c9-4e4e-9021-a685e6069a0c",
   "metadata": {},
   "outputs": [],
   "source": [
    "# 1. Create a df from the data in X_train\n",
    "# 2. Label the columns using the strings in iris_dataset.feature_names\n",
    "df = pd.DataFrame(X_train, columns = iris_dataset.feature_names)\n",
    "\n",
    "# 3. Create a scatter matrix from the dataframe, color by y_train\n",
    "catch = pd.plotting.scatter_matrix(df, c=y_train, figsize=(15, 15), marker='o',hist_kwds={'bins': 20}, s=60, alpha=.8, cmap=mglearn.cm3)"
   ]
  },
  {
   "cell_type": "markdown",
   "id": "8873ae0e-c23d-4654-a81f-254c131ae0b2",
   "metadata": {},
   "source": [
    "## Building Your First Model: k-Nearest Neighbors"
   ]
  },
  {
   "cell_type": "code",
   "execution_count": null,
   "id": "91cefe11-5d68-4120-babb-83ba5e4bbe34",
   "metadata": {},
   "outputs": [],
   "source": [
    "from sklearn.neighbors import KNeighborsClassifier\n",
    "Knn = KNeighborsClassifier(n_neighbors=1)\n",
    "dir(Knn)\n"
   ]
  },
  {
   "cell_type": "markdown",
   "id": "35306e16-82af-45ca-bb25-8fc6687f417a",
   "metadata": {},
   "source": [
    "To build the model on the training set, we call the fit method of the knn object,\n",
    "which takes as arguments the NumPy array X_train containing the training data and\n",
    "the NumPy array y_train of the corresponding training labels:"
   ]
  },
  {
   "cell_type": "code",
   "execution_count": 38,
   "id": "7c638c30",
   "metadata": {},
   "outputs": [
    {
     "name": "stdout",
     "output_type": "stream",
     "text": [
      "X_Train shape: (112, 4)\n",
      "First entry in X_train is: [5.9 3.  4.2 1.5]\n"
     ]
    }
   ],
   "source": [
    "X_train, X_test, y_train, y_test = train_test_split(iris_dataset['data'], iris_dataset['target'], random_state=0)\n",
    "print(f\"X_Train shape: {X_train.shape}\")\n",
    "print(f\"First entry in X_train is: {X_train[0]}\")"
   ]
  },
  {
   "cell_type": "code",
   "execution_count": 41,
   "id": "5964c92f-63f0-41c4-867e-921c0ce6e79a",
   "metadata": {},
   "outputs": [
    {
     "data": {
      "text/html": [
       "<style>#sk-container-id-3 {\n",
       "  /* Definition of color scheme common for light and dark mode */\n",
       "  --sklearn-color-text: black;\n",
       "  --sklearn-color-line: gray;\n",
       "  /* Definition of color scheme for unfitted estimators */\n",
       "  --sklearn-color-unfitted-level-0: #fff5e6;\n",
       "  --sklearn-color-unfitted-level-1: #f6e4d2;\n",
       "  --sklearn-color-unfitted-level-2: #ffe0b3;\n",
       "  --sklearn-color-unfitted-level-3: chocolate;\n",
       "  /* Definition of color scheme for fitted estimators */\n",
       "  --sklearn-color-fitted-level-0: #f0f8ff;\n",
       "  --sklearn-color-fitted-level-1: #d4ebff;\n",
       "  --sklearn-color-fitted-level-2: #b3dbfd;\n",
       "  --sklearn-color-fitted-level-3: cornflowerblue;\n",
       "\n",
       "  /* Specific color for light theme */\n",
       "  --sklearn-color-text-on-default-background: var(--sg-text-color, var(--theme-code-foreground, var(--jp-content-font-color1, black)));\n",
       "  --sklearn-color-background: var(--sg-background-color, var(--theme-background, var(--jp-layout-color0, white)));\n",
       "  --sklearn-color-border-box: var(--sg-text-color, var(--theme-code-foreground, var(--jp-content-font-color1, black)));\n",
       "  --sklearn-color-icon: #696969;\n",
       "\n",
       "  @media (prefers-color-scheme: dark) {\n",
       "    /* Redefinition of color scheme for dark theme */\n",
       "    --sklearn-color-text-on-default-background: var(--sg-text-color, var(--theme-code-foreground, var(--jp-content-font-color1, white)));\n",
       "    --sklearn-color-background: var(--sg-background-color, var(--theme-background, var(--jp-layout-color0, #111)));\n",
       "    --sklearn-color-border-box: var(--sg-text-color, var(--theme-code-foreground, var(--jp-content-font-color1, white)));\n",
       "    --sklearn-color-icon: #878787;\n",
       "  }\n",
       "}\n",
       "\n",
       "#sk-container-id-3 {\n",
       "  color: var(--sklearn-color-text);\n",
       "}\n",
       "\n",
       "#sk-container-id-3 pre {\n",
       "  padding: 0;\n",
       "}\n",
       "\n",
       "#sk-container-id-3 input.sk-hidden--visually {\n",
       "  border: 0;\n",
       "  clip: rect(1px 1px 1px 1px);\n",
       "  clip: rect(1px, 1px, 1px, 1px);\n",
       "  height: 1px;\n",
       "  margin: -1px;\n",
       "  overflow: hidden;\n",
       "  padding: 0;\n",
       "  position: absolute;\n",
       "  width: 1px;\n",
       "}\n",
       "\n",
       "#sk-container-id-3 div.sk-dashed-wrapped {\n",
       "  border: 1px dashed var(--sklearn-color-line);\n",
       "  margin: 0 0.4em 0.5em 0.4em;\n",
       "  box-sizing: border-box;\n",
       "  padding-bottom: 0.4em;\n",
       "  background-color: var(--sklearn-color-background);\n",
       "}\n",
       "\n",
       "#sk-container-id-3 div.sk-container {\n",
       "  /* jupyter's `normalize.less` sets `[hidden] { display: none; }`\n",
       "     but bootstrap.min.css set `[hidden] { display: none !important; }`\n",
       "     so we also need the `!important` here to be able to override the\n",
       "     default hidden behavior on the sphinx rendered scikit-learn.org.\n",
       "     See: https://github.com/scikit-learn/scikit-learn/issues/21755 */\n",
       "  display: inline-block !important;\n",
       "  position: relative;\n",
       "}\n",
       "\n",
       "#sk-container-id-3 div.sk-text-repr-fallback {\n",
       "  display: none;\n",
       "}\n",
       "\n",
       "div.sk-parallel-item,\n",
       "div.sk-serial,\n",
       "div.sk-item {\n",
       "  /* draw centered vertical line to link estimators */\n",
       "  background-image: linear-gradient(var(--sklearn-color-text-on-default-background), var(--sklearn-color-text-on-default-background));\n",
       "  background-size: 2px 100%;\n",
       "  background-repeat: no-repeat;\n",
       "  background-position: center center;\n",
       "}\n",
       "\n",
       "/* Parallel-specific style estimator block */\n",
       "\n",
       "#sk-container-id-3 div.sk-parallel-item::after {\n",
       "  content: \"\";\n",
       "  width: 100%;\n",
       "  border-bottom: 2px solid var(--sklearn-color-text-on-default-background);\n",
       "  flex-grow: 1;\n",
       "}\n",
       "\n",
       "#sk-container-id-3 div.sk-parallel {\n",
       "  display: flex;\n",
       "  align-items: stretch;\n",
       "  justify-content: center;\n",
       "  background-color: var(--sklearn-color-background);\n",
       "  position: relative;\n",
       "}\n",
       "\n",
       "#sk-container-id-3 div.sk-parallel-item {\n",
       "  display: flex;\n",
       "  flex-direction: column;\n",
       "}\n",
       "\n",
       "#sk-container-id-3 div.sk-parallel-item:first-child::after {\n",
       "  align-self: flex-end;\n",
       "  width: 50%;\n",
       "}\n",
       "\n",
       "#sk-container-id-3 div.sk-parallel-item:last-child::after {\n",
       "  align-self: flex-start;\n",
       "  width: 50%;\n",
       "}\n",
       "\n",
       "#sk-container-id-3 div.sk-parallel-item:only-child::after {\n",
       "  width: 0;\n",
       "}\n",
       "\n",
       "/* Serial-specific style estimator block */\n",
       "\n",
       "#sk-container-id-3 div.sk-serial {\n",
       "  display: flex;\n",
       "  flex-direction: column;\n",
       "  align-items: center;\n",
       "  background-color: var(--sklearn-color-background);\n",
       "  padding-right: 1em;\n",
       "  padding-left: 1em;\n",
       "}\n",
       "\n",
       "\n",
       "/* Toggleable style: style used for estimator/Pipeline/ColumnTransformer box that is\n",
       "clickable and can be expanded/collapsed.\n",
       "- Pipeline and ColumnTransformer use this feature and define the default style\n",
       "- Estimators will overwrite some part of the style using the `sk-estimator` class\n",
       "*/\n",
       "\n",
       "/* Pipeline and ColumnTransformer style (default) */\n",
       "\n",
       "#sk-container-id-3 div.sk-toggleable {\n",
       "  /* Default theme specific background. It is overwritten whether we have a\n",
       "  specific estimator or a Pipeline/ColumnTransformer */\n",
       "  background-color: var(--sklearn-color-background);\n",
       "}\n",
       "\n",
       "/* Toggleable label */\n",
       "#sk-container-id-3 label.sk-toggleable__label {\n",
       "  cursor: pointer;\n",
       "  display: block;\n",
       "  width: 100%;\n",
       "  margin-bottom: 0;\n",
       "  padding: 0.5em;\n",
       "  box-sizing: border-box;\n",
       "  text-align: center;\n",
       "}\n",
       "\n",
       "#sk-container-id-3 label.sk-toggleable__label-arrow:before {\n",
       "  /* Arrow on the left of the label */\n",
       "  content: \"▸\";\n",
       "  float: left;\n",
       "  margin-right: 0.25em;\n",
       "  color: var(--sklearn-color-icon);\n",
       "}\n",
       "\n",
       "#sk-container-id-3 label.sk-toggleable__label-arrow:hover:before {\n",
       "  color: var(--sklearn-color-text);\n",
       "}\n",
       "\n",
       "/* Toggleable content - dropdown */\n",
       "\n",
       "#sk-container-id-3 div.sk-toggleable__content {\n",
       "  max-height: 0;\n",
       "  max-width: 0;\n",
       "  overflow: hidden;\n",
       "  text-align: left;\n",
       "  /* unfitted */\n",
       "  background-color: var(--sklearn-color-unfitted-level-0);\n",
       "}\n",
       "\n",
       "#sk-container-id-3 div.sk-toggleable__content.fitted {\n",
       "  /* fitted */\n",
       "  background-color: var(--sklearn-color-fitted-level-0);\n",
       "}\n",
       "\n",
       "#sk-container-id-3 div.sk-toggleable__content pre {\n",
       "  margin: 0.2em;\n",
       "  border-radius: 0.25em;\n",
       "  color: var(--sklearn-color-text);\n",
       "  /* unfitted */\n",
       "  background-color: var(--sklearn-color-unfitted-level-0);\n",
       "}\n",
       "\n",
       "#sk-container-id-3 div.sk-toggleable__content.fitted pre {\n",
       "  /* unfitted */\n",
       "  background-color: var(--sklearn-color-fitted-level-0);\n",
       "}\n",
       "\n",
       "#sk-container-id-3 input.sk-toggleable__control:checked~div.sk-toggleable__content {\n",
       "  /* Expand drop-down */\n",
       "  max-height: 200px;\n",
       "  max-width: 100%;\n",
       "  overflow: auto;\n",
       "}\n",
       "\n",
       "#sk-container-id-3 input.sk-toggleable__control:checked~label.sk-toggleable__label-arrow:before {\n",
       "  content: \"▾\";\n",
       "}\n",
       "\n",
       "/* Pipeline/ColumnTransformer-specific style */\n",
       "\n",
       "#sk-container-id-3 div.sk-label input.sk-toggleable__control:checked~label.sk-toggleable__label {\n",
       "  color: var(--sklearn-color-text);\n",
       "  background-color: var(--sklearn-color-unfitted-level-2);\n",
       "}\n",
       "\n",
       "#sk-container-id-3 div.sk-label.fitted input.sk-toggleable__control:checked~label.sk-toggleable__label {\n",
       "  background-color: var(--sklearn-color-fitted-level-2);\n",
       "}\n",
       "\n",
       "/* Estimator-specific style */\n",
       "\n",
       "/* Colorize estimator box */\n",
       "#sk-container-id-3 div.sk-estimator input.sk-toggleable__control:checked~label.sk-toggleable__label {\n",
       "  /* unfitted */\n",
       "  background-color: var(--sklearn-color-unfitted-level-2);\n",
       "}\n",
       "\n",
       "#sk-container-id-3 div.sk-estimator.fitted input.sk-toggleable__control:checked~label.sk-toggleable__label {\n",
       "  /* fitted */\n",
       "  background-color: var(--sklearn-color-fitted-level-2);\n",
       "}\n",
       "\n",
       "#sk-container-id-3 div.sk-label label.sk-toggleable__label,\n",
       "#sk-container-id-3 div.sk-label label {\n",
       "  /* The background is the default theme color */\n",
       "  color: var(--sklearn-color-text-on-default-background);\n",
       "}\n",
       "\n",
       "/* On hover, darken the color of the background */\n",
       "#sk-container-id-3 div.sk-label:hover label.sk-toggleable__label {\n",
       "  color: var(--sklearn-color-text);\n",
       "  background-color: var(--sklearn-color-unfitted-level-2);\n",
       "}\n",
       "\n",
       "/* Label box, darken color on hover, fitted */\n",
       "#sk-container-id-3 div.sk-label.fitted:hover label.sk-toggleable__label.fitted {\n",
       "  color: var(--sklearn-color-text);\n",
       "  background-color: var(--sklearn-color-fitted-level-2);\n",
       "}\n",
       "\n",
       "/* Estimator label */\n",
       "\n",
       "#sk-container-id-3 div.sk-label label {\n",
       "  font-family: monospace;\n",
       "  font-weight: bold;\n",
       "  display: inline-block;\n",
       "  line-height: 1.2em;\n",
       "}\n",
       "\n",
       "#sk-container-id-3 div.sk-label-container {\n",
       "  text-align: center;\n",
       "}\n",
       "\n",
       "/* Estimator-specific */\n",
       "#sk-container-id-3 div.sk-estimator {\n",
       "  font-family: monospace;\n",
       "  border: 1px dotted var(--sklearn-color-border-box);\n",
       "  border-radius: 0.25em;\n",
       "  box-sizing: border-box;\n",
       "  margin-bottom: 0.5em;\n",
       "  /* unfitted */\n",
       "  background-color: var(--sklearn-color-unfitted-level-0);\n",
       "}\n",
       "\n",
       "#sk-container-id-3 div.sk-estimator.fitted {\n",
       "  /* fitted */\n",
       "  background-color: var(--sklearn-color-fitted-level-0);\n",
       "}\n",
       "\n",
       "/* on hover */\n",
       "#sk-container-id-3 div.sk-estimator:hover {\n",
       "  /* unfitted */\n",
       "  background-color: var(--sklearn-color-unfitted-level-2);\n",
       "}\n",
       "\n",
       "#sk-container-id-3 div.sk-estimator.fitted:hover {\n",
       "  /* fitted */\n",
       "  background-color: var(--sklearn-color-fitted-level-2);\n",
       "}\n",
       "\n",
       "/* Specification for estimator info (e.g. \"i\" and \"?\") */\n",
       "\n",
       "/* Common style for \"i\" and \"?\" */\n",
       "\n",
       ".sk-estimator-doc-link,\n",
       "a:link.sk-estimator-doc-link,\n",
       "a:visited.sk-estimator-doc-link {\n",
       "  float: right;\n",
       "  font-size: smaller;\n",
       "  line-height: 1em;\n",
       "  font-family: monospace;\n",
       "  background-color: var(--sklearn-color-background);\n",
       "  border-radius: 1em;\n",
       "  height: 1em;\n",
       "  width: 1em;\n",
       "  text-decoration: none !important;\n",
       "  margin-left: 1ex;\n",
       "  /* unfitted */\n",
       "  border: var(--sklearn-color-unfitted-level-1) 1pt solid;\n",
       "  color: var(--sklearn-color-unfitted-level-1);\n",
       "}\n",
       "\n",
       ".sk-estimator-doc-link.fitted,\n",
       "a:link.sk-estimator-doc-link.fitted,\n",
       "a:visited.sk-estimator-doc-link.fitted {\n",
       "  /* fitted */\n",
       "  border: var(--sklearn-color-fitted-level-1) 1pt solid;\n",
       "  color: var(--sklearn-color-fitted-level-1);\n",
       "}\n",
       "\n",
       "/* On hover */\n",
       "div.sk-estimator:hover .sk-estimator-doc-link:hover,\n",
       ".sk-estimator-doc-link:hover,\n",
       "div.sk-label-container:hover .sk-estimator-doc-link:hover,\n",
       ".sk-estimator-doc-link:hover {\n",
       "  /* unfitted */\n",
       "  background-color: var(--sklearn-color-unfitted-level-3);\n",
       "  color: var(--sklearn-color-background);\n",
       "  text-decoration: none;\n",
       "}\n",
       "\n",
       "div.sk-estimator.fitted:hover .sk-estimator-doc-link.fitted:hover,\n",
       ".sk-estimator-doc-link.fitted:hover,\n",
       "div.sk-label-container:hover .sk-estimator-doc-link.fitted:hover,\n",
       ".sk-estimator-doc-link.fitted:hover {\n",
       "  /* fitted */\n",
       "  background-color: var(--sklearn-color-fitted-level-3);\n",
       "  color: var(--sklearn-color-background);\n",
       "  text-decoration: none;\n",
       "}\n",
       "\n",
       "/* Span, style for the box shown on hovering the info icon */\n",
       ".sk-estimator-doc-link span {\n",
       "  display: none;\n",
       "  z-index: 9999;\n",
       "  position: relative;\n",
       "  font-weight: normal;\n",
       "  right: .2ex;\n",
       "  padding: .5ex;\n",
       "  margin: .5ex;\n",
       "  width: min-content;\n",
       "  min-width: 20ex;\n",
       "  max-width: 50ex;\n",
       "  color: var(--sklearn-color-text);\n",
       "  box-shadow: 2pt 2pt 4pt #999;\n",
       "  /* unfitted */\n",
       "  background: var(--sklearn-color-unfitted-level-0);\n",
       "  border: .5pt solid var(--sklearn-color-unfitted-level-3);\n",
       "}\n",
       "\n",
       ".sk-estimator-doc-link.fitted span {\n",
       "  /* fitted */\n",
       "  background: var(--sklearn-color-fitted-level-0);\n",
       "  border: var(--sklearn-color-fitted-level-3);\n",
       "}\n",
       "\n",
       ".sk-estimator-doc-link:hover span {\n",
       "  display: block;\n",
       "}\n",
       "\n",
       "/* \"?\"-specific style due to the `<a>` HTML tag */\n",
       "\n",
       "#sk-container-id-3 a.estimator_doc_link {\n",
       "  float: right;\n",
       "  font-size: 1rem;\n",
       "  line-height: 1em;\n",
       "  font-family: monospace;\n",
       "  background-color: var(--sklearn-color-background);\n",
       "  border-radius: 1rem;\n",
       "  height: 1rem;\n",
       "  width: 1rem;\n",
       "  text-decoration: none;\n",
       "  /* unfitted */\n",
       "  color: var(--sklearn-color-unfitted-level-1);\n",
       "  border: var(--sklearn-color-unfitted-level-1) 1pt solid;\n",
       "}\n",
       "\n",
       "#sk-container-id-3 a.estimator_doc_link.fitted {\n",
       "  /* fitted */\n",
       "  border: var(--sklearn-color-fitted-level-1) 1pt solid;\n",
       "  color: var(--sklearn-color-fitted-level-1);\n",
       "}\n",
       "\n",
       "/* On hover */\n",
       "#sk-container-id-3 a.estimator_doc_link:hover {\n",
       "  /* unfitted */\n",
       "  background-color: var(--sklearn-color-unfitted-level-3);\n",
       "  color: var(--sklearn-color-background);\n",
       "  text-decoration: none;\n",
       "}\n",
       "\n",
       "#sk-container-id-3 a.estimator_doc_link.fitted:hover {\n",
       "  /* fitted */\n",
       "  background-color: var(--sklearn-color-fitted-level-3);\n",
       "}\n",
       "</style><div id=\"sk-container-id-3\" class=\"sk-top-container\"><div class=\"sk-text-repr-fallback\"><pre>KNeighborsClassifier(n_neighbors=1)</pre><b>In a Jupyter environment, please rerun this cell to show the HTML representation or trust the notebook. <br />On GitHub, the HTML representation is unable to render, please try loading this page with nbviewer.org.</b></div><div class=\"sk-container\" hidden><div class=\"sk-item\"><div class=\"sk-estimator fitted sk-toggleable\"><input class=\"sk-toggleable__control sk-hidden--visually\" id=\"sk-estimator-id-3\" type=\"checkbox\" checked><label for=\"sk-estimator-id-3\" class=\"sk-toggleable__label fitted sk-toggleable__label-arrow fitted\">&nbsp;&nbsp;KNeighborsClassifier<a class=\"sk-estimator-doc-link fitted\" rel=\"noreferrer\" target=\"_blank\" href=\"https://scikit-learn.org/1.5/modules/generated/sklearn.neighbors.KNeighborsClassifier.html\">?<span>Documentation for KNeighborsClassifier</span></a><span class=\"sk-estimator-doc-link fitted\">i<span>Fitted</span></span></label><div class=\"sk-toggleable__content fitted\"><pre>KNeighborsClassifier(n_neighbors=1)</pre></div> </div></div></div></div>"
      ],
      "text/plain": [
       "KNeighborsClassifier(n_neighbors=1)"
      ]
     },
     "execution_count": 41,
     "metadata": {},
     "output_type": "execute_result"
    }
   ],
   "source": [
    "Knn.fit(X_train, y_train)"
   ]
  },
  {
   "cell_type": "markdown",
   "id": "58d6a285-60ed-40a7-b7e0-cbfb43807b80",
   "metadata": {},
   "source": [
    "## Making a random prediction"
   ]
  },
  {
   "cell_type": "markdown",
   "id": "f8300155-5b8d-4e47-bf27-4e900768f851",
   "metadata": {},
   "source": [
    "Imagine we found an iris in the wild with the following:  \n",
    "- Sepal length = 5cm\n",
    "- Sepal width = 2.9cm\n",
    "- Petal length = 1cm\n",
    "- Petal width 0.2cm  \n",
    "\n",
    "Note: \n",
    "- A two-dimensional array is a matrix  \n",
    "- A one-dimensional array is a vector  \n",
    "- scikit-learn always expects two-dimensional arrays for the data."
   ]
  },
  {
   "cell_type": "code",
   "execution_count": null,
   "id": "e675030f-3501-4ee8-9490-d6147741360a",
   "metadata": {},
   "outputs": [],
   "source": [
    "X_new = np.array([[5, 2.9, 1, 0.2]])\n",
    "print(X_new.shape)\n",
    "display(X_new)\n",
    "type(X_new)"
   ]
  },
  {
   "cell_type": "code",
   "execution_count": null,
   "id": "f25c3264-5e7a-4cca-b8c2-9cb3d537350e",
   "metadata": {},
   "outputs": [],
   "source": [
    "prediction = Knn.predict(X_new)\n",
    "print(f\"The prediction value is: {prediction}\")\n",
    "print(f\"Which matches the species: {iris_dataset.target_names[prediction]}\")"
   ]
  },
  {
   "cell_type": "markdown",
   "id": "9a0cf1ae-d7b3-46de-8e36-7a91e8e8339b",
   "metadata": {},
   "source": [
    "## Evaluating the Model"
   ]
  },
  {
   "cell_type": "code",
   "execution_count": 58,
   "id": "d2dc7c67-9630-458d-a61b-2de4c044e1c2",
   "metadata": {},
   "outputs": [
    {
     "name": "stdout",
     "output_type": "stream",
     "text": [
      "X_test class: <class 'numpy.ndarray'>\n",
      "X_test shape is a matrix: (38, 4)\n",
      "X_test first element is: [5.8 2.8 5.1 2.4]\n",
      "X_test length is: 38\n",
      "\n",
      "y_test class: <class 'numpy.ndarray'>\n",
      "y_test is a vector of labels (38,)\n",
      "y_test first element is: 2\n",
      "y_test length is: 38\n",
      "\n"
     ]
    }
   ],
   "source": [
    "X_train, X_test, y_train, y_test = train_test_split(iris_dataset['data'], iris_dataset['target'], random_state=0)\n",
    "\n",
    "print(f\"X_test class: {type(X_test)}\")\n",
    "print(f\"X_test shape is a matrix: {X_test.shape}\")\n",
    "print(f\"X_test first element is: {X_test[0]}\")\n",
    "print(f\"X_test length is: {len(X_test)}\\n\")\n",
    "\n",
    "print(f\"y_test class: {type(y_test)}\")\n",
    "print(f\"y_test is a vector of labels {y_test.shape}\")\n",
    "print(f\"y_test first element is: {y_test[0]}\")\n",
    "print(f\"y_test length is: {len(y_test)}\\n\")"
   ]
  },
  {
   "cell_type": "code",
   "execution_count": null,
   "id": "b5c8c677-4b05-4d87-8995-ce2c8a859d88",
   "metadata": {},
   "outputs": [],
   "source": [
    "print(f\"X_test is loaded into the model and the labels are predicted. The output contains the \\\"target\\\" predictions, so we store them in y_pred\\n\")\n",
    "\n",
    "y_pred = Knn.predict(X_test)\n",
    "\n",
    "# print(f\"{'X_test':<50} {'y_pred'}\")\n",
    "# for x, y in zip(X_test, y_pred):\n",
    "#     print(f\"{str(x):<50} {y}\")\n",
    "\n",
    "df = pd.DataFrame(X_test, columns = iris_dataset['feature_names'])\n",
    "df['Predicted'] = y_pred\n",
    "print(df)"
   ]
  },
  {
   "cell_type": "code",
   "execution_count": 65,
   "id": "60ca1421-4b36-4eb2-807c-a6f3a5828cd3",
   "metadata": {},
   "outputs": [
    {
     "name": "stdout",
     "output_type": "stream",
     "text": [
      "The score of accuracy of our model against the Training data is: 1.0\n",
      "The score of accuracy of our model against the Testing data is: 0.9736842105263158\n",
      "\n",
      "Finding the mean between y_test and y_pred: 0.9736842105263158\n",
      "\n",
      "The score of accuracy of our model with X_test and y_pred is: 1.0\n"
     ]
    }
   ],
   "source": [
    "print(f\"The score of accuracy of our model against the Training data is: {Knn.score(X_train, y_train)}\")\n",
    "print(f\"The score of accuracy of our model against the Testing data is: {Knn.score(X_test, y_test)}\\n\")\n",
    "\n",
    "y_pred = Knn.predict(X_test)\n",
    "print(f\"Finding the mean between y_test and y_pred: {np.mean(y_test == y_pred)}\\n\")\n",
    "\n",
    "print(f\"The score of accuracy of our model with X_test and y_pred is: {Knn.score(X_test, y_pred)}\")"
   ]
  },
  {
   "cell_type": "code",
   "execution_count": 68,
   "id": "3bcf6812",
   "metadata": {},
   "outputs": [
    {
     "name": "stdout",
     "output_type": "stream",
     "text": [
      "Score is: 0.9736842105263158\n"
     ]
    }
   ],
   "source": [
    "### The core code below\n",
    "X_train, X_test, y_train, y_test = train_test_split(iris_dataset['data'], iris_dataset['target'], random_state=0)\n",
    "Knn = KNeighborsClassifier(n_neighbors=2)\n",
    "Knn.fit(X_train, y_train)\n",
    "print(f\"Score is: {Knn.score(X_test, y_test)}\")"
   ]
  }
 ],
 "metadata": {
  "kernelspec": {
   "display_name": "Python 3 (ipykernel)",
   "language": "python",
   "name": "python3"
  },
  "language_info": {
   "codemirror_mode": {
    "name": "ipython",
    "version": 3
   },
   "file_extension": ".py",
   "mimetype": "text/x-python",
   "name": "python",
   "nbconvert_exporter": "python",
   "pygments_lexer": "ipython3",
   "version": "3.11.7"
  }
 },
 "nbformat": 4,
 "nbformat_minor": 5
}

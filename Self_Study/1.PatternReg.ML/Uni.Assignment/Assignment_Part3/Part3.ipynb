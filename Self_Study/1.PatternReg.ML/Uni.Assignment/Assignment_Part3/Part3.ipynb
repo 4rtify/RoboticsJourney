{
 "cells": [
  {
   "cell_type": "markdown",
   "metadata": {},
   "source": [
    "<center>\n",
    "    <h1>University of Canberra</h1>\n",
    "    <h3>11482 - Pattern Recognition and Machine Learning</h3>\n",
    "    <h3>Tutorial Class Thursday 0930 (Semester 2 / 2024)</h3>\n",
    "    <h2>Unit Project Stage 3</h2>\n",
    "    <h2>Group 101 (Individual)</h2>\n",
    "    <h2>James McGuinness</h2>\n",
    "    ______________________________________________________________________________________________________________________________________________________\n",
    "</center>\n"
   ]
  },
  {
   "cell_type": "markdown",
   "metadata": {},
   "source": [
    "Topic, author names, abstract for your paper summarising the project & outcomes in 100-150 words.  \n",
    "(see sample research papers and/or reports from previous semesters)  \n",
    "(*10 pts*)"
   ]
  },
  {
   "cell_type": "markdown",
   "metadata": {},
   "source": [
    "Introduction, Background & Motivation  \n",
    "(*5 pts*)"
   ]
  },
  {
   "cell_type": "markdown",
   "metadata": {},
   "source": []
  },
  {
   "cell_type": "markdown",
   "metadata": {},
   "source": [
    "Analysis of your project - explain what problem is to be solved and explain how.  \n",
    "(*5 pts*)"
   ]
  },
  {
   "cell_type": "markdown",
   "metadata": {},
   "source": []
  },
  {
   "cell_type": "markdown",
   "metadata": {},
   "source": [
    "Explain the reasoning behind the computational approach adopted, implementation strategies (which algorithms were chosen and why).  \n",
    "Choice of datasets and data visualisation and data description (summarise from Assignment 2).  \n",
    "(*8 pts*)"
   ]
  },
  {
   "cell_type": "markdown",
   "metadata": {},
   "source": []
  },
  {
   "cell_type": "markdown",
   "metadata": {},
   "source": [
    "Describe the evaluation harness developed for the chosen algorithms (C1)  \n",
    "(*6 pts*)"
   ]
  },
  {
   "cell_type": "markdown",
   "metadata": {},
   "source": []
  },
  {
   "cell_type": "markdown",
   "metadata": {},
   "source": [
    "Explain any optimisation methods you have used to improve results (C2)  \n",
    "(*5 pts*)"
   ]
  },
  {
   "cell_type": "markdown",
   "metadata": {},
   "source": []
  },
  {
   "cell_type": "markdown",
   "metadata": {},
   "source": [
    "Classification report (C3, C4) - present the classification statistics and explain how have you determined the best model from a spot-check on the selected algorithms.  \n",
    "(*8 pts*)"
   ]
  },
  {
   "cell_type": "markdown",
   "metadata": {},
   "source": []
  },
  {
   "cell_type": "markdown",
   "metadata": {},
   "source": [
    "Present visualisation of results and explain any insights from the best performing model.  \n",
    "(*5 pts*)"
   ]
  },
  {
   "cell_type": "markdown",
   "metadata": {},
   "source": []
  },
  {
   "cell_type": "markdown",
   "metadata": {},
   "source": [
    "Make predictions on sample unseen data (C5)  \n",
    "(*5 pts*)"
   ]
  },
  {
   "cell_type": "markdown",
   "metadata": {},
   "source": []
  },
  {
   "cell_type": "markdown",
   "metadata": {},
   "source": [
    "Explain how you would create a standalone model on entire training dataset (C6).  \n",
    "(*5 pts*)"
   ]
  },
  {
   "cell_type": "markdown",
   "metadata": {},
   "source": []
  },
  {
   "cell_type": "markdown",
   "metadata": {},
   "source": [
    "Saving model for later use (C7) - explain how the best model is saved and how it can be used to predict future unseen data.  \n",
    "Explain also how the model can be further tuned with new data for future use.  \n",
    "(*5 pts*)"
   ]
  },
  {
   "cell_type": "markdown",
   "metadata": {},
   "source": []
  },
  {
   "cell_type": "markdown",
   "metadata": {},
   "source": [
    "Appraise any ethical and privacy issues emerging from the problem and how you need to address them (C8)  \n",
    "(*5 pts*)"
   ]
  },
  {
   "cell_type": "markdown",
   "metadata": {},
   "source": []
  },
  {
   "cell_type": "markdown",
   "metadata": {},
   "source": [
    "Report on the project answering the above rubrics as a paper in a technical IEEE format - use A4 IEEE format.  \n",
    "Also given under Assignment 3 information. (Final Report in the project template)  \n",
    "(*6 pts*)"
   ]
  },
  {
   "cell_type": "markdown",
   "metadata": {},
   "source": []
  },
  {
   "cell_type": "markdown",
   "metadata": {},
   "source": [
    "Powerpoint slides summary of the report - 5-7 ppt slides.  \n",
    "Summary of project, summary of problem, major outcomes; Dataset, methodology, choice of models;  \n",
    "Evaluation, analysis; Conclusion, achievements; Any future work, prospects; Teamwork contributions.  \n",
    "*(Step D in the project template)*  \n",
    "(*6 pts*)"
   ]
  },
  {
   "cell_type": "markdown",
   "metadata": {},
   "source": []
  },
  {
   "cell_type": "markdown",
   "metadata": {},
   "source": [
    "Seminar recording for upload Video recording 5-10 mins Summary of project.  \n",
    "Summary of problem, major outcomes Dataset, methodology, choice of models Evaluation, analysis Conclusion, achievements Any future work, prospects Teamwork contributions.  \n",
    "*(Step D in the project template)*   \n",
    "(*6 pts*)"
   ]
  },
  {
   "cell_type": "markdown",
   "metadata": {},
   "source": []
  },
  {
   "cell_type": "markdown",
   "metadata": {},
   "source": [
    "Code used and/or developed (with internal documentation).  \n",
    "All code used from existing sources needs to be appropriately cited.  \n",
    "(*10 pts*)"
   ]
  },
  {
   "cell_type": "markdown",
   "metadata": {},
   "source": []
  }
 ],
 "metadata": {
  "kernelspec": {
   "display_name": "base",
   "language": "python",
   "name": "python3"
  },
  "language_info": {
   "codemirror_mode": {
    "name": "ipython",
    "version": 3
   },
   "file_extension": ".py",
   "mimetype": "text/x-python",
   "name": "python",
   "nbconvert_exporter": "python",
   "pygments_lexer": "ipython3",
   "version": "3.10.6"
  }
 },
 "nbformat": 4,
 "nbformat_minor": 2
}

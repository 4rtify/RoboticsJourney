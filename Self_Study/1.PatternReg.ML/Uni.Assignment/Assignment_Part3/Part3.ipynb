{
 "cells": [
  {
   "cell_type": "markdown",
   "metadata": {},
   "source": [
    "<center>\n",
    "    <h1>University of Canberra</h1>\n",
    "    <h3>11482 - Pattern Recognition and Machine Learning</h3>\n",
    "    <h3>Tutorial Class Thursday 0930 (Semester 2 / 2024)</h3>\n",
    "    <h2>Unit Project Stage 3</h2>\n",
    "    <h2>Group 101 (Individual)</h2>\n",
    "    <h2>James McGuinness</h2>\n",
    "    ______________________________________________________________________________________________________________________________________________________\n",
    "</center>\n"
   ]
  },
  {
   "cell_type": "markdown",
   "metadata": {},
   "source": [
    "Topic, author names, abstract for your paper summarising the project & outcomes in 100-150 words.  \n",
    "(see sample research papers and/or reports from previous semesters)  \n",
    "(*10 pts*)"
   ]
  },
  {
   "cell_type": "markdown",
   "metadata": {},
   "source": [
    "**Abstract** - This project explores the Breast Cancer dataset from sklearn, focusing on identifying key features to build a predictive model. I applied techniques from prior coursework on exploratory data analysis, leveraging new tools and insights. My approach emphasizes thorough data exploration, including feature correlation, visualizations, and statistical methods, to better understand the dataset. This assignment serves as both a technical exercise and a career exploration opportunity. The model aims to predict malignancy using machine learning techniques from sklearn, guided by visualization, expert resources, and AI assistance to enhance workflow efficiency and understanding of feature importance."
   ]
  },
  {
   "cell_type": "markdown",
   "metadata": {},
   "source": [
    "Introduction, Background & Motivation  \n",
    "(*5 pts*)"
   ]
  },
  {
   "cell_type": "markdown",
   "metadata": {},
   "source": [
    "- About the dataset\n",
    "- Topic studied at uni\n",
    "- About assignment part 2 - the huge amount of dev and test code, this is a summary of that work - further technical details can be found in assignment 2. Key points are taken from that assignment and referenced in this paper.\n",
    "- Motivation for the dataset"
   ]
  },
  {
   "cell_type": "markdown",
   "metadata": {},
   "source": [
    "Analysis of your project - explain what problem is to be solved and explain how.  \n",
    "(*5 pts*)"
   ]
  },
  {
   "cell_type": "markdown",
   "metadata": {},
   "source": [
    "- Supervised learning problem\n",
    "- The steps involved in Training a model and the purpose and capability it provides\n",
    "- We're solving the problem of detecting malignancy with a high accuracy and probability\n",
    "- This is achieved by using models and computer algorithms that model the data in a certain way, from this model eg: a fitted line; we can use this line to then predict the outcome of new given dataset that we don't know the outcome of.\n",
    "- As mentioned below, certain algorithms perform better on certain types of data, this problem is known as a Classification problem. Regression is another type of problem but is concerned with predicting an outcome of a continuous value."
   ]
  },
  {
   "cell_type": "markdown",
   "metadata": {},
   "source": [
    "Explain the reasoning behind the computational approach adopted, implementation strategies (which algorithms were chosen and why).  \n",
    "Choice of datasets and data visualisation and data description (summarise from Assignment 2).  \n",
    "(*8 pts*)"
   ]
  },
  {
   "cell_type": "markdown",
   "metadata": {},
   "source": [
    "- A computer approach removes the human error element, although it still does exist for example a mistake typed or mis-interpretation of results\n",
    "- I chose the following algorithms, however throughout the assignment it became apparent that certain algorithms are better suited to different types of data.\n",
    "- Below are some key visualisations chosen from the main body of assignment 2\n",
    "- Below are some key data descriptions chosen from the main body of assignment 2"
   ]
  },
  {
   "cell_type": "markdown",
   "metadata": {},
   "source": [
    "Describe the evaluation harness developed for the chosen algorithms (C1)  \n",
    "(*6 pts*)"
   ]
  },
  {
   "cell_type": "markdown",
   "metadata": {},
   "source": [
    "- The following harness was developed; the reason for creating a harness is to have a framework or system that is repeatable, allows control and management of the data and ML components and processes. The harness provides structure and control for the ML process and is outlined as the below steps:\n",
    "1. Split the data properly\n",
    "2. Validate and train in a repeatable way\n",
    "3. Test \n",
    "4. Consistent Report metrics\n",
    " "
   ]
  },
  {
   "cell_type": "markdown",
   "metadata": {},
   "source": [
    "Explain any optimisation methods you have used to improve results (C2)  \n",
    "(*5 pts*)"
   ]
  },
  {
   "cell_type": "markdown",
   "metadata": {},
   "source": []
  },
  {
   "cell_type": "markdown",
   "metadata": {},
   "source": [
    "Classification report (C3, C4) - present the classification statistics and explain how have you determined the best model from a spot-check on the selected algorithms.  \n",
    "(*8 pts*)"
   ]
  },
  {
   "cell_type": "markdown",
   "metadata": {},
   "source": []
  },
  {
   "cell_type": "markdown",
   "metadata": {},
   "source": [
    "Present visualisation of results and explain any insights from the best performing model.  \n",
    "(*5 pts*)"
   ]
  },
  {
   "cell_type": "markdown",
   "metadata": {},
   "source": []
  },
  {
   "cell_type": "markdown",
   "metadata": {},
   "source": [
    "Make predictions on sample unseen data (C5)  \n",
    "(*5 pts*)"
   ]
  },
  {
   "cell_type": "markdown",
   "metadata": {},
   "source": []
  },
  {
   "cell_type": "markdown",
   "metadata": {},
   "source": [
    "Explain how you would create a standalone model on entire training dataset (C6).  \n",
    "(*5 pts*)"
   ]
  },
  {
   "cell_type": "markdown",
   "metadata": {},
   "source": []
  },
  {
   "cell_type": "markdown",
   "metadata": {},
   "source": [
    "Saving model for later use (C7) - explain how the best model is saved and how it can be used to predict future unseen data.  \n",
    "Explain also how the model can be further tuned with new data for future use.  \n",
    "(*5 pts*)"
   ]
  },
  {
   "cell_type": "markdown",
   "metadata": {},
   "source": []
  },
  {
   "cell_type": "markdown",
   "metadata": {},
   "source": [
    "Appraise any ethical and privacy issues emerging from the problem and how you need to address them (C8)  \n",
    "(*5 pts*)"
   ]
  },
  {
   "cell_type": "markdown",
   "metadata": {},
   "source": []
  },
  {
   "cell_type": "markdown",
   "metadata": {},
   "source": [
    "Report on the project answering the above rubrics as a paper in a technical IEEE format - use A4 IEEE format.  \n",
    "Also given under Assignment 3 information. (Final Report in the project template)  \n",
    "(*6 pts*)"
   ]
  },
  {
   "cell_type": "markdown",
   "metadata": {},
   "source": []
  },
  {
   "cell_type": "markdown",
   "metadata": {},
   "source": [
    "Powerpoint slides summary of the report - 5-7 ppt slides.  \n",
    "Summary of project, summary of problem, major outcomes; Dataset, methodology, choice of models;  \n",
    "Evaluation, analysis; Conclusion, achievements; Any future work, prospects; Teamwork contributions.  \n",
    "*(Step D in the project template)*  \n",
    "(*6 pts*)"
   ]
  },
  {
   "cell_type": "markdown",
   "metadata": {},
   "source": []
  },
  {
   "cell_type": "markdown",
   "metadata": {},
   "source": [
    "Seminar recording for upload Video recording 5-10 mins Summary of project.  \n",
    "Summary of problem, major outcomes Dataset, methodology, choice of models Evaluation, analysis Conclusion, achievements Any future work, prospects Teamwork contributions.  \n",
    "*(Step D in the project template)*   \n",
    "(*6 pts*)"
   ]
  },
  {
   "cell_type": "markdown",
   "metadata": {},
   "source": []
  },
  {
   "cell_type": "markdown",
   "metadata": {},
   "source": [
    "Code used and/or developed (with internal documentation).  \n",
    "All code used from existing sources needs to be appropriately cited.  \n",
    "(*10 pts*)"
   ]
  },
  {
   "cell_type": "markdown",
   "metadata": {},
   "source": [
    "- Learning Python ML \n",
    "- Jason Brown Lee"
   ]
  }
 ],
 "metadata": {
  "kernelspec": {
   "display_name": "base",
   "language": "python",
   "name": "python3"
  },
  "language_info": {
   "codemirror_mode": {
    "name": "ipython",
    "version": 3
   },
   "file_extension": ".py",
   "mimetype": "text/x-python",
   "name": "python",
   "nbconvert_exporter": "python",
   "pygments_lexer": "ipython3",
   "version": "3.10.6"
  }
 },
 "nbformat": 4,
 "nbformat_minor": 2
}

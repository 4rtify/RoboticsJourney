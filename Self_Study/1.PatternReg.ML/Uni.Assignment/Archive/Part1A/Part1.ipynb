{
 "cells": [
  {
   "cell_type": "markdown",
   "metadata": {},
   "source": [
    "# Assignment 1 Part A - Stage 1\n",
    "#### 11482 - Pattern Recognition and Machine Learning\n",
    "#### James McGuinness (u3196600)\n",
    "#### "
   ]
  },
  {
   "cell_type": "markdown",
   "metadata": {},
   "source": [
    "# A1\n",
    "1. Provide a description of the problem, motivation and characterisation.  \n",
    "2. Identify and describe the dataset.  \n",
    "*(15 pts)*"
   ]
  },
  {
   "cell_type": "markdown",
   "metadata": {},
   "source": [
    "**Problem:**\n",
    "- **Identification of Malignant Tumors:** The goal is to develop a model that accurately identifies malignant tumors in breast scans based on the provided dataset.\n",
    "- **Importance:** Early and accurate detection of malignant tumors is crucial for effective treatment and can significantly improve patient outcomes.\n",
    "\n",
    "**Motivation:**\n",
    "- **Choice of Dataset:** The breast cancer dataset is chosen because it offers a manageable yet significant problem that allows you to understand key concepts like classification, confusion matrices, and evaluation metrics like false positives (FP) and false negatives (FN).\n",
    "- **Impact:** Automating tumor detection could reduce human error, speed up diagnosis, and potentially uncover patterns that aren't immediately obvious to human experts.\n",
    "\n",
    "**Motivation Clarification:**\n",
    "- **Skill Development:** The breast cancer dataset was chosen to deepen understanding of classification problems, confusion matrices, and other relevant concepts, which are foundational to more complex tasks like face recognition or space-related projects.\n",
    "\n",
    "**Characterization:**\n",
    "- **Supervised Learning:** This is a supervised learning problem where the task is to classify scans as either benign or malignant based on features extracted from the data.\n",
    "- **Patterns:** The features likely display patterns that correlate with the presence or absence of malignancy, making this a typical pattern recognition problem.\n",
    "\n",
    "### 2. Identification and Description of the Dataset\n",
    "\n",
    "**Dataset Overview:**\n",
    "- **Source:** The dataset contains breast scans with various measurements of tissue properties.\n",
    "- **Label:** Each sample is labeled as either benign or malignant.\n",
    "- **Features:** The dataset includes several features that could be indicators of malignancy, such as the size, shape, and texture of the tumor.\n",
    "\n",
    "**Details:**\n",
    "- **Samples:** The dataset is divided into training and testing sets, ensuring that the model is trained on a portion of the data and validated on a separate portion to evaluate its performance.\n",
    "- **Feature Description:** The dataset includes features such as mean radius, mean texture, mean perimeter, etc. These features are crucial for the model to identify patterns that correlate with malignancy.\n",
    "\n",
    "### Additional Considerations\n",
    "\n",
    "**Model Usage in Problem Solving and Decision-Making:**\n",
    "- **Clinical Decision Support:** The model could assist doctors in making more informed decisions by providing a second opinion based on data-driven patterns.\n",
    "- **Screening Programs:** It could be used in large-scale screening programs to quickly and efficiently analyze scans, prioritizing those that need further investigation."
   ]
  },
  {
   "cell_type": "markdown",
   "metadata": {},
   "source": [
    "# A2\n",
    "1. Identify questions to be investigated.  \n",
    "2. How would this model be used in decision making in the problem domain?  \n",
    "3. How would you use the model to draw outcomes for new cases?  \n",
    "*(15 pts)*"
   ]
  },
  {
   "cell_type": "markdown",
   "metadata": {},
   "source": [
    "- Investigate and characterize the problem\n",
    "  - In order to better understand the goals of the project\n",
    "  - Identify what questions will be investigated\n",
    "  - How will the models learned help in answering the questions\n",
    "  - How will the model be validated and used to predict unseen problems cases?"
   ]
  },
  {
   "cell_type": "markdown",
   "metadata": {},
   "source": [
    "## 1. Identify Questions to be Investigated\n",
    "\n",
    "**Research Questions:**\n",
    "\n",
    "- **Which Features are Most Effective?**  \n",
    "  - *Question:* What are the most significant features in the dataset that contribute to accurately identifying malignant tumors?  \n",
    "  - *Reasoning:* Understanding which features (e.g., mean radius, mean texture) have the most impact on the model's performance can help in refining the model and improving accuracy.\n",
    "\n",
    "- **Model Processing in Real-Time Scenarios:**  \n",
    "  - *Question:* How can the model be optimized to process breast scan data in real-time for clinical use?  \n",
    "  - *Reasoning:* Real-time processing is critical in clinical environments, where quick and accurate decisions can save lives. This question addresses the practicality of deploying the model in a real-world setting.\n",
    "\n",
    "- **Model's Performance on Unseen Data:**  \n",
    "  - *Question:* How well does the model generalize to new, unseen data?  \n",
    "  - *Reasoning:* It's essential to ensure that the model performs well not just on the training data but also on new cases it hasn't encountered before. This helps in assessing the model's reliability in predicting outcomes for future patients.\n",
    "\n",
    "## 2. How Would This Model Be Used in Decision Making in the Problem Domain?\n",
    "\n",
    "**Clinical Decision-Making:**\n",
    "\n",
    "- **Supporting Diagnoses:**  \n",
    "  The model can assist radiologists by providing a second opinion on breast scans, highlighting cases with a high probability of malignancy. This reduces the chances of misdiagnosis and ensures that suspicious cases are further investigated.\n",
    "\n",
    "- **Prioritization of Cases:**  \n",
    "  In a clinical setting, the model could be used to prioritize cases for review based on the likelihood of malignancy. This ensures that urgent cases are dealt with promptly.\n",
    "\n",
    "- **Continuous Learning:**  \n",
    "  The model could be updated continuously with new data, improving its accuracy and adaptability over time. This would help in keeping up with any changes in the characteristics of the data, such as new imaging techniques or demographic shifts.\n",
    "\n",
    "## 3. How Would You Use the Model to Draw Outcomes for New Cases?\n",
    "\n",
    "**Application to New Cases:**\n",
    "\n",
    "- **Input New Data:**  \n",
    "  For each new patient, the model would take the breast scan measurements as input and predict whether the tumor is likely to be malignant or benign.\n",
    "\n",
    "- **Predictive Outcome:**  \n",
    "  Based on the learned patterns from the training data, the model would output a probability score indicating the likelihood of malignancy. This score would be used to classify the tumor as benign or malignant.\n",
    "\n",
    "- **Validation with Real Data:**  \n",
    "  The model's predictions on new data can be validated by comparing them with the actual outcomes. This feedback loop would help in refining the model further.\n",
    "\n",
    "## Additional Considerations\n",
    "\n",
    "**Model Validation and Prediction:**\n",
    "\n",
    "- **Validation Strategy:**  \n",
    "  The model will be validated using a separate test dataset that the model has not seen during training. Common strategies include cross-validation or a train-test split, ensuring the model's performance is robust and not overfitting.\n",
    "\n",
    "- **Unseen Problem Cases:**  \n",
    "  By applying the model to unseen cases (test data), we can assess its ability to generalize. A high performance on the test data would indicate that the model can reliably predict outcomes for new patients.\n",
    "\n",
    "- **Real-Time Implementation:**  \n",
    "  For real-time decision-making, the model must be optimized for speed and accuracy, potentially integrating with existing medical systems to provide instant feedback.\n"
   ]
  },
  {
   "cell_type": "markdown",
   "metadata": {},
   "source": [
    "# A3\n",
    "1. Explain why the problem is a PRML problem with reference to the design steps of a PRML solution.  \n",
    "2. Discuss what 'pattern recognition' will be involved and how machine learning will be used in the design.  \n",
    "3. Identify 3-4 ML algorithms you would be investigating for the selected problem, explain why are they suited?  \n",
    "4. Explain why the proposed project qualifies as a pattern recognition and machine learning problem?  \n",
    "(*15 pts*)"
   ]
  },
  {
   "cell_type": "markdown",
   "metadata": {},
   "source": [
    "## 1. Why the Problem is a PRML Problem\n",
    "\n",
    "The breast cancer detection problem qualifies as a Pattern Recognition and Machine Learning (PRML) problem due to the following reasons:\n",
    "\n",
    "**Pattern Recognition Design Steps:**\n",
    "- **Problem Definition:** The task is to classify breast scans into malignant or benign categories. This involves recognizing patterns in the scan features that correlate with the malignancy of tumors.\n",
    "- **Feature Extraction:** Relevant features are extracted from the scan data, such as mean radius, texture, and perimeter. These features serve as inputs for the machine learning algorithms.\n",
    "- **Model Training and Testing:** The dataset is split into training and testing sets. A model is trained on the training set to learn the patterns and is evaluated on the test set to measure its performance.\n",
    "- **Model Validation:** Validation techniques ensure that the model generalizes well to unseen data, which is crucial for its effectiveness in real-world scenarios.\n",
    "\n",
    "**Benefits:**\n",
    "- **For Patients and the Medical System:** Automating tumor detection using a machine learning model can enhance accuracy, reduce diagnostic errors, and expedite the process, potentially leading to better patient outcomes and more efficient medical practices.\n",
    "\n",
    "**Design Pipeline:**\n",
    "- **Data Collection:** Obtain and preprocess breast scan data.\n",
    "- **Feature Extraction:** Identify and extract relevant features from the scans.\n",
    "- **Model Selection:** Choose appropriate machine learning models.\n",
    "- **Training:** Train the models using labeled data.\n",
    "- **Evaluation:** Assess the model’s performance using metrics such as accuracy, precision, recall, and F1 score.\n",
    "- **Deployment:** Implement the model in a clinical setting for real-time predictions.\n",
    "\n",
    "## 2. Pattern Recognition and Machine Learning Involvement\n",
    "\n",
    "**Pattern Recognition:**\n",
    "- **Pattern Recognition Involvement:** The task involves identifying patterns in breast scan features that distinguish malignant tumors from benign ones. The pattern recognition aspect focuses on extracting meaningful patterns from the data to make accurate classifications.\n",
    "\n",
    "**Machine Learning Design:**\n",
    "- **Supervised Learning:** This problem is a supervised learning task, where the model learns from labeled data (i.e., scans with known malignancy status) to make predictions on new, unseen data.\n",
    "- **Model Training:** Machine learning algorithms are trained to recognize the patterns in the features that are indicative of malignancy.\n",
    "\n",
    "## 3. ML Algorithms to Investigate\n",
    "\n",
    "**1. Logistic Regression:**\n",
    "- **Suitability:** Logistic Regression is suited for binary classification problems and provides probabilities for class membership. It works well if the relationship between features and the outcome is approximately linear.\n",
    "\n",
    "**2. Support Vector Machines (SVM):**\n",
    "- **Suitability:** SVM is effective for classification tasks, especially when the data is not linearly separable. It finds the optimal hyperplane that maximizes the margin between classes.\n",
    "\n",
    "**3. Random Forest:**\n",
    "- **Suitability:** Random Forest is an ensemble method that uses multiple decision trees to improve accuracy and control overfitting. It handles both linear and non-linear relationships well.\n",
    "\n",
    "**4. Gradient Boosting Machines (GBM):**\n",
    "- **Suitability:** GBM builds models in a stage-wise manner, improving performance through iterative optimization. It is effective for capturing complex patterns in the data.\n",
    "\n",
    "**Reasoning:**\n",
    "- These algorithms are chosen because they handle classification problems effectively and can accommodate both linear and non-linear relationships in the data. They also offer various ways to deal with potential overfitting and model complexity.\n",
    "\n",
    "## 4. Why the Project Qualifies as a PRML Problem\n",
    "\n",
    "**Pattern Recognition and Machine Learning Problem:**\n",
    "- **Classification Task:** The problem involves classifying breast scans into malignant or benign categories, a typical pattern recognition problem.\n",
    "- **Feature-Based Decision Making:** The model uses extracted features to make predictions, which aligns with machine learning principles.\n",
    "- **Supervised Learning:** The dataset provides labeled examples, making it a supervised learning problem where the model learns from examples to generalize to new cases.\n",
    "\n",
    "**Linear vs. Non-Linear:**\n",
    "- **Relationship Exploration:** The relationship between features and the outcome may be linear or non-linear. Visualization and statistical analysis are used to determine the nature of these relationships.\n",
    "- **Model Choice:** Depending on the linearity of the data, parametric models (like Logistic Regression) or non-parametric models (like Deep Neural Networks) may be used.\n",
    "\n",
    "**Real-Time and Computational Requirements:**\n",
    "- **Real-Time Implementation:** For practical applications, the model must be optimized for real-time performance, especially in clinical settings where timely results are crucial.\n",
    "- **Computational Complexity:** The choice of model will depend on the computational resources available and the complexity of the data.\n",
    "\n",
    "By addressing these aspects, the project demonstrates a clear understanding of pattern recognition and machine learning principles and their application to the breast cancer detection problem."
   ]
  },
  {
   "cell_type": "markdown",
   "metadata": {},
   "source": [
    "- Write and submit a report of 2 pages > Convert to HTML > print to PDF"
   ]
  },
  {
   "cell_type": "markdown",
   "metadata": {},
   "source": [
    "# Rubric\n",
    "https://uclearn.canberra.edu.au/courses/16042/assignments/129302"
   ]
  },
  {
   "cell_type": "markdown",
   "metadata": {},
   "source": [
    "# References"
   ]
  },
  {
   "cell_type": "markdown",
   "metadata": {},
   "source": [
    "- TODO\n",
    "- ChatGPT\n",
    "- Kaggle\n",
    "- Learning python PDF"
   ]
  },
  {
   "cell_type": "markdown",
   "metadata": {},
   "source": [
    "**End of document**"
   ]
  }
 ],
 "metadata": {
  "kernelspec": {
   "display_name": "Python 3 (ipykernel)",
   "language": "python",
   "name": "python3"
  },
  "language_info": {
   "codemirror_mode": {
    "name": "ipython",
    "version": 3
   },
   "file_extension": ".py",
   "mimetype": "text/x-python",
   "name": "python",
   "nbconvert_exporter": "python",
   "pygments_lexer": "ipython3",
   "version": "3.11.7"
  }
 },
 "nbformat": 4,
 "nbformat_minor": 4
}

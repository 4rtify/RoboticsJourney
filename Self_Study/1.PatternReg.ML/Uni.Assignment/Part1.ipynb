{
 "cells": [
  {
   "cell_type": "markdown",
   "metadata": {},
   "source": [
    "# Assignment 1 Part A - Stage 1\n",
    "#### 11482 - Pattern Recognition and Machine Learning\n",
    "#### James McGuinness (u3196600)\n",
    "#### "
   ]
  },
  {
   "cell_type": "markdown",
   "metadata": {},
   "source": [
    "# Proposal\n",
    "1. Provide a description of the problem, motivation and characterisation.  \n",
    "2. Identify and describe the dataset.  \n",
    "3. Identify four learning models.  \n",
    "*(15 pts)*"
   ]
  },
  {
   "cell_type": "code",
   "execution_count": 15,
   "metadata": {},
   "outputs": [],
   "source": [
    "from sklearn.datasets import load_breast_cancer\n",
    "cancer = load_breast_cancer()\n",
    "X_train, X_test, y_train, y_test = train_test_split(cancer.data, cancer.target, stratify=cancer.target, random_state=66)"
   ]
  },
  {
   "cell_type": "markdown",
   "metadata": {},
   "source": [
    "# Goals\n",
    "1. Identify questions to be investigated.  \n",
    "2. How would this model be used in decision making in the problem domain?  \n",
    "3. How would you use the model to draw outcomes for new cases?  \n",
    "*(15 pts)*"
   ]
  },
  {
   "cell_type": "markdown",
   "metadata": {},
   "source": [
    "- Investigate and characterize the problem\n",
    "  - In order to better understand the goals of the project\n",
    "  - Identify what questions will be investigated\n",
    "  - How will the models learned help in answering the questions\n",
    "  - How will the model be validated and used to predict unseen problems cases?"
   ]
  },
  {
   "cell_type": "markdown",
   "metadata": {},
   "source": [
    "# Explanation\n",
    "1. Explain why the problem is a PRML problem with reference to the design steps of a PRML solution.  \n",
    "2. Discuss what 'pattern recognition' will be involved and how machine learning will be used in the design.  \n",
    "3. Identify 3-4 ML algorithms you would be investigating for the selected problem, explain why are they suited?  \n",
    "4. Explain why the proposed project qualifies as a pattern recognition and machine learning problem?  \n",
    "(*15 pts*)"
   ]
  },
  {
   "cell_type": "markdown",
   "metadata": {},
   "source": [
    "- Write and submit a report of 2 pages > Convert to HTML > print to PDF"
   ]
  },
  {
   "cell_type": "markdown",
   "metadata": {},
   "source": [
    "# Rubric\n",
    "https://uclearn.canberra.edu.au/courses/16042/assignments/129302"
   ]
  },
  {
   "cell_type": "markdown",
   "metadata": {},
   "source": [
    "# References"
   ]
  },
  {
   "cell_type": "markdown",
   "metadata": {},
   "source": [
    "- TODO\n",
    "- ChatGPT\n",
    "- Kaggle\n",
    "- Learning python PDF"
   ]
  },
  {
   "cell_type": "markdown",
   "metadata": {},
   "source": [
    "**End of document**"
   ]
  }
 ],
 "metadata": {
  "kernelspec": {
   "display_name": "base",
   "language": "python",
   "name": "python3"
  },
  "language_info": {
   "codemirror_mode": {
    "name": "ipython",
    "version": 3
   },
   "file_extension": ".py",
   "mimetype": "text/x-python",
   "name": "python",
   "nbconvert_exporter": "python",
   "pygments_lexer": "ipython3",
   "version": "3.11.7"
  }
 },
 "nbformat": 4,
 "nbformat_minor": 2
}

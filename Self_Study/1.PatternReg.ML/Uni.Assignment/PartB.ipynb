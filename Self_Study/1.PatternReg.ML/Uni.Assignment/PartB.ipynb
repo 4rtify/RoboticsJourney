{
 "cells": [
  {
   "cell_type": "markdown",
   "metadata": {},
   "source": [
    "# Assignment 1 Part B\n",
    "# Title Page"
   ]
  },
  {
   "cell_type": "markdown",
   "metadata": {},
   "source": [
    "https://www.kaggle.com/datasets/zalando-research/fashionmnist"
   ]
  },
  {
   "cell_type": "markdown",
   "metadata": {},
   "source": [
    "***1.*** Introduce the problem you wish to solve. Explain what questions would you want to ask from the dataset?\n",
    "- Part B1. Introduce the problem you wish to solve (use the MNIST case as a guide). Explain what questions would you want to ask from the selected dataset?\n",
    "- 10 pts"
   ]
  },
  {
   "cell_type": "markdown",
   "metadata": {},
   "source": [
    "- Referring to *LogisticRegression_PRML_MNIST.pdf* from Week 3:\n",
    "  - \"human benchmark for classifying MNIST is about 97.5% accuracy\"\n",
    "- I would like to see if I can score this\n",
    "- Noting this is a different dataset"
   ]
  },
  {
   "cell_type": "markdown",
   "metadata": {},
   "source": [
    "***2.*** Describe the dataset. What do the rows and columns mean and are there any special characteristics in the data to use in modelling the learning?\n",
    "- B2. Describe the dataset, how would you visualise data to extract patterns to use?\n",
    "- 5 pts\n"
   ]
  },
  {
   "cell_type": "markdown",
   "metadata": {},
   "source": [
    "- The Fashion-MNIST dataset contains pictures clothing. \n",
    "- The clothing is from a brand called Zalando. From a brief search online it appears Zalando is a clothing retailer and tech company.\n",
    "- Each picture is 28x28 pixels = 748 pixels\n",
    "- Each row represents an individual piece of clothing \n",
    "- Column 1 is the class label \n",
    "- Columns 2 to 748 are pixel integers, range from 1 to 255. "
   ]
  },
  {
   "cell_type": "markdown",
   "metadata": {},
   "source": [
    "***3.*** Explain why Logistic Regression would suit as the learning model to answer the questions.\n",
    "- B3. Explain why Logistic Regression suits the dataset and problems investigate.\n",
    "- 5 pts\n"
   ]
  },
  {
   "cell_type": "markdown",
   "metadata": {},
   "source": [
    "- I guess it's categorical data, so we'll use a classification algorithm "
   ]
  },
  {
   "cell_type": "markdown",
   "metadata": {},
   "source": [
    "# Python constructs – explain each step below"
   ]
  },
  {
   "cell_type": "markdown",
   "metadata": {},
   "source": [
    "***4.*** Retrieving data in the program\n",
    "- B4. Retrieving data in the program - explain how this is done?\n",
    "- 5 pts"
   ]
  },
  {
   "cell_type": "markdown",
   "metadata": {},
   "source": [
    "- Download zip folder from https://www.kaggle.com/datasets/zalando-research/fashionmnist\n",
    "- Extract the zip file to directory .\\Fashion-MNIST\n",
    "- Run below statements to import"
   ]
  },
  {
   "cell_type": "code",
   "execution_count": 63,
   "metadata": {},
   "outputs": [],
   "source": [
    "import pandas as pd\n",
    "train = pd.read_csv('.\\\\Fashion-MNIST\\\\fashion-mnist_train.csv')\n",
    "test = pd.read_csv('.\\\\Fashion-MNIST\\\\fashion-mnist_test.csv')"
   ]
  },
  {
   "cell_type": "markdown",
   "metadata": {},
   "source": [
    "***5.*** Exploring data – explain any special adaptation and characteristics  \n",
    "- i. Show image & data\n",
    "- ii. Show corresponding matrix\n",
    "- iii. Describe & understand the data\n",
    "- B5. Explore data for patterns and relationships as used in the design - use visualisation and other relevant statistics measures (as for MNIST).\n",
    "- 5 pts"
   ]
  },
  {
   "cell_type": "code",
   "execution_count": 20,
   "metadata": {},
   "outputs": [],
   "source": [
    "label_mapping = {\n",
    "    0: 'T-shirt',\n",
    "    1: 'Trouser',\n",
    "    2: 'Pullover',\n",
    "    3: 'Dress',\n",
    "    4: 'Coat',\n",
    "    5: 'Sandal',\n",
    "    6: 'Shirt',\n",
    "    7: 'Sneaker',\n",
    "    8: 'Bag',\n",
    "    9: 'Ankle boot'\n",
    "}\n",
    "train['label'] = train['label'].map(label_mapping)"
   ]
  },
  {
   "cell_type": "code",
   "execution_count": 31,
   "metadata": {},
   "outputs": [
    {
     "data": {
      "image/png": "[encoded data removed]",
      "text/plain": [
       "<Figure size 1000x200 with 5 Axes>"
      ]
     },
     "metadata": {},
     "output_type": "display_data"
    }
   ],
   "source": [
    "import numpy as np\n",
    "import matplotlib.pyplot as plt\n",
    "\n",
    "labels = train['label'].values\n",
    "images = train.drop('label', axis=1).values\n",
    "\n",
    "plt.figure(figsize=(10,2))\n",
    "for idx in range(5):\n",
    "    image = images[idx]\n",
    "    label = labels[idx]\n",
    "    plt.subplot(1, 5, idx + 1)\n",
    "    plt.imshow(image.reshape(28, 28), cmap=plt.cm.gray)\n",
    "    plt.title(f'{label}', fontsize=15)\n",
    "    plt.axis('off')\n",
    "\n",
    "plt.show()"
   ]
  },
  {
   "cell_type": "code",
   "execution_count": 33,
   "metadata": {},
   "outputs": [
    {
     "data": {
      "text/html": [
       "<div>\n",
       "<style scoped>\n",
       "    .dataframe tbody tr th:only-of-type {\n",
       "        vertical-align: middle;\n",
       "    }\n",
       "\n",
       "    .dataframe tbody tr th {\n",
       "        vertical-align: top;\n",
       "    }\n",
       "\n",
       "    .dataframe thead th {\n",
       "        text-align: right;\n",
       "    }\n",
       "</style>\n",
       "<table border=\"1\" class=\"dataframe\">\n",
       "  <thead>\n",
       "    <tr style=\"text-align: right;\">\n",
       "      <th></th>\n",
       "      <th>label</th>\n",
       "      <th>pixel1</th>\n",
       "      <th>pixel2</th>\n",
       "      <th>pixel3</th>\n",
       "      <th>pixel4</th>\n",
       "      <th>pixel5</th>\n",
       "      <th>pixel6</th>\n",
       "      <th>pixel7</th>\n",
       "      <th>pixel8</th>\n",
       "      <th>pixel9</th>\n",
       "      <th>...</th>\n",
       "      <th>pixel775</th>\n",
       "      <th>pixel776</th>\n",
       "      <th>pixel777</th>\n",
       "      <th>pixel778</th>\n",
       "      <th>pixel779</th>\n",
       "      <th>pixel780</th>\n",
       "      <th>pixel781</th>\n",
       "      <th>pixel782</th>\n",
       "      <th>pixel783</th>\n",
       "      <th>pixel784</th>\n",
       "    </tr>\n",
       "  </thead>\n",
       "  <tbody>\n",
       "    <tr>\n",
       "      <th>0</th>\n",
       "      <td>Pullover</td>\n",
       "      <td>0</td>\n",
       "      <td>0</td>\n",
       "      <td>0</td>\n",
       "      <td>0</td>\n",
       "      <td>0</td>\n",
       "      <td>0</td>\n",
       "      <td>0</td>\n",
       "      <td>0</td>\n",
       "      <td>0</td>\n",
       "      <td>...</td>\n",
       "      <td>0</td>\n",
       "      <td>0</td>\n",
       "      <td>0</td>\n",
       "      <td>0</td>\n",
       "      <td>0</td>\n",
       "      <td>0</td>\n",
       "      <td>0</td>\n",
       "      <td>0</td>\n",
       "      <td>0</td>\n",
       "      <td>0</td>\n",
       "    </tr>\n",
       "    <tr>\n",
       "      <th>1</th>\n",
       "      <td>Ankle boot</td>\n",
       "      <td>0</td>\n",
       "      <td>0</td>\n",
       "      <td>0</td>\n",
       "      <td>0</td>\n",
       "      <td>0</td>\n",
       "      <td>0</td>\n",
       "      <td>0</td>\n",
       "      <td>0</td>\n",
       "      <td>0</td>\n",
       "      <td>...</td>\n",
       "      <td>0</td>\n",
       "      <td>0</td>\n",
       "      <td>0</td>\n",
       "      <td>0</td>\n",
       "      <td>0</td>\n",
       "      <td>0</td>\n",
       "      <td>0</td>\n",
       "      <td>0</td>\n",
       "      <td>0</td>\n",
       "      <td>0</td>\n",
       "    </tr>\n",
       "    <tr>\n",
       "      <th>2</th>\n",
       "      <td>Shirt</td>\n",
       "      <td>0</td>\n",
       "      <td>0</td>\n",
       "      <td>0</td>\n",
       "      <td>0</td>\n",
       "      <td>0</td>\n",
       "      <td>0</td>\n",
       "      <td>0</td>\n",
       "      <td>5</td>\n",
       "      <td>0</td>\n",
       "      <td>...</td>\n",
       "      <td>0</td>\n",
       "      <td>0</td>\n",
       "      <td>0</td>\n",
       "      <td>30</td>\n",
       "      <td>43</td>\n",
       "      <td>0</td>\n",
       "      <td>0</td>\n",
       "      <td>0</td>\n",
       "      <td>0</td>\n",
       "      <td>0</td>\n",
       "    </tr>\n",
       "    <tr>\n",
       "      <th>3</th>\n",
       "      <td>T-shirt</td>\n",
       "      <td>0</td>\n",
       "      <td>0</td>\n",
       "      <td>0</td>\n",
       "      <td>1</td>\n",
       "      <td>2</td>\n",
       "      <td>0</td>\n",
       "      <td>0</td>\n",
       "      <td>0</td>\n",
       "      <td>0</td>\n",
       "      <td>...</td>\n",
       "      <td>3</td>\n",
       "      <td>0</td>\n",
       "      <td>0</td>\n",
       "      <td>0</td>\n",
       "      <td>0</td>\n",
       "      <td>1</td>\n",
       "      <td>0</td>\n",
       "      <td>0</td>\n",
       "      <td>0</td>\n",
       "      <td>0</td>\n",
       "    </tr>\n",
       "    <tr>\n",
       "      <th>4</th>\n",
       "      <td>Dress</td>\n",
       "      <td>0</td>\n",
       "      <td>0</td>\n",
       "      <td>0</td>\n",
       "      <td>0</td>\n",
       "      <td>0</td>\n",
       "      <td>0</td>\n",
       "      <td>0</td>\n",
       "      <td>0</td>\n",
       "      <td>0</td>\n",
       "      <td>...</td>\n",
       "      <td>0</td>\n",
       "      <td>0</td>\n",
       "      <td>0</td>\n",
       "      <td>0</td>\n",
       "      <td>0</td>\n",
       "      <td>0</td>\n",
       "      <td>0</td>\n",
       "      <td>0</td>\n",
       "      <td>0</td>\n",
       "      <td>0</td>\n",
       "    </tr>\n",
       "    <tr>\n",
       "      <th>...</th>\n",
       "      <td>...</td>\n",
       "      <td>...</td>\n",
       "      <td>...</td>\n",
       "      <td>...</td>\n",
       "      <td>...</td>\n",
       "      <td>...</td>\n",
       "      <td>...</td>\n",
       "      <td>...</td>\n",
       "      <td>...</td>\n",
       "      <td>...</td>\n",
       "      <td>...</td>\n",
       "      <td>...</td>\n",
       "      <td>...</td>\n",
       "      <td>...</td>\n",
       "      <td>...</td>\n",
       "      <td>...</td>\n",
       "      <td>...</td>\n",
       "      <td>...</td>\n",
       "      <td>...</td>\n",
       "      <td>...</td>\n",
       "      <td>...</td>\n",
       "    </tr>\n",
       "    <tr>\n",
       "      <th>59995</th>\n",
       "      <td>Ankle boot</td>\n",
       "      <td>0</td>\n",
       "      <td>0</td>\n",
       "      <td>0</td>\n",
       "      <td>0</td>\n",
       "      <td>0</td>\n",
       "      <td>0</td>\n",
       "      <td>0</td>\n",
       "      <td>0</td>\n",
       "      <td>0</td>\n",
       "      <td>...</td>\n",
       "      <td>0</td>\n",
       "      <td>0</td>\n",
       "      <td>0</td>\n",
       "      <td>0</td>\n",
       "      <td>0</td>\n",
       "      <td>0</td>\n",
       "      <td>0</td>\n",
       "      <td>0</td>\n",
       "      <td>0</td>\n",
       "      <td>0</td>\n",
       "    </tr>\n",
       "    <tr>\n",
       "      <th>59996</th>\n",
       "      <td>Trouser</td>\n",
       "      <td>0</td>\n",
       "      <td>0</td>\n",
       "      <td>0</td>\n",
       "      <td>0</td>\n",
       "      <td>0</td>\n",
       "      <td>0</td>\n",
       "      <td>0</td>\n",
       "      <td>0</td>\n",
       "      <td>0</td>\n",
       "      <td>...</td>\n",
       "      <td>73</td>\n",
       "      <td>0</td>\n",
       "      <td>0</td>\n",
       "      <td>0</td>\n",
       "      <td>0</td>\n",
       "      <td>0</td>\n",
       "      <td>0</td>\n",
       "      <td>0</td>\n",
       "      <td>0</td>\n",
       "      <td>0</td>\n",
       "    </tr>\n",
       "    <tr>\n",
       "      <th>59997</th>\n",
       "      <td>Bag</td>\n",
       "      <td>0</td>\n",
       "      <td>0</td>\n",
       "      <td>0</td>\n",
       "      <td>0</td>\n",
       "      <td>0</td>\n",
       "      <td>0</td>\n",
       "      <td>0</td>\n",
       "      <td>0</td>\n",
       "      <td>0</td>\n",
       "      <td>...</td>\n",
       "      <td>160</td>\n",
       "      <td>162</td>\n",
       "      <td>163</td>\n",
       "      <td>135</td>\n",
       "      <td>94</td>\n",
       "      <td>0</td>\n",
       "      <td>0</td>\n",
       "      <td>0</td>\n",
       "      <td>0</td>\n",
       "      <td>0</td>\n",
       "    </tr>\n",
       "    <tr>\n",
       "      <th>59998</th>\n",
       "      <td>Bag</td>\n",
       "      <td>0</td>\n",
       "      <td>0</td>\n",
       "      <td>0</td>\n",
       "      <td>0</td>\n",
       "      <td>0</td>\n",
       "      <td>0</td>\n",
       "      <td>0</td>\n",
       "      <td>0</td>\n",
       "      <td>0</td>\n",
       "      <td>...</td>\n",
       "      <td>0</td>\n",
       "      <td>0</td>\n",
       "      <td>0</td>\n",
       "      <td>0</td>\n",
       "      <td>0</td>\n",
       "      <td>0</td>\n",
       "      <td>0</td>\n",
       "      <td>0</td>\n",
       "      <td>0</td>\n",
       "      <td>0</td>\n",
       "    </tr>\n",
       "    <tr>\n",
       "      <th>59999</th>\n",
       "      <td>Sneaker</td>\n",
       "      <td>0</td>\n",
       "      <td>0</td>\n",
       "      <td>0</td>\n",
       "      <td>0</td>\n",
       "      <td>0</td>\n",
       "      <td>0</td>\n",
       "      <td>0</td>\n",
       "      <td>0</td>\n",
       "      <td>0</td>\n",
       "      <td>...</td>\n",
       "      <td>0</td>\n",
       "      <td>0</td>\n",
       "      <td>0</td>\n",
       "      <td>0</td>\n",
       "      <td>0</td>\n",
       "      <td>0</td>\n",
       "      <td>0</td>\n",
       "      <td>0</td>\n",
       "      <td>0</td>\n",
       "      <td>0</td>\n",
       "    </tr>\n",
       "  </tbody>\n",
       "</table>\n",
       "<p>60000 rows × 785 columns</p>\n",
       "</div>"
      ],
      "text/plain": [
       "            label  pixel1  pixel2  pixel3  pixel4  pixel5  pixel6  pixel7  \\\n",
       "0        Pullover       0       0       0       0       0       0       0   \n",
       "1      Ankle boot       0       0       0       0       0       0       0   \n",
       "2           Shirt       0       0       0       0       0       0       0   \n",
       "3         T-shirt       0       0       0       1       2       0       0   \n",
       "4           Dress       0       0       0       0       0       0       0   \n",
       "...           ...     ...     ...     ...     ...     ...     ...     ...   \n",
       "59995  Ankle boot       0       0       0       0       0       0       0   \n",
       "59996     Trouser       0       0       0       0       0       0       0   \n",
       "59997         Bag       0       0       0       0       0       0       0   \n",
       "59998         Bag       0       0       0       0       0       0       0   \n",
       "59999     Sneaker       0       0       0       0       0       0       0   \n",
       "\n",
       "       pixel8  pixel9  ...  pixel775  pixel776  pixel777  pixel778  pixel779  \\\n",
       "0           0       0  ...         0         0         0         0         0   \n",
       "1           0       0  ...         0         0         0         0         0   \n",
       "2           5       0  ...         0         0         0        30        43   \n",
       "3           0       0  ...         3         0         0         0         0   \n",
       "4           0       0  ...         0         0         0         0         0   \n",
       "...       ...     ...  ...       ...       ...       ...       ...       ...   \n",
       "59995       0       0  ...         0         0         0         0         0   \n",
       "59996       0       0  ...        73         0         0         0         0   \n",
       "59997       0       0  ...       160       162       163       135        94   \n",
       "59998       0       0  ...         0         0         0         0         0   \n",
       "59999       0       0  ...         0         0         0         0         0   \n",
       "\n",
       "       pixel780  pixel781  pixel782  pixel783  pixel784  \n",
       "0             0         0         0         0         0  \n",
       "1             0         0         0         0         0  \n",
       "2             0         0         0         0         0  \n",
       "3             1         0         0         0         0  \n",
       "4             0         0         0         0         0  \n",
       "...         ...       ...       ...       ...       ...  \n",
       "59995         0         0         0         0         0  \n",
       "59996         0         0         0         0         0  \n",
       "59997         0         0         0         0         0  \n",
       "59998         0         0         0         0         0  \n",
       "59999         0         0         0         0         0  \n",
       "\n",
       "[60000 rows x 785 columns]"
      ]
     },
     "execution_count": 33,
     "metadata": {},
     "output_type": "execute_result"
    }
   ],
   "source": [
    "# Corresponding Matrix\n",
    "train"
   ]
  },
  {
   "cell_type": "code",
   "execution_count": 48,
   "metadata": {},
   "outputs": [
    {
     "name": "stdout",
     "output_type": "stream",
     "text": [
      "[[0 0 0 0 0 0 0 0 0 0 0 0 0 0 0 0 0 0 0 0 0 0 0 0 0 0 0 0]\n",
      " [0 0 0 0 0 0 0 0 0 0 0 0 0 0 0 0 0 0 0 0 0 0 0 0 0 0 0 0]\n",
      " [0 0 0 0 0 0 0 0 0 0 0 0 0 0 0 0 0 0 0 0 0 0 0 0 0 0 0 0]\n",
      " [0 0 0 0 0 0 0 0 0 0 0 0 0 0 0 0 0 0 0 0 0 0 0 0 0 0 0 0]\n",
      " [0 0 0 0 0 0 0 0 0 0 0 0 0 0 0 0 0 0 0 0 0 0 0 0 0 0 0 0]\n",
      " [0 0 0 0 0 0 0 0 0 0 0 0 1 1 0 0 0 0 81 21 0 1 0 1 0 0 0 0]\n",
      " [0 0 0 0 0 0 0 0 0 0 0 1 0 0 0 0 0 14 200 49 0 0 0 0 0 0 0 0]\n",
      " [0 0 0 0 0 0 0 0 2 1 1 1 0 1 0 0 0 162 184 165 20 0 1 1 3 4 1 0]\n",
      " [0 0 0 0 0 0 0 0 0 0 0 1 2 0 2 0 120 183 154 206 32 0 5 5 0 0 0 0]\n",
      " [0 0 0 0 0 0 0 0 0 0 0 2 0 3 0 76 227 151 139 158 0 0 0 0 0 66 23 0]\n",
      " [0 0 0 0 0 0 0 0 1 0 1 0 0 0 55 224 162 143 121 204 236 144 21 74 90 190\n",
      "  8 0]\n",
      " [0 0 0 0 0 0 0 0 0 1 0 0 0 42 228 160 148 125 165 223 208 221 246 211\n",
      "  174 151 0 0]\n",
      " [0 0 0 1 3 0 1 0 3 0 9 0 23 230 168 147 119 163 227 206 200 190 206 186\n",
      "  139 171 41 0]\n",
      " [0 0 0 0 0 0 0 0 3 4 0 16 209 185 139 118 181 227 209 204 210 199 225\n",
      "  157 127 190 111 0]\n",
      " [1 3 2 1 3 2 3 0 0 0 67 214 187 139 111 191 229 203 208 208 196 223 188\n",
      "  100 128 155 112 0]\n",
      " [0 0 0 0 0 0 0 0 48 161 218 171 147 116 185 235 201 209 203 204 220 208\n",
      "  126 133 162 164 187 0]\n",
      " [0 12 16 9 4 19 73 170 211 188 145 149 148 136 222 218 207 208 215 224\n",
      "  193 140 146 162 156 118 203 37]\n",
      " [47 255 188 187 182 203 206 182 147 140 148 148 148 134 180 218 221 225\n",
      "  204 156 134 139 144 140 123 97 206 30]\n",
      " [88 203 164 167 170 161 147 147 156 159 153 152 155 150 134 136 153 145\n",
      "  136 151 164 168 170 166 153 130 200 10]\n",
      " [131 195 150 133 132 142 160 166 162 153 152 153 151 154 163 147 152 163\n",
      "  205 208 174 175 178 181 168 150 196 1]\n",
      " [155 228 197 172 138 123 121 122 126 129 135 139 144 158 177 192 239 244\n",
      "  178 176 183 179 185 177 147 148 192 0]\n",
      " [0 80 196 199 212 209 190 176 170 178 183 192 204 204 202 144 59 3 0 67\n",
      "  217 184 188 178 166 160 188 13]\n",
      " [0 0 0 3 51 105 179 217 235 227 208 201 133 58 0 0 0 0 0 16 187 194 184\n",
      "  185 175 181 131 0]\n",
      " [0 3 0 0 0 0 0 0 0 0 0 0 0 0 0 5 5 5 0 0 0 0 0 0 0 0 0 0]\n",
      " [0 0 0 0 0 0 0 0 0 0 0 0 0 0 0 0 0 0 0 0 0 0 0 0 0 0 0 0]\n",
      " [0 0 0 0 0 0 0 0 0 0 0 0 0 0 0 0 0 0 0 0 0 0 0 0 0 0 0 0]\n",
      " [0 0 0 0 0 0 0 0 0 0 0 0 0 0 0 0 0 0 0 0 0 0 0 0 0 0 0 0]\n",
      " [0 0 0 0 0 0 0 0 0 0 0 0 0 0 0 0 0 0 0 0 0 0 0 0 0 0 0 0]]\n"
     ]
    }
   ],
   "source": [
    "print(np.array(train.iloc[1, 1:]).reshape(28, 28))"
   ]
  },
  {
   "cell_type": "code",
   "execution_count": 62,
   "metadata": {},
   "outputs": [],
   "source": [
    "# Describe and understand the data\n",
    "# TODO"
   ]
  },
  {
   "cell_type": "markdown",
   "metadata": {},
   "source": [
    "***6.*** Build a Logistic Regression model\n",
    "   - i. Load packages\n",
    "   - ii. Select target variable\n",
    "   - iii. Prepare data\n",
    "   - iv. Split data into training and validation set\n",
    "   - v. Select a linear regression classifier\n",
    "   - vi. Fit the data\n",
    "   - vii. Prediction of unseen data\n",
    "- B6. Building a LogRegression model. Explain logistic regression and how it suits the chosen dataset and the problem?\n",
    "- 6 pts"
   ]
  },
  {
   "cell_type": "code",
   "execution_count": 55,
   "metadata": {},
   "outputs": [],
   "source": [
    "# i. Load packages\n",
    "import sys\n",
    "sys.path.append('C:\\\\Users\\\\James\\\\Desktop\\\\RoboticsJourney\\\\Self_Study\\\\1.PatternReg.ML\\\\introduction_to_ml_with_python')\n",
    "from sklearn.model_selection import train_test_split\n",
    "from sklearn.linear_model import LogisticRegression"
   ]
  },
  {
   "cell_type": "code",
   "execution_count": 59,
   "metadata": {},
   "outputs": [],
   "source": [
    "# ii. Select Target Variable\n",
    "y = train['label']"
   ]
  },
  {
   "cell_type": "code",
   "execution_count": 60,
   "metadata": {},
   "outputs": [],
   "source": [
    "# iii. Prepare data"
   ]
  },
  {
   "cell_type": "code",
   "execution_count": 69,
   "metadata": {},
   "outputs": [
    {
     "name": "stdout",
     "output_type": "stream",
     "text": [
      "60000\n",
      "10000\n"
     ]
    }
   ],
   "source": [
    "# iv. Split data into training and validation set\n",
    "print(len(train))\n",
    "print(len(test))"
   ]
  },
  {
   "cell_type": "markdown",
   "metadata": {},
   "source": [
    "***7.*** Analysis of results – classification report\n",
    "   - i. Create confusion matrix\n",
    "   - ii. Visualise correct prediction\n",
    "   - iii. Visualise misclassified images\n",
    "   - iv. Visualise corrected images\n",
    "- B7. Analysis of results - explain the classification report and accuracy evaluation, how might cross-validation be used when training a logistic regression model - use the example to illustrate?\n",
    "- 10 pts "
   ]
  },
  {
   "cell_type": "markdown",
   "metadata": {},
   "source": [
    "***8.*** Explain the concept of regularization in logistic regression and how does it prevent overfitting?\n",
    "   - Explain how can it be used in Fashion-MNIST modelling?\n",
    "- B8. Explain the concept of regularization in logistic regression and how does it prevent overfitting? How can it be used in this problem?\n",
    "- 5 pts"
   ]
  },
  {
   "cell_type": "markdown",
   "metadata": {},
   "source": [
    "***9.*** Save trained model and explain how you would use it for new unseen data.\n",
    "- B9. Saved model, how to access and use it for prediction on new inputs\n",
    "- 4 pts"
   ]
  },
  {
   "cell_type": "markdown",
   "metadata": {},
   "source": [
    "# Rubric\n",
    "https://uclearn.canberra.edu.au/courses/16042/assignments/129302"
   ]
  }
 ],
 "metadata": {
  "kernelspec": {
   "display_name": "base",
   "language": "python",
   "name": "python3"
  },
  "language_info": {
   "codemirror_mode": {
    "name": "ipython",
    "version": 3
   },
   "file_extension": ".py",
   "mimetype": "text/x-python",
   "name": "python",
   "nbconvert_exporter": "python",
   "pygments_lexer": "ipython3",
   "version": "3.11.7"
  }
 },
 "nbformat": 4,
 "nbformat_minor": 2
}

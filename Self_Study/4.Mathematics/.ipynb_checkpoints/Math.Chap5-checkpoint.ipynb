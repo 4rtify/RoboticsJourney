{
 "cells": [
  {
   "cell_type": "markdown",
   "id": "1784afdf-31d3-413c-b6f7-677148b93645",
   "metadata": {},
   "source": [
    "# Algebra"
   ]
  },
  {
   "cell_type": "markdown",
   "id": "41e4e12e-09a9-4a54-b48b-bff5d7de77c7",
   "metadata": {},
   "source": [
    "## Basic Operations"
   ]
  },
  {
   "cell_type": "markdown",
   "id": "404b0a91-b8c0-4039-88dc-70359c5d15e4",
   "metadata": {},
   "source": [
    "Evaluate: 3ab - 2bc + abc when a = 1, b = 3 and c = 5"
   ]
  },
  {
   "cell_type": "code",
   "execution_count": 3,
   "id": "0104a6b7-fd7e-48ba-9fda-6981f1c8f5cd",
   "metadata": {},
   "outputs": [
    {
     "data": {
      "text/plain": [
       "-6"
      ]
     },
     "execution_count": 3,
     "metadata": {},
     "output_type": "execute_result"
    }
   ],
   "source": [
    "a = 1\n",
    "b = 3 \n",
    "c = 5\n",
    "3*a*b - 2*b*c + a*b*c "
   ]
  },
  {
   "cell_type": "markdown",
   "id": "b0fc602f-4a97-464b-be24-5f9e0f3cbba7",
   "metadata": {},
   "source": [
    "Find the value of 4 p 2 qr 32"
   ]
  },
  {
   "cell_type": "code",
   "execution_count": 8,
   "id": "b0d30780-e011-4178-b2bc-ed4ba06a0e2d",
   "metadata": {},
   "outputs": [
    {
     "data": {
      "text/plain": [
       "27.0"
      ]
     },
     "execution_count": 8,
     "metadata": {},
     "output_type": "execute_result"
    }
   ],
   "source": [
    "p = 2\n",
    "q = 1/2\n",
    "r = 3/2\n",
    "4 * (p ** 2) * q * (r ** 3)"
   ]
  }
 ],
 "metadata": {
  "kernelspec": {
   "display_name": "Python 3 (ipykernel)",
   "language": "python",
   "name": "python3"
  },
  "language_info": {
   "codemirror_mode": {
    "name": "ipython",
    "version": 3
   },
   "file_extension": ".py",
   "mimetype": "text/x-python",
   "name": "python",
   "nbconvert_exporter": "python",
   "pygments_lexer": "ipython3",
   "version": "3.11.7"
  }
 },
 "nbformat": 4,
 "nbformat_minor": 5
}

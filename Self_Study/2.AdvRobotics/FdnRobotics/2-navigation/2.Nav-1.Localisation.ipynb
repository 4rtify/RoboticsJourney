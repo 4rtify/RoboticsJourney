{
 "cells": [
  {
   "cell_type": "markdown",
   "metadata": {},
   "source": [
    "# Localisation"
   ]
  },
  {
   "cell_type": "markdown",
   "metadata": {},
   "source": [
    "## Let's talk Bayes"
   ]
  },
  {
   "cell_type": "markdown",
   "metadata": {},
   "source": [
    "### Let's look at a robotic example:"
   ]
  },
  {
   "cell_type": "code",
   "execution_count": null,
   "metadata": {},
   "outputs": [],
   "source": [
    "\"\"\"\n",
    "Demonstrate Bayes Theorem with 1D localization example\n",
    "\n",
    "A robot is moving in a 1D world. It has a sensor that can measure the distance\n",
    "to a landmark. The robot can also move in the world. The robot has a belief\n",
    "about its position in the world. The belief is represented by a probability\n",
    "distribution over the world. The robot can update its belief based on the\n",
    "sensor measurement and its motion.\n",
    "\n",
    "In this example the robot is moving in one direction in a uniform way.\n",
    "Both the sensor and the motion are noisy.\n",
    "\"\"\"\n",
    "import numpy as np\n",
    "import matplotlib.pyplot as plt\n",
    "\n",
    "# Set up the problem\n",
    "# 1D world\n",
    "world_size = 100\n",
    "# samples\n",
    "N = 20\n",
    "# 1D measurements\n",
    "measurements = np.linspace(0, world_size-1, N)\n",
    "# add noise to measurements\n",
    "measurements += np.random.randint(-1, 1, len(measurements))\n",
    "# set measurements to integers\n",
    "measurements = measurements.astype(int)\n",
    "# 1D motion\n",
    "motion = world_size // N * np.ones(len(measurements))\n",
    "# add noise to motion\n",
    "motion += np.random.randint(-1, 1, len(motion))\n",
    "motion = motion.astype(int)\n",
    "# Probability of correct measurement\n",
    "pHit = 0.6\n",
    "# Probability of incorrect measurement\n",
    "pMiss = 0.2\n",
    "# Probability of correct motion\n",
    "pExact = 0.8\n",
    "# Probability of undershooting\n",
    "pUndershoot = 0.1\n",
    "# Probability of overshooting\n",
    "pOvershoot = 0.1\n",
    "\n",
    "# Initialize the belief\n",
    "belief = np.ones(world_size) / world_size\n",
    "\n",
    "# Plot the initial belief with true position\n",
    "plt.figure()\n",
    "plt.plot(belief)\n",
    "plt.title('Initial Belief')\n",
    "plt.xlabel('Position')\n",
    "plt.ylabel('Probability')\n",
    "plt.axvline(x=measurements[0], color='r', linestyle='--')\n",
    "plt.legend(['Initial Belief', 'True Position'])\n",
    "plt.show(block=False)\n",
    "\n",
    "# Iterate through the measurements and motions\n",
    "for i in range(len(measurements)):\n",
    "    # Measurement update\n",
    "    # Compute the likelihood of the measurement\n",
    "    likelihood = np.ones(world_size)\n",
    "    for j in range(world_size):\n",
    "        if j == measurements[i]:\n",
    "            likelihood[j] *= pHit\n",
    "        else:\n",
    "            likelihood[j] *= pMiss\n",
    "    # Compute the posterior belief\n",
    "    belief = belief * likelihood\n",
    "    belief /= np.sum(belief)\n",
    "    # Plot the posterior belief with the true position\n",
    "    plt.figure()\n",
    "    plt.plot(belief)\n",
    "    plt.title('Posterior Belief')\n",
    "    plt.xlabel('Position')\n",
    "    plt.ylabel('Probability')\n",
    "    plt.axvline(x=measurements[i], color='r', linestyle='--')\n",
    "    plt.legend(['Belief', 'True Position'])\n",
    "    plt.show(block=False)\n",
    "    # Motion update\n",
    "    # Compute the prior belief\n",
    "    prior = np.zeros(world_size)\n",
    "    for k in range(world_size):\n",
    "        prior[k] = pExact * belief[(k - motion[i]) % world_size]\n",
    "        prior[k] += pUndershoot * belief[(k - motion[i] - 1) % world_size]\n",
    "        prior[k] += pOvershoot * belief[(k - motion[i] + 1) % world_size]\n",
    "    # Update the belief\n",
    "    belief = prior\n",
    "    # # Plot the prior belief\n",
    "    # plt.figure()\n",
    "    # plt.plot(belief)\n",
    "    # plt.title('Prior Belief')\n",
    "    # plt.xlabel('Position')\n",
    "    # plt.ylabel('Probability')\n",
    "    # plt.show(block=False)"
   ]
  },
  {
   "cell_type": "markdown",
   "metadata": {},
   "source": [
    "# Localisation with a Map"
   ]
  },
  {
   "cell_type": "markdown",
   "metadata": {},
   "source": [
    "## Adaptive Monte-Carlo Localisation (AMCL)"
   ]
  },
  {
   "cell_type": "markdown",
   "metadata": {},
   "source": [
    "### Let's look at a particle filter example:"
   ]
  },
  {
   "cell_type": "markdown",
   "metadata": {},
   "source": [
    "#### First we create a map to localise in"
   ]
  },
  {
   "cell_type": "code",
   "execution_count": null,
   "metadata": {},
   "outputs": [],
   "source": [
    "\"\"\"\n",
    "An example of a 2d localisation particle filter\n",
    "\n",
    "A robot is moving in a 2D world. It has a sensor that can measure the distance\n",
    "to a landmark. The robot can also move in the world. The robot has a belief\n",
    "about its position in the world. The belief is represented by a probability\n",
    "distribution over the world. The robot can update its belief based on the\n",
    "sensor measurement and its motion.\n",
    "\n",
    "The world is sampled as particles. Each particle has a position and a weight.\n",
    "The weight is the probability of the particle being in the correct position.\n",
    "The particles are updated based on the sensor measurement and the motion.\n",
    "\"\"\"\n",
    "\n",
    "\n",
    "import numpy as np\n",
    "import matplotlib.pyplot as plt\n",
    "\n",
    "\n",
    "# create a 2d world\n",
    "world_size = 50\n",
    "world = np.zeros((world_size, world_size))\n",
    "# randomise the landmark starting positions\n",
    "num_landmarks = 4\n",
    "landmarks = np.random.randint(0, world_size, (num_landmarks, 2))\n",
    "# add landmarks\n",
    "world[landmarks[:, 0], landmarks[:, 1]] = 1\n",
    "# grow the landmarks\n",
    "for i in range(3):\n",
    "    world = np.logical_or(world, np.roll(world, 1, axis=0))\n",
    "    world = np.logical_or(world, np.roll(world, 1, axis=1))\n",
    "\n",
    "# place the robot in the world as a RED dot\n",
    "robot = np.random.randint(0, world_size, 2)\n",
    "\n",
    "# show the world map with inverse colors\n",
    "plt.figure()\n",
    "plt.imshow(1 - world, cmap='gray')\n",
    "plt.scatter(robot[1], robot[0], color='r')\n",
    "plt.title('World Map')\n",
    "plt.show(block=False)"
   ]
  },
  {
   "cell_type": "markdown",
   "metadata": {},
   "source": [
    "#### Let's create some location samples"
   ]
  },
  {
   "cell_type": "code",
   "execution_count": 5,
   "metadata": {},
   "outputs": [
    {
     "data": {
      "image/png": "[encoded data removed]",
      "text/plain": [
       "<Figure size 640x480 with 1 Axes>"
      ]
     },
     "metadata": {},
     "output_type": "display_data"
    }
   ],
   "source": [
    "\"\"\"\n",
    "An example of a 2d localisation particle filter\n",
    "\n",
    "Creating the particles\n",
    "\"\"\"\n",
    "\n",
    "\n",
    "import numpy as np\n",
    "import matplotlib.pyplot as plt\n",
    "\n",
    "\n",
    "# create random 2D samples\n",
    "num_samples = 30\n",
    "samples = np.random.randint(0, world_size, (num_samples, 2))\n",
    "\n",
    "# resample any samples that are on a landmark\n",
    "for i in range(num_samples):\n",
    "    while world[samples[i, 0], samples[i, 1]] == 1:\n",
    "        samples[i] = np.random.randint(0, world_size, 2)\n",
    "\n",
    "# create equal weights\n",
    "weights = np.ones(num_samples) / num_samples\n",
    "\n",
    "# plot the samples\n",
    "plt.figure()\n",
    "plt.imshow(1 - world, cmap='gray')\n",
    "plt.scatter(samples[:, 1], samples[:, 0], c=weights, cmap='gray')\n",
    "plt.scatter(robot[1], robot[0], color='r')\n",
    "plt.title('Random Samples')\n",
    "plt.show(block=False)"
   ]
  },
  {
   "cell_type": "markdown",
   "metadata": {},
   "source": [
    "#### Iteratively update the samples"
   ]
  },
  {
   "cell_type": "code",
   "execution_count": 6,
   "metadata": {},
   "outputs": [
    {
     "data": {
      "image/png": "[encoded data removed]",
      "text/plain": [
       "<Figure size 640x480 with 1 Axes>"
      ]
     },
     "metadata": {},
     "output_type": "display_data"
    },
    {
     "data": {
      "image/png": "[encoded data removed]",
      "text/plain": [
       "<Figure size 640x480 with 1 Axes>"
      ]
     },
     "metadata": {},
     "output_type": "display_data"
    },
    {
     "name": "stderr",
     "output_type": "stream",
     "text": [
      "C:\\Users\\James\\AppData\\Local\\Temp\\ipykernel_28804\\3694308602.py:83: DeprecationWarning: Conversion of an array with ndim > 0 to a scalar is deprecated, and will error in future. Ensure you extract a single element from your array before performing this operation. (Deprecated NumPy 1.25.)\n",
      "  new_weights[i] = np.random.choice(belief.flatten(), 1, p=belief.flatten())\n"
     ]
    }
   ],
   "source": [
    "\"\"\"\n",
    "An example of a 2d localisation particle filter\n",
    "\n",
    "Update the particles based on the sensor measurement\n",
    "\"\"\"\n",
    "\n",
    "\n",
    "import numpy as np\n",
    "import matplotlib.pyplot as plt\n",
    "\n",
    "\n",
    "# make a measurement of the landmarks for the robot\n",
    "# this will be the true distance to the nearest landmark\n",
    "measurement = np.zeros(num_landmarks)\n",
    "for i in range(num_landmarks):\n",
    "    # compute the distance to each landmark\n",
    "    measurement[i] = np.linalg.norm(landmarks[i] - robot)\n",
    "\n",
    "# create a gaussian probability model for the measurement error\n",
    "# the probability of the measurement given the true distance to the landmark\n",
    "def sample_probability(sample, true_distance):\n",
    "    \"\"\"\n",
    "    Compute the probability of the sample measurement given the true distance to the landmark\n",
    "    \"\"\"\n",
    "    # compute the probability of the measurement given the true distance to the landmark\n",
    "    probability = np.zeros(num_landmarks)\n",
    "    for i in range(num_landmarks):\n",
    "        # the sample measurement distance to the landmark\n",
    "        sample_distance = np.linalg.norm(landmarks[i] - sample)\n",
    "\n",
    "        # what is the likelyhood of the sample measurement given the true distance to the landmark\n",
    "        # this is the probability of the measurement given the true distance\n",
    "        probability[i] = 1 / np.sqrt(2 * np.pi * np.square(true_distance[i]))\n",
    "        probability[i] *= np.exp(-np.square(sample_distance - true_distance[i]) / (2 * np.square(true_distance[i])))\n",
    "\n",
    "    return np.sum(probability)\n",
    "\n",
    "# make a measurement of the nearest landmarks to each sample\n",
    "# compute the weights based on the likelihood of the measurement given the robot measurements\n",
    "for i in range(num_samples):\n",
    "    weights[i] = sample_probability(samples[i], measurement)\n",
    "\n",
    "# normalise the weights\n",
    "weights /= np.sum(weights)\n",
    "\n",
    "# find the centroid of the weighted samples\n",
    "# this is the estimated robot position\n",
    "robot_estimate = np.average(samples, axis=0, weights=weights)\n",
    "\n",
    "# create a 2d probability distribution of the samples\n",
    "# this is the belief\n",
    "belief = np.zeros((world_size, world_size))\n",
    "for i in range(num_samples):\n",
    "    belief[samples[i, 0], samples[i, 1]] += weights[i]\n",
    "\n",
    "# smooth the 2d belief with gaussian blur\n",
    "from scipy.ndimage import gaussian_filter\n",
    "belief = gaussian_filter(belief, sigma=2)\n",
    "# normalise the belief\n",
    "belief /= np.sum(belief)\n",
    "\n",
    "# plot the samples and the belief distribution as subplots\n",
    "plt.figure()\n",
    "plt.imshow(1 - world, cmap='gray')\n",
    "plt.scatter(robot[1], robot[0], color='r')\n",
    "# plot the samples in blue with weighted colour\n",
    "plt.scatter(samples[:, 1], samples[:, 0], c=weights, cmap='Blues')\n",
    "plt.scatter(robot_estimate[1], robot_estimate[0], color='g', marker='x')\n",
    "plt.title('Probable Samples')\n",
    "plt.show(block=False)\n",
    "\n",
    "plt.figure()\n",
    "plt.imshow(belief, cmap='Blues')\n",
    "plt.title('Belief')\n",
    "plt.show(block=False)\n",
    "\n",
    "# sample 30 new 2D particles based on the belief\n",
    "# the new samples will be selected based on weight of the belief\n",
    "new_samples = np.zeros((num_samples, 2)).astype(int)\n",
    "new_weights = np.zeros(num_samples)\n",
    "for i in range(num_samples):\n",
    "    # sample a new particle (x, y) from the belief\n",
    "    new_weights[i] = np.random.choice(belief.flatten(), 1, p=belief.flatten())\n",
    "    # get the indexes of the sampled weight\n",
    "    index = np.where(belief == new_weights[i])\n",
    "    # if there are multiple indexes, choose one at random\n",
    "    if len(index[0]) > 1:\n",
    "        index = np.random.choice(len(index[0]), 1)\n",
    "\n",
    "    # get the x, y position of the sampled weight as integers\n",
    "    new_samples[i] = np.array(index).T\n",
    "\n",
    "    # resample any samples that are on a landmark\n",
    "    while world[new_samples[i, 0], new_samples[i, 1]] == 1:\n",
    "        new_samples[i] = np.random.randint(0, world_size, 2)\n",
    "\n",
    "# move the robot and repeat the process for the next measurement\n",
    "robot += np.random.randint(-2, 5, 2)\n",
    "samples = new_samples"
   ]
  }
 ],
 "metadata": {
  "kernelspec": {
   "display_name": "base",
   "language": "python",
   "name": "python3"
  },
  "language_info": {
   "codemirror_mode": {
    "name": "ipython",
    "version": 3
   },
   "file_extension": ".py",
   "mimetype": "text/x-python",
   "name": "python",
   "nbconvert_exporter": "python",
   "pygments_lexer": "ipython3",
   "version": "3.11.7"
  }
 },
 "nbformat": 4,
 "nbformat_minor": 2
}

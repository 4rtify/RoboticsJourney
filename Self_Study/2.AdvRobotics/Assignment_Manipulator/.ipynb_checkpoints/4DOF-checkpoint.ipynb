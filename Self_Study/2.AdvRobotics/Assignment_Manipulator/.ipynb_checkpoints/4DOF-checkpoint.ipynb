{
 "cells": [
  {
   "cell_type": "markdown",
   "metadata": {},
   "source": [
    "# Birds Eye view and side on view"
   ]
  },
  {
   "cell_type": "code",
   "execution_count": 3,
   "metadata": {},
   "outputs": [],
   "source": [
    "import numpy as np\n",
    "import matplotlib.pyplot as plt"
   ]
  },
  {
   "cell_type": "markdown",
   "metadata": {},
   "source": [
    "# Define the lengths of the links of the robotic arm (in meters)"
   ]
  },
  {
   "cell_type": "code",
   "execution_count": null,
   "metadata": {},
   "outputs": [],
   "source": [
    "L1 = 12.9 / 100   # Length of the first link (12.9 cm)\n",
    "L2 = 43.97 / 100  # Length of the second link (43.97 cm)\n",
    "L3 = 45.39 / 100  # Length of the third link (45.39 cm)\n",
    "L4 = 22.4 / 100    # Length of the fourth link (104 cm)"
   ]
  },
  {
   "cell_type": "code",
   "execution_count": 4,
   "metadata": {},
   "outputs": [],
   "source": [
    "# Define the range of motion for each joint (in radians)\n",
    "theta1_range = np.linspace(0, 2 * np.pi, 100)  # Joint 1 can rotate from 0 to 360 degrees\n",
    "theta2_range = np.linspace(0, 2 * np.pi, 100)  # Joint 2 can rotate from 0 to 360 degrees\n",
    "theta3_range = np.linspace(0, 2 * np.pi, 100)  # Joint 3 can rotate from 0 to 360 degrees"
   ]
  },
  {
   "cell_type": "code",
   "execution_count": null,
   "metadata": {},
   "outputs": [],
   "source": [
    "# Create lists to store the x and y coordinates of the end effector\n",
    "x_coords = []\n",
    "y_coords = []"
   ]
  },
  {
   "cell_type": "code",
   "execution_count": null,
   "metadata": {},
   "outputs": [],
   "source": [
    "# Create lists to store the x and y coordinates of the end effector for the bird's-eye view\n",
    "x_birdseye = []\n",
    "y_birdseye = []"
   ]
  },
  {
   "cell_type": "code",
   "execution_count": 5,
   "metadata": {},
   "outputs": [
    {
     "name": "stdout",
     "output_type": "stream",
     "text": [
      "The workspace of the robotic arm is 1.2466 meters.\n"
     ]
    }
   ],
   "source": [
    "workspace = L1 + L2 + L3 + L4\n",
    "workspace = L1 + L2 + L3 + L4\n",
    "print(f\"The workspace of the robotic arm is {workspace} meters.\")"
   ]
  },
  {
   "cell_type": "code",
   "execution_count": null,
   "metadata": {},
   "outputs": [],
   "source": [
    "# Loop through all possible combinations of theta1, theta2, and theta3\n",
    "for theta1 in theta1_range:\n",
    "    for theta2 in theta2_range:\n",
    "        for theta3 in theta3_range:\n",
    "            # Calculate the position of the end effector in 2D space, including Link 4\n",
    "            x = (L1 * np.cos(theta1) + \n",
    "                 L2 * np.cos(theta1 + theta2) + \n",
    "                 L3 * np.cos(theta1 + theta2 + theta3) + \n",
    "                 L4 * np.cos(theta1 + theta2 + theta3))\n",
    "            \n",
    "            y = (L1 * np.sin(theta1) + \n",
    "                 L2 * np.sin(theta1 + theta2) + \n",
    "                 L3 * np.sin(theta1 + theta2 + theta3) + \n",
    "                 L4 * np.sin(theta1 + theta2 + theta3))\n",
    "            \n",
    "            # For the side view, only store coordinates where y >= 0 (above the table)\n",
    "            if y >= 0:\n",
    "                x_coords.append(x)\n",
    "                y_coords.append(y)\n",
    "                \n",
    "            # For the bird's-eye view, store all coordinates\n",
    "            x_birdseye.append(x)\n",
    "            y_birdseye.append(y)"
   ]
  },
  {
   "cell_type": "code",
   "execution_count": null,
   "metadata": {},
   "outputs": [],
   "source": [
    "# Plot the side view of the robotic arm (above the table) and bird's-eye view in portrait style\n",
    "plt.figure(figsize=(7, 14))  # Set figure size to portrait orientation\n",
    "# Side view plot (Top)\n",
    "plt.subplot(2, 1, 1)\n",
    "plt.plot(x_coords, y_coords, 'b.', markersize=1)\n",
    "plt.title(\"Side View: Workspace Above Table\")\n",
    "plt.xlabel(\"X Coordinate - Horizontal (meters)\")\n",
    "plt.ylabel(\"Y Coordinate - Vertical (meters)\")\n",
    "plt.grid(True)\n",
    "plt.axis('equal')"
   ]
  },
  {
   "cell_type": "code",
   "execution_count": null,
   "metadata": {},
   "outputs": [],
   "source": [
    "# Bird's-eye view plot (Bottom)\n",
    "plt.subplot(2, 1, 2)\n",
    "plt.plot(x_birdseye, y_birdseye, 'r.', markersize=1)\n",
    "plt.title(\"Bird's-Eye View: Workspace\")\n",
    "plt.xlabel(\"X Coordinate - Left / Right (meters)\")\n",
    "plt.ylabel(\"Y Coordinate - Depth (meters)\")\n",
    "plt.grid(True)\n",
    "plt.axis('equal')\n",
    "plt.tight_layout()\n",
    "plt.show()"
   ]
  },
  {
   "cell_type": "code",
   "execution_count": null,
   "metadata": {},
   "outputs": [],
   "source": []
  },
  {
   "cell_type": "code",
   "execution_count": null,
   "metadata": {},
   "outputs": [],
   "source": []
  },
  {
   "cell_type": "code",
   "execution_count": null,
   "metadata": {},
   "outputs": [],
   "source": []
  },
  {
   "cell_type": "code",
   "execution_count": null,
   "metadata": {},
   "outputs": [],
   "source": []
  },
  {
   "cell_type": "code",
   "execution_count": null,
   "metadata": {},
   "outputs": [],
   "source": []
  },
  {
   "cell_type": "code",
   "execution_count": 7,
   "metadata": {},
   "outputs": [
    {
     "name": "stdout",
     "output_type": "stream",
     "text": [
      "The workspace of the robotic arm is 1.2466 meters.\n"
     ]
    }
   ],
   "source": []
  },
  {
   "cell_type": "markdown",
   "metadata": {},
   "source": [
    "# Link Lengths"
   ]
  },
  {
   "cell_type": "code",
   "execution_count": 30,
   "metadata": {},
   "outputs": [
    {
     "data": {
      "image/png": "[encoded data removed]",
      "text/plain": [
       "<Figure size 800x800 with 1 Axes>"
      ]
     },
     "metadata": {},
     "output_type": "display_data"
    },
    {
     "data": {
      "text/plain": [
       "4.8820713004896135"
      ]
     },
     "execution_count": 30,
     "metadata": {},
     "output_type": "execute_result"
    }
   ],
   "source": [
    "import math\n",
    "import matplotlib.pyplot as plt\n",
    "\n",
    "# Define the lengths of the links of the robotic arm (in meters)\n",
    "L1 = 12.9 / 100   # Length of the first link (12.9 cm)\n",
    "L2 = 43.97 / 100  # Length of the second link (43.97 cm)\n",
    "L3 = 45.39 / 100  # Length of the third link (45.39 cm)\n",
    "L4 = 22.4 / 100    # Length of the fourth link (104 cm)\n",
    "\n",
    "\n",
    "# Define the angles for each joint (in degrees)\n",
    "theta1 = 90\n",
    "theta2 = -90\n",
    "theta3 = 0\n",
    "theta4 = 0\n",
    "\n",
    "# Convert degrees to radians for calculations\n",
    "theta1_rad = math.radians(theta1)\n",
    "theta2_rad = math.radians(theta2)\n",
    "theta3_rad = math.radians(theta3)\n",
    "theta4_rad = math.radians(theta4)\n",
    "\n",
    "# Calculate the positions of each joint\n",
    "x1 = L1 * math.cos(theta1_rad)\n",
    "y1 = L1 * math.sin(theta1_rad)\n",
    "\n",
    "x2 = x1 + L2 * math.cos(theta1_rad + theta2_rad)\n",
    "y2 = y1 + L2 * math.sin(theta1_rad + theta2_rad)\n",
    "\n",
    "x3 = x2 + L3 * math.cos(theta1_rad + theta2_rad + theta3_rad)\n",
    "y3 = y2 + L3 * math.sin(theta1_rad + theta2_rad + theta3_rad)\n",
    "\n",
    "x4 = x3 + L4 * math.cos(theta1_rad + theta2_rad + theta3_rad + theta4_rad)\n",
    "y4 = y3 + L4 * math.sin(theta1_rad + theta2_rad + theta3_rad + theta4_rad)\n",
    "\n",
    "# Plot the robotic arm\n",
    "plt.figure(figsize=(8, 8))\n",
    "plt.plot([0, x1, x2, x3, x4], [0, y1, y2, y3, y4], '-o', markersize=10)\n",
    "plt.title(\"Robotic Arm in 2D Space\")\n",
    "plt.xlabel(\"X Coordinate (meters)\")\n",
    "plt.ylabel(\"Y Coordinate (meters)\")\n",
    "plt.grid(True)\n",
    "plt.axis('equal')\n",
    "plt.show()\n",
    "\n",
    "# Calculate the total workspace area in meters\n",
    "# For simplicity, the workspace can be thought of as the area a circle with a radius equal to the total arm length\n",
    "workspace_area = math.pi * (L1 + L2 + L3 + L4)**2\n",
    "workspace_area\n"
   ]
  }
 ],
 "metadata": {
  "kernelspec": {
   "display_name": "Python 3 (ipykernel)",
   "language": "python",
   "name": "python3"
  },
  "language_info": {
   "codemirror_mode": {
    "name": "ipython",
    "version": 3
   },
   "file_extension": ".py",
   "mimetype": "text/x-python",
   "name": "python",
   "nbconvert_exporter": "python",
   "pygments_lexer": "ipython3",
   "version": "3.11.7"
  }
 },
 "nbformat": 4,
 "nbformat_minor": 4
}

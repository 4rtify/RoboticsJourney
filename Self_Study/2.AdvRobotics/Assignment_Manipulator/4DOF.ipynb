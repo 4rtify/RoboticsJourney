{
 "cells": [
  {
   "cell_type": "markdown",
   "metadata": {},
   "source": [
    "# 1. Create Birds Eye view and side view plots"
   ]
  },
  {
   "cell_type": "code",
   "execution_count": 13,
   "metadata": {},
   "outputs": [],
   "source": [
    "import numpy as np\n",
    "import matplotlib.pyplot as plt"
   ]
  },
  {
   "cell_type": "markdown",
   "metadata": {},
   "source": [
    "## Define the lengths of the links of the robotic arm (in meters)"
   ]
  },
  {
   "cell_type": "code",
   "execution_count": 14,
   "metadata": {},
   "outputs": [],
   "source": [
    "L1 = 12.9 / 100   # Length of the first link (12.9 cm)\n",
    "L2 = 43.97 / 100  # Length of the second link (43.97 cm)\n",
    "L3 = 45.39 / 100  # Length of the third link (45.39 cm)\n",
    "L4 = 22.4 / 100    # Length of the fourth link (104 cm)"
   ]
  },
  {
   "cell_type": "markdown",
   "metadata": {},
   "source": [
    "## Define the range of motion for each joint (in radians)"
   ]
  },
  {
   "cell_type": "code",
   "execution_count": 15,
   "metadata": {},
   "outputs": [],
   "source": [
    "theta1_range = np.linspace(0, 2 * np.pi, 100)  # Joint 1 can rotate from 0 to 360 degrees\n",
    "theta2_range = np.linspace(0, 2 * np.pi, 100)  # Joint 2 can rotate from 0 to 360 degrees\n",
    "theta3_range = np.linspace(0, 2 * np.pi, 100)  # Joint 3 can rotate from 0 to 360 degrees"
   ]
  },
  {
   "cell_type": "markdown",
   "metadata": {},
   "source": [
    "## Create x and y coordinates for side view"
   ]
  },
  {
   "cell_type": "code",
   "execution_count": 16,
   "metadata": {},
   "outputs": [],
   "source": [
    "x_coords = []\n",
    "y_coords = []"
   ]
  },
  {
   "cell_type": "markdown",
   "metadata": {},
   "source": [
    "## Create x and y coordinates for the bird's-eye view"
   ]
  },
  {
   "cell_type": "code",
   "execution_count": 17,
   "metadata": {},
   "outputs": [],
   "source": [
    "x_birdseye = []\n",
    "y_birdseye = []"
   ]
  },
  {
   "cell_type": "code",
   "execution_count": 18,
   "metadata": {},
   "outputs": [
    {
     "name": "stdout",
     "output_type": "stream",
     "text": [
      "The workspace of the robotic arm is 1.2466 meters.\n"
     ]
    }
   ],
   "source": [
    "workspace = L1 + L2 + L3 + L4\n",
    "workspace = L1 + L2 + L3 + L4\n",
    "print(f\"The workspace of the robotic arm is {workspace} meters.\")"
   ]
  },
  {
   "cell_type": "markdown",
   "metadata": {},
   "source": [
    "## Loop through all possible combinations of theta1, theta2, and theta3"
   ]
  },
  {
   "cell_type": "code",
   "execution_count": 19,
   "metadata": {},
   "outputs": [],
   "source": [
    "for theta1 in theta1_range:\n",
    "    for theta2 in theta2_range:\n",
    "        for theta3 in theta3_range:\n",
    "            # Calculate the position of the end effector in 2D space, including Link 4\n",
    "            x = (L1 * np.cos(theta1) + \n",
    "                 L2 * np.cos(theta1 + theta2) + \n",
    "                 L3 * np.cos(theta1 + theta2 + theta3) + \n",
    "                 L4 * np.cos(theta1 + theta2 + theta3))\n",
    "            \n",
    "            y = (L1 * np.sin(theta1) + \n",
    "                 L2 * np.sin(theta1 + theta2) + \n",
    "                 L3 * np.sin(theta1 + theta2 + theta3) + \n",
    "                 L4 * np.sin(theta1 + theta2 + theta3))\n",
    "            \n",
    "            # For the side view, only store coordinates where y >= 0 (above the table)\n",
    "            if y >= 0:\n",
    "                x_coords.append(x)\n",
    "                y_coords.append(y)\n",
    "                \n",
    "            # For the bird's-eye view, store all coordinates\n",
    "            x_birdseye.append(x)\n",
    "            y_birdseye.append(y)"
   ]
  },
  {
   "cell_type": "markdown",
   "metadata": {},
   "source": [
    "## Plot the side view"
   ]
  },
  {
   "cell_type": "code",
   "execution_count": null,
   "metadata": {},
   "outputs": [],
   "source": [
    "plt.figure(figsize=(7, 14))  # Set figure size to portrait orientation\n",
    "plt.subplot(2, 1, 1)\n",
    "plt.plot(x_coords, y_coords, 'b.', markersize=1)\n",
    "plt.title(\"Side View: Workspace Above Table\")\n",
    "plt.xlabel(\"X Coordinate - Horizontal (meters)\")\n",
    "plt.ylabel(\"Y Coordinate - Vertical (meters)\")\n",
    "plt.grid(True)\n",
    "plt.axis('equal')"
   ]
  },
  {
   "cell_type": "markdown",
   "metadata": {},
   "source": [
    "## Plot Bird's-eye view"
   ]
  },
  {
   "cell_type": "code",
   "execution_count": null,
   "metadata": {},
   "outputs": [],
   "source": [
    "plt.subplot(2, 1, 2)\n",
    "plt.plot(x_birdseye, y_birdseye, 'r.', markersize=1)\n",
    "plt.title(\"Bird's-Eye View: Workspace\")\n",
    "plt.xlabel(\"X Coordinate - Left / Right (meters)\")\n",
    "plt.ylabel(\"Y Coordinate - Depth (meters)\")\n",
    "plt.grid(True)\n",
    "plt.axis('equal')\n",
    "plt.tight_layout()\n",
    "plt.show()"
   ]
  },
  {
   "cell_type": "markdown",
   "metadata": {},
   "source": [
    "# 2. Link Lengths in 2D plot"
   ]
  },
  {
   "cell_type": "code",
   "execution_count": 22,
   "metadata": {},
   "outputs": [],
   "source": [
    "import math\n",
    "import matplotlib.pyplot as plt"
   ]
  },
  {
   "cell_type": "markdown",
   "metadata": {},
   "source": [
    "## Define the lengths of the links of the robotic arm (in meters)"
   ]
  },
  {
   "cell_type": "code",
   "execution_count": null,
   "metadata": {},
   "outputs": [],
   "source": [
    "L1 = 12.9 / 100   # Length of the first link (12.9 cm)\n",
    "L2 = 43.97 / 100  # Length of the second link (43.97 cm)\n",
    "L3 = 45.39 / 100  # Length of the third link (45.39 cm)\n",
    "L4 = 22.4 / 100    # Length of the fourth link (104 cm)"
   ]
  },
  {
   "cell_type": "markdown",
   "metadata": {},
   "source": [
    "## Define the angles for each joint (in degrees)"
   ]
  },
  {
   "cell_type": "code",
   "execution_count": 23,
   "metadata": {},
   "outputs": [],
   "source": [
    "theta1 = 90\n",
    "theta2 = -90\n",
    "theta3 = 0\n",
    "theta4 = 0"
   ]
  },
  {
   "cell_type": "markdown",
   "metadata": {},
   "source": [
    "## Convert degrees to radians for calculations"
   ]
  },
  {
   "cell_type": "code",
   "execution_count": 28,
   "metadata": {},
   "outputs": [],
   "source": [
    "theta1_rad = math.radians(theta1)\n",
    "theta2_rad = math.radians(theta2)\n",
    "theta3_rad = math.radians(theta3)\n",
    "theta4_rad = math.radians(theta4)"
   ]
  },
  {
   "cell_type": "markdown",
   "metadata": {},
   "source": [
    "## Calculate the positions of each joint"
   ]
  },
  {
   "cell_type": "code",
   "execution_count": null,
   "metadata": {},
   "outputs": [],
   "source": [
    "x1 = L1 * math.cos(theta1_rad)\n",
    "y1 = L1 * math.sin(theta1_rad)\n",
    "x2 = x1 + L2 * math.cos(theta1_rad + theta2_rad)\n",
    "y2 = y1 + L2 * math.sin(theta1_rad + theta2_rad)\n",
    "x3 = x2 + L3 * math.cos(theta1_rad + theta2_rad + theta3_rad)\n",
    "y3 = y2 + L3 * math.sin(theta1_rad + theta2_rad + theta3_rad)\n",
    "x4 = x3 + L4 * math.cos(theta1_rad + theta2_rad + theta3_rad + theta4_rad)\n",
    "y4 = y3 + L4 * math.sin(theta1_rad + theta2_rad + theta3_rad + theta4_rad)"
   ]
  },
  {
   "cell_type": "markdown",
   "metadata": {},
   "source": [
    "## Plot the robotic arm"
   ]
  },
  {
   "cell_type": "code",
   "execution_count": null,
   "metadata": {},
   "outputs": [],
   "source": [
    "plt.figure(figsize=(8, 8))\n",
    "plt.plot([0, x1, x2, x3, x4], [0, y1, y2, y3, y4], '-o', markersize=10)\n",
    "plt.title(\"Robotic Arm in 2D Space\")\n",
    "plt.xlabel(\"X Coordinate (meters)\")\n",
    "plt.ylabel(\"Y Coordinate (meters)\")\n",
    "plt.grid(True)\n",
    "plt.axis('equal')\n",
    "plt.show()"
   ]
  },
  {
   "cell_type": "markdown",
   "metadata": {},
   "source": [
    "## Calculate the total workspace area in meters"
   ]
  },
  {
   "cell_type": "code",
   "execution_count": 27,
   "metadata": {},
   "outputs": [
    {
     "data": {
      "text/plain": [
       "4.8820713004896135"
      ]
     },
     "execution_count": 27,
     "metadata": {},
     "output_type": "execute_result"
    }
   ],
   "source": [
    "workspace_area = math.pi * (L1 + L2 + L3 + L4)**2\n",
    "workspace_area"
   ]
  }
 ],
 "metadata": {
  "kernelspec": {
   "display_name": "Python 3 (ipykernel)",
   "language": "python",
   "name": "python3"
  },
  "language_info": {
   "codemirror_mode": {
    "name": "ipython",
    "version": 3
   },
   "file_extension": ".py",
   "mimetype": "text/x-python",
   "name": "python",
   "nbconvert_exporter": "python",
   "pygments_lexer": "ipython3",
   "version": "3.11.7"
  }
 },
 "nbformat": 4,
 "nbformat_minor": 4
}

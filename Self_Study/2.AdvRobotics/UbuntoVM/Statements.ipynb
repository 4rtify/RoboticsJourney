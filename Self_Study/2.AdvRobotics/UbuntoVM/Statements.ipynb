{
 "cells": [
  {
   "cell_type": "markdown",
   "metadata": {},
   "source": [
    "# Ubunto VM\n",
    "- F11 + F = Full Screen\n",
    "\n",
    "1. Ctrl Shift P - Remote-SSH: connect to host...\n",
    "2. vboxuser@192.168.0.9\n",
    "3. Ctrl Shift P - Remote-SSH: Open Folder...\n",
    "4. jupyter notebook --no-browser --port=8888\n",
    "5. http://192.168.0.9:8888\n"
   ]
  },
  {
   "cell_type": "code",
   "execution_count": null,
   "metadata": {},
   "outputs": [],
   "source": []
  }
 ],
 "metadata": {
  "kernelspec": {
   "display_name": "base",
   "language": "python",
   "name": "python3"
  },
  "language_info": {
   "codemirror_mode": {
    "name": "ipython",
    "version": 3
   },
   "file_extension": ".py",
   "mimetype": "text/x-python",
   "name": "python",
   "nbconvert_exporter": "python",
   "pygments_lexer": "ipython3",
   "version": "3.11.7"
  }
 },
 "nbformat": 4,
 "nbformat_minor": 2
}

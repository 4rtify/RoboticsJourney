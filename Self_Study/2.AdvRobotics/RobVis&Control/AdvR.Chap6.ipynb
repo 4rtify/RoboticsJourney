{
 "cells": [
  {
   "cell_type": "code",
   "execution_count": 7,
   "metadata": {},
   "outputs": [],
   "source": [
    "#!pip install rvc3python\n",
    "import numpy as np\n",
    "import sys\n",
    "sys.path.append('C:/Users/James/AppData/Local/Programs/Python/Python310/Lib/site-packages/spatialmath')\n",
    "from spatialmath.base import *\n",
    "import roboticstoolbox as rtb\n",
    "import machinevisiontoolbox as mvt\n"
   ]
  },
  {
   "cell_type": "code",
   "execution_count": 19,
   "metadata": {},
   "outputs": [
    {
     "data": {
      "text/plain": [
       "Bicycle: x = [ 0, 0, 0 ]\n",
       "  L=1, steer_max=1.41372, speed_max=inf, accel_max=inf"
      ]
     },
     "execution_count": 19,
     "metadata": {},
     "output_type": "execute_result"
    }
   ],
   "source": [
    "V = np.diag([0.02, np.deg2rad(0.5)]) ** 2\n",
    "robot = rtb.Bicycle(covar=V, animation=\"car\")\n",
    "robot\n",
    "# Bicycle: x = [ 0, 0, 0 ]\n",
    "# L=1, steer_max=1.41372, speed_max=inf, accel_max=inf\n",
    "\n"
   ]
  }
 ],
 "metadata": {
  "kernelspec": {
   "display_name": "base",
   "language": "python",
   "name": "python3"
  },
  "language_info": {
   "codemirror_mode": {
    "name": "ipython",
    "version": 3
   },
   "file_extension": ".py",
   "mimetype": "text/x-python",
   "name": "python",
   "nbconvert_exporter": "python",
   "pygments_lexer": "ipython3",
   "version": "3.11.7"
  }
 },
 "nbformat": 4,
 "nbformat_minor": 2
}

{
 "cells": [
  {
   "cell_type": "markdown",
   "source": [
    "# Example 2.1"
   ],
   "metadata": {
    "collapsed": false
   },
   "id": "82d6b50348d8414c"
  },
  {
   "cell_type": "markdown",
   "source": [
    "A Vector is described as follows, $\\textbf{P} = 3\\textbf{i} + 5\\textbf{j} + 2\\textbf{k}$. Express the vector in matrix form:"
   ],
   "metadata": {
    "collapsed": false
   },
   "id": "afd2a7acddf4d583"
  },
  {
   "cell_type": "markdown",
   "source": [
    "- With a scale factor of 2\n",
    "- If it were to describe a direction as a unit vector"
   ],
   "metadata": {
    "collapsed": false
   },
   "id": "f51587f207740a4d"
  },
  {
   "cell_type": "markdown",
   "source": [
    "NOTE: \n",
    "- The scale factor is the bottom element of the column vector\n",
    "- Bold lower case characters typically describe a vector\n",
    "- Bold upper case typically describe a matrix\n",
    "- Unit Vectors have a length of 1\n",
    "- Leaning of a vector is determent by square-rooting the sum of the squared elements."
   ],
   "metadata": {
    "collapsed": false
   },
   "id": "904816040c97d993"
  },
  {
   "cell_type": "markdown",
   "source": [
    "SOLUTION: \n",
    "- With scale factor of 2 $\\textbf{P} = \\begin{bmatrix} 6 \\\\ 10 \\\\ 4 \\\\ 2\\end{bmatrix}$\n",
    "- As a direction $\\textbf{P} = \\begin{bmatrix} 3 \\\\ 5 \\\\ 2 \\\\ 0\\end{bmatrix}$\n",
    "- As a unit vector we divide the vector by its current length 6.16 to reduce its length to one. $\\textbf{P_{unit}} =\\begin{bmatrix} 0.487 \\\\ 0.811 \\\\ 0.324 \\\\ 0\\end{bmatrix}$"
   ],
   "metadata": {
    "collapsed": false
   },
   "id": "2f72d10607072260"
  },
  {
   "cell_type": "code",
   "outputs": [
    {
     "name": "stdout",
     "output_type": "stream",
     "text": [
      "With scale factor 2:  [ 6 10  4  2]\n",
      "Direction:  [3 5 2 0]\n",
      "Unit Direction:  [0.487 0.811 0.324 0.   ]\n"
     ]
    }
   ],
   "source": [
    "# Coded Solution\n",
    "import numpy as np\n",
    "P = np.array([3, 5, 2])\n",
    "P_scale2  = np.append(P*2, 2)\n",
    "P_direction = np.append(P, 0)\n",
    "P_unit = P_direction/np.linalg.norm(P_direction)\n",
    "print(\"With scale factor 2: \", P_scale2)\n",
    "print(\"Direction: \", P_direction)\n",
    "print(\"Unit Direction: \", P_unit.round(3))\n"
   ],
   "metadata": {
    "collapsed": false,
    "ExecuteTime": {
     "end_time": "2024-07-17T01:23:16.846954Z",
     "start_time": "2024-07-17T01:23:16.842320Z"
    }
   },
   "id": "57729fe919b7b991",
   "execution_count": 11
  },
  {
   "cell_type": "markdown",
   "source": [
    "LENGTH OF A VECTOR:\n",
    "- Given a vector $x \\textbf{i} + y \\textbf{j} + z\\textbf{k}$\n",
    "- Then the distance is given by $ \\sqrt{x^2 + y^2 + z^2} $"
   ],
   "metadata": {
    "collapsed": false
   },
   "id": "d2e0c10fba3d72bc"
  },
  {
   "cell_type": "code",
   "outputs": [],
   "source": [],
   "metadata": {
    "collapsed": false
   },
   "id": "fba3d6f7d5d35aeb"
  }
 ],
 "metadata": {
  "kernelspec": {
   "display_name": "Python 3",
   "language": "python",
   "name": "python3"
  },
  "language_info": {
   "codemirror_mode": {
    "name": "ipython",
    "version": 2
   },
   "file_extension": ".py",
   "mimetype": "text/x-python",
   "name": "python",
   "nbconvert_exporter": "python",
   "pygments_lexer": "ipython2",
   "version": "2.7.6"
  }
 },
 "nbformat": 4,
 "nbformat_minor": 5
}

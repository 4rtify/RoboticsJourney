{
 "cells": [
  {
   "cell_type": "markdown",
   "metadata": {},
   "source": [
    "# Page 176"
   ]
  },
  {
   "cell_type": "code",
   "execution_count": 4,
   "metadata": {},
   "outputs": [],
   "source": [
    "import numpy as np\n",
    "\n",
    "# Define the Jacobian matrix J\n",
    "J = np.array([\n",
    "    [20, 0, 0, 0, 0, 0],\n",
    "    [-7, 0, 1, 0, 0, 0],\n",
    "    [0, 15, 0, 0, 0, 0],\n",
    "    [0, 1, 0, 0, 1, 0],\n",
    "    [0, 0, 0, 1, 0, 0],\n",
    "    [1, 0, 0, 0, 0, 1]\n",
    "])\n",
    "\n",
    "# Define the joint differential motions Dθ\n",
    "D_theta = np.array([\n",
    "    [0],\n",
    "    [0.1],\n",
    "    [0],\n",
    "    [-0.1],\n",
    "    [0.05],\n",
    "    [0.03]\n",
    "])"
   ]
  },
  {
   "cell_type": "code",
   "execution_count": 6,
   "metadata": {},
   "outputs": [
    {
     "data": {
      "text/plain": [
       "array([[ 0.  ],\n",
       "       [ 0.  ],\n",
       "       [ 1.5 ],\n",
       "       [ 0.15],\n",
       "       [-0.1 ],\n",
       "       [ 0.03]])"
      ]
     },
     "execution_count": 6,
     "metadata": {},
     "output_type": "execute_result"
    }
   ],
   "source": [
    "# Calculate the differential motions D = J * Dθ\n",
    "D = np.dot(J, D_theta)\n",
    "\n",
    "# Output the result\n",
    "D"
   ]
  },
  {
   "cell_type": "code",
   "execution_count": 7,
   "metadata": {},
   "outputs": [
    {
     "data": {
      "text/plain": [
       "array([[ 0.  ],\n",
       "       [ 0.  ],\n",
       "       [ 1.5 ],\n",
       "       [ 0.15],\n",
       "       [-0.1 ],\n",
       "       [ 0.03]])"
      ]
     },
     "execution_count": 7,
     "metadata": {},
     "output_type": "execute_result"
    }
   ],
   "source": [
    "J @ D_theta"
   ]
  },
  {
   "cell_type": "markdown",
   "metadata": {},
   "source": [
    "# 5.6.4 Differential Transformations of a Frame"
   ]
  },
  {
   "cell_type": "code",
   "execution_count": 8,
   "metadata": {},
   "outputs": [
    {
     "name": "stdout",
     "output_type": "stream",
     "text": [
      "Differential Operator Matrix (Δ):\n",
      "[[ 0.   -0.06  0.    0.04  0.05]\n",
      " [ 0.    0.06  0.   -0.02  0.03]\n",
      " [-0.04  0.    0.02  0.    0.01]\n",
      " [ 0.    0.    0.    0.    0.  ]]\n"
     ]
    }
   ],
   "source": [
    "import numpy as np\n",
    "\n",
    "# Define the differential operator matrix\n",
    "delta = np.array([\n",
    "    [0, -0.06, 0, 0.04, 0.05],\n",
    "    [0, 0.06, 0, -0.02, 0.03],\n",
    "    [-0.04, 0, 0.02, 0, 0.01],\n",
    "    [0, 0, 0, 0, 0]\n",
    "])\n",
    "\n",
    "# Print the matrix\n",
    "print(\"Differential Operator Matrix (Δ):\")\n",
    "print(delta)\n"
   ]
  },
  {
   "cell_type": "markdown",
   "metadata": {},
   "source": [
    "# Example 5.5\n",
    "- Pre-multiplying the frame with the differential operator"
   ]
  },
  {
   "cell_type": "code",
   "execution_count": 10,
   "metadata": {},
   "outputs": [],
   "source": [
    "B = np.array([\n",
    "    [0, 0, 1, 8],\n",
    "    [1, 0, 0, 2],\n",
    "    [0, 1, 0, 3],\n",
    "    [0, 0, 0, 1]\n",
    "])"
   ]
  },
  {
   "cell_type": "code",
   "execution_count": 14,
   "metadata": {},
   "outputs": [],
   "source": [
    "delta = np.array([\n",
    "    [0,     0, 0.01,    0.03],\n",
    "    [0,     0, 0,       0.04],\n",
    "    [-0.01, 0, 0,       0],\n",
    "    [0,     0, 0,       0]\n",
    "])"
   ]
  },
  {
   "cell_type": "code",
   "execution_count": 17,
   "metadata": {},
   "outputs": [
    {
     "data": {
      "text/plain": [
       "array([[ 0.  ,  0.01,  0.  ,  0.06],\n",
       "       [ 0.  ,  0.  ,  0.  ,  0.04],\n",
       "       [ 0.  ,  0.  , -0.01, -0.08],\n",
       "       [ 0.  ,  0.  ,  0.  ,  0.  ]])"
      ]
     },
     "execution_count": 17,
     "metadata": {},
     "output_type": "execute_result"
    }
   ],
   "source": [
    "delta @ B"
   ]
  },
  {
   "cell_type": "code",
   "execution_count": 19,
   "metadata": {},
   "outputs": [
    {
     "data": {
      "text/plain": [
       "array([[ 0.  ,  0.01,  0.  ,  0.06],\n",
       "       [ 0.  ,  0.  ,  0.  ,  0.04],\n",
       "       [ 0.  ,  0.  , -0.01, -0.08],\n",
       "       [ 0.  ,  0.  ,  0.  ,  0.  ]])"
      ]
     },
     "execution_count": 19,
     "metadata": {},
     "output_type": "execute_result"
    }
   ],
   "source": [
    "np.dot(delta, B)"
   ]
  },
  {
   "cell_type": "code",
   "execution_count": null,
   "metadata": {},
   "outputs": [],
   "source": []
  },
  {
   "cell_type": "code",
   "execution_count": null,
   "metadata": {},
   "outputs": [],
   "source": []
  },
  {
   "cell_type": "code",
   "execution_count": null,
   "metadata": {},
   "outputs": [],
   "source": []
  },
  {
   "cell_type": "code",
   "execution_count": null,
   "metadata": {},
   "outputs": [],
   "source": []
  },
  {
   "cell_type": "code",
   "execution_count": null,
   "metadata": {},
   "outputs": [],
   "source": []
  },
  {
   "cell_type": "code",
   "execution_count": null,
   "metadata": {},
   "outputs": [],
   "source": []
  },
  {
   "cell_type": "code",
   "execution_count": null,
   "metadata": {},
   "outputs": [],
   "source": []
  }
 ],
 "metadata": {
  "kernelspec": {
   "display_name": "base",
   "language": "python",
   "name": "python3"
  },
  "language_info": {
   "codemirror_mode": {
    "name": "ipython",
    "version": 3
   },
   "file_extension": ".py",
   "mimetype": "text/x-python",
   "name": "python",
   "nbconvert_exporter": "python",
   "pygments_lexer": "ipython3",
   "version": "3.11.7"
  }
 },
 "nbformat": 4,
 "nbformat_minor": 2
}

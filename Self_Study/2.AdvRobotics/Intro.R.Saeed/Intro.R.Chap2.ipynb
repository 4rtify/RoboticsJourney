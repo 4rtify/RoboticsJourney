{
 "cells": [
  {
   "cell_type": "markdown",
   "metadata": {},
   "source": [
    "# 2. Kinematics of Serial Robots: Position Analysis"
   ]
  },
  {
   "cell_type": "markdown",
   "metadata": {},
   "source": [
    "# 2.2 Robots as Mechanisms"
   ]
  },
  {
   "cell_type": "markdown",
   "metadata": {},
   "source": [
    "# 2.4.1 Representation of a Point in Space"
   ]
  },
  {
   "cell_type": "markdown",
   "metadata": {},
   "source": [
    "- i, j and k are unit vectors.\n",
    "- These vectors usually represent x, y and z cartesian coordinates \n",
    "- The Point can be represented as a vector in \"vector form\"\n",
    "  - P = 3i + 5j + 2k\n",
    "- 3i means you are moving 3 units along the x axis\n",
    "- If the units are in meters, then we are moving 3 meters long the x axis\n",
    "  - i is the unit vector in the x direction. It has a magnitude of 1 and points along the positive x axis\n",
    "  - j is the unit vector in the y direction. It has a magnitude of 1 and points along the positive y axis\n",
    "  - k is the unit vector in the z direction. It has a magnitude of 1 and points along the positive z axis\n",
    "- So for the above vector:\n",
    "  - 3i means move 3 units along the x axis\n",
    "  - This is a formula rather than an equation\n",
    "    - It provides a way to calculate the position vector P\n",
    "    - An equation states that two expressions are equal"
   ]
  },
  {
   "cell_type": "markdown",
   "metadata": {},
   "source": [
    "# 2.4.2 Representation of a Vector in Space"
   ]
  },
  {
   "cell_type": "markdown",
   "metadata": {},
   "source": [
    "- The below code demonstrates how to calculate a vector and its magnitude \n",
    "- We are subtracting the coordinates of the starting point from the coordinates of the ending point"
   ]
  },
  {
   "cell_type": "code",
   "execution_count": 1,
   "metadata": {},
   "outputs": [
    {
     "name": "stdout",
     "output_type": "stream",
     "text": [
      "Vector P_AB = 4i + 6j + 8k\n"
     ]
    }
   ],
   "source": [
    "import numpy as np\n",
    "\n",
    "# A = np.array([1, 2, 3])\n",
    "\n",
    "A = np.array([0, 0, 0])\n",
    "B = np.array([4, 6, 8])\n",
    "P_AB = B - A\n",
    "\n",
    "print(f\"Vector P_AB = {P_AB[0]}i + {P_AB[1]}j + {P_AB[2]}k\")\n"
   ]
  },
  {
   "cell_type": "markdown",
   "metadata": {},
   "source": [
    "- Direction Vector\n",
    "- When the scale component w is zero\n",
    "- Converting from Matrix to Cartesian (I think?)\n",
    "- We divide each component by the weight\n",
    "- If Px, Py and Pz are divided by w then we get Ax, Ay, Az"
   ]
  },
  {
   "cell_type": "code",
   "execution_count": 2,
   "metadata": {},
   "outputs": [
    {
     "name": "stderr",
     "output_type": "stream",
     "text": [
      "C:\\Users\\James\\AppData\\Local\\Temp\\ipykernel_24700\\559588662.py:1: RuntimeWarning: divide by zero encountered in divide\n",
      "  np.array([2,3,4]) / 0\n"
     ]
    },
    {
     "data": {
      "text/plain": [
       "array([1. , 1.5, 2. ])"
      ]
     },
     "execution_count": 2,
     "metadata": {},
     "output_type": "execute_result"
    }
   ],
   "source": [
    "np.array([2,3,4]) / 0\n",
    "np.array([2,3,4]) / 1\n",
    "np.array([2,3,4]) / 2\n",
    "\n"
   ]
  },
  {
   "cell_type": "markdown",
   "metadata": {},
   "source": [
    "Example 2.1\n",
    "- A vector is described as P = 3i + 5j + 2k, express it as matrix form:\n",
    "1. With a scale factor of 2\n",
    "2. If it were to describe a direction as a unit vector"
   ]
  },
  {
   "cell_type": "code",
   "execution_count": 3,
   "metadata": {},
   "outputs": [],
   "source": [
    "import numpy as np\n",
    "import math"
   ]
  },
  {
   "cell_type": "code",
   "execution_count": 4,
   "metadata": {},
   "outputs": [
    {
     "data": {
      "text/plain": [
       "array([ 6, 10,  4])"
      ]
     },
     "execution_count": 4,
     "metadata": {},
     "output_type": "execute_result"
    }
   ],
   "source": [
    "P = np.array([3,5,2])\n",
    "P * 2"
   ]
  },
  {
   "cell_type": "markdown",
   "metadata": {},
   "source": [
    "Converting a Vector into a Unit Vector\n",
    "- Normalize the length (magnitude) to be equal to 1.\n",
    "- Each component (element) is divided by the \"square root of the sum of the squares of all (three) components\"\n",
    "1. Square each component\n",
    "2. Add the squares together\n",
    "3. Find the square root of the sum\n",
    "4. Divide each of the components by this sum"
   ]
  },
  {
   "cell_type": "code",
   "execution_count": 5,
   "metadata": {},
   "outputs": [
    {
     "data": {
      "text/plain": [
       "6.164414002968976"
      ]
     },
     "execution_count": 5,
     "metadata": {},
     "output_type": "execute_result"
    }
   ],
   "source": [
    "sq_Sum = math.sqrt(3**2 + 5**2 + 2**2)\n",
    "sq_Sum"
   ]
  },
  {
   "cell_type": "code",
   "execution_count": 6,
   "metadata": {},
   "outputs": [
    {
     "data": {
      "text/plain": [
       "array([0.48666426, 0.81110711, 0.32444284])"
      ]
     },
     "execution_count": 6,
     "metadata": {},
     "output_type": "execute_result"
    }
   ],
   "source": [
    "UnitV = P / sq_Sum\n",
    "UnitV"
   ]
  },
  {
   "cell_type": "code",
   "execution_count": 7,
   "metadata": {},
   "outputs": [
    {
     "data": {
      "text/plain": [
       "1.0"
      ]
     },
     "execution_count": 7,
     "metadata": {},
     "output_type": "execute_result"
    }
   ],
   "source": [
    "math.sqrt(UnitV[0]**2 + UnitV[1]**2 + UnitV[2]**2)"
   ]
  },
  {
   "cell_type": "markdown",
   "metadata": {},
   "source": [
    "Example 2.2\n",
    "- A Vector P is 5 units long and is in the direction of unit vector q described as follows:\n",
    "- Express the vector in matrix form:"
   ]
  },
  {
   "cell_type": "code",
   "execution_count": 8,
   "metadata": {},
   "outputs": [],
   "source": [
    "q = None\n",
    "q_unit = np.array([0.371, 0.557, q])"
   ]
  },
  {
   "cell_type": "code",
   "execution_count": 9,
   "metadata": {},
   "outputs": [
    {
     "data": {
      "text/plain": [
       "0.7430410486642041"
      ]
     },
     "execution_count": 9,
     "metadata": {},
     "output_type": "execute_result"
    }
   ],
   "source": [
    "q = math.sqrt(1 - (0.371**2 + 0.557**2))\n",
    "q"
   ]
  },
  {
   "cell_type": "code",
   "execution_count": 10,
   "metadata": {},
   "outputs": [
    {
     "data": {
      "text/plain": [
       "array([1.855     , 2.785     , 3.71520524])"
      ]
     },
     "execution_count": 10,
     "metadata": {},
     "output_type": "execute_result"
    }
   ],
   "source": [
    "q_unit = np.array([0.371, 0.557, q])\n",
    "q_unit * 5"
   ]
  },
  {
   "cell_type": "markdown",
   "metadata": {},
   "source": [
    "# 2.4.3 Representation of a Frame at the Origin of a Fixed Reference Frame"
   ]
  },
  {
   "cell_type": "markdown",
   "metadata": {},
   "source": [
    "# 2.4.4 Representation of a Frame Relative to a Fixed Reference Frame"
   ]
  },
  {
   "cell_type": "markdown",
   "metadata": {},
   "source": [
    "- A frame can be expressed by it's three \"directional vectors\" and it's single \"position vector\"\n",
    "- The frame is expressed by it's three vectors describing it's directional \"unit vectors\" and a fourth vector describing it's location\n",
    "- So we have 9 pieces of information for the frame's orientation - 3x3 matrix\n",
    "- And we have 3 pieces of information for the frames's position - x,y and z vector"
   ]
  },
  {
   "cell_type": "markdown",
   "metadata": {},
   "source": [
    "Example 2.3"
   ]
  },
  {
   "cell_type": "code",
   "execution_count": 11,
   "metadata": {},
   "outputs": [
    {
     "data": {
      "text/plain": [
       "0.7071067811865476"
      ]
     },
     "execution_count": 11,
     "metadata": {},
     "output_type": "execute_result"
    }
   ],
   "source": [
    "degree = 45\n",
    "math.radians(degree)\n",
    "np.sqrt(2) / 2\n",
    "math.sin(math.radians(degree))"
   ]
  },
  {
   "cell_type": "code",
   "execution_count": 12,
   "metadata": {},
   "outputs": [],
   "source": [
    "r = math.radians(90)\n",
    "rX = np.array([\n",
    "    [1, 0, 0],\n",
    "    [0, math.cos(r), -math.sin(r)],\n",
    "    [0, math.sin(r), math.cos(r)]\n",
    "])\n",
    "\n",
    "rY = np.array([\n",
    "    [math.cos(r), 0, math.sin(r)],\n",
    "    [0, 1, 0],\n",
    "    [-math.sin(r), 0, math.cos(r)]\n",
    "])\n",
    "\n",
    "rZ = np.array([\n",
    "    [math.cos(r), -math.sin(r), 0],\n",
    "    [math.sin(r), math.cos(r), 0],\n",
    "    [0, 0, 1]\n",
    "])"
   ]
  },
  {
   "cell_type": "markdown",
   "metadata": {},
   "source": [
    "# 2.4.5 Representation of a Rigid Body"
   ]
  },
  {
   "cell_type": "code",
   "execution_count": 13,
   "metadata": {},
   "outputs": [
    {
     "name": "stdout",
     "output_type": "stream",
     "text": [
      "As before, a frame can be represented by a matrix, where the origin of the frame and the three vectors representing its orientation relative to the reference frame are expressed\n"
     ]
    },
    {
     "data": {
      "text/plain": [
       "array([['nx', 'ox', 'ax', 'px'],\n",
       "       ['ny', 'oy', 'ay', 'py'],\n",
       "       ['nz', 'oz', 'az', 'pz'],\n",
       "       ['0', '0', '0', 'w']], dtype='<U11')"
      ]
     },
     "execution_count": 13,
     "metadata": {},
     "output_type": "execute_result"
    }
   ],
   "source": [
    "print(\"As before, a frame can be represented by a matrix, where the origin of the frame and the three vectors representing its orientation relative to the reference frame are expressed\")\n",
    "\n",
    "np.array([\n",
    "    [\"nx\", \"ox\", \"ax\", \"px\"],\n",
    "    [\"ny\", \"oy\", \"ay\", \"py\"],\n",
    "    [\"nz\", \"oz\", \"az\", \"pz\"],\n",
    "    [0, 0, 0, \"w\"]\n",
    "])"
   ]
  },
  {
   "cell_type": "markdown",
   "metadata": {},
   "source": [
    "- A point in space only has three DOF, it can only move along the x,y and z axis\n",
    "- A rigid body in space has six DOF, it can move along the x,y and z axis and also rotate and spin on these three axis as well\n",
    "- All that is needed to full describe a rigid body in space is 6 pieces of information\n",
    "- However, in the matrix we have 12 pieces of information:\n",
    "  - We have a 3x3 matrix - so 9 pieces of information\n",
    "  - Plus a vector of 3 components - so another 3 pieces of information\n",
    "  - Excluding the scale factors on the last row\n",
    "- So we need \"six constraint equations\" to reduce the pieces of information from 12 to 6"
   ]
  },
  {
   "cell_type": "markdown",
   "metadata": {},
   "source": [
    "# The Constraint Equations"
   ]
  },
  {
   "cell_type": "markdown",
   "metadata": {},
   "source": [
    "The Constraint Equations come from known characteristics of a frame; they are:  \n",
    "1. The three unit vectors n,o and a are mutually perpendicular\n",
    "2. Each unit vector representing directional cosines must be equal to 1\n",
    "\n",
    "These constraints translate into the following six constraint equations:  \n",
    "\n",
    "Dot Products must equal ZERO (Remember $\\cdot$ and 0 are similar signs)\n",
    "- n $\\cdot$ o = |n| * |o| * cos(theta) = 0 (the dot product (result is a scalar) of n and o must be zero)\n",
    "- n $\\cdot$ a = 0\n",
    "- a $\\cdot$ o = 0\n",
    "\n",
    "Unit Vectors must equal ONE (Remember 1 and | are similar signs)\n",
    "- |n| = √(Nx<sup>2</sup> + Ny<sup>2</sup> + Nz<sup>2</sup>) = 1 (the magnitude of the length of the vector must be 1 eg: Unit Vector)\n",
    "- |o| = 1 \n",
    "- |a| = 1\n",
    "\n",
    "\n",
    "We use Pythagoras Theorem to calculate the magnitude: |n| = √(x<sup>2</sup> + y<sup>2</sup>)"
   ]
  },
  {
   "cell_type": "markdown",
   "metadata": {},
   "source": [
    "- The values in a frame must satisfy the above equations, otherwise the frame is incorrect\n",
    "- Note the dot product is a scalar, not a vector\n",
    "- So to ensure the right-hand rule is followed, we can instead use the Cross Product method:  \n",
    "  \n",
    "\n",
    "<div style=\"text-align: center;font-weight: bold\">\n",
    "n x o = a   \n",
    "</div>  \n",
    "\n",
    "\n",
    "- It is recommended that the Cross Product equation be used as it determines the correct relationship among the three vectors"
   ]
  },
  {
   "cell_type": "markdown",
   "metadata": {},
   "source": [
    "Example 2.4"
   ]
  },
  {
   "cell_type": "markdown",
   "metadata": {},
   "source": [
    "- Find the values of the missing components in the below frame\n",
    "- The vector 5,3,2 is the position of the origin of the frame and does not affect the Constraint Equations\n",
    "- Note that only three values for the directional vectors are given, this is all that is needed\n",
    "- We then use the Six Constraint Equations from above"
   ]
  },
  {
   "cell_type": "code",
   "execution_count": 14,
   "metadata": {},
   "outputs": [
    {
     "data": {
      "text/plain": [
       "array([[None, 0, None, 5],\n",
       "       [0.707, None, None, 3],\n",
       "       [None, None, 0, 2],\n",
       "       [0, 0, 0, 1]], dtype=object)"
      ]
     },
     "execution_count": 14,
     "metadata": {},
     "output_type": "execute_result"
    }
   ],
   "source": [
    "np.array([\n",
    "    [\"?\",    0,     \"?\",    5],\n",
    "    [0.707, \"?\",    \"?\",    3],\n",
    "    [\"?\",   \"?\",    0,      2],\n",
    "    [0,     0,      0,      1]\n",
    "])\n",
    "np.array([\n",
    "    [None,      0,       None,    5],\n",
    "    [0.707,     None,    None,    3],\n",
    "    [None,      None,    0,       2],\n",
    "    [0,         0,       0,       1]\n",
    "])"
   ]
  },
  {
   "cell_type": "markdown",
   "metadata": {},
   "source": [
    "# Dot Product\n",
    "Ways to calculate the dot product (answer is a scalar and is zero)\n",
    "\n",
    "1. Using the magnitudes and Cosines of the angle:  \n",
    "n $\\cdot$ o = |n| $\\cdot$ |o| $\\cdot$ cos(theta) = 0\n",
    "\n",
    "2. Using the Component-wise Multiplication  \n",
    "n $\\cdot$ o = (n<sub>x</sub>  $\\cdot$  o<sub>x</sub>) + (n<sub>y</sub>  $\\cdot$  o<sub>y</sub>) + (n<sub>z</sub>  $\\cdot$  o<sub>z</sub>) = 0  \n",
    "\n",
    "- However, the problem is that it's possible to have two sets of mutually perpendicular vectors in opposite directions. Meaning we get two frames ref page 44 - F1 and F1.\n"
   ]
  },
  {
   "cell_type": "markdown",
   "metadata": {},
   "source": [
    "# Cross Product - **n x o = a**\n",
    "Calculating the Cross Product (think cross for multiplication)  \n",
    "The result is a a third vector that is perpendicular to the plane formed by the original two vectors  \n",
    "We then have a frame that applies the right-hand rule and is correct    \n",
    "\n",
    "Figure 2.12"
   ]
  },
  {
   "cell_type": "code",
   "execution_count": 15,
   "metadata": {},
   "outputs": [
    {
     "data": {
      "text/plain": [
       "array([-3,  6, -3])"
      ]
     },
     "execution_count": 15,
     "metadata": {},
     "output_type": "execute_result"
    }
   ],
   "source": [
    "# Define the vectors n and o\n",
    "n = np.array([2, 3, 4])\n",
    "o = np.array([5, 6, 7])\n",
    "\n",
    "# Calculate the cross product\n",
    "np.cross(n, o)"
   ]
  },
  {
   "cell_type": "markdown",
   "metadata": {},
   "source": [
    "Example 2.5"
   ]
  },
  {
   "cell_type": "markdown",
   "metadata": {},
   "source": [
    "Steps to solve missing components in a matrix that is already converted to a Unit Vector:  \n",
    "1. Solve the Unit Vectors (the vector's magnitude must equal 1)\n",
    "   1. Note that the vector is already a Unit Vector. So there is no Square Root radical, the vector has already been normalized to 1.\n",
    "2. Solve the Dot Product (the result from vector N and vector O must be a scalar and equal 0)\n",
    "3. Solve the Cross Product (the result must be a third vector which is vector A)"
   ]
  },
  {
   "cell_type": "code",
   "execution_count": 16,
   "metadata": {},
   "outputs": [
    {
     "data": {
      "text/plain": [
       "array([ 0.5  , -0.866,  0.   ])"
      ]
     },
     "execution_count": 16,
     "metadata": {},
     "output_type": "execute_result"
    }
   ],
   "source": [
    "N = np.array([0.866, 0.5, 0])\n",
    "O = np.array([0, 0, 1])\n",
    "np.cross(N,O)"
   ]
  },
  {
   "cell_type": "code",
   "execution_count": 17,
   "metadata": {},
   "outputs": [],
   "source": [
    "# i (Ny * Oz - Nz * Oy)\n"
   ]
  },
  {
   "cell_type": "code",
   "execution_count": 18,
   "metadata": {},
   "outputs": [
    {
     "data": {
      "text/plain": [
       "array([[None, 0, None, 3],\n",
       "       [0.5, None, None, 9],\n",
       "       [0, None, None, 7],\n",
       "       [0, 0, 0, 1]], dtype=object)"
      ]
     },
     "execution_count": 18,
     "metadata": {},
     "output_type": "execute_result"
    }
   ],
   "source": [
    "Nx = None\n",
    "Oy = None\n",
    "Oz = None\n",
    "Ax = None\n",
    "Ay = None\n",
    "Ax = None\n",
    "\n",
    "np.array([\n",
    "    [Nx,        0,       Ax,    3],\n",
    "    [0.5,       Oy,      Ay,    9],\n",
    "    [0,         Oz,      Ax,    7],\n",
    "    [0,         0,       0,     1]\n",
    "])"
   ]
  },
  {
   "cell_type": "markdown",
   "metadata": {},
   "source": [
    "# 2.5 Homogeneous Transformation Matrices"
   ]
  },
  {
   "cell_type": "markdown",
   "metadata": {},
   "source": [
    "- Meaning a 4x4 matrix\n",
    "- A standard for multiplying matrices because they are the same size, also known as the same dimensions"
   ]
  },
  {
   "cell_type": "markdown",
   "metadata": {},
   "source": [
    "# 2.6 Representation of Transformations"
   ]
  },
  {
   "cell_type": "markdown",
   "metadata": {},
   "source": [
    "- A transformation is defined as making a movement in space\n",
    "- When a frame (a vector, object or a moving frame) moves in space relative to a fixed reference frame, we represent this motion in a form similar to a frame representation\n",
    "- This is because a transformation is a change in the state of frame\n",
    "- A transformation may be in one of the following forms:\n",
    "1. A pure translation\n",
    "2. A pure rotation about an axis\n",
    "3. A combination of translation and rotation "
   ]
  },
  {
   "cell_type": "markdown",
   "metadata": {},
   "source": [
    "# 2.6.1 Representation of a Pure Translation\n",
    "- When a point, vector or object moves in space without any rotation\n",
    "- The direction unit vectors remain unchanged \n",
    "- Only the origin of the frame relative to the reference frame changes\n",
    "- We also pre-multiply the moving frame by the transformation frame"
   ]
  },
  {
   "cell_type": "code",
   "execution_count": 19,
   "metadata": {},
   "outputs": [
    {
     "data": {
      "text/plain": [
       "array([[ 0.527, -0.574,  0.628, 11.   ],\n",
       "       [ 0.369,  0.819,  0.439, 10.   ],\n",
       "       [-0.766,  0.   ,  0.643,  8.   ],\n",
       "       [ 0.   ,  0.   ,  0.   ,  1.   ]])"
      ]
     },
     "execution_count": 19,
     "metadata": {},
     "output_type": "execute_result"
    }
   ],
   "source": [
    "F = np.array([\n",
    "    [0.527,     -0.574, 0.628,  8],\n",
    "    [0.369,     0.819,  0.439,  10],\n",
    "    [-0.766,    0,      0.643,  6],\n",
    "    [0,         0,      0,      1]\n",
    "])\n",
    "\n",
    "T = np.array([\n",
    "    [1,0,0,3],\n",
    "    [0,1,0,0],\n",
    "    [0,0,1,2],\n",
    "    [0,0,0,1]\n",
    "])\n",
    "\n",
    "T @ F"
   ]
  },
  {
   "cell_type": "markdown",
   "metadata": {},
   "source": [
    "# 2.6.2 Representation of a Pure Rotation about an Axis"
   ]
  },
  {
   "cell_type": "markdown",
   "metadata": {},
   "source": [
    "- The example explains a reference frame x,y,z and a rotating frame n,o,a\n",
    "- There is also a point P attached to the rotating frame\n",
    "- As the rotating frame moves, point P remains in the same coordinate position of the rotating frame\n",
    "- However, relative to the reference frame, point P changes it's x,y,z coordinates\n",
    "- There is the following example with lengths, addition and subtraction but I'll move on.\n",
    "- We also pre-multiply the moving frame by the rotation matrix\n",
    "- The result is the new coordinates relative to the reference frame"
   ]
  },
  {
   "cell_type": "code",
   "execution_count": 20,
   "metadata": {},
   "outputs": [
    {
     "data": {
      "text/plain": [
       "array([[ 1.000000e+00,  0.000000e+00,  0.000000e+00],\n",
       "       [ 0.000000e+00,  6.123234e-17, -1.000000e+00],\n",
       "       [ 0.000000e+00,  1.000000e+00,  6.123234e-17]])"
      ]
     },
     "execution_count": 20,
     "metadata": {},
     "output_type": "execute_result"
    }
   ],
   "source": [
    "r = math.radians(90)\n",
    "np.array([\n",
    "    [1, 0, 0],\n",
    "    [0, math.cos(r), -math.sin(r)],\n",
    "    [0, math.sin(r), math.cos(r)]\n",
    "])"
   ]
  },
  {
   "cell_type": "markdown",
   "metadata": {},
   "source": [
    "- Denoting the Transformation as <sup>U</sup>T<sub>R</sub>\n",
    "- Meaning the Transformation of R relative to U\n",
    "- P<sub>xyz</sub> = Rot(x,theta) x P<sub>noa</sub>\n",
    "- Can be rewritten as:\n",
    "- <sup>U</sup>P = <sup>U</sup>T<sub>R</sub> x <sup>R</sup>P"
   ]
  },
  {
   "cell_type": "markdown",
   "metadata": {},
   "source": [
    "Example 2.7\n",
    "- p[2, 3, 4]<sup>T</sup>\n",
    "- The T means to Transpose, meaning this vector should be transposed to a column vector."
   ]
  },
  {
   "cell_type": "code",
   "execution_count": 21,
   "metadata": {},
   "outputs": [
    {
     "data": {
      "text/plain": [
       "array([[2],\n",
       "       [3],\n",
       "       [4]])"
      ]
     },
     "execution_count": 21,
     "metadata": {},
     "output_type": "execute_result"
    }
   ],
   "source": [
    "p = np.array([[2],[3],[4]])\n",
    "p"
   ]
  },
  {
   "cell_type": "code",
   "execution_count": 22,
   "metadata": {},
   "outputs": [
    {
     "data": {
      "text/plain": [
       "array([[2, 3, 4]])"
      ]
     },
     "execution_count": 22,
     "metadata": {},
     "output_type": "execute_result"
    }
   ],
   "source": [
    "p.T"
   ]
  },
  {
   "cell_type": "code",
   "execution_count": 23,
   "metadata": {},
   "outputs": [
    {
     "data": {
      "text/plain": [
       "array([[ 1.000000e+00,  0.000000e+00,  0.000000e+00],\n",
       "       [ 0.000000e+00,  6.123234e-17, -1.000000e+00],\n",
       "       [ 0.000000e+00,  1.000000e+00,  6.123234e-17]])"
      ]
     },
     "execution_count": 23,
     "metadata": {},
     "output_type": "execute_result"
    }
   ],
   "source": [
    "r = math.radians(90)\n",
    "rX = np.array([\n",
    "    [1, 0, 0],\n",
    "    [0, math.cos(r), -math.sin(r)],\n",
    "    [0, math.sin(r), math.cos(r)]\n",
    "])\n",
    "rX"
   ]
  },
  {
   "cell_type": "code",
   "execution_count": 24,
   "metadata": {},
   "outputs": [
    {
     "data": {
      "text/plain": [
       "array([[ 2.],\n",
       "       [-4.],\n",
       "       [ 3.]])"
      ]
     },
     "execution_count": 24,
     "metadata": {},
     "output_type": "execute_result"
    }
   ],
   "source": [
    "rX @ p"
   ]
  },
  {
   "cell_type": "markdown",
   "metadata": {},
   "source": [
    "# Transformation vs Rotation"
   ]
  },
  {
   "cell_type": "code",
   "execution_count": 25,
   "metadata": {},
   "outputs": [
    {
     "name": "stdout",
     "output_type": "stream",
     "text": [
      "Point is:\n",
      "[[2]\n",
      " [3]\n",
      " [4]]\n"
     ]
    }
   ],
   "source": [
    "print(f\"Point is:\\n{p}\")"
   ]
  },
  {
   "cell_type": "code",
   "execution_count": 26,
   "metadata": {},
   "outputs": [
    {
     "name": "stdout",
     "output_type": "stream",
     "text": [
      "\n",
      "Pure Transformation is:\n",
      "[[2]\n",
      " [3]\n",
      " [4]]\n"
     ]
    }
   ],
   "source": [
    "trans = np.array([[2], [3], [4]])\n",
    "print(f\"\\nPure Transformation is:\\n{trans}\")"
   ]
  },
  {
   "cell_type": "code",
   "execution_count": 27,
   "metadata": {},
   "outputs": [
    {
     "data": {
      "text/plain": [
       "array([[4],\n",
       "       [6],\n",
       "       [8]])"
      ]
     },
     "execution_count": 27,
     "metadata": {},
     "output_type": "execute_result"
    }
   ],
   "source": [
    "trans + p"
   ]
  },
  {
   "cell_type": "code",
   "execution_count": 28,
   "metadata": {},
   "outputs": [
    {
     "data": {
      "text/plain": [
       "array([[ 2.],\n",
       "       [-4.],\n",
       "       [ 3.]])"
      ]
     },
     "execution_count": 28,
     "metadata": {},
     "output_type": "execute_result"
    }
   ],
   "source": [
    "rX @ p"
   ]
  },
  {
   "attachments": {
    "image.png": {
     "image/png": "[encoded data removed]"
    }
   },
   "cell_type": "markdown",
   "metadata": {},
   "source": [
    "Matrix Multiplication  \n",
    "![image.png](attachment:image.png)"
   ]
  },
  {
   "cell_type": "markdown",
   "metadata": {},
   "source": [
    "# 2.6.3 Representation of Combined Transformations\n",
    "# Pre-Multiplication relative to the Reference Frame"
   ]
  },
  {
   "cell_type": "markdown",
   "metadata": {},
   "source": [
    "- Note that each transformation and rotation is pre-multiplied relative to the Reference Frame.\n",
    "- The order of matrices written is the opposite of the order of transformations performed."
   ]
  },
  {
   "cell_type": "markdown",
   "metadata": {},
   "source": [
    "Example 2.8"
   ]
  },
  {
   "cell_type": "code",
   "execution_count": 29,
   "metadata": {},
   "outputs": [
    {
     "data": {
      "text/plain": [
       "array([[7],\n",
       "       [3],\n",
       "       [1],\n",
       "       [1]])"
      ]
     },
     "execution_count": 29,
     "metadata": {},
     "output_type": "execute_result"
    }
   ],
   "source": [
    "p = np.array([[7], [3], [1], [1]])\n",
    "p"
   ]
  },
  {
   "cell_type": "code",
   "execution_count": 30,
   "metadata": {},
   "outputs": [],
   "source": [
    "r = math.radians(90)\n",
    "\n",
    "# Fixed Reference Frame\n",
    "rX = np.array([\n",
    "    [1, 0, 0, 0],\n",
    "    [0, math.cos(r), -math.sin(r), 0],\n",
    "    [0, math.sin(r), math.cos(r), 0],\n",
    "     [0, 0, 0, 1]\n",
    "])\n",
    "\n",
    "rY = np.array([\n",
    "    [math.cos(r), 0, math.sin(r), 0],\n",
    "    [0, 1, 0, 0],\n",
    "    [-math.sin(r), 0, math.cos(r), 0],\n",
    "     [0, 0, 0, 1]\n",
    "])\n",
    "\n",
    "rZ = np.array([\n",
    "    [math.cos(r), -math.sin(r), 0, 0],\n",
    "    [math.sin(r), math.cos(r), 0, 0],\n",
    "    [0, 0, 1, 0],\n",
    "     [0, 0, 0, 1]\n",
    "])\n",
    "\n",
    "# Moving Current Frame\n",
    "rN = np.array([\n",
    "    [1, 0, 0, 0],\n",
    "    [0, math.cos(r), -math.sin(r), 0],\n",
    "    [0, math.sin(r), math.cos(r), 0],\n",
    "     [0, 0, 0, 1]\n",
    "])\n",
    "\n",
    "rO = np.array([\n",
    "    [math.cos(r), 0, math.sin(r), 0],\n",
    "    [0, 1, 0, 0],\n",
    "    [-math.sin(r), 0, math.cos(r), 0],\n",
    "     [0, 0, 0, 1]\n",
    "])\n",
    "\n",
    "rA = np.array([\n",
    "    [math.cos(r), -math.sin(r), 0, 0],\n",
    "    [math.sin(r), math.cos(r), 0, 0],\n",
    "    [0, 0, 1, 0],\n",
    "     [0, 0, 0, 1]\n",
    "])\n"
   ]
  },
  {
   "cell_type": "code",
   "execution_count": 31,
   "metadata": {},
   "outputs": [
    {
     "data": {
      "text/plain": [
       "array([[ 4],\n",
       "       [-3],\n",
       "       [ 7],\n",
       "       [ 1]])"
      ]
     },
     "execution_count": 31,
     "metadata": {},
     "output_type": "execute_result"
    }
   ],
   "source": [
    "trans = np.array([[4], [-3], [7], [1]])\n",
    "trans"
   ]
  },
  {
   "cell_type": "code",
   "execution_count": 32,
   "metadata": {},
   "outputs": [],
   "source": [
    "T = np.array([\n",
    "    [1, 0, 0, 4],\n",
    "    [0, 1, 0, -3],\n",
    "    [0, 0, 1, 7],\n",
    "    [0, 0, 0, 1]\n",
    "])"
   ]
  },
  {
   "cell_type": "code",
   "execution_count": 33,
   "metadata": {},
   "outputs": [
    {
     "data": {
      "text/plain": [
       "array([[ 5.],\n",
       "       [ 4.],\n",
       "       [10.],\n",
       "       [ 1.]])"
      ]
     },
     "execution_count": 33,
     "metadata": {},
     "output_type": "execute_result"
    }
   ],
   "source": [
    "T @ rY @ rZ @ p "
   ]
  },
  {
   "cell_type": "markdown",
   "metadata": {},
   "source": [
    "Example 2.9"
   ]
  },
  {
   "cell_type": "code",
   "execution_count": 34,
   "metadata": {},
   "outputs": [
    {
     "data": {
      "text/plain": [
       "array([[ 8.],\n",
       "       [ 4.],\n",
       "       [-1.],\n",
       "       [ 1.]])"
      ]
     },
     "execution_count": 34,
     "metadata": {},
     "output_type": "execute_result"
    }
   ],
   "source": [
    "rY @ T @ rZ @ p"
   ]
  },
  {
   "cell_type": "markdown",
   "metadata": {},
   "source": [
    "- So the above examples are pre-multiplied by the Current Frame\n",
    "- The translations and rotations are relative to the Reference Frame\n",
    "- When a transformation (translation or rotation) is performed, the entire space relative to the Reference Frame is moved."
   ]
  },
  {
   "cell_type": "markdown",
   "metadata": {},
   "source": [
    "# 2.6.4 Transformations Relative to the Current (Moving) Frame\n",
    "# Post-Multiplication relative to the Current Frame"
   ]
  },
  {
   "cell_type": "markdown",
   "metadata": {},
   "source": [
    "- In this section, it's the current moving frame that performs the transformation\n",
    "- So the translations and rotations are relative to the N, O and A axis\n",
    "- The matrices in this case are post-multiplied by the Current Frame, this includes the point in space P \n",
    "- Okay so my understanding of pre and post multiplication was wrong by the looks of it"
   ]
  },
  {
   "cell_type": "code",
   "execution_count": 35,
   "metadata": {},
   "outputs": [
    {
     "data": {
      "text/plain": [
       "array([[7],\n",
       "       [3],\n",
       "       [1],\n",
       "       [1]])"
      ]
     },
     "execution_count": 35,
     "metadata": {},
     "output_type": "execute_result"
    }
   ],
   "source": [
    "p"
   ]
  },
  {
   "cell_type": "markdown",
   "metadata": {},
   "source": [
    "Post Multiplication Transforms the Current Frame\n",
    "- 90 degree A axis\n",
    "- Translation\n",
    "- 90 degree O axis"
   ]
  },
  {
   "cell_type": "code",
   "execution_count": 36,
   "metadata": {},
   "outputs": [
    {
     "data": {
      "text/plain": [
       "array([[0.],\n",
       "       [5.],\n",
       "       [0.],\n",
       "       [1.]])"
      ]
     },
     "execution_count": 36,
     "metadata": {},
     "output_type": "execute_result"
    }
   ],
   "source": [
    "np.round(rZ @ T @ rY @ p,2)"
   ]
  },
  {
   "cell_type": "markdown",
   "metadata": {},
   "source": [
    "Pre Multiplication Transforms the Reference Frame\n",
    "- 90 degree Z axis\n",
    "- Translation\n",
    "- 90 degree Y Axis"
   ]
  },
  {
   "cell_type": "code",
   "execution_count": 37,
   "metadata": {},
   "outputs": [
    {
     "data": {
      "text/plain": [
       "array([[ 8.],\n",
       "       [ 4.],\n",
       "       [-1.],\n",
       "       [ 1.]])"
      ]
     },
     "execution_count": 37,
     "metadata": {},
     "output_type": "execute_result"
    }
   ],
   "source": [
    "np.round(rY @ T @ rZ @ p,2)"
   ]
  },
  {
   "cell_type": "markdown",
   "metadata": {},
   "source": [
    "# 2.6.5 Mixed Transformations Relative to Rotating and Reference Frame"
   ]
  },
  {
   "cell_type": "markdown",
   "metadata": {},
   "source": [
    "Pre-Multiplication - relative to fixed Reference Frame\n",
    "- Performed in order left to right\n",
    "- Using the X, Y and Z axis\n",
    "- P<sub>Transformed</sub> = T $\\cdot$ rX $\\cdot$ P"
   ]
  },
  {
   "cell_type": "code",
   "execution_count": 38,
   "metadata": {},
   "outputs": [
    {
     "data": {
      "text/plain": [
       "array([[11.],\n",
       "       [-4.],\n",
       "       [10.],\n",
       "       [ 1.]])"
      ]
     },
     "execution_count": 38,
     "metadata": {},
     "output_type": "execute_result"
    }
   ],
   "source": [
    "T @ rX @ p"
   ]
  },
  {
   "cell_type": "markdown",
   "metadata": {},
   "source": [
    "Post-Multiplication - relative to moving Current Frame\n",
    "- Performed in order right to left\n",
    "- Using the N, O and A axis\n",
    "- P<sub>Transformed</sub> = rX $\\cdot$ T $\\cdot$ P"
   ]
  },
  {
   "cell_type": "code",
   "execution_count": 39,
   "metadata": {},
   "outputs": [
    {
     "data": {
      "text/plain": [
       "array([[ 1.1000000e+01],\n",
       "       [-8.0000000e+00],\n",
       "       [ 4.4408921e-16],\n",
       "       [ 1.0000000e+00]])"
      ]
     },
     "execution_count": 39,
     "metadata": {},
     "output_type": "execute_result"
    }
   ],
   "source": [
    "rX @ T @ p"
   ]
  },
  {
   "cell_type": "markdown",
   "metadata": {},
   "source": [
    "Example 2.11"
   ]
  },
  {
   "cell_type": "code",
   "execution_count": 40,
   "metadata": {},
   "outputs": [],
   "source": [
    "B = np.array([[1], [3], [2], [1]])"
   ]
  },
  {
   "cell_type": "code",
   "execution_count": 41,
   "metadata": {},
   "outputs": [],
   "source": [
    "tO = np.array([\n",
    "    [1, 0, 0, 0],\n",
    "    [0, 1, 0, 2],\n",
    "    [0, 0, 1, 0],\n",
    "    [0, 0, 0, 1]\n",
    "])\n",
    "tY = np.array([\n",
    "    [1, 0, 0, 0],\n",
    "    [0, 1, 0, 3],\n",
    "    [0, 0, 1, 0],\n",
    "    [0, 0, 0, 1]\n",
    "])"
   ]
  },
  {
   "cell_type": "code",
   "execution_count": 42,
   "metadata": {},
   "outputs": [
    {
     "data": {
      "text/plain": [
       "array([[-3.],\n",
       "       [ 1.],\n",
       "       [ 3.],\n",
       "       [ 1.]])"
      ]
     },
     "execution_count": 42,
     "metadata": {},
     "output_type": "execute_result"
    }
   ],
   "source": [
    "tY @ rX @ tO @ rA @ B"
   ]
  },
  {
   "cell_type": "markdown",
   "metadata": {},
   "source": [
    "Example 2.12"
   ]
  },
  {
   "cell_type": "code",
   "execution_count": 43,
   "metadata": {},
   "outputs": [],
   "source": [
    "F = np.array([[3], [2], [6], [1]])"
   ]
  },
  {
   "cell_type": "code",
   "execution_count": 44,
   "metadata": {},
   "outputs": [],
   "source": [
    "tA = np.array([\n",
    "    [1, 0, 0, 0],\n",
    "    [0, 1, 0, 0],\n",
    "    [0, 0, 1, 3],\n",
    "    [0, 0, 0, 1]\n",
    "])\n",
    "\n",
    "r = math.radians(30)\n",
    "rY = np.array([\n",
    "    [math.cos(r), 0, math.sin(r), 0],\n",
    "    [0, 1, 0, 0],\n",
    "    [-math.sin(r), 0, math.cos(r), 0],\n",
    "     [0, 0, 0, 1]\n",
    "])\n"
   ]
  },
  {
   "cell_type": "code",
   "execution_count": 45,
   "metadata": {},
   "outputs": [
    {
     "data": {
      "text/plain": [
       "array([[-6.29422863],\n",
       "       [-7.09807621],\n",
       "       [-2.        ],\n",
       "       [-1.        ]])"
      ]
     },
     "execution_count": 45,
     "metadata": {},
     "output_type": "execute_result"
    }
   ],
   "source": [
    "rX @ rY @ -rO @ tA @ F"
   ]
  },
  {
   "cell_type": "markdown",
   "metadata": {},
   "source": [
    "# 2.7 Inverse of Transformation Matrices"
   ]
  },
  {
   "cell_type": "markdown",
   "metadata": {},
   "source": [
    "- The goal rom the example is to solve the Transformation Matrix of the robot's Hand relative to the robot's Base:\n",
    "- <sup>R</sup>T<sub>H</sub>\n",
    "- So we're doing similar operations to solving algebraic equations, but different as explained below:\n",
    "- Algebra Equation ($\\cdot$ is multiplication):  \n",
    "3 $\\cdot$ x = 12  \n",
    "3 $\\cdot$ x / 3 = 12 / 3  \n",
    "x = 4  "
   ]
  },
  {
   "cell_type": "markdown",
   "metadata": {},
   "source": [
    "- Matrix Equation ($\\cdot$ is Dot Product):  \n",
    "A $\\cdot$ X = B  \n",
    "A<sup>-1</sup> $\\cdot$ B = X"
   ]
  },
  {
   "cell_type": "code",
   "execution_count": 46,
   "metadata": {},
   "outputs": [],
   "source": [
    "A = np.array([[1, 2], [3, 4]])\n",
    "B = np.array([[5, 6], [7, 8]])"
   ]
  },
  {
   "cell_type": "code",
   "execution_count": 47,
   "metadata": {},
   "outputs": [
    {
     "data": {
      "text/plain": [
       "array([[1, 2],\n",
       "       [3, 4]])"
      ]
     },
     "execution_count": 47,
     "metadata": {},
     "output_type": "execute_result"
    }
   ],
   "source": [
    "A"
   ]
  },
  {
   "cell_type": "code",
   "execution_count": 48,
   "metadata": {},
   "outputs": [
    {
     "data": {
      "text/plain": [
       "array([[-2. ,  1. ],\n",
       "       [ 1.5, -0.5]])"
      ]
     },
     "execution_count": 48,
     "metadata": {},
     "output_type": "execute_result"
    }
   ],
   "source": [
    "A_inv = np.linalg.inv(A)\n",
    "A_inv"
   ]
  },
  {
   "cell_type": "code",
   "execution_count": 49,
   "metadata": {},
   "outputs": [
    {
     "data": {
      "text/plain": [
       "array([[-3., -4.],\n",
       "       [ 4.,  5.]])"
      ]
     },
     "execution_count": 49,
     "metadata": {},
     "output_type": "execute_result"
    }
   ],
   "source": [
    "X = np.dot(A_inv, B)\n",
    "X"
   ]
  },
  {
   "cell_type": "code",
   "execution_count": 50,
   "metadata": {},
   "outputs": [
    {
     "data": {
      "text/plain": [
       "array([[-3., -4.],\n",
       "       [ 4.,  5.]])"
      ]
     },
     "execution_count": 50,
     "metadata": {},
     "output_type": "execute_result"
    }
   ],
   "source": [
    "A_inv @ B"
   ]
  },
  {
   "cell_type": "code",
   "execution_count": 51,
   "metadata": {},
   "outputs": [
    {
     "data": {
      "text/plain": [
       "array([[5., 6.],\n",
       "       [7., 8.]])"
      ]
     },
     "execution_count": 51,
     "metadata": {},
     "output_type": "execute_result"
    }
   ],
   "source": [
    "A @ X"
   ]
  },
  {
   "cell_type": "markdown",
   "metadata": {},
   "source": [
    "Figure 2.26"
   ]
  },
  {
   "cell_type": "code",
   "execution_count": 52,
   "metadata": {},
   "outputs": [],
   "source": [
    "import numpy as np\n",
    "\n",
    "UTR = np.array([\n",
    "    [0.866, -0.5, 0, 2],\n",
    "    [0.5, 0.866, 0, 3],\n",
    "    [0, 0, 1, 4],\n",
    "    [0, 0, 0, 1]\n",
    "])\n",
    "\n",
    "UTP = np.array([\n",
    "    [1, 0, 0, 1],\n",
    "    [0, 1, 0, 2],\n",
    "    [0, 0, 1, 3],\n",
    "    [0, 0, 0, 1]\n",
    "])\n",
    "\n",
    "PTE = np.array([\n",
    "    [0.707, -0.707, 0, 1],\n",
    "    [0.707, 0.707, 0, 2],\n",
    "    [0, 0, 1, 1],\n",
    "    [0, 0, 0, 1]\n",
    "])\n",
    "\n",
    "HTE = np.array([\n",
    "    [1, 0, 0, 1],\n",
    "    [0, 1, 0, 1],\n",
    "    [0, 0, 1, 1],\n",
    "    [0, 0, 0, 1]\n",
    "])"
   ]
  },
  {
   "cell_type": "code",
   "execution_count": 53,
   "metadata": {},
   "outputs": [],
   "source": [
    "UTR_inv = np.linalg.inv(UTR)\n",
    "HTE_inv = np.linalg.inv(HTE)"
   ]
  },
  {
   "cell_type": "code",
   "execution_count": 54,
   "metadata": {},
   "outputs": [
    {
     "ename": "NameError",
     "evalue": "name 'RTH' is not defined",
     "output_type": "error",
     "traceback": [
      "\u001b[1;31m---------------------------------------------------------------------------\u001b[0m",
      "\u001b[1;31mNameError\u001b[0m                                 Traceback (most recent call last)",
      "Cell \u001b[1;32mIn[54], line 1\u001b[0m\n\u001b[1;32m----> 1\u001b[0m UTR_inv \u001b[38;5;241m@\u001b[39m UTR \u001b[38;5;241m@\u001b[39m RTH \u001b[38;5;241m@\u001b[39m HTE \u001b[38;5;241m@\u001b[39m HTE_inv\n",
      "\u001b[1;31mNameError\u001b[0m: name 'RTH' is not defined"
     ]
    }
   ],
   "source": [
    "UTR_inv @ UTR @ RTH @ HTE @ HTE_inv"
   ]
  },
  {
   "cell_type": "code",
   "execution_count": null,
   "metadata": {},
   "outputs": [
    {
     "name": "stdout",
     "output_type": "stream",
     "text": [
      "[[1. 0. 0. 0.]\n",
      " [0. 1. 0. 0.]\n",
      " [0. 0. 1. 0.]\n",
      " [0. 0. 0. 1.]]\n",
      "[[1. 0. 0. 0.]\n",
      " [0. 1. 0. 0.]\n",
      " [0. 0. 1. 0.]\n",
      " [0. 0. 0. 1.]]\n"
     ]
    }
   ],
   "source": [
    "print(np.round(UTR_inv @ UTR))\n",
    "print(HTE @ HTE_inv)"
   ]
  },
  {
   "cell_type": "code",
   "execution_count": null,
   "metadata": {},
   "outputs": [
    {
     "name": "stdout",
     "output_type": "stream",
     "text": [
      "[[ 0.9658045  -0.25877339  0.         -0.20700911]\n",
      " [ 0.25877339  0.9658045   0.         -0.35853978]\n",
      " [ 0.          0.          1.         -1.        ]\n",
      " [ 0.          0.          0.          1.        ]]\n"
     ]
    }
   ],
   "source": [
    "RTH = UTR_inv @ UTP @ PTE @ HTE_inv\n",
    "\n",
    "print(RTH)"
   ]
  },
  {
   "cell_type": "markdown",
   "metadata": {},
   "source": [
    "Figure 2.29"
   ]
  },
  {
   "cell_type": "markdown",
   "metadata": {},
   "source": [
    "# Inverse Unitary 3x3 Matrices\n",
    "- A matrix where it's Transpose is the same as it's Inverse is called a unitary matrix.\n",
    "- All rotation matrices are unitary, which means their Inverse is the same value as their Transpose."
   ]
  },
  {
   "cell_type": "code",
   "execution_count": null,
   "metadata": {},
   "outputs": [
    {
     "data": {
      "text/plain": [
       "array([[ 1.        ,  0.        ,  0.        ],\n",
       "       [ 0.        ,  0.76604444, -0.64278761],\n",
       "       [ 0.        ,  0.64278761,  0.76604444]])"
      ]
     },
     "execution_count": 54,
     "metadata": {},
     "output_type": "execute_result"
    }
   ],
   "source": [
    "theta = np.radians(40)\n",
    "Rot_x_40 = np.array([\n",
    "    [1, 0, 0],\n",
    "    [0, np.cos(theta), -np.sin(theta)],\n",
    "    [0, np.sin(theta), np.cos(theta)]\n",
    "])\n",
    "Rot_x_40"
   ]
  },
  {
   "cell_type": "code",
   "execution_count": null,
   "metadata": {},
   "outputs": [],
   "source": [
    "Rot_x_40_Trans = Rot_x_40.T\n",
    "Rot_x_40_linalg_Inv = np.linalg.inv(Rot_x_40)"
   ]
  },
  {
   "cell_type": "code",
   "execution_count": null,
   "metadata": {},
   "outputs": [
    {
     "name": "stdout",
     "output_type": "stream",
     "text": [
      "[[ 1.          0.          0.        ]\n",
      " [ 0.          0.76604444  0.64278761]\n",
      " [ 0.         -0.64278761  0.76604444]]\n",
      "[[ 1.          0.          0.        ]\n",
      " [ 0.          0.76604444  0.64278761]\n",
      " [ 0.         -0.64278761  0.76604444]]\n"
     ]
    }
   ],
   "source": [
    "print(Rot_x_40_Trans)\n",
    "print(Rot_x_40_linalg_Inv)"
   ]
  },
  {
   "cell_type": "code",
   "execution_count": null,
   "metadata": {},
   "outputs": [
    {
     "data": {
      "text/plain": [
       "array([[ 1.,  0.,  0.],\n",
       "       [ 0.,  1., -0.],\n",
       "       [ 0., -0.,  1.]])"
      ]
     },
     "execution_count": 95,
     "metadata": {},
     "output_type": "execute_result"
    }
   ],
   "source": [
    "# Verify that applying the inverse rotation returns the frame to the original\n",
    "np.round(np.dot(Rot_x_40_Trans, Rot_x_40))"
   ]
  },
  {
   "cell_type": "code",
   "execution_count": null,
   "metadata": {},
   "outputs": [
    {
     "data": {
      "text/plain": [
       "array([[ 1.,  0.,  0.],\n",
       "       [ 0.,  1., -0.],\n",
       "       [ 0.,  0.,  1.]])"
      ]
     },
     "execution_count": 96,
     "metadata": {},
     "output_type": "execute_result"
    }
   ],
   "source": [
    "np.round(np.dot(Rot_x_40_linalg_Inv, Rot_x_40))"
   ]
  },
  {
   "cell_type": "markdown",
   "metadata": {},
   "source": [
    "# Inverse Homogenous 4x4 Matrices"
   ]
  },
  {
   "cell_type": "markdown",
   "metadata": {},
   "source": [
    "- For Homogenous matrices, the inverse can be written by splitting the matrix into two components and performing the following:\n",
    "1. The rotation unitary matrix is simply be transposed\n",
    "2. The position matrix (position vector) - becomes the negative Dot Product of the newly arranged vectors \n",
    "- See figure 2.31"
   ]
  },
  {
   "cell_type": "code",
   "execution_count": null,
   "metadata": {},
   "outputs": [],
   "source": [
    "M = np.array([\n",
    "    [0.866, -0.5, 0, 2],\n",
    "    [0.5, 0.866, 0, 3],\n",
    "    [0, 0, 1, 4],\n",
    "    [0, 0, 0, 1]\n",
    "])"
   ]
  },
  {
   "cell_type": "code",
   "execution_count": null,
   "metadata": {},
   "outputs": [
    {
     "data": {
      "text/plain": [
       "array([[ 0.866,  0.5  ,  0.   ,  0.   ],\n",
       "       [-0.5  ,  0.866,  0.   ,  0.   ],\n",
       "       [ 0.   ,  0.   ,  1.   ,  0.   ],\n",
       "       [ 2.   ,  3.   ,  4.   ,  1.   ]])"
      ]
     },
     "execution_count": 98,
     "metadata": {},
     "output_type": "execute_result"
    }
   ],
   "source": [
    "M.T # Just transposes the position column into a row?"
   ]
  },
  {
   "cell_type": "code",
   "execution_count": null,
   "metadata": {},
   "outputs": [
    {
     "data": {
      "text/plain": [
       "array([[ 0.86603811,  0.500022  ,  0.        , -3.23214221],\n",
       "       [-0.500022  ,  0.86603811,  0.        , -1.59807032],\n",
       "       [ 0.        ,  0.        ,  1.        , -4.        ],\n",
       "       [ 0.        ,  0.        ,  0.        ,  1.        ]])"
      ]
     },
     "execution_count": 100,
     "metadata": {},
     "output_type": "execute_result"
    }
   ],
   "source": [
    "np.linalg.inv(M) # Actually calculates the Negative Dot Product in the last column"
   ]
  },
  {
   "cell_type": "markdown",
   "metadata": {},
   "source": [
    "Example 2.14"
   ]
  },
  {
   "cell_type": "code",
   "execution_count": null,
   "metadata": {},
   "outputs": [],
   "source": [
    "M = np.array([\n",
    "    [0.5, 0, 0.866, 3],\n",
    "    [0.866, 0, -0.5, 2],\n",
    "    [0, 1, 0, 5],\n",
    "    [0, 0, 0, 1]\n",
    "])"
   ]
  },
  {
   "cell_type": "code",
   "execution_count": null,
   "metadata": {},
   "outputs": [
    {
     "data": {
      "text/plain": [
       "array([[ 0.500022  ,  0.86603811,  0.        , -3.23214221],\n",
       "       [ 0.        ,  0.        ,  1.        , -5.        ],\n",
       "       [ 0.86603811, -0.500022  ,  0.        , -1.59807032],\n",
       "       [ 0.        ,  0.        ,  0.        ,  1.        ]])"
      ]
     },
     "execution_count": 104,
     "metadata": {},
     "output_type": "execute_result"
    }
   ],
   "source": [
    "M_inv = np.linalg.inv(M)\n",
    "M_inv"
   ]
  },
  {
   "cell_type": "code",
   "execution_count": null,
   "metadata": {},
   "outputs": [
    {
     "data": {
      "text/plain": [
       "array([[1., 0., 0., 0.],\n",
       "       [0., 1., 0., 0.],\n",
       "       [0., 0., 1., 0.],\n",
       "       [0., 0., 0., 1.]])"
      ]
     },
     "execution_count": 108,
     "metadata": {},
     "output_type": "execute_result"
    }
   ],
   "source": [
    "np.round(M @ M_inv)"
   ]
  },
  {
   "cell_type": "markdown",
   "metadata": {},
   "source": [
    "Example 2.15"
   ]
  },
  {
   "cell_type": "code",
   "execution_count": null,
   "metadata": {},
   "outputs": [],
   "source": [
    "FiveTcam = np.array([\n",
    "    [0, 0, -1, 3],\n",
    "    [0, -1, 0, 0],\n",
    "    [-1, 0, 0, 5],\n",
    "    [0, 0, 0, 1]\n",
    "])\n",
    "\n",
    "FiveTH = np.array([\n",
    "    [0, -1, 0, 0],\n",
    "    [1, 0, 0, 0],\n",
    "    [0, 0, 1, 4],\n",
    "    [0, 0, 0, 1]\n",
    "])\n",
    "\n",
    "CamTobj = np.array([\n",
    "    [0, 0, 1, 2],\n",
    "    [1, 0, 0, 2],\n",
    "    [0, 1, 0, 4],\n",
    "    [0, 0, 0, 1]\n",
    "])\n",
    "\n",
    "HTE = np.array([\n",
    "    [1, 0, 0, 0],\n",
    "    [0, 1, 0, 0],\n",
    "    [0, 0, 1, 3],\n",
    "    [0, 0, 0, 1]\n",
    "])"
   ]
  },
  {
   "cell_type": "code",
   "execution_count": null,
   "metadata": {},
   "outputs": [
    {
     "data": {
      "text/plain": [
       "array([[-1.,  0.,  0., -2.],\n",
       "       [ 0.,  1.,  0.,  1.],\n",
       "       [ 0.,  0., -1., -4.],\n",
       "       [ 0.,  0.,  0.,  1.]])"
      ]
     },
     "execution_count": 111,
     "metadata": {},
     "output_type": "execute_result"
    }
   ],
   "source": [
    "ETObj = np.linalg.inv(HTE) @ np.linalg.inv(FiveTH) @ FiveTcam @ CamTobj\n",
    "ETObj"
   ]
  },
  {
   "cell_type": "code",
   "execution_count": null,
   "metadata": {},
   "outputs": [
    {
     "data": {
      "text/plain": [
       "array([[-1.,  0.,  0., -2.],\n",
       "       [ 0.,  1.,  0.,  1.],\n",
       "       [ 0.,  0., -1., -4.],\n",
       "       [ 0.,  0.,  0.,  1.]])"
      ]
     },
     "execution_count": 112,
     "metadata": {},
     "output_type": "execute_result"
    }
   ],
   "source": [
    "ETH = np.linalg.inv(HTE) \n",
    "HTFive = np.linalg.inv(FiveTH)\n",
    "ETObj = ETH @ HTFive @ FiveTcam @ CamTobj\n",
    "ETObj"
   ]
  },
  {
   "cell_type": "markdown",
   "metadata": {},
   "source": [
    "Example 2.16"
   ]
  },
  {
   "cell_type": "code",
   "execution_count": null,
   "metadata": {},
   "outputs": [],
   "source": [
    "import sympy as sp\n",
    "θ, α = sp.symbols('θ α')\n",
    "Cθ = sp.cos(θ)\n",
    "Sθ = sp.sin(θ)\n",
    "Cα = sp.cos(α)\n",
    "Sα = sp.sin(α)"
   ]
  },
  {
   "cell_type": "code",
   "execution_count": null,
   "metadata": {},
   "outputs": [],
   "source": [
    "T = sp.Matrix([\n",
    "    [Cθ, -Sθ*Cα, Sθ*Sα],\n",
    "    [Sθ, Cθ*Cα, -Cθ*Sα],\n",
    "    [0, Sα, Cα]\n",
    "])"
   ]
  },
  {
   "cell_type": "code",
   "execution_count": null,
   "metadata": {},
   "outputs": [
    {
     "name": "stdout",
     "output_type": "stream",
     "text": [
      "⎡cos(θ)  -sin(θ)⋅cos(α)  sin(α)⋅sin(θ) ⎤\n",
      "⎢                                      ⎥\n",
      "⎢sin(θ)  cos(α)⋅cos(θ)   -sin(α)⋅cos(θ)⎥\n",
      "⎢                                      ⎥\n",
      "⎣  0         sin(α)          cos(α)    ⎦\n"
     ]
    }
   ],
   "source": [
    "sp.pprint(T)"
   ]
  },
  {
   "cell_type": "code",
   "execution_count": null,
   "metadata": {},
   "outputs": [],
   "source": [
    "Rz_θ = sp.Matrix([\n",
    "    [Cθ, -Sθ, 0],\n",
    "    [Sθ, Cθ, 0],\n",
    "    [0, 0, 1]\n",
    "])"
   ]
  },
  {
   "cell_type": "code",
   "execution_count": null,
   "metadata": {},
   "outputs": [
    {
     "data": {
      "text/latex": [
       "$\\displaystyle \\left[\\begin{matrix}1 & 0 & 0\\\\0 & \\cos{\\left(α \\right)} & - \\sin{\\left(α \\right)}\\\\0 & \\sin{\\left(α \\right)} & \\cos{\\left(α \\right)}\\end{matrix}\\right]$"
      ],
      "text/plain": [
       "Matrix([\n",
       "[1,      0,       0],\n",
       "[0, cos(α), -sin(α)],\n",
       "[0, sin(α),  cos(α)]])"
      ]
     },
     "execution_count": 121,
     "metadata": {},
     "output_type": "execute_result"
    }
   ],
   "source": [
    "Rx_α = sp.Matrix([\n",
    "    [1, 0, 0],\n",
    "    [0, Cα, -Sα],\n",
    "    [0, Sα, Cα]\n",
    "])\n",
    "Rx_α\n"
   ]
  },
  {
   "cell_type": "markdown",
   "metadata": {},
   "source": [
    "# 2.8 Forward and Inverse Kinematics of Robots"
   ]
  },
  {
   "cell_type": "markdown",
   "metadata": {},
   "source": [
    "# 2.9 Forward and Inverse Kinematic Equations: Position"
   ]
  },
  {
   "cell_type": "markdown",
   "metadata": {},
   "source": [
    "# 2.9.1 Cartesian (Gantry, Rectangular) Coordinates"
   ]
  },
  {
   "cell_type": "code",
   "execution_count": 57,
   "metadata": {},
   "outputs": [
    {
     "name": "stdout",
     "output_type": "stream",
     "text": [
      "Involves 3 linear coordinates on x,y and z\n"
     ]
    },
    {
     "data": {
      "text/plain": [
       "array([[3],\n",
       "       [2],\n",
       "       [1]])"
      ]
     },
     "execution_count": 57,
     "metadata": {},
     "output_type": "execute_result"
    }
   ],
   "source": [
    "print(\"Involves 3 linear coordinates on x,y and z\")\n",
    "p = np.array([[3],[2],[1]])\n",
    "p"
   ]
  },
  {
   "cell_type": "code",
   "execution_count": 59,
   "metadata": {},
   "outputs": [
    {
     "data": {
      "text/plain": [
       "array([[ 0,  0, -1,  3],\n",
       "       [ 0, -1,  0,  0],\n",
       "       [-1,  0,  0,  5],\n",
       "       [ 0,  0,  0,  1]])"
      ]
     },
     "execution_count": 59,
     "metadata": {},
     "output_type": "execute_result"
    }
   ],
   "source": [
    "np.array([\n",
    "    [0, 0, -1, 3],\n",
    "    [0, -1, 0, 0],\n",
    "    [-1, 0, 0, 5],\n",
    "    [0, 0, 0, 1]\n",
    "])"
   ]
  },
  {
   "cell_type": "markdown",
   "metadata": {},
   "source": [
    "# 2.9.2 Cylindrical Coordinates"
   ]
  },
  {
   "cell_type": "markdown",
   "metadata": {},
   "source": [
    "- Involves two linear and one rotational coordinate\n",
    "1. Translation along the X axis\n",
    "2. Rotation around Z axis\n",
    "3. Translation along Z\n",
    "- The Transformations are relative to the Universe frame\n",
    "- Hence the Total Transformation is found by pre-multiplying by each matrix"
   ]
  },
  {
   "cell_type": "markdown",
   "metadata": {},
   "source": [
    "Example 2.18"
   ]
  },
  {
   "cell_type": "code",
   "execution_count": 77,
   "metadata": {},
   "outputs": [],
   "source": [
    "v = np.array([[4,5,6]]).T\n",
    "Px = 5\n",
    "Py = 4\n",
    "Pz = 6"
   ]
  },
  {
   "cell_type": "code",
   "execution_count": 78,
   "metadata": {},
   "outputs": [],
   "source": [
    "alpha_rad = math.atan2(Py, Px)\n",
    "alpha_deg = math.degrees(alpha_rad)"
   ]
  },
  {
   "cell_type": "code",
   "execution_count": 80,
   "metadata": {},
   "outputs": [
    {
     "data": {
      "text/plain": [
       "6.403124237432849"
      ]
     },
     "execution_count": 80,
     "metadata": {},
     "output_type": "execute_result"
    }
   ],
   "source": [
    "Px / math.cos(alpha_rad)\n"
   ]
  },
  {
   "cell_type": "code",
   "execution_count": 81,
   "metadata": {},
   "outputs": [
    {
     "data": {
      "text/plain": [
       "6.4031242374328485"
      ]
     },
     "execution_count": 81,
     "metadata": {},
     "output_type": "execute_result"
    }
   ],
   "source": [
    "Py / math.sin(alpha_rad)"
   ]
  },
  {
   "cell_type": "markdown",
   "metadata": {},
   "source": [
    "# 2.9.3 Spherical Coordinates"
   ]
  },
  {
   "cell_type": "markdown",
   "metadata": {},
   "source": [
    "# 2.9.4 Articulated Coordinates"
   ]
  },
  {
   "cell_type": "markdown",
   "metadata": {},
   "source": [
    "# 2.10 Forward and Inverse Kinematic Equations: Orientation"
   ]
  },
  {
   "cell_type": "markdown",
   "metadata": {},
   "source": [
    "# 2.10.1 Roll, Pitch, Yaw Angles"
   ]
  },
  {
   "cell_type": "markdown",
   "metadata": {},
   "source": [
    "- Firstly, we are assuming the current Moving Frame is parallel to the reference frame\n",
    "- Otherwise the final orientation of the robots hand is a combination of the previous orientation, post-multiplied by RPY\n",
    "- To maintain the position of the frame and only rotate it to the desired orientation, we post-multiply the frame by RPY"
   ]
  },
  {
   "attachments": {
    "image.png": {
     "image/png": "[encoded data removed]"
    }
   },
   "cell_type": "markdown",
   "metadata": {},
   "source": [
    "![image.png](attachment:image.png)"
   ]
  },
  {
   "cell_type": "code",
   "execution_count": 92,
   "metadata": {},
   "outputs": [],
   "source": [
    "# Fixed Reference Frame\n",
    "rX = np.array([\n",
    "    [1, 0, 0, 0],\n",
    "    [0, math.cos(r), -math.sin(r), 0],\n",
    "    [0, math.sin(r), math.cos(r), 0],\n",
    "     [0, 0, 0, 1]\n",
    "])\n",
    "\n",
    "rY = np.array([\n",
    "    [math.cos(r), 0, math.sin(r), 0],\n",
    "    [0, 1, 0, 0],\n",
    "    [-math.sin(r), 0, math.cos(r), 0],\n",
    "     [0, 0, 0, 1]\n",
    "])\n",
    "\n",
    "rZ = np.array([\n",
    "    [math.cos(r), -math.sin(r), 0, 0],\n",
    "    [math.sin(r), math.cos(r), 0, 0],\n",
    "    [0, 0, 1, 0],\n",
    "     [0, 0, 0, 1]\n",
    "])\n",
    "\n",
    "# Moving Current Frame\n",
    "r = math.radians(math.degrees(90))\n",
    "rN = np.array([\n",
    "    [1, 0, 0, 0],\n",
    "    [0, math.cos(r), -math.sin(r), 0],\n",
    "    [0, math.sin(r), math.cos(r), 0],\n",
    "     [0, 0, 0, 1]\n",
    "])\n",
    "\n",
    "rO = np.array([\n",
    "    [math.cos(r), 0, math.sin(r), 0],\n",
    "    [0, 1, 0, 0],\n",
    "    [-math.sin(r), 0, math.cos(r), 0],\n",
    "     [0, 0, 0, 1]\n",
    "])\n",
    "\n",
    "rA = np.array([\n",
    "    [math.cos(r), -math.sin(r), 0, 0],\n",
    "    [math.sin(r), math.cos(r), 0, 0],\n",
    "    [0, 0, 1, 0],\n",
    "     [0, 0, 0, 1]\n",
    "])"
   ]
  },
  {
   "cell_type": "code",
   "execution_count": 101,
   "metadata": {},
   "outputs": [
    {
     "data": {
      "text/plain": [
       "array([[ 0.,  0.,  1.,  0.],\n",
       "       [-1., -1.,  0.,  0.],\n",
       "       [ 1., -1.,  0.,  0.],\n",
       "       [ 0.,  0.,  0.,  1.]])"
      ]
     },
     "execution_count": 101,
     "metadata": {},
     "output_type": "execute_result"
    }
   ],
   "source": [
    "rM = (rN @ rO @ rA)\n",
    "np.round(rM)"
   ]
  },
  {
   "cell_type": "code",
   "execution_count": 100,
   "metadata": {},
   "outputs": [
    {
     "data": {
      "text/plain": [
       "array([[ 0.,  0.,  1.,  0.],\n",
       "       [ 1., -0., -0.,  0.],\n",
       "       [ 0.,  1., -0.,  0.],\n",
       "       [ 0.,  0.,  0.,  1.]])"
      ]
     },
     "execution_count": 100,
     "metadata": {},
     "output_type": "execute_result"
    }
   ],
   "source": [
    "np.round(np.linalg.inv(rN) @ rM)"
   ]
  },
  {
   "cell_type": "code",
   "execution_count": 102,
   "metadata": {},
   "outputs": [
    {
     "data": {
      "text/plain": [
       "array([[ 0.,  0.,  1.,  0.],\n",
       "       [ 1., -0.,  0.,  0.],\n",
       "       [ 0.,  1., -0.,  0.],\n",
       "       [ 0.,  0.,  0.,  1.]])"
      ]
     },
     "execution_count": 102,
     "metadata": {},
     "output_type": "execute_result"
    }
   ],
   "source": [
    "np.round(rO @ rA)"
   ]
  },
  {
   "cell_type": "markdown",
   "metadata": {},
   "source": [
    "Example 2.21"
   ]
  },
  {
   "cell_type": "code",
   "execution_count": 104,
   "metadata": {},
   "outputs": [],
   "source": [
    "RTP = np.array([\n",
    "    [0.233, 0.255, 0.939, 4.24],\n",
    "    [0.113, 0.951, -0.287, 2.65],\n",
    "    [-0.966, 0.173, 0.192, 6],\n",
    "     [0, 0, 0, 1]\n",
    "])"
   ]
  },
  {
   "cell_type": "code",
   "execution_count": 108,
   "metadata": {},
   "outputs": [
    {
     "data": {
      "text/plain": [
       "26"
      ]
     },
     "execution_count": 108,
     "metadata": {},
     "output_type": "execute_result"
    }
   ],
   "source": [
    "phi_A = math.atan2(0.113, 0.233)\n",
    "math.degrees(phi_A).__round__()"
   ]
  },
  {
   "cell_type": "code",
   "execution_count": 136,
   "metadata": {},
   "outputs": [
    {
     "data": {
      "text/plain": [
       "75"
      ]
     },
     "execution_count": 136,
     "metadata": {},
     "output_type": "execute_result"
    }
   ],
   "source": [
    "phi_O = math.atan2(-RTP[2,0], (RTP[0,0] * math.cos(phi_A)) + (RTP[1,0] * math.sin(phi_A)))\n",
    "math.degrees(phi_O).__round__()"
   ]
  },
  {
   "cell_type": "code",
   "execution_count": 149,
   "metadata": {},
   "outputs": [
    {
     "data": {
      "text/plain": [
       "42"
      ]
     },
     "execution_count": 149,
     "metadata": {},
     "output_type": "execute_result"
    }
   ],
   "source": [
    "phi_N = math.atan2(-RTP[1,2] * math.cos(phi_A) + RTP[0,2] * math.sin(phi_A),RTP[1,1] * math.cos(phi_A) - RTP[0,1] * math.sin(phi_A))\n",
    "math.degrees(phi_N).__round__()\n"
   ]
  },
  {
   "cell_type": "markdown",
   "metadata": {},
   "source": [
    "Example 2.22"
   ]
  },
  {
   "cell_type": "markdown",
   "metadata": {},
   "source": [
    "This example is difficult"
   ]
  },
  {
   "cell_type": "markdown",
   "metadata": {},
   "source": [
    "# 2.10.2 Euler Angles"
   ]
  },
  {
   "cell_type": "markdown",
   "metadata": {},
   "source": [
    "# 2.12 Denavit-Hartenburg Representation"
   ]
  },
  {
   "cell_type": "markdown",
   "metadata": {},
   "source": [
    "- Published in 1955\n",
    "- Used to represent and model robots and to derive their equations of motion\n",
    "- The technique is now a standard and essential to learn\n",
    "- Very simple way to model links and joints of any configuration \n",
    "- Transformations from any coordinates can modelled **(Cartesian, cylindrical, spherical, Euler and RPY)**\n",
    "- It can represent all revolute articulated robots, SCARA robots\n",
    "- The direct modelling done previously is easy and fast, however DH allows for:\n",
    "  - Analyses of differential motions / Jacobians / Dynamic Analysis / Force Analysis"
   ]
  },
  {
   "cell_type": "markdown",
   "metadata": {},
   "source": [
    "In order to analyze and model any robot configuration:   \n",
    "1. Assign a reference frame to each joint\n",
    "2. Use a General Procedure to transform from one joint to the next\n",
    "3. Combining all the transformations will give the the robot's total transformation matrix"
   ]
  },
  {
   "cell_type": "markdown",
   "metadata": {},
   "source": [
    "- The first joint is labelled ***\"Joint n\"***\n",
    "- The second joint is labelled ***\"Joint n+1\"***\n",
    "- The third joint is labelled ***\"Joint n+2\"***"
   ]
  },
  {
   "cell_type": "markdown",
   "metadata": {},
   "source": [
    "- The first link is called ***link<sub>n</sub>***\n",
    "- The second link is called ***link<sub>n+1</sub>***"
   ]
  },
  {
   "cell_type": "markdown",
   "metadata": {},
   "source": [
    "- We assign a Local Reference Frame to all of the joints\n",
    "- X axis - Discussed further below\n",
    "- Y Axis - We don't bother with (We know it's perpendicular to X and Z, and isn't used in DH representation)\n",
    "- Z axis - All joints are represented with a Z Axis, the Z axis is represents by the Thumb \n",
    "  - If the joint is revolute, the Z axis is in the direction of rotation \n",
    "  - If the joint is prismatic, the Z Axis is along the direction of the linear movement"
   ]
  },
  {
   "cell_type": "markdown",
   "metadata": {},
   "source": [
    "- The first Z Axis (representing the first joint) is labelled ***Z<sub>n-1</sub>***\n",
    "- The second Z Axis (representing the second joint) is labelled ***Z<sub>n</sub>***\n",
    "- The third Z Axis (representing the third joint) is labelled ***Z<sub>n+1</sub>***"
   ]
  },
  {
   "cell_type": "markdown",
   "metadata": {},
   "source": [
    "Example:\n",
    "- **Joint n** > **Axis Z<sub>n-1</sub>** > **Link<sub>n</sub>**\n",
    "- **Joint n+1** > **Axis Z<sub>n</sub>** > **Link<sub>n+1</sub>**"
   ]
  },
  {
   "cell_type": "markdown",
   "metadata": {},
   "source": [
    "Joint Variables:\n",
    "- If the joint is revolute - rotations around the Z axis are represented by ***Theta***\n",
    "- If the joint is prismatic - the length of linear movements is represented by ***d***"
   ]
  },
  {
   "cell_type": "markdown",
   "metadata": {},
   "source": [
    "The Common Normal"
   ]
  },
  {
   "cell_type": "markdown",
   "metadata": {},
   "source": [
    "- Joints are not always parallel or intersecting \n",
    "- As a result the Z Axis of two joints are skewed to one another\n",
    "- There is always one line or axis that is mutually perpendicular to any two skew lines\n",
    "- This axis is orthogonal to both Z axis\n",
    "- But not the X Axis to both\n",
    "- Is it the shortest line between the two Z axis"
   ]
  },
  {
   "cell_type": "markdown",
   "metadata": {},
   "source": [
    "- Instead we assign the X axis of the Local Reference Frame in the direction of the Common Normal from the Previous axes\n",
    "- Quote:\n",
    "  -   \"We always assign the x-axis of the local reference frame in the direction of the common normal between the previous and current axes.\"\n",
    "- Collinear:\n",
    "  - \"Points \n",
    "𝐴\n",
    "A, \n",
    "𝐵\n",
    "B, and \n",
    "𝐶\n",
    "C are collinear if they all lie on the same straight line. For instance, if point \n",
    "𝐴\n",
    "A is at (1, 2), point \n",
    "𝐵\n",
    "B is at (2, 4), and point \n",
    "𝐶\n",
    "C is at (3, 6), they are collinear because they lie on the line \n",
    "𝑦\n",
    "=\n",
    "2\n",
    "𝑥\n",
    "y=2x.\""
   ]
  },
  {
   "cell_type": "markdown",
   "metadata": {},
   "source": [
    "- We can assign coordinate Frames to all joints with the following special cases:\n",
    "1. If the two Z axis are parallel, then there's actually an infinite number of Common Normals between them. We then pick the Common Normal that is collinear with the Common Normal of the previous joint.\n",
    "2. If the two Z axis are intersecting, there is no Common Normal between them (or it has a zero length). We assign the X axis along a line perpendicular to the plane formed by the two axes. \n",
    "   - This means the Common Normal is a line perpendicular to the plane containing the two Z axes.\n",
    "   - this is equivalent of picking the direction of the cross-product of the two Z axis"
   ]
  },
  {
   "cell_type": "markdown",
   "metadata": {},
   "source": [
    "# Parameters and variables"
   ]
  },
  {
   "cell_type": "markdown",
   "metadata": {},
   "source": [
    "##### Joint Variables\n",
    "- ***Theta*** represents a rotation about the Z axes\n",
    "- ***d*** represents the distance on teh Z axes between two successive Common Normals (or **Joint Offset**)\n",
    "\n",
    "##### Joint Physical Parameters\n",
    "- ***a*** represents the length of each Common Normal (the length of a link)\n",
    "- ***alpha*** represents the angle between two successive Z axes (also called the **Angle Twist**)"
   ]
  },
  {
   "cell_type": "markdown",
   "metadata": {},
   "source": [
    "# General Procedure for Transformations"
   ]
  },
  {
   "cell_type": "markdown",
   "metadata": {},
   "source": [
    "- The following four standard motions are performed to get from one local reference frame to another:\n",
    "1. Rotation\n",
    "2. Translation\n",
    "3. Translation\n",
    "4. Rotation\n"
   ]
  },
  {
   "cell_type": "markdown",
   "metadata": {},
   "source": [
    "- Repeating the exact same four motions along the robot results in the total transformation between reference frame and end frame\n",
    "- Starting with the robot's reference frame, we can transform to the first joint, second joint etc, until we reach the end effector \n",
    "- This sequence of four motions remains the same between any two frames"
   ]
  },
  {
   "cell_type": "markdown",
   "metadata": {},
   "source": [
    "- The Transformation <sup>n</sup>T<sub>n+1</sub> is between two successive frames\n",
    "- It's called A<sub>n+1</sub> and represents the four movements\n",
    "- Each movement is represented by a matrix\n",
    "- Each transformation (translation and rotation) are relative to the current frame\n",
    "- All matrices are post-multiplied\n",
    "- Post-multiplied means in-order of steps performed\n",
    "- Pre-Multiplied - means the order of matrices written is the opposite of the order of transformations performed."
   ]
  },
  {
   "cell_type": "markdown",
   "metadata": {},
   "source": [
    "- We would expect to have one A<sub>n+1</sub> matrix per joint.  \n",
    "<sup>n</sup>T<sub>n+1</sub> = A<sub>n+1</sub>  \n",
    "A<sub>n+1</sub> = Rot( <sub>z, theta<sub>n+1</sub></sub> ) $\\cdot$ Trans( 0,0,d<sub>n+1</sub> ) $\\cdot$ Trans( a<sub>n+1</sub>,0,0 ) $\\cdot$ Rot( x, a<sub>n+1</sub> )"
   ]
  },
  {
   "cell_type": "markdown",
   "metadata": {},
   "source": [
    "Further example:  \n",
    "<sup>R</sup>T<sub>H</sub> = <sup>R</sup>T<sub>1</sub> $\\cdot$ <sup>1</sup>T<sub>2</sub> $\\cdot$ <sup>2</sup>T<sub>3</sub> ... <sup>n</sup>T<sub>n+1</sub> = A<sub>1</sub> $\\cdot$ A<sub>2</sub> $\\cdot$ A<sub>3</sub> ... A<sub>n</sub> \n",
    " - For a robot with 6 DOF there could be six A<sub>n</sub> matrices."
   ]
  },
  {
   "cell_type": "markdown",
   "metadata": {},
   "source": [
    "# DH Parameter Table"
   ]
  },
  {
   "cell_type": "markdown",
   "metadata": {},
   "source": [
    "- To facilitate teh calculation of the A<sub>n</sub> matrices we use a parameter table\n",
    "- Joint and link parameters from the schematic drawing of the robot are determined\n",
    "- These values are entered into the A<sub>n</sub> matrix"
   ]
  },
  {
   "cell_type": "markdown",
   "metadata": {},
   "source": [
    "Example 2.24  \n",
    "- We apply the DH representation to derive the Forward Kinematic equations"
   ]
  },
  {
   "cell_type": "markdown",
   "metadata": {},
   "source": [
    "- We have two revolute joints, hence the unknowns are the angles θ<sub>1</sub> and θ<sub>2</sub>\n",
    "- The transformation matrices A<sub>1</sub> and A<sub>2</sub> represent the transformations from frame 0 to frame 1 and from frame 1 to frame 2, respectively.\n",
    "\n",
    "- The transformation matrices A<sub>1</sub> and A<sub>2</sub> are derived from the DH parameters.\n",
    "\n",
    "- C<sub>1</sub> and S<sub>1</sub> represent Cos(θ<sub>1</sub>) and Sin(θ<sub>1</sub>)\n",
    "- C<sub>2</sub> and S<sub>2</sub> represent Cos(θ<sub>2</sub>) and Sin(θ<sub>2</sub>)"
   ]
  },
  {
   "cell_type": "markdown",
   "metadata": {},
   "source": [
    "A<sub>1</sub> =\n",
    "\\begin{bmatrix}\n",
    "C1 & -S1 & 0 & a1 C1 \\\\\n",
    "S1 & C1 & 0 & a1 S1 \\\\\n",
    "0 & 0 & 1 & 0 \\\\\n",
    "0 & 0 & 0 & 1\n",
    "\\end{bmatrix}\n",
    "\n",
    "A<sub>2</sub> =\n",
    "\\begin{bmatrix}\n",
    "C2 & -S2 & 0 & a2 C2 \\\\\n",
    "S2 & C2 & 0 & a2 S2 \\\\\n",
    "0 & 0 & 1 & 0 \\\\\n",
    "0 & 0 & 0 & 1\n",
    "\\end{bmatrix}\n",
    "\n"
   ]
  },
  {
   "cell_type": "markdown",
   "metadata": {},
   "source": [
    "## Combining Transformations\n",
    "\n",
    "The overall transformation from frame 0 to frame 2 is given by multiplying A<sub>1</sub> and A<sub>2</sub>  \n",
    "\n",
    "<sup>0</sup>T<sub>H</sub> = A<sub>1</sub> $\\cdot$ A<sub>2</sub>\n",
    "\n",
    "Simplifications using trigonometric identities can be made:\n",
    "\n",
    "C<sub>1</sub>C<sub>2</sub> - S<sub>1</sub>S<sub>2</sub> = Cos(θ<sub>1</sub> + θ<sub>2</sub>) = C<sub>12</sub>\n",
    "\n",
    "S<sub>1</sub>C<sub>2</sub> + C<sub>1</sub>S<sub>2</sub> = Sin(θ<sub>1</sub> + θ<sub>2</sub>) = S<sub>12</sub>\n"
   ]
  },
  {
   "cell_type": "markdown",
   "metadata": {},
   "source": [
    "After simplification, the overall transformation matrix is:  \n",
    "\n",
    "<sup>0</sup>T<sub>H</sub> = \n",
    "\\begin{bmatrix}\n",
    "C12 & -S12 & 0 & a2 C12 + a1 C1 \\\\\n",
    "S12 & C12 & 0 & a2 S12 + a1 S1 \\\\\n",
    "0 & 0 & 1 & 0 \\\\\n",
    "0 & 0 & 0 & 1\n",
    "\\end{bmatrix}"
   ]
  },
  {
   "cell_type": "code",
   "execution_count": null,
   "metadata": {},
   "outputs": [],
   "source": []
  },
  {
   "cell_type": "code",
   "execution_count": null,
   "metadata": {},
   "outputs": [],
   "source": []
  },
  {
   "cell_type": "code",
   "execution_count": null,
   "metadata": {},
   "outputs": [],
   "source": []
  },
  {
   "cell_type": "code",
   "execution_count": null,
   "metadata": {},
   "outputs": [],
   "source": []
  },
  {
   "cell_type": "code",
   "execution_count": null,
   "metadata": {},
   "outputs": [],
   "source": []
  }
 ],
 "metadata": {
  "kernelspec": {
   "display_name": "base",
   "language": "python",
   "name": "python3"
  },
  "language_info": {
   "codemirror_mode": {
    "name": "ipython",
    "version": 3
   },
   "file_extension": ".py",
   "mimetype": "text/x-python",
   "name": "python",
   "nbconvert_exporter": "python",
   "pygments_lexer": "ipython3",
   "version": "3.11.7"
  }
 },
 "nbformat": 4,
 "nbformat_minor": 2
}

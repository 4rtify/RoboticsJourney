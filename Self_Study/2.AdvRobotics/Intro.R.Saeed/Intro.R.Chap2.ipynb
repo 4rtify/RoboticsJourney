{
 "cells": [
  {
   "cell_type": "markdown",
   "metadata": {},
   "source": [
    "# 2. Kinematics of Serial Robots: Position Analysis"
   ]
  },
  {
   "cell_type": "markdown",
   "metadata": {},
   "source": [
    "# 2.2 Robots as Mechanisms"
   ]
  },
  {
   "cell_type": "markdown",
   "metadata": {},
   "source": [
    "# 2.4.1 Representation of a Point in Space"
   ]
  },
  {
   "cell_type": "markdown",
   "metadata": {},
   "source": [
    "- i, j and k are unit vectors.\n",
    "- These vectors usually represent x, y and z cartesian coordinates \n",
    "- The Point can be represented as a vector in \"vector form\"\n",
    "  - P = 3i + 5j + 2k\n",
    "- 3i means you are moving 3 units along the x axis\n",
    "- If the units are in meters, then we are moving 3 meters long the x axis\n",
    "  - i is the unit vector in the x direction. It has a magnitude of 1 and points along the positive x axis\n",
    "  - j is the unit vector in the y direction. It has a magnitude of 1 and points along the positive y axis\n",
    "  - k is the unit vector in the z direction. It has a magnitude of 1 and points along the positive z axis\n",
    "- So for the above vector:\n",
    "  - 3i means move 3 units along the x axis\n",
    "  - This is a formula rather than an equation\n",
    "    - It provides a way to calculate the position vector P\n",
    "    - An equation states that two expressions are equal"
   ]
  },
  {
   "cell_type": "markdown",
   "metadata": {},
   "source": [
    "# 2.4.2 Representation of a Vector in Space"
   ]
  },
  {
   "cell_type": "markdown",
   "metadata": {},
   "source": [
    "- The below code demonstrates how to calculate a vector and its magnitude \n",
    "- We are subtracting the coordinates of the starting point from the coordinates of the ending point"
   ]
  },
  {
   "cell_type": "code",
   "execution_count": 42,
   "metadata": {},
   "outputs": [
    {
     "name": "stdout",
     "output_type": "stream",
     "text": [
      "Vector P_AB = 4i + 6j + 8k\n"
     ]
    }
   ],
   "source": [
    "import numpy as np\n",
    "\n",
    "# A = np.array([1, 2, 3])\n",
    "\n",
    "A = np.array([0, 0, 0])\n",
    "B = np.array([4, 6, 8])\n",
    "P_AB = B - A\n",
    "\n",
    "print(f\"Vector P_AB = {P_AB[0]}i + {P_AB[1]}j + {P_AB[2]}k\")\n"
   ]
  },
  {
   "cell_type": "markdown",
   "metadata": {},
   "source": [
    "- Direction Vector\n",
    "- When the scale component w is zero\n",
    "- Converting from Matrix to Cartesian (I think?)\n",
    "- We divide each component by the weight\n",
    "- If Px, Py and Pz are divided by w then we get Ax, Ay, Az"
   ]
  },
  {
   "cell_type": "code",
   "execution_count": 48,
   "metadata": {},
   "outputs": [
    {
     "name": "stderr",
     "output_type": "stream",
     "text": [
      "C:\\Users\\James\\AppData\\Local\\Temp\\ipykernel_25300\\559588662.py:1: RuntimeWarning: divide by zero encountered in divide\n",
      "  np.array([2,3,4]) / 0\n"
     ]
    },
    {
     "data": {
      "text/plain": [
       "array([1. , 1.5, 2. ])"
      ]
     },
     "execution_count": 48,
     "metadata": {},
     "output_type": "execute_result"
    }
   ],
   "source": [
    "np.array([2,3,4]) / 0\n",
    "np.array([2,3,4]) / 1\n",
    "np.array([2,3,4]) / 2\n",
    "\n"
   ]
  },
  {
   "cell_type": "markdown",
   "metadata": {},
   "source": [
    "Example 2.1\n",
    "- A vector is described as P = 3i + 5j + 2k, express it as matrix form:\n",
    "1. With a scale factor of 2\n",
    "2. If it were to describe a direction as a unit vector"
   ]
  },
  {
   "cell_type": "code",
   "execution_count": 1,
   "metadata": {},
   "outputs": [],
   "source": [
    "import numpy as np\n",
    "import math"
   ]
  },
  {
   "cell_type": "code",
   "execution_count": 2,
   "metadata": {},
   "outputs": [
    {
     "data": {
      "text/plain": [
       "array([ 6, 10,  4])"
      ]
     },
     "execution_count": 2,
     "metadata": {},
     "output_type": "execute_result"
    }
   ],
   "source": [
    "P = np.array([3,5,2])\n",
    "P * 2"
   ]
  },
  {
   "cell_type": "markdown",
   "metadata": {},
   "source": [
    "Converting a Vector into a Unit Vector\n",
    "- Normalize the length (magnitude) to be equal to 1.\n",
    "- Each component (element) is divided by the \"square root of the sum of the squares of all (three) components\"\n",
    "1. Square each component\n",
    "2. Add the squares together\n",
    "3. Find the square root of the sum\n",
    "4. Divide each of the components by this sum"
   ]
  },
  {
   "cell_type": "code",
   "execution_count": 49,
   "metadata": {},
   "outputs": [
    {
     "data": {
      "text/plain": [
       "6.164414002968976"
      ]
     },
     "execution_count": 49,
     "metadata": {},
     "output_type": "execute_result"
    }
   ],
   "source": [
    "sq_Sum = math.sqrt(3**2 + 5**2 + 2**2)\n",
    "sq_Sum"
   ]
  },
  {
   "cell_type": "code",
   "execution_count": 58,
   "metadata": {},
   "outputs": [
    {
     "data": {
      "text/plain": [
       "array([0.48666426, 0.81110711, 0.32444284])"
      ]
     },
     "execution_count": 58,
     "metadata": {},
     "output_type": "execute_result"
    }
   ],
   "source": [
    "UnitV = P / sq_Sum\n",
    "UnitV"
   ]
  },
  {
   "cell_type": "code",
   "execution_count": 59,
   "metadata": {},
   "outputs": [
    {
     "data": {
      "text/plain": [
       "1.0"
      ]
     },
     "execution_count": 59,
     "metadata": {},
     "output_type": "execute_result"
    }
   ],
   "source": [
    "math.sqrt(UnitV[0]**2 + UnitV[1]**2 + UnitV[2]**2)"
   ]
  },
  {
   "cell_type": "markdown",
   "metadata": {},
   "source": [
    "Example 2.2\n",
    "- A Vector P is 5 units long and is in the direction of unit vector q described as follows:\n",
    "- Express the vector in matrix form:"
   ]
  },
  {
   "cell_type": "code",
   "execution_count": 60,
   "metadata": {},
   "outputs": [],
   "source": [
    "q = None\n",
    "q_unit = np.array([0.371, 0.557, q])"
   ]
  },
  {
   "cell_type": "code",
   "execution_count": 63,
   "metadata": {},
   "outputs": [
    {
     "data": {
      "text/plain": [
       "0.7430410486642041"
      ]
     },
     "execution_count": 63,
     "metadata": {},
     "output_type": "execute_result"
    }
   ],
   "source": [
    "q = math.sqrt(1 - (0.371**2 + 0.557**2))\n",
    "q"
   ]
  },
  {
   "cell_type": "code",
   "execution_count": 64,
   "metadata": {},
   "outputs": [
    {
     "data": {
      "text/plain": [
       "array([1.855     , 2.785     , 3.71520524])"
      ]
     },
     "execution_count": 64,
     "metadata": {},
     "output_type": "execute_result"
    }
   ],
   "source": [
    "q_unit = np.array([0.371, 0.557, q])\n",
    "q_unit * 5"
   ]
  },
  {
   "cell_type": "markdown",
   "metadata": {},
   "source": [
    "# 2.4.3 Representation of a Frame at the Origin of a Fixed Reference Frame"
   ]
  },
  {
   "cell_type": "markdown",
   "metadata": {},
   "source": [
    "# 2.4.4 Representation of a Frame Relative to a Fixed Reference Frame"
   ]
  },
  {
   "cell_type": "markdown",
   "metadata": {},
   "source": [
    "- A frame can be expressed by it's three \"directional vectors\" and it's single \"position vector\"\n",
    "- The frame is expressed by it's three vectors describing it's directional \"unit vectors\" and a fourth vector describing it's location\n",
    "- So we have 9 pieces of information for the frame's orientation - 3x3 matrix\n",
    "- And we have 3 pieces of information for the frames's position - x,y and z vector"
   ]
  },
  {
   "cell_type": "markdown",
   "metadata": {},
   "source": [
    "Example 2.3"
   ]
  },
  {
   "cell_type": "code",
   "execution_count": 24,
   "metadata": {},
   "outputs": [
    {
     "data": {
      "text/plain": [
       "0.7071067811865476"
      ]
     },
     "execution_count": 24,
     "metadata": {},
     "output_type": "execute_result"
    }
   ],
   "source": [
    "degree = 45\n",
    "math.radians(degree)\n",
    "np.sqrt(2) / 2\n",
    "math.sin(math.radians(degree))"
   ]
  },
  {
   "cell_type": "code",
   "execution_count": 27,
   "metadata": {},
   "outputs": [
    {
     "name": "stdout",
     "output_type": "stream",
     "text": [
      "x_Axis_Rotation Matrix\n"
     ]
    },
    {
     "data": {
      "text/plain": [
       "array([[ 1.        ,  0.        ,  0.        ,  0.        ],\n",
       "       [ 0.        ,  0.70710678, -0.70710678,  0.        ],\n",
       "       [ 0.        ,  0.70710678,  0.70710678,  0.        ],\n",
       "       [ 0.        ,  0.        ,  0.        ,  1.        ]])"
      ]
     },
     "execution_count": 27,
     "metadata": {},
     "output_type": "execute_result"
    }
   ],
   "source": [
    "print(\"x_Axis_Rotation Matrix\")\n",
    "degree = 45\n",
    "np.array([\n",
    "    [1, 0, 0, 0],\n",
    "    [0, math.cos(math.radians(degree)), -math.sin(math.radians(degree)), 0],\n",
    "    [0, math.sin(math.radians(degree)), math.cos(math.radians(degree)), 0],\n",
    "    [0, 0, 0, 1]\n",
    "])"
   ]
  },
  {
   "cell_type": "code",
   "execution_count": 30,
   "metadata": {},
   "outputs": [
    {
     "name": "stdout",
     "output_type": "stream",
     "text": [
      "y_Axis_Rotation Matrix\n"
     ]
    },
    {
     "data": {
      "text/plain": [
       "array([[ 0.70710678,  0.        ,  0.70710678,  0.        ],\n",
       "       [ 0.        ,  1.        ,  0.        ,  0.        ],\n",
       "       [-0.70710678,  0.        ,  0.70710678,  0.        ],\n",
       "       [ 0.        ,  0.        ,  0.        ,  1.        ]])"
      ]
     },
     "execution_count": 30,
     "metadata": {},
     "output_type": "execute_result"
    }
   ],
   "source": [
    "print(\"y_Axis_Rotation Matrix\")\n",
    "degree = 45\n",
    "np.array([\n",
    "    [math.cos(math.radians(degree)), 0, math.sin(math.radians(degree)), 0],\n",
    "    [0, 1, 0, 0],\n",
    "    [-math.sin(math.radians(degree)), 0, math.cos(math.radians(degree)), 0],\n",
    "    [0, 0, 0, 1]\n",
    "])"
   ]
  },
  {
   "cell_type": "code",
   "execution_count": 31,
   "metadata": {},
   "outputs": [
    {
     "name": "stdout",
     "output_type": "stream",
     "text": [
      "z_Axis_Rotation Matrix\n"
     ]
    },
    {
     "data": {
      "text/plain": [
       "array([[ 0.70710678, -0.70710678,  0.        ,  0.        ],\n",
       "       [ 0.70710678,  0.70710678,  0.        ,  0.        ],\n",
       "       [ 0.        ,  0.        ,  1.        ,  0.        ],\n",
       "       [ 0.        ,  0.        ,  0.        ,  1.        ]])"
      ]
     },
     "execution_count": 31,
     "metadata": {},
     "output_type": "execute_result"
    }
   ],
   "source": [
    "print(\"z_Axis_Rotation Matrix\")\n",
    "degree = 45\n",
    "np.array([\n",
    "    [math.cos(math.radians(degree)), -math.sin(math.radians(degree)), 0, 0],\n",
    "    [math.sin(math.radians(degree)), math.cos(math.radians(degree)), 0, 0],\n",
    "    [0, 0, 1, 0],\n",
    "    [0, 0, 0, 1]\n",
    "])"
   ]
  },
  {
   "cell_type": "markdown",
   "metadata": {},
   "source": [
    "# 2.4.5 Representation of a Rigid Body"
   ]
  },
  {
   "cell_type": "code",
   "execution_count": 34,
   "metadata": {},
   "outputs": [
    {
     "name": "stdout",
     "output_type": "stream",
     "text": [
      "As before, a frame can be represented by a matrix, where the origin of the frame and the three vectors representing its orientation relative to the reference frame are expressed\n"
     ]
    },
    {
     "data": {
      "text/plain": [
       "array([['nx', 'ox', 'ax', 'px'],\n",
       "       ['ny', 'oy', 'ay', 'py'],\n",
       "       ['nz', 'oz', 'az', 'pz'],\n",
       "       ['0', '0', '0', 'w']], dtype='<U11')"
      ]
     },
     "execution_count": 34,
     "metadata": {},
     "output_type": "execute_result"
    }
   ],
   "source": [
    "print(\"As before, a frame can be represented by a matrix, where the origin of the frame and the three vectors representing its orientation relative to the reference frame are expressed\")\n",
    "\n",
    "np.array([\n",
    "    [\"nx\", \"ox\", \"ax\", \"px\"],\n",
    "    [\"ny\", \"oy\", \"ay\", \"py\"],\n",
    "    [\"nz\", \"oz\", \"az\", \"pz\"],\n",
    "    [0, 0, 0, \"w\"]\n",
    "])"
   ]
  },
  {
   "cell_type": "markdown",
   "metadata": {},
   "source": [
    "- A point in space only has three DOF, it can only move along the x,y and z axis\n",
    "- A rigid body in space has six DOF, it can move along the x,y and z axis and also rotate and spin on these three axis as well\n",
    "- All that is needed to full describe a rigid body in space is 6 pieces of information\n",
    "- However, in the matrix we have 12 pieces of information:\n",
    "  - We have a 3x3 matrix - so 9 pieces of information\n",
    "  - Plus a vector of 3 components - so another 3 pieces of information\n",
    "  - Excluding the scale factors on the last row\n",
    "- So we need \"six constraint equations\" to reduce the pieces of information from 12 to 6"
   ]
  },
  {
   "cell_type": "markdown",
   "metadata": {},
   "source": [
    "# The Constraint Equations"
   ]
  },
  {
   "cell_type": "markdown",
   "metadata": {},
   "source": [
    "The Constraint Equations come from known characteristics of a frame; they are:  \n",
    "1. The three unit vectors n,o and a are mutually perpendicular\n",
    "2. Each unit vector representing directional cosines must be equal to 1\n",
    "\n",
    "These constraints translate into the following six constraint equations:  \n",
    "\n",
    "Dot Products must equal ZERO (Remember $\\cdot$ and 0 are similar signs)\n",
    "- n $\\cdot$ o = |n| * |o| * cos(theta) = 0 (the dot product (result is a scalar) of n and o must be zero)\n",
    "- n $\\cdot$ a = 0\n",
    "- a $\\cdot$ o = 0\n",
    "\n",
    "Unit Vectors must equal ONE (Remember 1 and | are similar signs)\n",
    "- |n| = √(Nx<sup>2</sup> + Ny<sup>2</sup> + Nz<sup>2</sup>) = 1 (the magnitude of the length of the vector must be 1 eg: Unit Vector)\n",
    "- |o| = 1 \n",
    "- |a| = 1\n",
    "\n",
    "\n",
    "We use Pythagoras Theorem to calculate the magnitude: |n| = √(x<sup>2</sup> + y<sup>2</sup>)"
   ]
  },
  {
   "cell_type": "markdown",
   "metadata": {},
   "source": [
    "- The values in a frame must satisfy the above equations, otherwise the frame is incorrect\n",
    "- Note the dot product is a scalar, not a vector\n",
    "- So to ensure the right-hand rule is followed, we can instead use the Cross Product method:  \n",
    "  \n",
    "\n",
    "<div style=\"text-align: center;font-weight: bold\">\n",
    "n x o = a   \n",
    "</div>  \n",
    "\n",
    "\n",
    "- It is recommended that the Cross Product equation be used as it determines the correct relationship among the three vectors"
   ]
  },
  {
   "cell_type": "markdown",
   "metadata": {},
   "source": [
    "Example 2.4"
   ]
  },
  {
   "cell_type": "markdown",
   "metadata": {},
   "source": [
    "- Find the values of the missing components in the below frame\n",
    "- The vector 5,3,2 is the position of the origin of the frame and does not affect the Constraint Equations\n",
    "- Note that only three values for the directional vectors are given, this is all that is needed\n",
    "- We then use the Six Constraint Equations from above"
   ]
  },
  {
   "cell_type": "code",
   "execution_count": 37,
   "metadata": {},
   "outputs": [
    {
     "data": {
      "text/plain": [
       "array([[None, 0, None, 5],\n",
       "       [0.707, None, None, 3],\n",
       "       [None, None, 0, 2],\n",
       "       [0, 0, 0, 1]], dtype=object)"
      ]
     },
     "execution_count": 37,
     "metadata": {},
     "output_type": "execute_result"
    }
   ],
   "source": [
    "np.array([\n",
    "    [\"?\",    0,     \"?\",    5],\n",
    "    [0.707, \"?\",    \"?\",    3],\n",
    "    [\"?\",   \"?\",    0,      2],\n",
    "    [0,     0,      0,      1]\n",
    "])\n",
    "np.array([\n",
    "    [None,      0,       None,    5],\n",
    "    [0.707,     None,    None,    3],\n",
    "    [None,      None,    0,       2],\n",
    "    [0,         0,       0,       1]\n",
    "])"
   ]
  },
  {
   "cell_type": "markdown",
   "metadata": {},
   "source": [
    "# Dot Product\n",
    "Ways to calculate the dot product (answer is a scalar and is zero)\n",
    "\n",
    "1. Using the magnitudes and Cosines of the angle:  \n",
    "n $\\cdot$ o = |n| $\\cdot$ |o| $\\cdot$ cos(theta) = 0\n",
    "\n",
    "2. Using the Component-wise Multiplication  \n",
    "n $\\cdot$ o = (n<sub>x</sub>  $\\cdot$  o<sub>x</sub>) + (n<sub>y</sub>  $\\cdot$  o<sub>y</sub>) + (n<sub>z</sub>  $\\cdot$  o<sub>z</sub>) = 0  \n",
    "\n",
    "- However, the problem is that it's possible to have two sets of mutually perpendicular vectors in opposite directions. Meaning we get two frames ref page 44 - F1 and F1.\n"
   ]
  },
  {
   "cell_type": "markdown",
   "metadata": {},
   "source": [
    "# Cross Product - **n x o = a**\n",
    "Calculating the Cross Product (think cross for multiplication)  \n",
    "The result is a a third vector that is perpendicular to the plane formed by the original two vectors  \n",
    "We then have a frame that applies the right-hand rule and is correct    \n",
    "\n",
    "Figure 2.12"
   ]
  },
  {
   "cell_type": "code",
   "execution_count": 67,
   "metadata": {},
   "outputs": [
    {
     "data": {
      "text/plain": [
       "array([-3,  6, -3])"
      ]
     },
     "execution_count": 67,
     "metadata": {},
     "output_type": "execute_result"
    }
   ],
   "source": [
    "# Define the vectors n and o\n",
    "n = np.array([2, 3, 4])\n",
    "o = np.array([5, 6, 7])\n",
    "\n",
    "# Calculate the cross product\n",
    "np.cross(n, o)"
   ]
  },
  {
   "cell_type": "markdown",
   "metadata": {},
   "source": [
    "Example 2.5"
   ]
  },
  {
   "cell_type": "markdown",
   "metadata": {},
   "source": [
    "Steps to solve missing components in a matrix that is already converted to a Unit Vector:  \n",
    "1. Solve the Unit Vectors (the vector's magnitude must equal 1)\n",
    "   1. Note that the vector is already a Unit Vector. So there is no Square Root radical, the vector has already been normalized to 1.\n",
    "2. Solve the Dot Product (the result from vector N and vector O must be a scalar and equal 0)\n",
    "3. Solve the Cross Product (the result must be a third vector which is vector A)"
   ]
  },
  {
   "cell_type": "code",
   "execution_count": 75,
   "metadata": {},
   "outputs": [
    {
     "data": {
      "text/plain": [
       "array([ 0.5  , -0.866,  0.   ])"
      ]
     },
     "execution_count": 75,
     "metadata": {},
     "output_type": "execute_result"
    }
   ],
   "source": [
    "N = np.array([0.866, 0.5, 0])\n",
    "O = np.array([0, 0, 1])\n",
    "np.cross(N,O)"
   ]
  },
  {
   "cell_type": "code",
   "execution_count": null,
   "metadata": {},
   "outputs": [],
   "source": [
    "# i (Ny * Oz - Nz * Oy)\n"
   ]
  },
  {
   "cell_type": "code",
   "execution_count": 70,
   "metadata": {},
   "outputs": [
    {
     "data": {
      "text/plain": [
       "array([[None, 0, None, 3],\n",
       "       [0.5, None, None, 9],\n",
       "       [0, None, None, 7],\n",
       "       [0, 0, 0, 1]], dtype=object)"
      ]
     },
     "execution_count": 70,
     "metadata": {},
     "output_type": "execute_result"
    }
   ],
   "source": [
    "Nx = None\n",
    "Oy = None\n",
    "Oz = None\n",
    "Ax = None\n",
    "Ay = None\n",
    "Ax = None\n",
    "\n",
    "np.array([\n",
    "    [Nx,        0,       Ax,    3],\n",
    "    [0.5,       Oy,      Ay,    9],\n",
    "    [0,         Oz,      Ax,    7],\n",
    "    [0,         0,       0,     1]\n",
    "])"
   ]
  },
  {
   "cell_type": "markdown",
   "metadata": {},
   "source": [
    "# 2.5 Homogeneous Transformation Matrices"
   ]
  },
  {
   "cell_type": "markdown",
   "metadata": {},
   "source": [
    "- Meaning a 4x4 matrix\n",
    "- A standard for multiplying matrices because they are the same size, also known as the same dimensions"
   ]
  },
  {
   "cell_type": "markdown",
   "metadata": {},
   "source": [
    "# 2.6 Representation of Transformations"
   ]
  },
  {
   "cell_type": "markdown",
   "metadata": {},
   "source": [
    "- A transformation is defined as making a movement in space\n",
    "- When a frame (a vector, object or a moving frame) moves in space relative to a fixed reference frame, we represent this motion in a form similar to a frame representation\n",
    "- This is because a transformation is a change in the state of frame\n",
    "- A transformation may be in one of the following forms:\n",
    "1. A pure translation\n",
    "2. A pure rotation about an axis\n",
    "3. A combination of translation and rotation "
   ]
  },
  {
   "cell_type": "markdown",
   "metadata": {},
   "source": [
    "# 2.6.1 Representation of a Pure Translation\n",
    "- When a point, vector or object moves in space without any rotation\n",
    "- The direction unit vectors remain unchanged \n",
    "- Only the origin of the frame relative to the reference frame changes"
   ]
  },
  {
   "cell_type": "code",
   "execution_count": 76,
   "metadata": {},
   "outputs": [
    {
     "data": {
      "text/plain": [
       "array([[ 0.527, -0.574,  0.628, 11.   ],\n",
       "       [ 0.369,  0.819,  0.439, 10.   ],\n",
       "       [-0.766,  0.   ,  0.643,  8.   ],\n",
       "       [ 0.   ,  0.   ,  0.   ,  1.   ]])"
      ]
     },
     "execution_count": 76,
     "metadata": {},
     "output_type": "execute_result"
    }
   ],
   "source": [
    "F = np.array([\n",
    "    [0.527,     -0.574, 0.628,  8],\n",
    "    [0.369,     0.819,  0.439,  10],\n",
    "    [-0.766,    0,      0.643,  6],\n",
    "    [0,         0,      0,      1]\n",
    "])\n",
    "\n",
    "T = np.array([\n",
    "    [1,0,0,3],\n",
    "    [0,1,0,0],\n",
    "    [0,0,1,2],\n",
    "    [0,0,0,1]\n",
    "])\n",
    "\n",
    "T @ F"
   ]
  },
  {
   "cell_type": "markdown",
   "metadata": {},
   "source": [
    "# 2.6.2 Representation of a Pure Rotation about an Axis"
   ]
  },
  {
   "cell_type": "markdown",
   "metadata": {},
   "source": [
    "- The example explains a reference frame x,y,z and a rotating frame n,o,a\n",
    "- There is also a point P attached to the rotation frame\n",
    "- As the rotating frame moves, point P remains in the same coordinate position of the rotating frame\n",
    "- However, relative to the reference frame, point P changes it's x,y,z coordinates"
   ]
  },
  {
   "cell_type": "code",
   "execution_count": null,
   "metadata": {},
   "outputs": [],
   "source": [
    "\n",
    "\n"
   ]
  }
 ],
 "metadata": {
  "kernelspec": {
   "display_name": "base",
   "language": "python",
   "name": "python3"
  },
  "language_info": {
   "codemirror_mode": {
    "name": "ipython",
    "version": 3
   },
   "file_extension": ".py",
   "mimetype": "text/x-python",
   "name": "python",
   "nbconvert_exporter": "python",
   "pygments_lexer": "ipython3",
   "version": "3.11.7"
  }
 },
 "nbformat": 4,
 "nbformat_minor": 2
}

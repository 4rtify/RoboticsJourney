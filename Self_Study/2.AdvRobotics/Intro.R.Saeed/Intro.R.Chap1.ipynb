{
 "cells": [
  {
   "cell_type": "markdown",
   "metadata": {},
   "source": [
    "# 1. Fundamentals"
   ]
  },
  {
   "cell_type": "markdown",
   "metadata": {},
   "source": [
    "#### 1.3 Classification of robots\n",
    "1. Fixed sequence robot\n",
    "2. Playback robot\n",
    "3. Numerical control robot\n",
    "4. Intelligent robot\n",
    "\n",
    "#### 1.7 Robot Components\n",
    "1. Manipulator or rover, is the main body\n",
    "2. End effector\n",
    "3. Actuators\n",
    "4. Sensors\n",
    "5. Controller\n",
    "6. Processor\n",
    "7. Software\n",
    "\n",
    "#### 1.8 Robot Degrees of Freedom\n",
    "\n",
    "#### 1.9 Robot Joints\n",
    "1. Linear, rotary, sliding and spherical\n",
    "2. Spherical are common, but have multiple DOF and are difficult to control - usually in research\n",
    "3. Most are linear (prismatic) or rotary (revolute) joints\n",
    "4. Linear prismatic joints are either hydraulic, pneumatic cylinders or linear electric motors\n",
    "5. Revolute joints are rotary, and most are electric, driven by stepper motors or by servomotors (still not sure what servos are lol)\n",
    "\n",
    "#### 1.10 Robot Coordinates - common coordinate frames\n",
    "- Designated by either P, R or S.\n",
    "1. Cartesian / rectangular / gantry (3P) \n",
    "2. Cylindrical (PRP)\n",
    "3. Spherical (P2R)\n",
    "4. Articulated / anthropomorphic (3R) - like a human arm, no prismatic joints\n",
    "5. Selective Compliance Assembly Robot Arm - SCARA\n",
    "6. Parallel Robots are different and discussed in Chapter 4\n",
    "\n",
    "#### 1.11 Robot Reference Frames\n",
    "1. World Reference Frame\n",
    "2. Joint Reference Frame\n",
    "3. Tool Reference Frame\n",
    "\n",
    "#### 1.12 Programming Modes\n",
    "1. Physical Setup\n",
    "2. Lead-through or teach mode\n",
    "3. Continuous walk-through mode\n",
    "4. Software mode\n",
    "\n",
    "#### 1.13 Robot Characteristics\n",
    "1. Payload - the amount dealt with, while remaining within the following specifications \n",
    "2. Reach - The dexterous points and non-dexterous points\n",
    "3. Precision (Validity) - How accurately a specified point can be reached. \n",
    "   1. Precision is a function of the resolution of the actuators as well as the the robots feedback devices\n",
    "   2. Most industrial robots have a precision range of 0.001 inches or better\n",
    "4. Repeatability - how accurately the same position can be reached if the motion is repeated many times. Many factors affect the accuracy of the position. \n",
    "   1. It may fall within a certain radius from the desired point\n",
    "   2. Repeatability is much more important than precision \n",
    "      1. Precision can be adjusted with code mitigations\n",
    "      2. Random error can't be predicted and mitigated with code, Repeatability defines the extent of this random error.\n",
    "      3. Repeatability should be specified in conjunction with the number of tests, payloads and speed etc.\n",
    "   \n",
    "#### 1.14 Robot Workspace\n",
    "- Defined by the robots configuration, link size and joints, the robot can reach a collection of point around them that is considered the 'workspace'\n",
    "- The 'workspace' can be found mathematically by writing equations that defines the robots links, joints and their range of motions and limitations\n",
    "- I think the pictures show where the end effector can reach. So the whiteness within the shape is a non-dexterious point and outside the shape is also out of its reach.\n",
    "\n",
    "#### 1.15 Robot Languages\n"
   ]
  },
  {
   "cell_type": "code",
   "execution_count": null,
   "metadata": {},
   "outputs": [],
   "source": []
  }
 ],
 "metadata": {
  "kernelspec": {
   "display_name": "base",
   "language": "python",
   "name": "python3"
  },
  "language_info": {
   "name": "python",
   "version": "3.11.7"
  }
 },
 "nbformat": 4,
 "nbformat_minor": 2
}
